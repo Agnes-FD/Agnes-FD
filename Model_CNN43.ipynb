{
  "nbformat": 4,
  "nbformat_minor": 0,
  "metadata": {
    "colab": {
      "name": "Untitled0.ipynb",
      "provenance": [],
      "include_colab_link": true
    },
    "kernelspec": {
      "name": "python3",
      "display_name": "Python 3"
    },
    "language_info": {
      "name": "python"
    },
    "widgets": {
      "application/vnd.jupyter.widget-state+json": {
        "2ba44bece7d142cc9295d51007c93064": {
          "model_module": "@jupyter-widgets/controls",
          "model_name": "HBoxModel",
          "state": {
            "_view_name": "HBoxView",
            "_dom_classes": [],
            "_model_name": "HBoxModel",
            "_view_module": "@jupyter-widgets/controls",
            "_model_module_version": "1.5.0",
            "_view_count": null,
            "_view_module_version": "1.5.0",
            "box_style": "",
            "layout": "IPY_MODEL_fb68ad2fd1ac4af4aeb098486fc30bde",
            "_model_module": "@jupyter-widgets/controls",
            "children": [
              "IPY_MODEL_f373390bef854a2094849b9e59f20839",
              "IPY_MODEL_80917fe932b74ef194fb791562ea6011"
            ]
          }
        },
        "fb68ad2fd1ac4af4aeb098486fc30bde": {
          "model_module": "@jupyter-widgets/base",
          "model_name": "LayoutModel",
          "state": {
            "_view_name": "LayoutView",
            "grid_template_rows": null,
            "right": null,
            "justify_content": null,
            "_view_module": "@jupyter-widgets/base",
            "overflow": null,
            "_model_module_version": "1.2.0",
            "_view_count": null,
            "flex_flow": null,
            "width": null,
            "min_width": null,
            "border": null,
            "align_items": null,
            "bottom": null,
            "_model_module": "@jupyter-widgets/base",
            "top": null,
            "grid_column": null,
            "overflow_y": null,
            "overflow_x": null,
            "grid_auto_flow": null,
            "grid_area": null,
            "grid_template_columns": null,
            "flex": null,
            "_model_name": "LayoutModel",
            "justify_items": null,
            "grid_row": null,
            "max_height": null,
            "align_content": null,
            "visibility": null,
            "align_self": null,
            "height": null,
            "min_height": null,
            "padding": null,
            "grid_auto_rows": null,
            "grid_gap": null,
            "max_width": null,
            "order": null,
            "_view_module_version": "1.2.0",
            "grid_template_areas": null,
            "object_position": null,
            "object_fit": null,
            "grid_auto_columns": null,
            "margin": null,
            "display": null,
            "left": null
          }
        },
        "f373390bef854a2094849b9e59f20839": {
          "model_module": "@jupyter-widgets/controls",
          "model_name": "FloatProgressModel",
          "state": {
            "_view_name": "ProgressView",
            "style": "IPY_MODEL_545fddb2bed84455824d70edde59a51a",
            "_dom_classes": [],
            "description": "",
            "_model_name": "FloatProgressModel",
            "bar_style": "success",
            "max": 1,
            "_view_module": "@jupyter-widgets/controls",
            "_model_module_version": "1.5.0",
            "value": 1,
            "_view_count": null,
            "_view_module_version": "1.5.0",
            "orientation": "horizontal",
            "min": 0,
            "description_tooltip": null,
            "_model_module": "@jupyter-widgets/controls",
            "layout": "IPY_MODEL_55ccee1fc5bb4ac6b4cb168071853c89"
          }
        },
        "80917fe932b74ef194fb791562ea6011": {
          "model_module": "@jupyter-widgets/controls",
          "model_name": "HTMLModel",
          "state": {
            "_view_name": "HTMLView",
            "style": "IPY_MODEL_3195e913bc24485593667dd4031e6c6f",
            "_dom_classes": [],
            "description": "",
            "_model_name": "HTMLModel",
            "placeholder": "​",
            "_view_module": "@jupyter-widgets/controls",
            "_model_module_version": "1.5.0",
            "value": " 7583/? [00:52&lt;00:00, 144.90it/s]",
            "_view_count": null,
            "_view_module_version": "1.5.0",
            "description_tooltip": null,
            "_model_module": "@jupyter-widgets/controls",
            "layout": "IPY_MODEL_c129bdb90a794f7c813f0bb2edd0391d"
          }
        },
        "545fddb2bed84455824d70edde59a51a": {
          "model_module": "@jupyter-widgets/controls",
          "model_name": "ProgressStyleModel",
          "state": {
            "_view_name": "StyleView",
            "_model_name": "ProgressStyleModel",
            "description_width": "initial",
            "_view_module": "@jupyter-widgets/base",
            "_model_module_version": "1.5.0",
            "_view_count": null,
            "_view_module_version": "1.2.0",
            "bar_color": null,
            "_model_module": "@jupyter-widgets/controls"
          }
        },
        "55ccee1fc5bb4ac6b4cb168071853c89": {
          "model_module": "@jupyter-widgets/base",
          "model_name": "LayoutModel",
          "state": {
            "_view_name": "LayoutView",
            "grid_template_rows": null,
            "right": null,
            "justify_content": null,
            "_view_module": "@jupyter-widgets/base",
            "overflow": null,
            "_model_module_version": "1.2.0",
            "_view_count": null,
            "flex_flow": null,
            "width": null,
            "min_width": null,
            "border": null,
            "align_items": null,
            "bottom": null,
            "_model_module": "@jupyter-widgets/base",
            "top": null,
            "grid_column": null,
            "overflow_y": null,
            "overflow_x": null,
            "grid_auto_flow": null,
            "grid_area": null,
            "grid_template_columns": null,
            "flex": null,
            "_model_name": "LayoutModel",
            "justify_items": null,
            "grid_row": null,
            "max_height": null,
            "align_content": null,
            "visibility": null,
            "align_self": null,
            "height": null,
            "min_height": null,
            "padding": null,
            "grid_auto_rows": null,
            "grid_gap": null,
            "max_width": null,
            "order": null,
            "_view_module_version": "1.2.0",
            "grid_template_areas": null,
            "object_position": null,
            "object_fit": null,
            "grid_auto_columns": null,
            "margin": null,
            "display": null,
            "left": null
          }
        },
        "3195e913bc24485593667dd4031e6c6f": {
          "model_module": "@jupyter-widgets/controls",
          "model_name": "DescriptionStyleModel",
          "state": {
            "_view_name": "StyleView",
            "_model_name": "DescriptionStyleModel",
            "description_width": "",
            "_view_module": "@jupyter-widgets/base",
            "_model_module_version": "1.5.0",
            "_view_count": null,
            "_view_module_version": "1.2.0",
            "_model_module": "@jupyter-widgets/controls"
          }
        },
        "c129bdb90a794f7c813f0bb2edd0391d": {
          "model_module": "@jupyter-widgets/base",
          "model_name": "LayoutModel",
          "state": {
            "_view_name": "LayoutView",
            "grid_template_rows": null,
            "right": null,
            "justify_content": null,
            "_view_module": "@jupyter-widgets/base",
            "overflow": null,
            "_model_module_version": "1.2.0",
            "_view_count": null,
            "flex_flow": null,
            "width": null,
            "min_width": null,
            "border": null,
            "align_items": null,
            "bottom": null,
            "_model_module": "@jupyter-widgets/base",
            "top": null,
            "grid_column": null,
            "overflow_y": null,
            "overflow_x": null,
            "grid_auto_flow": null,
            "grid_area": null,
            "grid_template_columns": null,
            "flex": null,
            "_model_name": "LayoutModel",
            "justify_items": null,
            "grid_row": null,
            "max_height": null,
            "align_content": null,
            "visibility": null,
            "align_self": null,
            "height": null,
            "min_height": null,
            "padding": null,
            "grid_auto_rows": null,
            "grid_gap": null,
            "max_width": null,
            "order": null,
            "_view_module_version": "1.2.0",
            "grid_template_areas": null,
            "object_position": null,
            "object_fit": null,
            "grid_auto_columns": null,
            "margin": null,
            "display": null,
            "left": null
          }
        }
      }
    }
  },
  "cells": [
    {
      "cell_type": "markdown",
      "metadata": {
        "id": "view-in-github",
        "colab_type": "text"
      },
      "source": [
        "<a href=\"https://colab.research.google.com/github/Agnes-FD/Agnes-FD/blob/main/Model_CNN43.ipynb\" target=\"_parent\"><img src=\"https://colab.research.google.com/assets/colab-badge.svg\" alt=\"Open In Colab\"/></a>"
      ]
    },
    {
      "cell_type": "code",
      "metadata": {
        "colab": {
          "base_uri": "https://localhost:8080/"
        },
        "id": "ewd7XJNW4Jym",
        "outputId": "face3605-d3d4-49a3-e0af-96d486547031"
      },
      "source": [
        "from google.colab import drive\n",
        "drive.mount ('/content/drive')"
      ],
      "execution_count": 1,
      "outputs": [
        {
          "output_type": "stream",
          "text": [
            "Mounted at /content/drive\n"
          ],
          "name": "stdout"
        }
      ]
    },
    {
      "cell_type": "code",
      "metadata": {
        "colab": {
          "base_uri": "https://localhost:8080/"
        },
        "id": "f_DsN7r44OXT",
        "outputId": "fe9aadae-679e-4c38-d574-a796edd85e98"
      },
      "source": [
        "cd '/content/drive/MyDrive/data'"
      ],
      "execution_count": 2,
      "outputs": [
        {
          "output_type": "stream",
          "text": [
            "/content/drive/MyDrive/data\n"
          ],
          "name": "stdout"
        }
      ]
    },
    {
      "cell_type": "code",
      "metadata": {
        "colab": {
          "base_uri": "https://localhost:8080/"
        },
        "id": "q8KD4MlC4YoL",
        "outputId": "af4e24aa-534f-4f40-c432-5e1c3bf5b532"
      },
      "source": [
        "ls"
      ],
      "execution_count": 3,
      "outputs": [
        {
          "output_type": "stream",
          "text": [
            "\u001b[0m\u001b[01;34mwith_mask\u001b[0m/  \u001b[01;34mwithout_mask\u001b[0m/\n"
          ],
          "name": "stdout"
        }
      ]
    },
    {
      "cell_type": "code",
      "metadata": {
        "id": "3eWXuAFU4bnW"
      },
      "source": [
        "import os\n",
        "path = '/content/drive/MyDrive/data'\n",
        "# Membuat Label pada gambar berdasarkan klasifikasi\n",
        "file_name = []\n",
        "tag = []\n",
        "full_path = []\n",
        "for path, subdirs, files in os.walk(path):\n",
        "  for name in files:\n",
        "    full_path.append(os.path.join(path, name))\n",
        "    tag.append(path.split('/')[-1])\n",
        "    file_name.append(name)"
      ],
      "execution_count": 4,
      "outputs": []
    },
    {
      "cell_type": "code",
      "metadata": {
        "colab": {
          "base_uri": "https://localhost:8080/"
        },
        "id": "CIfOKXvC4hAX",
        "outputId": "ccfc7d78-bafa-44fa-a6e7-0cf262a7a3cd"
      },
      "source": [
        "# Membuat dataframe berdasarkan hasil klasifikasi data yang sudah diberi label\n",
        "import pandas as pd\n",
        "\n",
        "df = pd.DataFrame({\"path\":full_path, \"file_name\": file_name, \"tag\":tag})\n",
        "df.groupby(['tag']).size()"
      ],
      "execution_count": 5,
      "outputs": [
        {
          "output_type": "execute_result",
          "data": {
            "text/plain": [
              "tag\n",
              "with_mask       3725\n",
              "without_mask    3858\n",
              "dtype: int64"
            ]
          },
          "metadata": {
            "tags": []
          },
          "execution_count": 5
        }
      ]
    },
    {
      "cell_type": "code",
      "metadata": {
        "colab": {
          "base_uri": "https://localhost:8080/",
          "height": 424
        },
        "id": "i4nPgQCz4mSj",
        "outputId": "945b0448-8cef-4fa1-aa6b-9eade2acd103"
      },
      "source": [
        "# cek data yang sudah diberi label\n",
        "df"
      ],
      "execution_count": 6,
      "outputs": [
        {
          "output_type": "execute_result",
          "data": {
            "text/html": [
              "<div>\n",
              "<style scoped>\n",
              "    .dataframe tbody tr th:only-of-type {\n",
              "        vertical-align: middle;\n",
              "    }\n",
              "\n",
              "    .dataframe tbody tr th {\n",
              "        vertical-align: top;\n",
              "    }\n",
              "\n",
              "    .dataframe thead th {\n",
              "        text-align: right;\n",
              "    }\n",
              "</style>\n",
              "<table border=\"1\" class=\"dataframe\">\n",
              "  <thead>\n",
              "    <tr style=\"text-align: right;\">\n",
              "      <th></th>\n",
              "      <th>path</th>\n",
              "      <th>file_name</th>\n",
              "      <th>tag</th>\n",
              "    </tr>\n",
              "  </thead>\n",
              "  <tbody>\n",
              "    <tr>\n",
              "      <th>0</th>\n",
              "      <td>/content/drive/MyDrive/data/with_mask/with_mas...</td>\n",
              "      <td>with_mask_3409.jpg</td>\n",
              "      <td>with_mask</td>\n",
              "    </tr>\n",
              "    <tr>\n",
              "      <th>1</th>\n",
              "      <td>/content/drive/MyDrive/data/with_mask/with_mas...</td>\n",
              "      <td>with_mask_3435.jpg</td>\n",
              "      <td>with_mask</td>\n",
              "    </tr>\n",
              "    <tr>\n",
              "      <th>2</th>\n",
              "      <td>/content/drive/MyDrive/data/with_mask/with_mas...</td>\n",
              "      <td>with_mask_3402.jpg</td>\n",
              "      <td>with_mask</td>\n",
              "    </tr>\n",
              "    <tr>\n",
              "      <th>3</th>\n",
              "      <td>/content/drive/MyDrive/data/with_mask/with_mas...</td>\n",
              "      <td>with_mask_3494.jpg</td>\n",
              "      <td>with_mask</td>\n",
              "    </tr>\n",
              "    <tr>\n",
              "      <th>4</th>\n",
              "      <td>/content/drive/MyDrive/data/with_mask/with_mas...</td>\n",
              "      <td>with_mask_3499.jpg</td>\n",
              "      <td>with_mask</td>\n",
              "    </tr>\n",
              "    <tr>\n",
              "      <th>...</th>\n",
              "      <td>...</td>\n",
              "      <td>...</td>\n",
              "      <td>...</td>\n",
              "    </tr>\n",
              "    <tr>\n",
              "      <th>7578</th>\n",
              "      <td>/content/drive/MyDrive/data/without_mask/witho...</td>\n",
              "      <td>without_mask_2074.jpg</td>\n",
              "      <td>without_mask</td>\n",
              "    </tr>\n",
              "    <tr>\n",
              "      <th>7579</th>\n",
              "      <td>/content/drive/MyDrive/data/without_mask/witho...</td>\n",
              "      <td>without_mask_2419.jpg</td>\n",
              "      <td>without_mask</td>\n",
              "    </tr>\n",
              "    <tr>\n",
              "      <th>7580</th>\n",
              "      <td>/content/drive/MyDrive/data/without_mask/witho...</td>\n",
              "      <td>without_mask_127.jpg</td>\n",
              "      <td>without_mask</td>\n",
              "    </tr>\n",
              "    <tr>\n",
              "      <th>7581</th>\n",
              "      <td>/content/drive/MyDrive/data/without_mask/witho...</td>\n",
              "      <td>without_mask_1333 (1).jpg</td>\n",
              "      <td>without_mask</td>\n",
              "    </tr>\n",
              "    <tr>\n",
              "      <th>7582</th>\n",
              "      <td>/content/drive/MyDrive/data/without_mask/witho...</td>\n",
              "      <td>without_mask_1363.jpg</td>\n",
              "      <td>without_mask</td>\n",
              "    </tr>\n",
              "  </tbody>\n",
              "</table>\n",
              "<p>7583 rows × 3 columns</p>\n",
              "</div>"
            ],
            "text/plain": [
              "                                                   path  ...           tag\n",
              "0     /content/drive/MyDrive/data/with_mask/with_mas...  ...     with_mask\n",
              "1     /content/drive/MyDrive/data/with_mask/with_mas...  ...     with_mask\n",
              "2     /content/drive/MyDrive/data/with_mask/with_mas...  ...     with_mask\n",
              "3     /content/drive/MyDrive/data/with_mask/with_mas...  ...     with_mask\n",
              "4     /content/drive/MyDrive/data/with_mask/with_mas...  ...     with_mask\n",
              "...                                                 ...  ...           ...\n",
              "7578  /content/drive/MyDrive/data/without_mask/witho...  ...  without_mask\n",
              "7579  /content/drive/MyDrive/data/without_mask/witho...  ...  without_mask\n",
              "7580  /content/drive/MyDrive/data/without_mask/witho...  ...  without_mask\n",
              "7581  /content/drive/MyDrive/data/without_mask/witho...  ...  without_mask\n",
              "7582  /content/drive/MyDrive/data/without_mask/witho...  ...  without_mask\n",
              "\n",
              "[7583 rows x 3 columns]"
            ]
          },
          "metadata": {
            "tags": []
          },
          "execution_count": 6
        }
      ]
    },
    {
      "cell_type": "code",
      "metadata": {
        "id": "QvUhaVtX4p6S"
      },
      "source": [
        "# Membagi dataset menjadi dua bagian (train dan test)\n",
        "from sklearn.model_selection import train_test_split\n",
        "\n",
        "x = df['path']\n",
        "y = df['tag']\n",
        "\n",
        "x_train, x_test, y_train, y_test = train_test_split(\n",
        "    x,y, test_size= 0.20, random_state=300)\n",
        "x_test, x_val, y_test, y_val = train_test_split(\n",
        "    x_test,y_test, test_size=0.5, random_state=100\n",
        ")"
      ],
      "execution_count": 7,
      "outputs": []
    },
    {
      "cell_type": "code",
      "metadata": {
        "id": "K65TbzL64tSH"
      },
      "source": [
        "\n",
        "\n",
        "# menyatukan kedalam masing-masing dataframe\n",
        "df_test = pd.DataFrame({\n",
        "    'path' : x_test,\n",
        "    'tag' : y_test,\n",
        "    'set' : 'test'\n",
        "})\n",
        "\n",
        "df_train = pd.DataFrame({\n",
        "    'path' : x_train,\n",
        "    'tag' : y_train,\n",
        "    'set' : 'train'\n",
        "})\n",
        "df_val = pd.DataFrame({\n",
        "    'path' : x_val,\n",
        "    'tag' : y_val,\n",
        "    'set' : 'validation'\n",
        "})"
      ],
      "execution_count": 8,
      "outputs": []
    },
    {
      "cell_type": "code",
      "metadata": {
        "colab": {
          "base_uri": "https://localhost:8080/"
        },
        "id": "tZtIZII34wVr",
        "outputId": "3e30fb5c-3ed4-4311-9e94-2319a18d2c5c"
      },
      "source": [
        "print('train size', len(df_train))\n",
        "print('test size', len(df_test))\n",
        "print('validation size', len(df_val))"
      ],
      "execution_count": 9,
      "outputs": [
        {
          "output_type": "stream",
          "text": [
            "train size 6066\n",
            "test size 758\n",
            "validation size 759\n"
          ],
          "name": "stdout"
        }
      ]
    },
    {
      "cell_type": "code",
      "metadata": {
        "colab": {
          "base_uri": "https://localhost:8080/",
          "height": 415
        },
        "id": "CExGJ3P34ypM",
        "outputId": "4231ac35-3a68-4ec4-e6c0-d9a8e961d22a"
      },
      "source": [
        "# melihat masing-masing dataset apakah sudah sesuai atau belum\n",
        "df_all = df_train.append([df_test, df_val]).reset_index(drop=1)\n",
        "\n",
        "print('===================================================== \\n')\n",
        "print(df_all.groupby(['set','tag']).size(),'\\n')\n",
        "\n",
        "print('===================================================== \\n')\n",
        "\n",
        "df_all.sample(4)"
      ],
      "execution_count": 10,
      "outputs": [
        {
          "output_type": "stream",
          "text": [
            "===================================================== \n",
            "\n",
            "set         tag         \n",
            "test        with_mask        363\n",
            "            without_mask     395\n",
            "train       with_mask       3001\n",
            "            without_mask    3065\n",
            "validation  with_mask        361\n",
            "            without_mask     398\n",
            "dtype: int64 \n",
            "\n",
            "===================================================== \n",
            "\n"
          ],
          "name": "stdout"
        },
        {
          "output_type": "execute_result",
          "data": {
            "text/html": [
              "<div>\n",
              "<style scoped>\n",
              "    .dataframe tbody tr th:only-of-type {\n",
              "        vertical-align: middle;\n",
              "    }\n",
              "\n",
              "    .dataframe tbody tr th {\n",
              "        vertical-align: top;\n",
              "    }\n",
              "\n",
              "    .dataframe thead th {\n",
              "        text-align: right;\n",
              "    }\n",
              "</style>\n",
              "<table border=\"1\" class=\"dataframe\">\n",
              "  <thead>\n",
              "    <tr style=\"text-align: right;\">\n",
              "      <th></th>\n",
              "      <th>path</th>\n",
              "      <th>tag</th>\n",
              "      <th>set</th>\n",
              "    </tr>\n",
              "  </thead>\n",
              "  <tbody>\n",
              "    <tr>\n",
              "      <th>2883</th>\n",
              "      <td>/content/drive/MyDrive/data/without_mask/witho...</td>\n",
              "      <td>without_mask</td>\n",
              "      <td>train</td>\n",
              "    </tr>\n",
              "    <tr>\n",
              "      <th>4698</th>\n",
              "      <td>/content/drive/MyDrive/data/with_mask/with_mas...</td>\n",
              "      <td>with_mask</td>\n",
              "      <td>train</td>\n",
              "    </tr>\n",
              "    <tr>\n",
              "      <th>1177</th>\n",
              "      <td>/content/drive/MyDrive/data/without_mask/witho...</td>\n",
              "      <td>without_mask</td>\n",
              "      <td>train</td>\n",
              "    </tr>\n",
              "    <tr>\n",
              "      <th>6835</th>\n",
              "      <td>/content/drive/MyDrive/data/without_mask/witho...</td>\n",
              "      <td>without_mask</td>\n",
              "      <td>validation</td>\n",
              "    </tr>\n",
              "  </tbody>\n",
              "</table>\n",
              "</div>"
            ],
            "text/plain": [
              "                                                   path  ...         set\n",
              "2883  /content/drive/MyDrive/data/without_mask/witho...  ...       train\n",
              "4698  /content/drive/MyDrive/data/with_mask/with_mas...  ...       train\n",
              "1177  /content/drive/MyDrive/data/without_mask/witho...  ...       train\n",
              "6835  /content/drive/MyDrive/data/without_mask/witho...  ...  validation\n",
              "\n",
              "[4 rows x 3 columns]"
            ]
          },
          "metadata": {
            "tags": []
          },
          "execution_count": 10
        }
      ]
    },
    {
      "cell_type": "code",
      "metadata": {
        "id": "-InX18yp41Mn"
      },
      "source": [
        "# Memindahkan dataset\n",
        "import shutil\n",
        "from tqdm.notebook import tqdm as tq"
      ],
      "execution_count": 11,
      "outputs": []
    },
    {
      "cell_type": "code",
      "metadata": {
        "id": "P8Kb7cYQ45M7"
      },
      "source": [
        "datasource_path = '/content/drive/MyDrive/data'\n",
        "dataset_path = '/content/drive/MyDrive/dataset'"
      ],
      "execution_count": 12,
      "outputs": []
    },
    {
      "cell_type": "code",
      "metadata": {
        "colab": {
          "base_uri": "https://localhost:8080/",
          "height": 67,
          "referenced_widgets": [
            "2ba44bece7d142cc9295d51007c93064",
            "fb68ad2fd1ac4af4aeb098486fc30bde",
            "f373390bef854a2094849b9e59f20839",
            "80917fe932b74ef194fb791562ea6011",
            "545fddb2bed84455824d70edde59a51a",
            "55ccee1fc5bb4ac6b4cb168071853c89",
            "3195e913bc24485593667dd4031e6c6f",
            "c129bdb90a794f7c813f0bb2edd0391d"
          ]
        },
        "id": "Em-48-pk48sU",
        "outputId": "23363628-3f1e-4d73-9729-3df041dabedc"
      },
      "source": [
        "for index, row in tq(df_all.iterrows()):\n",
        "  file_path = row['path']\n",
        "\n",
        "  if os.path.exists(file_path) == False:\n",
        "    file_path = os.path.join(datasource_path, row['tag'], row['image'].split('.')[0])\n",
        "\n",
        "  if os.path.exists(os.path.join(dataset_path, row['set'], row['tag'])) == False:\n",
        "    os.makedirs(os.path.join(dataset_path, row['set'], row['tag']))\n",
        "  \n",
        "  destination_file_name = file_path.split('/')[-1]\n",
        "  file_dest = os.path.join(dataset_path, row['set'], row['tag'], destination_file_name)\n",
        "\n",
        "  if os.path.exists(file_dest) == False:\n",
        "    shutil.copy2(file_path, file_dest)"
      ],
      "execution_count": 13,
      "outputs": [
        {
          "output_type": "display_data",
          "data": {
            "application/vnd.jupyter.widget-view+json": {
              "model_id": "2ba44bece7d142cc9295d51007c93064",
              "version_minor": 0,
              "version_major": 2
            },
            "text/plain": [
              "HBox(children=(FloatProgress(value=1.0, bar_style='info', max=1.0), HTML(value='')))"
            ]
          },
          "metadata": {
            "tags": []
          }
        },
        {
          "output_type": "stream",
          "text": [
            "\n"
          ],
          "name": "stdout"
        }
      ]
    },
    {
      "cell_type": "code",
      "metadata": {
        "id": "87Ddeon94_g1"
      },
      "source": [
        "# Define Directory\n",
        "base_dir = '/content/drive/MyDrive/dataset'\n",
        "train_dir = os.path.join(base_dir, 'train')\n",
        "test_dir = os.path.join(base_dir, 'test')\n",
        "val_dir = os.path.join(base_dir, 'validation')"
      ],
      "execution_count": 14,
      "outputs": []
    },
    {
      "cell_type": "code",
      "metadata": {
        "colab": {
          "base_uri": "https://localhost:8080/"
        },
        "id": "8wh23Dw_BhQB",
        "outputId": "4845ebb7-c757-424b-bfd9-610343e7e529"
      },
      "source": [
        "os.listdir(train_dir)\n",
        "os.listdir(test_dir)\n",
        "os.listdir(val_dir)"
      ],
      "execution_count": 15,
      "outputs": [
        {
          "output_type": "execute_result",
          "data": {
            "text/plain": [
              "['with_mask', 'without_mask']"
            ]
          },
          "metadata": {
            "tags": []
          },
          "execution_count": 15
        }
      ]
    },
    {
      "cell_type": "code",
      "metadata": {
        "id": "cYqvmgzoBmw3"
      },
      "source": [
        "#train test split\n",
        "from sklearn.model_selection import train_test_split"
      ],
      "execution_count": 16,
      "outputs": []
    },
    {
      "cell_type": "code",
      "metadata": {
        "id": "8L3YoxVGBph7"
      },
      "source": [
        "train_without_mask_dir = os.path.join(train_dir, 'without_mask')\n",
        "train_with_mask_dir = os.path.join(train_dir, 'with_mask')\n",
        "test_without_mask_dir = os.path.join(test_dir, 'without_mask')\n",
        "test_with_mask_dir = os.path.join(test_dir, 'with_mask')\n",
        "val_without_mask_dir = os.path.join(val_dir, 'without_mask')\n",
        "val_with_mask_dir = os.path.join(val_dir, 'with_mask')"
      ],
      "execution_count": 17,
      "outputs": []
    },
    {
      "cell_type": "code",
      "metadata": {
        "colab": {
          "base_uri": "https://localhost:8080/"
        },
        "id": "z38FYxksBrob",
        "outputId": "2ab5b653-244f-4bc1-db2f-3cbbb5985653"
      },
      "source": [
        "\n",
        "import tensorflow as tf\n",
        "from tensorflow.keras.optimizers import RMSprop\n",
        "from tensorflow.keras.preprocessing.image import ImageDataGenerator\n",
        "\n",
        "print(tf.__version__)"
      ],
      "execution_count": 18,
      "outputs": [
        {
          "output_type": "stream",
          "text": [
            "2.4.1\n"
          ],
          "name": "stdout"
        }
      ]
    },
    {
      "cell_type": "code",
      "metadata": {
        "colab": {
          "base_uri": "https://localhost:8080/"
        },
        "id": "l27CgOOsBtlg",
        "outputId": "544b190c-8c59-4fba-d881-c927da91ed7d"
      },
      "source": [
        "datagen = ImageDataGenerator(\n",
        "    rescale = 1./255,\n",
        "    rotation_range = 20,\n",
        "    horizontal_flip=True,\n",
        "    shear_range=0.2,\n",
        "    fill_mode='nearest'\n",
        ")\n",
        "\n",
        "train_generator = datagen.flow_from_directory(\n",
        "    train_dir,\n",
        "    target_size = (224, 224),\n",
        "    batch_size = 32,\n",
        "    class_mode = 'binary'\n",
        ")\n",
        "\n",
        "test_generator = datagen.flow_from_directory(\n",
        "    test_dir,\n",
        "    target_size = (224,224),\n",
        "    batch_size = 32,\n",
        "    class_mode = 'binary'\n",
        ")\n",
        "val_generator = datagen.flow_from_directory(\n",
        "    test_dir,\n",
        "    target_size = (224, 224),\n",
        "    batch_size = 32,\n",
        "    class_mode = 'binary'\n",
        ")"
      ],
      "execution_count": 34,
      "outputs": [
        {
          "output_type": "stream",
          "text": [
            "Found 7256 images belonging to 2 classes.\n",
            "Found 2107 images belonging to 2 classes.\n",
            "Found 2107 images belonging to 2 classes.\n"
          ],
          "name": "stdout"
        }
      ]
    },
    {
      "cell_type": "code",
      "metadata": {
        "id": "Gr3BqdzYBwDF"
      },
      "source": [
        "# Membuat Model CNN menggunakan Transfer Learning MobileNetV2\n",
        "from tensorflow.keras.applications import MobileNetV2\n",
        "from tensorflow.keras.layers import Input"
      ],
      "execution_count": 35,
      "outputs": []
    },
    {
      "cell_type": "code",
      "metadata": {
        "colab": {
          "base_uri": "https://localhost:8080/"
        },
        "id": "BBju3DZvBye6",
        "outputId": "e3ea5a1b-e9b0-4de1-c6bb-e246f6d47847"
      },
      "source": [
        "model_cnn = tf.keras.models.Sequential([\n",
        "    tf.keras.layers.Conv2D(64, (3,3), activation='relu', input_shape=(224,224,3)),\n",
        "    tf.keras.layers.MaxPooling2D(3,3),\n",
        "    tf.keras.layers.Conv2D(128, (3,3), activation='relu'),\n",
        "    tf.keras.layers.MaxPooling2D(3,3),\n",
        "    tf.keras.layers.Conv2D(256, (3,3), activation='relu'),\n",
        "    tf.keras.layers.MaxPooling2D(2,2),\n",
        "    tf.keras.layers.Flatten(),\n",
        "    tf.keras.layers.Dropout(0.5),\n",
        "    tf.keras.layers.Dense(128, activation='relu'),\n",
        "    tf.keras.layers.Dropout(0.5),\n",
        "    tf.keras.layers.Dense(64, activation='relu'),\n",
        "    tf.keras.layers.Dropout(0.5),\n",
        "    tf.keras.layers.Dense(1, activation='sigmoid')\n",
        "])\n",
        "\n",
        "model_cnn.summary()\n",
        "\n"
      ],
      "execution_count": 36,
      "outputs": [
        {
          "output_type": "stream",
          "text": [
            "Model: \"sequential_4\"\n",
            "_________________________________________________________________\n",
            "Layer (type)                 Output Shape              Param #   \n",
            "=================================================================\n",
            "conv2d_18 (Conv2D)           (None, 222, 222, 64)      1792      \n",
            "_________________________________________________________________\n",
            "max_pooling2d_18 (MaxPooling (None, 74, 74, 64)        0         \n",
            "_________________________________________________________________\n",
            "conv2d_19 (Conv2D)           (None, 72, 72, 128)       73856     \n",
            "_________________________________________________________________\n",
            "max_pooling2d_19 (MaxPooling (None, 24, 24, 128)       0         \n",
            "_________________________________________________________________\n",
            "conv2d_20 (Conv2D)           (None, 22, 22, 256)       295168    \n",
            "_________________________________________________________________\n",
            "max_pooling2d_20 (MaxPooling (None, 11, 11, 256)       0         \n",
            "_________________________________________________________________\n",
            "flatten_4 (Flatten)          (None, 30976)             0         \n",
            "_________________________________________________________________\n",
            "dropout_5 (Dropout)          (None, 30976)             0         \n",
            "_________________________________________________________________\n",
            "dense_9 (Dense)              (None, 128)               3965056   \n",
            "_________________________________________________________________\n",
            "dropout_6 (Dropout)          (None, 128)               0         \n",
            "_________________________________________________________________\n",
            "dense_10 (Dense)             (None, 64)                8256      \n",
            "_________________________________________________________________\n",
            "dropout_7 (Dropout)          (None, 64)                0         \n",
            "_________________________________________________________________\n",
            "dense_11 (Dense)             (None, 1)                 65        \n",
            "=================================================================\n",
            "Total params: 4,344,193\n",
            "Trainable params: 4,344,193\n",
            "Non-trainable params: 0\n",
            "_________________________________________________________________\n"
          ],
          "name": "stdout"
        }
      ]
    },
    {
      "cell_type": "code",
      "metadata": {
        "colab": {
          "base_uri": "https://localhost:8080/"
        },
        "id": "1Uk3sYNRB0-6",
        "outputId": "381787f0-7389-4636-f0ad-60a1467cc74e"
      },
      "source": [
        "print('Compiling Model.......')\n",
        "model_cnn.compile (optimizer='Adam',\n",
        "                   loss='binary_crossentropy',\n",
        "                   metrics=['accuracy'])"
      ],
      "execution_count": 37,
      "outputs": [
        {
          "output_type": "stream",
          "text": [
            "Compiling Model.......\n"
          ],
          "name": "stdout"
        }
      ]
    },
    {
      "cell_type": "code",
      "metadata": {
        "id": "P-9oD9b1B-mi"
      },
      "source": [
        "import tensorflow as tf"
      ],
      "execution_count": 38,
      "outputs": []
    },
    {
      "cell_type": "code",
      "metadata": {
        "colab": {
          "base_uri": "https://localhost:8080/",
          "height": 883
        },
        "id": "SdAvE8gyCBeJ",
        "outputId": "8a9e4cb6-e390-46cd-ef16-33820fe54dd7"
      },
      "source": [
        "model_viz = tf.keras.utils.plot_model(model_cnn,\n",
        "                                      to_file='/content/drive/MyDrive/Colab Notebooks/model.png',\n",
        "                                      show_shapes=True,\n",
        "                                      rankdir='TB',\n",
        "                                      expand_nested=True,\n",
        "                                      dpi=55)\n",
        "model_viz"
      ],
      "execution_count": 39,
      "outputs": [
        {
          "output_type": "execute_result",
          "data": {
            "image/png": "[encoded data removed]",
            "text/plain": [
              "<IPython.core.display.Image object>"
            ]
          },
          "metadata": {
            "tags": []
          },
          "execution_count": 39
        }
      ]
    },
    {
      "cell_type": "code",
      "metadata": {
        "id": "4xpdaGBCCDSD"
      },
      "source": [
        "class myCallback(tf.keras.callbacks.Callback):\n",
        "  def on_epoch_end(self, epoch, logs={}):\n",
        "    if(logs.get('accuracy')>0.97):\n",
        "      print('Akurasi mencapai 97%, proses training dihentikan!')\n",
        "      self.model.stop_training = True\n",
        "\n",
        "callbacks = myCallback()"
      ],
      "execution_count": 40,
      "outputs": []
    },
    {
      "cell_type": "code",
      "metadata": {
        "colab": {
          "base_uri": "https://localhost:8080/"
        },
        "id": "fHFqzSS3CFxb",
        "outputId": "2e0c9063-5e77-4194-d8ad-27e7e96385b4"
      },
      "source": [
        "history_cnn = model_cnn.fit(\n",
        "    train_generator,\n",
        "    steps_per_epoch = 20,\n",
        "    epochs = 100,\n",
        "    validation_data = test_generator,\n",
        "    validation_steps = 3,\n",
        "    callbacks = [callbacks]\n",
        ")"
      ],
      "execution_count": 41,
      "outputs": [
        {
          "output_type": "stream",
          "text": [
            "Epoch 1/100\n",
            "20/20 [==============================] - 91s 4s/step - loss: 0.7290 - accuracy: 0.4697 - val_loss: 0.5732 - val_accuracy: 0.6875\n",
            "Epoch 2/100\n",
            "20/20 [==============================] - 81s 4s/step - loss: 0.6320 - accuracy: 0.6551 - val_loss: 0.3907 - val_accuracy: 0.8438\n",
            "Epoch 3/100\n",
            "20/20 [==============================] - 82s 4s/step - loss: 0.4565 - accuracy: 0.8069 - val_loss: 0.4129 - val_accuracy: 0.8438\n",
            "Epoch 4/100\n",
            "20/20 [==============================] - 80s 4s/step - loss: 0.3844 - accuracy: 0.8370 - val_loss: 0.3975 - val_accuracy: 0.8333\n",
            "Epoch 5/100\n",
            " 9/20 [============>.................] - ETA: 35s - loss: 0.3354 - accuracy: 0.8638"
          ],
          "name": "stdout"
        },
        {
          "output_type": "stream",
          "text": [
            "/usr/local/lib/python3.7/dist-packages/PIL/Image.py:960: UserWarning: Palette images with Transparency expressed in bytes should be converted to RGBA images\n",
            "  \"Palette images with Transparency expressed in bytes should be \"\n"
          ],
          "name": "stderr"
        },
        {
          "output_type": "stream",
          "text": [
            "20/20 [==============================] - 81s 4s/step - loss: 0.3507 - accuracy: 0.8588 - val_loss: 0.3253 - val_accuracy: 0.8958\n",
            "Epoch 6/100\n",
            "20/20 [==============================] - 80s 4s/step - loss: 0.3431 - accuracy: 0.8658 - val_loss: 0.3446 - val_accuracy: 0.8021\n",
            "Epoch 7/100\n",
            "20/20 [==============================] - 79s 4s/step - loss: 0.3026 - accuracy: 0.8986 - val_loss: 0.2940 - val_accuracy: 0.8542\n",
            "Epoch 8/100\n",
            "20/20 [==============================] - 79s 4s/step - loss: 0.3656 - accuracy: 0.8626 - val_loss: 0.2391 - val_accuracy: 0.8750\n",
            "Epoch 9/100\n",
            "20/20 [==============================] - 79s 4s/step - loss: 0.3367 - accuracy: 0.8527 - val_loss: 0.2745 - val_accuracy: 0.8646\n",
            "Epoch 10/100\n",
            "20/20 [==============================] - 79s 4s/step - loss: 0.3291 - accuracy: 0.8751 - val_loss: 0.1855 - val_accuracy: 0.9479\n",
            "Epoch 11/100\n",
            "20/20 [==============================] - 77s 4s/step - loss: 0.2987 - accuracy: 0.8708 - val_loss: 0.2281 - val_accuracy: 0.8958\n",
            "Epoch 12/100\n",
            "20/20 [==============================] - 75s 4s/step - loss: 0.3130 - accuracy: 0.8803 - val_loss: 0.2174 - val_accuracy: 0.9479\n",
            "Epoch 13/100\n",
            "20/20 [==============================] - 77s 4s/step - loss: 0.2666 - accuracy: 0.8915 - val_loss: 0.1549 - val_accuracy: 0.9479\n",
            "Epoch 14/100\n",
            "20/20 [==============================] - 74s 4s/step - loss: 0.2462 - accuracy: 0.9212 - val_loss: 0.2253 - val_accuracy: 0.8958\n",
            "Epoch 15/100\n",
            "20/20 [==============================] - 75s 4s/step - loss: 0.2469 - accuracy: 0.8915 - val_loss: 0.3135 - val_accuracy: 0.9271\n",
            "Epoch 16/100\n",
            "20/20 [==============================] - 72s 4s/step - loss: 0.3006 - accuracy: 0.8998 - val_loss: 0.2924 - val_accuracy: 0.8646\n",
            "Epoch 17/100\n",
            "20/20 [==============================] - 74s 4s/step - loss: 0.2458 - accuracy: 0.8997 - val_loss: 0.3552 - val_accuracy: 0.8438\n",
            "Epoch 18/100\n",
            "20/20 [==============================] - 75s 4s/step - loss: 0.2699 - accuracy: 0.8866 - val_loss: 0.2740 - val_accuracy: 0.8750\n",
            "Epoch 19/100\n",
            "20/20 [==============================] - 74s 4s/step - loss: 0.2066 - accuracy: 0.9072 - val_loss: 0.2587 - val_accuracy: 0.9167\n",
            "Epoch 20/100\n",
            "20/20 [==============================] - 74s 4s/step - loss: 0.3519 - accuracy: 0.8631 - val_loss: 0.1812 - val_accuracy: 0.8750\n",
            "Epoch 21/100\n",
            "20/20 [==============================] - 71s 4s/step - loss: 0.2992 - accuracy: 0.8746 - val_loss: 0.1992 - val_accuracy: 0.8854\n",
            "Epoch 22/100\n",
            "20/20 [==============================] - 72s 4s/step - loss: 0.2555 - accuracy: 0.9095 - val_loss: 0.3201 - val_accuracy: 0.8333\n",
            "Epoch 23/100\n",
            "20/20 [==============================] - 70s 3s/step - loss: 0.2413 - accuracy: 0.9175 - val_loss: 0.1267 - val_accuracy: 0.9479\n",
            "Epoch 24/100\n",
            "20/20 [==============================] - 73s 4s/step - loss: 0.2063 - accuracy: 0.9402 - val_loss: 0.1097 - val_accuracy: 0.9583\n",
            "Epoch 25/100\n",
            "20/20 [==============================] - 70s 4s/step - loss: 0.2271 - accuracy: 0.9077 - val_loss: 0.1601 - val_accuracy: 0.9062\n",
            "Epoch 26/100\n",
            "20/20 [==============================] - 71s 4s/step - loss: 0.2432 - accuracy: 0.8872 - val_loss: 0.1237 - val_accuracy: 0.9167\n",
            "Epoch 27/100\n",
            "20/20 [==============================] - 70s 3s/step - loss: 0.2264 - accuracy: 0.9107 - val_loss: 0.1976 - val_accuracy: 0.9271\n",
            "Epoch 28/100\n",
            "20/20 [==============================] - 72s 4s/step - loss: 0.2491 - accuracy: 0.9168 - val_loss: 0.2585 - val_accuracy: 0.8854\n",
            "Epoch 29/100\n",
            "20/20 [==============================] - 70s 3s/step - loss: 0.2645 - accuracy: 0.8988 - val_loss: 0.2610 - val_accuracy: 0.9271\n",
            "Epoch 30/100\n",
            "20/20 [==============================] - 70s 3s/step - loss: 0.1993 - accuracy: 0.9314 - val_loss: 0.0855 - val_accuracy: 0.9792\n",
            "Epoch 31/100\n",
            "20/20 [==============================] - 69s 3s/step - loss: 0.1869 - accuracy: 0.9271 - val_loss: 0.1561 - val_accuracy: 0.9271\n",
            "Epoch 32/100\n",
            "20/20 [==============================] - 71s 4s/step - loss: 0.2229 - accuracy: 0.9251 - val_loss: 0.1076 - val_accuracy: 0.9479\n",
            "Epoch 33/100\n",
            "20/20 [==============================] - 72s 4s/step - loss: 0.1834 - accuracy: 0.9293 - val_loss: 0.1354 - val_accuracy: 0.9375\n",
            "Epoch 34/100\n",
            "20/20 [==============================] - 70s 3s/step - loss: 0.2278 - accuracy: 0.9060 - val_loss: 0.1233 - val_accuracy: 0.9583\n",
            "Epoch 35/100\n",
            "20/20 [==============================] - 70s 3s/step - loss: 0.2152 - accuracy: 0.9328 - val_loss: 0.2374 - val_accuracy: 0.9271\n",
            "Epoch 36/100\n",
            "20/20 [==============================] - 68s 3s/step - loss: 0.1965 - accuracy: 0.9379 - val_loss: 0.1461 - val_accuracy: 0.9479\n",
            "Epoch 37/100\n",
            "20/20 [==============================] - 69s 3s/step - loss: 0.2091 - accuracy: 0.9014 - val_loss: 0.1139 - val_accuracy: 0.9479\n",
            "Epoch 38/100\n",
            "20/20 [==============================] - 69s 3s/step - loss: 0.2106 - accuracy: 0.9249 - val_loss: 0.1460 - val_accuracy: 0.9688\n",
            "Epoch 39/100\n",
            "20/20 [==============================] - 69s 3s/step - loss: 0.1737 - accuracy: 0.9421 - val_loss: 0.2494 - val_accuracy: 0.9167\n",
            "Epoch 40/100\n",
            "20/20 [==============================] - 69s 3s/step - loss: 0.1979 - accuracy: 0.9377 - val_loss: 0.2023 - val_accuracy: 0.9271\n",
            "Epoch 41/100\n",
            "20/20 [==============================] - 68s 3s/step - loss: 0.1741 - accuracy: 0.9345 - val_loss: 0.3037 - val_accuracy: 0.8854\n",
            "Epoch 42/100\n",
            "20/20 [==============================] - 69s 3s/step - loss: 0.1920 - accuracy: 0.9516 - val_loss: 0.2243 - val_accuracy: 0.9062\n",
            "Epoch 43/100\n",
            "20/20 [==============================] - 70s 3s/step - loss: 0.1603 - accuracy: 0.9578 - val_loss: 0.2248 - val_accuracy: 0.9167\n",
            "Epoch 44/100\n",
            "20/20 [==============================] - 69s 3s/step - loss: 0.1902 - accuracy: 0.9451 - val_loss: 0.2347 - val_accuracy: 0.9375\n",
            "Epoch 45/100\n",
            "20/20 [==============================] - 69s 3s/step - loss: 0.1753 - accuracy: 0.9384 - val_loss: 0.1731 - val_accuracy: 0.9062\n",
            "Epoch 46/100\n",
            "20/20 [==============================] - 70s 3s/step - loss: 0.1496 - accuracy: 0.9588 - val_loss: 0.2039 - val_accuracy: 0.9271\n",
            "Epoch 47/100\n",
            "20/20 [==============================] - 70s 3s/step - loss: 0.2028 - accuracy: 0.9233 - val_loss: 0.1633 - val_accuracy: 0.9062\n",
            "Epoch 48/100\n",
            "20/20 [==============================] - 69s 3s/step - loss: 0.1941 - accuracy: 0.9280 - val_loss: 0.2648 - val_accuracy: 0.9375\n",
            "Epoch 49/100\n",
            "20/20 [==============================] - 69s 3s/step - loss: 0.1961 - accuracy: 0.9375 - val_loss: 0.0987 - val_accuracy: 0.9688\n",
            "Epoch 50/100\n",
            "20/20 [==============================] - 68s 3s/step - loss: 0.1809 - accuracy: 0.9308 - val_loss: 0.2121 - val_accuracy: 0.9375\n",
            "Epoch 51/100\n",
            "20/20 [==============================] - 68s 3s/step - loss: 0.2173 - accuracy: 0.9316 - val_loss: 0.1395 - val_accuracy: 0.9583\n",
            "Epoch 52/100\n",
            "20/20 [==============================] - 68s 3s/step - loss: 0.2015 - accuracy: 0.9250 - val_loss: 0.1668 - val_accuracy: 0.9479\n",
            "Epoch 53/100\n",
            "20/20 [==============================] - 69s 3s/step - loss: 0.1967 - accuracy: 0.9218 - val_loss: 0.2130 - val_accuracy: 0.9271\n",
            "Epoch 54/100\n",
            "20/20 [==============================] - 69s 3s/step - loss: 0.1789 - accuracy: 0.9470 - val_loss: 0.0564 - val_accuracy: 0.9896\n",
            "Epoch 55/100\n",
            "20/20 [==============================] - 68s 3s/step - loss: 0.1597 - accuracy: 0.9344 - val_loss: 0.1433 - val_accuracy: 0.9479\n",
            "Epoch 56/100\n",
            "20/20 [==============================] - 69s 3s/step - loss: 0.2822 - accuracy: 0.9156 - val_loss: 0.1360 - val_accuracy: 0.9688\n",
            "Epoch 57/100\n",
            "20/20 [==============================] - 68s 3s/step - loss: 0.2089 - accuracy: 0.9283 - val_loss: 0.1323 - val_accuracy: 0.9583\n",
            "Epoch 58/100\n",
            "20/20 [==============================] - 69s 3s/step - loss: 0.1399 - accuracy: 0.9516 - val_loss: 0.1139 - val_accuracy: 0.9583\n",
            "Epoch 59/100\n",
            "20/20 [==============================] - 69s 3s/step - loss: 0.1701 - accuracy: 0.9271 - val_loss: 0.0977 - val_accuracy: 0.9583\n",
            "Epoch 60/100\n",
            "20/20 [==============================] - 68s 3s/step - loss: 0.1571 - accuracy: 0.9562 - val_loss: 0.1728 - val_accuracy: 0.9583\n",
            "Epoch 61/100\n",
            "20/20 [==============================] - 68s 3s/step - loss: 0.1710 - accuracy: 0.9342 - val_loss: 0.1369 - val_accuracy: 0.9583\n",
            "Epoch 62/100\n",
            "20/20 [==============================] - 68s 3s/step - loss: 0.1541 - accuracy: 0.9440 - val_loss: 0.2712 - val_accuracy: 0.9167\n",
            "Epoch 63/100\n",
            "20/20 [==============================] - 67s 3s/step - loss: 0.1665 - accuracy: 0.9272 - val_loss: 0.1694 - val_accuracy: 0.9479\n",
            "Epoch 64/100\n",
            "20/20 [==============================] - 67s 3s/step - loss: 0.1438 - accuracy: 0.9587 - val_loss: 0.1176 - val_accuracy: 0.9375\n",
            "Epoch 65/100\n",
            "20/20 [==============================] - 68s 3s/step - loss: 0.1371 - accuracy: 0.9635 - val_loss: 0.0671 - val_accuracy: 0.9792\n",
            "Epoch 66/100\n",
            "20/20 [==============================] - 68s 3s/step - loss: 0.1226 - accuracy: 0.9484 - val_loss: 0.2174 - val_accuracy: 0.9271\n",
            "Epoch 67/100\n",
            "20/20 [==============================] - 68s 3s/step - loss: 0.1657 - accuracy: 0.9410 - val_loss: 0.1337 - val_accuracy: 0.9688\n",
            "Epoch 68/100\n",
            "20/20 [==============================] - 68s 3s/step - loss: 0.1136 - accuracy: 0.9574 - val_loss: 0.0746 - val_accuracy: 0.9688\n",
            "Epoch 69/100\n",
            "20/20 [==============================] - 68s 3s/step - loss: 0.1590 - accuracy: 0.9438 - val_loss: 0.1562 - val_accuracy: 0.9479\n",
            "Epoch 70/100\n",
            "20/20 [==============================] - 68s 3s/step - loss: 0.1509 - accuracy: 0.9525 - val_loss: 0.1952 - val_accuracy: 0.9479\n",
            "Epoch 71/100\n",
            "20/20 [==============================] - 68s 3s/step - loss: 0.1806 - accuracy: 0.9432 - val_loss: 0.2620 - val_accuracy: 0.9167\n",
            "Epoch 72/100\n",
            "20/20 [==============================] - 68s 3s/step - loss: 0.1759 - accuracy: 0.9477 - val_loss: 0.1542 - val_accuracy: 0.9583\n",
            "Epoch 73/100\n",
            "20/20 [==============================] - 69s 3s/step - loss: 0.1614 - accuracy: 0.9356 - val_loss: 0.1273 - val_accuracy: 0.9583\n",
            "Epoch 74/100\n",
            "20/20 [==============================] - 68s 3s/step - loss: 0.1273 - accuracy: 0.9527 - val_loss: 0.0952 - val_accuracy: 0.9583\n",
            "Epoch 75/100\n",
            "20/20 [==============================] - 68s 3s/step - loss: 0.1627 - accuracy: 0.9557 - val_loss: 0.0747 - val_accuracy: 0.9792\n",
            "Epoch 76/100\n",
            "20/20 [==============================] - 68s 3s/step - loss: 0.1725 - accuracy: 0.9532 - val_loss: 0.1652 - val_accuracy: 0.9167\n",
            "Epoch 77/100\n",
            "20/20 [==============================] - 68s 3s/step - loss: 0.1432 - accuracy: 0.9491 - val_loss: 0.0843 - val_accuracy: 0.9688\n",
            "Epoch 78/100\n",
            "20/20 [==============================] - 68s 3s/step - loss: 0.1481 - accuracy: 0.9428 - val_loss: 0.1671 - val_accuracy: 0.9375\n",
            "Epoch 79/100\n",
            "20/20 [==============================] - 68s 3s/step - loss: 0.1115 - accuracy: 0.9655 - val_loss: 0.1312 - val_accuracy: 0.9583\n",
            "Epoch 80/100\n",
            "20/20 [==============================] - 68s 3s/step - loss: 0.1145 - accuracy: 0.9620 - val_loss: 0.1706 - val_accuracy: 0.9375\n",
            "Epoch 81/100\n",
            "20/20 [==============================] - 68s 3s/step - loss: 0.1628 - accuracy: 0.9572 - val_loss: 0.0758 - val_accuracy: 0.9688\n",
            "Epoch 82/100\n",
            "20/20 [==============================] - 68s 3s/step - loss: 0.1125 - accuracy: 0.9564 - val_loss: 0.1041 - val_accuracy: 0.9583\n",
            "Epoch 83/100\n",
            "20/20 [==============================] - 68s 3s/step - loss: 0.1553 - accuracy: 0.9530 - val_loss: 0.1822 - val_accuracy: 0.9479\n",
            "Epoch 84/100\n",
            "20/20 [==============================] - 67s 3s/step - loss: 0.1561 - accuracy: 0.9379 - val_loss: 0.1232 - val_accuracy: 0.9688\n",
            "Epoch 85/100\n",
            "20/20 [==============================] - 68s 3s/step - loss: 0.1699 - accuracy: 0.9278 - val_loss: 0.1386 - val_accuracy: 0.9688\n",
            "Epoch 86/100\n",
            "20/20 [==============================] - 68s 3s/step - loss: 0.1767 - accuracy: 0.9307 - val_loss: 0.0446 - val_accuracy: 0.9896\n",
            "Epoch 87/100\n",
            "20/20 [==============================] - 67s 3s/step - loss: 0.1738 - accuracy: 0.9458 - val_loss: 0.1837 - val_accuracy: 0.9271\n",
            "Epoch 88/100\n",
            "20/20 [==============================] - 67s 3s/step - loss: 0.1596 - accuracy: 0.9370 - val_loss: 0.1103 - val_accuracy: 0.9688\n",
            "Epoch 89/100\n",
            "20/20 [==============================] - 67s 3s/step - loss: 0.1455 - accuracy: 0.9397 - val_loss: 0.0825 - val_accuracy: 0.9792\n",
            "Epoch 90/100\n",
            "20/20 [==============================] - 68s 3s/step - loss: 0.1123 - accuracy: 0.9669 - val_loss: 0.0562 - val_accuracy: 0.9792\n",
            "Akurasi mencapai 97%, proses training dihentikan!\n"
          ],
          "name": "stdout"
        }
      ]
    },
    {
      "cell_type": "code",
      "metadata": {
        "id": "Kh0ZKJUOCIAb"
      },
      "source": [
        "from matplotlib import pyplot as plt"
      ],
      "execution_count": 42,
      "outputs": []
    },
    {
      "cell_type": "code",
      "metadata": {
        "colab": {
          "base_uri": "https://localhost:8080/",
          "height": 545
        },
        "id": "v46TjSrvtpjI",
        "outputId": "84f8861c-42ea-4f85-ad81-447614bfbec1"
      },
      "source": [
        "acc = history_cnn.history['accuracy']\n",
        "val_acc = history_cnn.history['val_accuracy']\n",
        "loss = history_cnn.history['loss']\n",
        "val_loss = history_cnn.history['val_loss']\n",
        "\n",
        "epochs = range(len(acc))\n",
        "\n",
        "plt.plot(epochs, acc, 'blue', label='Training accuracy')\n",
        "plt.plot(epochs, val_acc, 'orange', label='Validation accuracy')\n",
        "plt.title('Training and validation accuracy')\n",
        "plt.legend()\n",
        "plt.figure()\n",
        "\n",
        "plt.plot(epochs, loss, 'blue', label='Training Loss')\n",
        "plt.plot(epochs, val_loss, 'orange', label='Validation Loss')\n",
        "plt.title('Training and validation loss')\n",
        "plt.legend()\n",
        "\n",
        "plt.show()"
      ],
      "execution_count": 43,
      "outputs": [
        {
          "output_type": "display_data",
          "data": {
            "image/png": "[encoded data removed]",
            "text/plain": [
              "<Figure size 432x288 with 1 Axes>"
            ]
          },
          "metadata": {
            "tags": [],
            "needs_background": "light"
          }
        },
        {
          "output_type": "display_data",
          "data": {
            "image/png": "[encoded data removed]",
            "text/plain": [
              "<Figure size 432x288 with 1 Axes>"
            ]
          },
          "metadata": {
            "tags": [],
            "needs_background": "light"
          }
        }
      ]
    },
    {
      "cell_type": "code",
      "metadata": {
        "colab": {
          "base_uri": "https://localhost:8080/"
        },
        "id": "MrFcViwsMb4F",
        "outputId": "1c38bb5e-c267-4d3e-cef1-3c2c6d98fc01"
      },
      "source": [
        "cd'/content/drive/MyDrive/Colab Notebooks'"
      ],
      "execution_count": 44,
      "outputs": [
        {
          "output_type": "stream",
          "text": [
            "/content/drive/MyDrive/Colab Notebooks\n"
          ],
          "name": "stdout"
        }
      ]
    },
    {
      "cell_type": "code",
      "metadata": {
        "colab": {
          "base_uri": "https://localhost:8080/"
        },
        "id": "VMwbV3b-t1Pg",
        "outputId": "81a8f5f7-33a5-4b0b-c100-3984c92c07ff"
      },
      "source": [
        "#save model\n",
        "import os\n",
        "MODEL_BASE_PATH = \"Model\"\n",
        "PROJECT_NAME =\"CNN\"\n",
        "SAVE_MODEL_NAME = \"Model_CNN43.h5\"\n",
        "save_model_path = os.path.join(MODEL_BASE_PATH, PROJECT_NAME, SAVE_MODEL_NAME)\n",
        "if os.path.exists(os.path.join(MODEL_BASE_PATH, PROJECT_NAME)) == False:\n",
        "    os.makedirs(os.path.join(MODEL_BASE_PATH, PROJECT_NAME))\n",
        "    \n",
        "print('Saving Model At {}...'.format(save_model_path))\n",
        "model_cnn.save(save_model_path,include_optimizer=False)"
      ],
      "execution_count": 45,
      "outputs": [
        {
          "output_type": "stream",
          "text": [
            "Saving Model At Model/CNN/Model_CNN43.h5...\n"
          ],
          "name": "stdout"
        }
      ]
    },
    {
      "cell_type": "code",
      "metadata": {
        "id": "SzGX9dnpu3Wq"
      },
      "source": [
        ""
      ],
      "execution_count": null,
      "outputs": []
    }
  ]
}