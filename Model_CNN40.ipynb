{
  "nbformat": 4,
  "nbformat_minor": 0,
  "metadata": {
    "colab": {
      "name": "Untitled3.ipynb",
      "provenance": [],
      "include_colab_link": true
    },
    "kernelspec": {
      "name": "python3",
      "display_name": "Python 3"
    },
    "language_info": {
      "name": "python"
    },
    "widgets": {
      "application/vnd.jupyter.widget-state+json": {
        "4efef03b888d486aab0f2518b337b29a": {
          "model_module": "@jupyter-widgets/controls",
          "model_name": "HBoxModel",
          "state": {
            "_view_name": "HBoxView",
            "_dom_classes": [],
            "_model_name": "HBoxModel",
            "_view_module": "@jupyter-widgets/controls",
            "_model_module_version": "1.5.0",
            "_view_count": null,
            "_view_module_version": "1.5.0",
            "box_style": "",
            "layout": "IPY_MODEL_2b8a4052cd1a45c39c702ee83c6b390c",
            "_model_module": "@jupyter-widgets/controls",
            "children": [
              "IPY_MODEL_c6141245af1149b4b0a0130773e9c2b0",
              "IPY_MODEL_3aeba10496614668b97e3e7e213687b2"
            ]
          }
        },
        "2b8a4052cd1a45c39c702ee83c6b390c": {
          "model_module": "@jupyter-widgets/base",
          "model_name": "LayoutModel",
          "state": {
            "_view_name": "LayoutView",
            "grid_template_rows": null,
            "right": null,
            "justify_content": null,
            "_view_module": "@jupyter-widgets/base",
            "overflow": null,
            "_model_module_version": "1.2.0",
            "_view_count": null,
            "flex_flow": null,
            "width": null,
            "min_width": null,
            "border": null,
            "align_items": null,
            "bottom": null,
            "_model_module": "@jupyter-widgets/base",
            "top": null,
            "grid_column": null,
            "overflow_y": null,
            "overflow_x": null,
            "grid_auto_flow": null,
            "grid_area": null,
            "grid_template_columns": null,
            "flex": null,
            "_model_name": "LayoutModel",
            "justify_items": null,
            "grid_row": null,
            "max_height": null,
            "align_content": null,
            "visibility": null,
            "align_self": null,
            "height": null,
            "min_height": null,
            "padding": null,
            "grid_auto_rows": null,
            "grid_gap": null,
            "max_width": null,
            "order": null,
            "_view_module_version": "1.2.0",
            "grid_template_areas": null,
            "object_position": null,
            "object_fit": null,
            "grid_auto_columns": null,
            "margin": null,
            "display": null,
            "left": null
          }
        },
        "c6141245af1149b4b0a0130773e9c2b0": {
          "model_module": "@jupyter-widgets/controls",
          "model_name": "FloatProgressModel",
          "state": {
            "_view_name": "ProgressView",
            "style": "IPY_MODEL_9fb9163aacb94f6ebbe60581700d054c",
            "_dom_classes": [],
            "description": "",
            "_model_name": "FloatProgressModel",
            "bar_style": "success",
            "max": 1,
            "_view_module": "@jupyter-widgets/controls",
            "_model_module_version": "1.5.0",
            "value": 1,
            "_view_count": null,
            "_view_module_version": "1.5.0",
            "orientation": "horizontal",
            "min": 0,
            "description_tooltip": null,
            "_model_module": "@jupyter-widgets/controls",
            "layout": "IPY_MODEL_015776e2ea4c49098849ff54a494fd8a"
          }
        },
        "3aeba10496614668b97e3e7e213687b2": {
          "model_module": "@jupyter-widgets/controls",
          "model_name": "HTMLModel",
          "state": {
            "_view_name": "HTMLView",
            "style": "IPY_MODEL_e301e37c0559449ba7dcef839db84805",
            "_dom_classes": [],
            "description": "",
            "_model_name": "HTMLModel",
            "placeholder": "​",
            "_view_module": "@jupyter-widgets/controls",
            "_model_module_version": "1.5.0",
            "value": " 1025/? [12:48&lt;00:00,  1.33it/s]",
            "_view_count": null,
            "_view_module_version": "1.5.0",
            "description_tooltip": null,
            "_model_module": "@jupyter-widgets/controls",
            "layout": "IPY_MODEL_e221e040497c4ca4a1adb54ee08bf5b2"
          }
        },
        "9fb9163aacb94f6ebbe60581700d054c": {
          "model_module": "@jupyter-widgets/controls",
          "model_name": "ProgressStyleModel",
          "state": {
            "_view_name": "StyleView",
            "_model_name": "ProgressStyleModel",
            "description_width": "initial",
            "_view_module": "@jupyter-widgets/base",
            "_model_module_version": "1.5.0",
            "_view_count": null,
            "_view_module_version": "1.2.0",
            "bar_color": null,
            "_model_module": "@jupyter-widgets/controls"
          }
        },
        "015776e2ea4c49098849ff54a494fd8a": {
          "model_module": "@jupyter-widgets/base",
          "model_name": "LayoutModel",
          "state": {
            "_view_name": "LayoutView",
            "grid_template_rows": null,
            "right": null,
            "justify_content": null,
            "_view_module": "@jupyter-widgets/base",
            "overflow": null,
            "_model_module_version": "1.2.0",
            "_view_count": null,
            "flex_flow": null,
            "width": null,
            "min_width": null,
            "border": null,
            "align_items": null,
            "bottom": null,
            "_model_module": "@jupyter-widgets/base",
            "top": null,
            "grid_column": null,
            "overflow_y": null,
            "overflow_x": null,
            "grid_auto_flow": null,
            "grid_area": null,
            "grid_template_columns": null,
            "flex": null,
            "_model_name": "LayoutModel",
            "justify_items": null,
            "grid_row": null,
            "max_height": null,
            "align_content": null,
            "visibility": null,
            "align_self": null,
            "height": null,
            "min_height": null,
            "padding": null,
            "grid_auto_rows": null,
            "grid_gap": null,
            "max_width": null,
            "order": null,
            "_view_module_version": "1.2.0",
            "grid_template_areas": null,
            "object_position": null,
            "object_fit": null,
            "grid_auto_columns": null,
            "margin": null,
            "display": null,
            "left": null
          }
        },
        "e301e37c0559449ba7dcef839db84805": {
          "model_module": "@jupyter-widgets/controls",
          "model_name": "DescriptionStyleModel",
          "state": {
            "_view_name": "StyleView",
            "_model_name": "DescriptionStyleModel",
            "description_width": "",
            "_view_module": "@jupyter-widgets/base",
            "_model_module_version": "1.5.0",
            "_view_count": null,
            "_view_module_version": "1.2.0",
            "_model_module": "@jupyter-widgets/controls"
          }
        },
        "e221e040497c4ca4a1adb54ee08bf5b2": {
          "model_module": "@jupyter-widgets/base",
          "model_name": "LayoutModel",
          "state": {
            "_view_name": "LayoutView",
            "grid_template_rows": null,
            "right": null,
            "justify_content": null,
            "_view_module": "@jupyter-widgets/base",
            "overflow": null,
            "_model_module_version": "1.2.0",
            "_view_count": null,
            "flex_flow": null,
            "width": null,
            "min_width": null,
            "border": null,
            "align_items": null,
            "bottom": null,
            "_model_module": "@jupyter-widgets/base",
            "top": null,
            "grid_column": null,
            "overflow_y": null,
            "overflow_x": null,
            "grid_auto_flow": null,
            "grid_area": null,
            "grid_template_columns": null,
            "flex": null,
            "_model_name": "LayoutModel",
            "justify_items": null,
            "grid_row": null,
            "max_height": null,
            "align_content": null,
            "visibility": null,
            "align_self": null,
            "height": null,
            "min_height": null,
            "padding": null,
            "grid_auto_rows": null,
            "grid_gap": null,
            "max_width": null,
            "order": null,
            "_view_module_version": "1.2.0",
            "grid_template_areas": null,
            "object_position": null,
            "object_fit": null,
            "grid_auto_columns": null,
            "margin": null,
            "display": null,
            "left": null
          }
        }
      }
    }
  },
  "cells": [
    {
      "cell_type": "markdown",
      "metadata": {
        "id": "view-in-github",
        "colab_type": "text"
      },
      "source": [
        "<a href=\"https://colab.research.google.com/github/Agnes-FD/Agnes-FD/blob/main/Model_CNN40.ipynb\" target=\"_parent\"><img src=\"https://colab.research.google.com/assets/colab-badge.svg\" alt=\"Open In Colab\"/></a>"
      ]
    },
    {
      "cell_type": "code",
      "metadata": {
        "colab": {
          "base_uri": "https://localhost:8080/"
        },
        "id": "lPLzbCvHfQK_",
        "outputId": "6dbdf081-e92c-4a97-f7cd-8bc6e5dc6fe5"
      },
      "source": [
        "from google.colab import drive\n",
        "drive.mount ('/content/drive')"
      ],
      "execution_count": 1,
      "outputs": [
        {
          "output_type": "stream",
          "text": [
            "Mounted at /content/drive\n"
          ],
          "name": "stdout"
        }
      ]
    },
    {
      "cell_type": "code",
      "metadata": {
        "id": "lsj05YMPn-lr"
      },
      "source": [
        "from google.colab import drive\n",
        "drive.mount('/content/drive')"
      ],
      "execution_count": null,
      "outputs": []
    },
    {
      "cell_type": "code",
      "metadata": {
        "colab": {
          "base_uri": "https://localhost:8080/"
        },
        "id": "a-fcnisifZPv",
        "outputId": "43d9b5df-1920-41f5-efdc-3fde8d85bb46"
      },
      "source": [
        "cd '/content/drive/MyDrive/New Masks Dataset'"
      ],
      "execution_count": 2,
      "outputs": [
        {
          "output_type": "stream",
          "text": [
            "/content/drive/MyDrive/New Masks Dataset\n"
          ],
          "name": "stdout"
        }
      ]
    },
    {
      "cell_type": "code",
      "metadata": {
        "colab": {
          "base_uri": "https://localhost:8080/"
        },
        "id": "dbNh0HyVfrHH",
        "outputId": "b8a8d05a-9df6-482a-b66e-e703cd205c36"
      },
      "source": [
        "ls"
      ],
      "execution_count": 3,
      "outputs": [
        {
          "output_type": "stream",
          "text": [
            "\u001b[0m\u001b[01;34mTest\u001b[0m/  \u001b[01;34mTrain\u001b[0m/  \u001b[01;34mValidation\u001b[0m/\n"
          ],
          "name": "stdout"
        }
      ]
    },
    {
      "cell_type": "code",
      "metadata": {
        "id": "dK2VyC7Ofs2R"
      },
      "source": [
        "import os\n",
        "path = '/content/drive/MyDrive/New Masks Dataset'\n",
        "# Membuat Label pada gambar berdasarkan klasifikasi\n",
        "file_name = []\n",
        "tag = []\n",
        "full_path = []\n",
        "for path, subdirs, files in os.walk(path):\n",
        "  for name in files:\n",
        "    full_path.append(os.path.join(path, name))\n",
        "    tag.append(path.split('/')[-1])\n",
        "    file_name.append(name)"
      ],
      "execution_count": 8,
      "outputs": []
    },
    {
      "cell_type": "code",
      "metadata": {
        "id": "ruenuEcOoHo6",
        "outputId": "f158b471-4733-4a99-bb36-e773b00eed05",
        "colab": {
          "base_uri": "https://localhost:8080/"
        }
      },
      "source": [
        "print(tag)"
      ],
      "execution_count": 9,
      "outputs": [
        {
          "output_type": "stream",
          "text": [
            "['Mask', 'Mask', 'Mask', 'Mask', 'Mask', 'Mask', 'Mask', 'Mask', 'Mask', 'Mask', 'Mask', 'Mask', 'Mask', 'Mask', 'Mask', 'Mask', 'Mask', 'Mask', 'Mask', 'Mask', 'Mask', 'Mask', 'Mask', 'Mask', 'Mask', 'Mask', 'Mask', 'Mask', 'Mask', 'Mask', 'Mask', 'Mask', 'Mask', 'Mask', 'Mask', 'Mask', 'Mask', 'Mask', 'Mask', 'Mask', 'Mask', 'Mask', 'Mask', 'Mask', 'Mask', 'Mask', 'Mask', 'Mask', 'Mask', 'Mask', 'Non Mask', 'Non Mask', 'Non Mask', 'Non Mask', 'Non Mask', 'Non Mask', 'Non Mask', 'Non Mask', 'Non Mask', 'Non Mask', 'Non Mask', 'Non Mask', 'Non Mask', 'Non Mask', 'Non Mask', 'Non Mask', 'Non Mask', 'Non Mask', 'Non Mask', 'Non Mask', 'Non Mask', 'Non Mask', 'Non Mask', 'Non Mask', 'Non Mask', 'Non Mask', 'Non Mask', 'Non Mask', 'Non Mask', 'Non Mask', 'Non Mask', 'Non Mask', 'Non Mask', 'Non Mask', 'Non Mask', 'Non Mask', 'Non Mask', 'Non Mask', 'Non Mask', 'Non Mask', 'Non Mask', 'Non Mask', 'Non Mask', 'Non Mask', 'Non Mask', 'Non Mask', 'Non Mask', 'Non Mask', 'Non Mask', 'Non Mask', 'Mask', 'Mask', 'Mask', 'Mask', 'Mask', 'Mask', 'Mask', 'Mask', 'Mask', 'Mask', 'Mask', 'Mask', 'Mask', 'Mask', 'Mask', 'Mask', 'Mask', 'Mask', 'Mask', 'Mask', 'Mask', 'Mask', 'Mask', 'Mask', 'Mask', 'Mask', 'Mask', 'Mask', 'Mask', 'Mask', 'Mask', 'Mask', 'Mask', 'Mask', 'Mask', 'Mask', 'Mask', 'Mask', 'Mask', 'Mask', 'Mask', 'Mask', 'Mask', 'Mask', 'Mask', 'Mask', 'Mask', 'Mask', 'Mask', 'Mask', 'Mask', 'Mask', 'Mask', 'Mask', 'Mask', 'Mask', 'Mask', 'Mask', 'Mask', 'Mask', 'Mask', 'Mask', 'Mask', 'Mask', 'Mask', 'Mask', 'Mask', 'Mask', 'Mask', 'Mask', 'Mask', 'Mask', 'Mask', 'Mask', 'Mask', 'Mask', 'Mask', 'Mask', 'Mask', 'Mask', 'Mask', 'Mask', 'Mask', 'Mask', 'Mask', 'Mask', 'Mask', 'Mask', 'Mask', 'Mask', 'Mask', 'Mask', 'Mask', 'Mask', 'Mask', 'Mask', 'Mask', 'Mask', 'Mask', 'Mask', 'Mask', 'Mask', 'Mask', 'Mask', 'Mask', 'Mask', 'Mask', 'Mask', 'Mask', 'Mask', 'Mask', 'Mask', 'Mask', 'Mask', 'Mask', 'Mask', 'Mask', 'Mask', 'Mask', 'Mask', 'Mask', 'Mask', 'Mask', 'Mask', 'Mask', 'Mask', 'Mask', 'Mask', 'Mask', 'Mask', 'Mask', 'Mask', 'Mask', 'Mask', 'Mask', 'Mask', 'Mask', 'Mask', 'Mask', 'Mask', 'Mask', 'Mask', 'Mask', 'Mask', 'Mask', 'Mask', 'Mask', 'Mask', 'Mask', 'Mask', 'Mask', 'Mask', 'Mask', 'Mask', 'Non Mask', 'Non Mask', 'Non Mask', 'Non Mask', 'Non Mask', 'Non Mask', 'Non Mask', 'Non Mask', 'Non Mask', 'Non Mask', 'Non Mask', 'Non Mask', 'Non Mask', 'Non Mask', 'Non Mask', 'Non Mask', 'Non Mask', 'Non Mask', 'Non Mask', 'Non Mask', 'Non Mask', 'Non Mask', 'Non Mask', 'Non Mask', 'Non Mask', 'Non Mask', 'Non Mask', 'Non Mask', 'Non Mask', 'Non Mask', 'Non Mask', 'Non Mask', 'Non Mask', 'Non Mask', 'Non Mask', 'Non Mask', 'Non Mask', 'Non Mask', 'Non Mask', 'Non Mask', 'Non Mask', 'Non Mask', 'Non Mask', 'Non Mask', 'Non Mask', 'Non Mask', 'Non Mask', 'Non Mask', 'Non Mask', 'Non Mask', 'Non Mask', 'Non Mask', 'Non Mask', 'Non Mask', 'Non Mask', 'Non Mask', 'Non Mask', 'Non Mask', 'Non Mask', 'Non Mask', 'Non Mask', 'Non Mask', 'Non Mask', 'Non Mask', 'Non Mask', 'Non Mask', 'Non Mask', 'Non Mask', 'Non Mask', 'Non Mask', 'Non Mask', 'Non Mask', 'Non Mask', 'Non Mask', 'Non Mask', 'Non Mask', 'Non Mask', 'Non Mask', 'Non Mask', 'Non Mask', 'Non Mask', 'Non Mask', 'Non Mask', 'Non Mask', 'Non Mask', 'Non Mask', 'Non Mask', 'Non Mask', 'Non Mask', 'Non Mask', 'Non Mask', 'Non Mask', 'Non Mask', 'Non Mask', 'Non Mask', 'Non Mask', 'Non Mask', 'Non Mask', 'Non Mask', 'Non Mask', 'Non Mask', 'Non Mask', 'Non Mask', 'Non Mask', 'Non Mask', 'Non Mask', 'Non Mask', 'Non Mask', 'Non Mask', 'Non Mask', 'Non Mask', 'Non Mask', 'Non Mask', 'Non Mask', 'Non Mask', 'Non Mask', 'Non Mask', 'Non Mask', 'Non Mask', 'Non Mask', 'Non Mask', 'Non Mask', 'Non Mask', 'Non Mask', 'Non Mask', 'Non Mask', 'Non Mask', 'Non Mask', 'Non Mask', 'Non Mask', 'Non Mask', 'Non Mask', 'Non Mask', 'Non Mask', 'Non Mask', 'Non Mask', 'Non Mask', 'Non Mask', 'Non Mask', 'Non Mask', 'Non Mask', 'Non Mask', 'Non Mask', 'Non Mask', 'Non Mask', 'Non Mask', 'Non Mask', 'Non Mask', 'Non Mask', 'Non Mask', 'Non Mask', 'Non Mask', 'Non Mask', 'Non Mask', 'Non Mask', 'Non Mask', 'Non Mask', 'Non Mask', 'Non Mask', 'Non Mask', 'Non Mask', 'Non Mask', 'Mask', 'Mask', 'Mask', 'Mask', 'Mask', 'Mask', 'Mask', 'Mask', 'Mask', 'Mask', 'Mask', 'Mask', 'Mask', 'Mask', 'Mask', 'Mask', 'Mask', 'Mask', 'Mask', 'Mask', 'Mask', 'Mask', 'Mask', 'Mask', 'Mask', 'Mask', 'Mask', 'Mask', 'Mask', 'Mask', 'Mask', 'Mask', 'Mask', 'Mask', 'Mask', 'Mask', 'Mask', 'Mask', 'Mask', 'Mask', 'Mask', 'Mask', 'Mask', 'Mask', 'Mask', 'Mask', 'Mask', 'Mask', 'Mask', 'Mask', 'Mask', 'Mask', 'Mask', 'Mask', 'Mask', 'Mask', 'Mask', 'Mask', 'Mask', 'Mask', 'Mask', 'Mask', 'Mask', 'Mask', 'Mask', 'Mask', 'Mask', 'Mask', 'Mask', 'Mask', 'Mask', 'Mask', 'Mask', 'Mask', 'Mask', 'Mask', 'Mask', 'Mask', 'Mask', 'Mask', 'Mask', 'Mask', 'Mask', 'Mask', 'Mask', 'Mask', 'Mask', 'Mask', 'Mask', 'Mask', 'Mask', 'Mask', 'Mask', 'Mask', 'Mask', 'Mask', 'Mask', 'Mask', 'Mask', 'Mask', 'Mask', 'Mask', 'Mask', 'Mask', 'Mask', 'Mask', 'Mask', 'Mask', 'Mask', 'Mask', 'Mask', 'Mask', 'Mask', 'Mask', 'Mask', 'Mask', 'Mask', 'Mask', 'Mask', 'Mask', 'Mask', 'Mask', 'Mask', 'Mask', 'Mask', 'Mask', 'Mask', 'Mask', 'Mask', 'Mask', 'Mask', 'Mask', 'Mask', 'Mask', 'Mask', 'Mask', 'Mask', 'Mask', 'Mask', 'Mask', 'Mask', 'Mask', 'Mask', 'Mask', 'Mask', 'Mask', 'Mask', 'Mask', 'Mask', 'Mask', 'Mask', 'Mask', 'Mask', 'Mask', 'Mask', 'Mask', 'Mask', 'Mask', 'Mask', 'Mask', 'Mask', 'Mask', 'Mask', 'Mask', 'Mask', 'Mask', 'Mask', 'Mask', 'Mask', 'Mask', 'Mask', 'Mask', 'Mask', 'Mask', 'Mask', 'Mask', 'Mask', 'Mask', 'Mask', 'Mask', 'Mask', 'Mask', 'Mask', 'Mask', 'Mask', 'Mask', 'Mask', 'Mask', 'Mask', 'Mask', 'Mask', 'Mask', 'Mask', 'Mask', 'Mask', 'Mask', 'Mask', 'Mask', 'Mask', 'Mask', 'Mask', 'Mask', 'Mask', 'Mask', 'Mask', 'Mask', 'Mask', 'Mask', 'Mask', 'Mask', 'Mask', 'Mask', 'Mask', 'Mask', 'Mask', 'Mask', 'Mask', 'Mask', 'Mask', 'Mask', 'Mask', 'Mask', 'Mask', 'Mask', 'Mask', 'Mask', 'Mask', 'Mask', 'Mask', 'Mask', 'Mask', 'Mask', 'Mask', 'Mask', 'Mask', 'Mask', 'Mask', 'Mask', 'Mask', 'Mask', 'Mask', 'Mask', 'Mask', 'Mask', 'Mask', 'Mask', 'Mask', 'Mask', 'Mask', 'Mask', 'Mask', 'Mask', 'Mask', 'Mask', 'Mask', 'Mask', 'Mask', 'Mask', 'Mask', 'Mask', 'Mask', 'Mask', 'Mask', 'Mask', 'Mask', 'Mask', 'Mask', 'Mask', 'Mask', 'Mask', 'Mask', 'Mask', 'Mask', 'Mask', 'Mask', 'Mask', 'Mask', 'Mask', 'Mask', 'Mask', 'Mask', 'Mask', 'Mask', 'Mask', 'Mask', 'Mask', 'Mask', 'Mask', 'Mask', 'Mask', 'Mask', 'Mask', 'Mask', 'Mask', 'Mask', 'Mask', 'Mask', 'Mask', 'Mask', 'Mask', 'Mask', 'Mask', 'Mask', 'Mask', 'Mask', 'Mask', 'Mask', 'Mask', 'Mask', 'Non Mask', 'Non Mask', 'Non Mask', 'Non Mask', 'Non Mask', 'Non Mask', 'Non Mask', 'Non Mask', 'Non Mask', 'Non Mask', 'Non Mask', 'Non Mask', 'Non Mask', 'Non Mask', 'Non Mask', 'Non Mask', 'Non Mask', 'Non Mask', 'Non Mask', 'Non Mask', 'Non Mask', 'Non Mask', 'Non Mask', 'Non Mask', 'Non Mask', 'Non Mask', 'Non Mask', 'Non Mask', 'Non Mask', 'Non Mask', 'Non Mask', 'Non Mask', 'Non Mask', 'Non Mask', 'Non Mask', 'Non Mask', 'Non Mask', 'Non Mask', 'Non Mask', 'Non Mask', 'Non Mask', 'Non Mask', 'Non Mask', 'Non Mask', 'Non Mask', 'Non Mask', 'Non Mask', 'Non Mask', 'Non Mask', 'Non Mask', 'Non Mask', 'Non Mask', 'Non Mask', 'Non Mask', 'Non Mask', 'Non Mask', 'Non Mask', 'Non Mask', 'Non Mask', 'Non Mask', 'Non Mask', 'Non Mask', 'Non Mask', 'Non Mask', 'Non Mask', 'Non Mask', 'Non Mask', 'Non Mask', 'Non Mask', 'Non Mask', 'Non Mask', 'Non Mask', 'Non Mask', 'Non Mask', 'Non Mask', 'Non Mask', 'Non Mask', 'Non Mask', 'Non Mask', 'Non Mask', 'Non Mask', 'Non Mask', 'Non Mask', 'Non Mask', 'Non Mask', 'Non Mask', 'Non Mask', 'Non Mask', 'Non Mask', 'Non Mask', 'Non Mask', 'Non Mask', 'Non Mask', 'Non Mask', 'Non Mask', 'Non Mask', 'Non Mask', 'Non Mask', 'Non Mask', 'Non Mask', 'Non Mask', 'Non Mask', 'Non Mask', 'Non Mask', 'Non Mask', 'Non Mask', 'Non Mask', 'Non Mask', 'Non Mask', 'Non Mask', 'Non Mask', 'Non Mask', 'Non Mask', 'Non Mask', 'Non Mask', 'Non Mask', 'Non Mask', 'Non Mask', 'Non Mask', 'Non Mask', 'Non Mask', 'Non Mask', 'Non Mask', 'Non Mask', 'Non Mask', 'Non Mask', 'Non Mask', 'Non Mask', 'Non Mask', 'Non Mask', 'Non Mask', 'Non Mask', 'Non Mask', 'Non Mask', 'Non Mask', 'Non Mask', 'Non Mask', 'Non Mask', 'Non Mask', 'Non Mask', 'Non Mask', 'Non Mask', 'Non Mask', 'Non Mask', 'Non Mask', 'Non Mask', 'Non Mask', 'Non Mask', 'Non Mask', 'Non Mask', 'Non Mask', 'Non Mask', 'Non Mask', 'Non Mask', 'Non Mask', 'Non Mask', 'Non Mask', 'Non Mask', 'Non Mask', 'Non Mask', 'Non Mask', 'Non Mask', 'Non Mask', 'Non Mask', 'Non Mask', 'Non Mask', 'Non Mask', 'Non Mask', 'Non Mask', 'Non Mask', 'Non Mask', 'Non Mask', 'Non Mask', 'Non Mask', 'Non Mask', 'Non Mask', 'Non Mask', 'Non Mask', 'Non Mask', 'Non Mask', 'Non Mask', 'Non Mask', 'Non Mask', 'Non Mask', 'Non Mask', 'Non Mask', 'Non Mask', 'Non Mask', 'Non Mask', 'Non Mask', 'Non Mask', 'Non Mask', 'Non Mask', 'Non Mask', 'Non Mask', 'Non Mask', 'Non Mask', 'Non Mask', 'Non Mask', 'Non Mask', 'Non Mask', 'Non Mask', 'Non Mask', 'Non Mask', 'Non Mask', 'Non Mask', 'Non Mask', 'Non Mask', 'Non Mask', 'Non Mask', 'Non Mask', 'Non Mask', 'Non Mask', 'Non Mask', 'Non Mask', 'Non Mask', 'Non Mask', 'Non Mask', 'Non Mask', 'Non Mask', 'Non Mask', 'Non Mask', 'Non Mask', 'Non Mask', 'Non Mask', 'Non Mask', 'Non Mask', 'Non Mask', 'Non Mask', 'Non Mask', 'Non Mask', 'Non Mask', 'Non Mask', 'Non Mask', 'Non Mask', 'Non Mask', 'Non Mask', 'Non Mask', 'Non Mask', 'Non Mask', 'Non Mask', 'Non Mask', 'Non Mask', 'Non Mask', 'Non Mask', 'Non Mask', 'Non Mask', 'Non Mask', 'Non Mask', 'Non Mask', 'Non Mask', 'Non Mask', 'Non Mask', 'Non Mask', 'Non Mask', 'Non Mask', 'Non Mask', 'Non Mask', 'Non Mask', 'Non Mask', 'Non Mask', 'Non Mask', 'Non Mask', 'Non Mask', 'Non Mask', 'Non Mask', 'Non Mask', 'Non Mask', 'Non Mask', 'Non Mask', 'Non Mask', 'Non Mask', 'Non Mask', 'Non Mask', 'Non Mask', 'Non Mask', 'Non Mask', 'Non Mask', 'Non Mask', 'Non Mask', 'Non Mask', 'Non Mask', 'Non Mask', 'Non Mask', 'Non Mask', 'Non Mask', 'Non Mask', 'Non Mask', 'Non Mask', 'Non Mask', 'Non Mask', 'Non Mask', 'Non Mask', 'Non Mask', 'Non Mask', 'Non Mask', 'Non Mask', 'Non Mask', 'Non Mask', 'Non Mask']\n"
          ],
          "name": "stdout"
        }
      ]
    },
    {
      "cell_type": "code",
      "metadata": {
        "colab": {
          "base_uri": "https://localhost:8080/"
        },
        "id": "75J5E96LfuxS",
        "outputId": "31975df0-a998-4d39-f74e-f53c8a7bab32"
      },
      "source": [
        "# Membuat dataframe berdasarkan hasil klasifikasi data yang sudah diberi label\n",
        "import pandas as pd\n",
        "\n",
        "df = pd.DataFrame({\"path\":full_path, \"file_name\": file_name, \"tag\":tag})\n",
        "df.groupby(['tag']).size()"
      ],
      "execution_count": 10,
      "outputs": [
        {
          "output_type": "execute_result",
          "data": {
            "text/plain": [
              "tag\n",
              "Mask        513\n",
              "Non Mask    512\n",
              "dtype: int64"
            ]
          },
          "metadata": {
            "tags": []
          },
          "execution_count": 10
        }
      ]
    },
    {
      "cell_type": "code",
      "metadata": {
        "colab": {
          "base_uri": "https://localhost:8080/",
          "height": 424
        },
        "id": "IZY8LIE1fw5r",
        "outputId": "bf06a437-a2c2-4d70-c73b-30fd43e36976"
      },
      "source": [
        "# cek data yang sudah diberi label\n",
        "df"
      ],
      "execution_count": 11,
      "outputs": [
        {
          "output_type": "execute_result",
          "data": {
            "text/html": [
              "<div>\n",
              "<style scoped>\n",
              "    .dataframe tbody tr th:only-of-type {\n",
              "        vertical-align: middle;\n",
              "    }\n",
              "\n",
              "    .dataframe tbody tr th {\n",
              "        vertical-align: top;\n",
              "    }\n",
              "\n",
              "    .dataframe thead th {\n",
              "        text-align: right;\n",
              "    }\n",
              "</style>\n",
              "<table border=\"1\" class=\"dataframe\">\n",
              "  <thead>\n",
              "    <tr style=\"text-align: right;\">\n",
              "      <th></th>\n",
              "      <th>path</th>\n",
              "      <th>file_name</th>\n",
              "      <th>tag</th>\n",
              "    </tr>\n",
              "  </thead>\n",
              "  <tbody>\n",
              "    <tr>\n",
              "      <th>0</th>\n",
              "      <td>/content/drive/MyDrive/New Masks Dataset/Test/...</td>\n",
              "      <td>2086.jpg</td>\n",
              "      <td>Mask</td>\n",
              "    </tr>\n",
              "    <tr>\n",
              "      <th>1</th>\n",
              "      <td>/content/drive/MyDrive/New Masks Dataset/Test/...</td>\n",
              "      <td>2085.jpg</td>\n",
              "      <td>Mask</td>\n",
              "    </tr>\n",
              "    <tr>\n",
              "      <th>2</th>\n",
              "      <td>/content/drive/MyDrive/New Masks Dataset/Test/...</td>\n",
              "      <td>2072.jpg</td>\n",
              "      <td>Mask</td>\n",
              "    </tr>\n",
              "    <tr>\n",
              "      <th>3</th>\n",
              "      <td>/content/drive/MyDrive/New Masks Dataset/Test/...</td>\n",
              "      <td>2070.jpg</td>\n",
              "      <td>Mask</td>\n",
              "    </tr>\n",
              "    <tr>\n",
              "      <th>4</th>\n",
              "      <td>/content/drive/MyDrive/New Masks Dataset/Test/...</td>\n",
              "      <td>2083.jpg</td>\n",
              "      <td>Mask</td>\n",
              "    </tr>\n",
              "    <tr>\n",
              "      <th>...</th>\n",
              "      <td>...</td>\n",
              "      <td>...</td>\n",
              "      <td>...</td>\n",
              "    </tr>\n",
              "    <tr>\n",
              "      <th>1020</th>\n",
              "      <td>/content/drive/MyDrive/New Masks Dataset/Train...</td>\n",
              "      <td>32.jpg</td>\n",
              "      <td>Non Mask</td>\n",
              "    </tr>\n",
              "    <tr>\n",
              "      <th>1021</th>\n",
              "      <td>/content/drive/MyDrive/New Masks Dataset/Train...</td>\n",
              "      <td>6.jpg</td>\n",
              "      <td>Non Mask</td>\n",
              "    </tr>\n",
              "    <tr>\n",
              "      <th>1022</th>\n",
              "      <td>/content/drive/MyDrive/New Masks Dataset/Train...</td>\n",
              "      <td>336.jpg</td>\n",
              "      <td>Non Mask</td>\n",
              "    </tr>\n",
              "    <tr>\n",
              "      <th>1023</th>\n",
              "      <td>/content/drive/MyDrive/New Masks Dataset/Train...</td>\n",
              "      <td>288.jpg</td>\n",
              "      <td>Non Mask</td>\n",
              "    </tr>\n",
              "    <tr>\n",
              "      <th>1024</th>\n",
              "      <td>/content/drive/MyDrive/New Masks Dataset/Train...</td>\n",
              "      <td>247.jpg</td>\n",
              "      <td>Non Mask</td>\n",
              "    </tr>\n",
              "  </tbody>\n",
              "</table>\n",
              "<p>1025 rows × 3 columns</p>\n",
              "</div>"
            ],
            "text/plain": [
              "                                                   path file_name       tag\n",
              "0     /content/drive/MyDrive/New Masks Dataset/Test/...  2086.jpg      Mask\n",
              "1     /content/drive/MyDrive/New Masks Dataset/Test/...  2085.jpg      Mask\n",
              "2     /content/drive/MyDrive/New Masks Dataset/Test/...  2072.jpg      Mask\n",
              "3     /content/drive/MyDrive/New Masks Dataset/Test/...  2070.jpg      Mask\n",
              "4     /content/drive/MyDrive/New Masks Dataset/Test/...  2083.jpg      Mask\n",
              "...                                                 ...       ...       ...\n",
              "1020  /content/drive/MyDrive/New Masks Dataset/Train...    32.jpg  Non Mask\n",
              "1021  /content/drive/MyDrive/New Masks Dataset/Train...     6.jpg  Non Mask\n",
              "1022  /content/drive/MyDrive/New Masks Dataset/Train...   336.jpg  Non Mask\n",
              "1023  /content/drive/MyDrive/New Masks Dataset/Train...   288.jpg  Non Mask\n",
              "1024  /content/drive/MyDrive/New Masks Dataset/Train...   247.jpg  Non Mask\n",
              "\n",
              "[1025 rows x 3 columns]"
            ]
          },
          "metadata": {
            "tags": []
          },
          "execution_count": 11
        }
      ]
    },
    {
      "cell_type": "code",
      "metadata": {
        "id": "ApCy962VfzOS"
      },
      "source": [
        "# Membagi dataset menjadi dua bagian (train dan test)\n",
        "from sklearn.model_selection import train_test_split\n",
        "\n",
        "x = df['path']\n",
        "y = df['tag']\n",
        "\n",
        "x_train, x_test, y_train, y_test = train_test_split(\n",
        "    x,y, test_size= 0.20, random_state=300)\n",
        "x_test, x_val, y_test, y_val = train_test_split(\n",
        "    x_test,y_test, test_size=0.5, random_state=100\n",
        ")"
      ],
      "execution_count": 12,
      "outputs": []
    },
    {
      "cell_type": "code",
      "metadata": {
        "id": "qcY9IrrYf1Wp"
      },
      "source": [
        "# menyatukan kedalam masing-masing dataframe\n",
        "df_test = pd.DataFrame({\n",
        "    'path' : x_test,\n",
        "    'tag' : y_test,\n",
        "    'set' : 'test'\n",
        "})\n",
        "\n",
        "df_train = pd.DataFrame({\n",
        "    'path' : x_train,\n",
        "    'tag' : y_train,\n",
        "    'set' : 'train'\n",
        "})\n",
        "df_val = pd.DataFrame({\n",
        "    'path' : x_val,\n",
        "    'tag' : y_val,\n",
        "    'set' : 'validation'\n",
        "})"
      ],
      "execution_count": 13,
      "outputs": []
    },
    {
      "cell_type": "code",
      "metadata": {
        "colab": {
          "base_uri": "https://localhost:8080/"
        },
        "id": "vUhLDSs3f3rD",
        "outputId": "94947397-44d7-4a05-d0b1-ade21e692903"
      },
      "source": [
        "print('train size', len(df_train))\n",
        "print('test size', len(df_test))\n",
        "print('validation size', len(df_val))"
      ],
      "execution_count": 14,
      "outputs": [
        {
          "output_type": "stream",
          "text": [
            "train size 820\n",
            "test size 102\n",
            "validation size 103\n"
          ],
          "name": "stdout"
        }
      ]
    },
    {
      "cell_type": "code",
      "metadata": {
        "colab": {
          "base_uri": "https://localhost:8080/",
          "height": 415
        },
        "id": "5vDMHSYFf5kO",
        "outputId": "f3760f28-8ab7-4b03-e672-e848cb971f5c"
      },
      "source": [
        "# melihat masing-masing dataset apakah sudah sesuai atau belum\n",
        "df_all = df_train.append([df_test, df_val]).reset_index(drop=1)\n",
        "\n",
        "print('===================================================== \\n')\n",
        "print(df_all.groupby(['set','tag']).size(),'\\n')\n",
        "\n",
        "print('===================================================== \\n')\n",
        "\n",
        "df_all.sample(4)"
      ],
      "execution_count": 15,
      "outputs": [
        {
          "output_type": "stream",
          "text": [
            "===================================================== \n",
            "\n",
            "set         tag     \n",
            "test        Mask         52\n",
            "            Non Mask     50\n",
            "train       Mask        415\n",
            "            Non Mask    405\n",
            "validation  Mask         46\n",
            "            Non Mask     57\n",
            "dtype: int64 \n",
            "\n",
            "===================================================== \n",
            "\n"
          ],
          "name": "stdout"
        },
        {
          "output_type": "execute_result",
          "data": {
            "text/html": [
              "<div>\n",
              "<style scoped>\n",
              "    .dataframe tbody tr th:only-of-type {\n",
              "        vertical-align: middle;\n",
              "    }\n",
              "\n",
              "    .dataframe tbody tr th {\n",
              "        vertical-align: top;\n",
              "    }\n",
              "\n",
              "    .dataframe thead th {\n",
              "        text-align: right;\n",
              "    }\n",
              "</style>\n",
              "<table border=\"1\" class=\"dataframe\">\n",
              "  <thead>\n",
              "    <tr style=\"text-align: right;\">\n",
              "      <th></th>\n",
              "      <th>path</th>\n",
              "      <th>tag</th>\n",
              "      <th>set</th>\n",
              "    </tr>\n",
              "  </thead>\n",
              "  <tbody>\n",
              "    <tr>\n",
              "      <th>138</th>\n",
              "      <td>/content/drive/MyDrive/New Masks Dataset/Train...</td>\n",
              "      <td>Non Mask</td>\n",
              "      <td>train</td>\n",
              "    </tr>\n",
              "    <tr>\n",
              "      <th>254</th>\n",
              "      <td>/content/drive/MyDrive/New Masks Dataset/Train...</td>\n",
              "      <td>Mask</td>\n",
              "      <td>train</td>\n",
              "    </tr>\n",
              "    <tr>\n",
              "      <th>61</th>\n",
              "      <td>/content/drive/MyDrive/New Masks Dataset/Train...</td>\n",
              "      <td>Mask</td>\n",
              "      <td>train</td>\n",
              "    </tr>\n",
              "    <tr>\n",
              "      <th>69</th>\n",
              "      <td>/content/drive/MyDrive/New Masks Dataset/Valid...</td>\n",
              "      <td>Mask</td>\n",
              "      <td>train</td>\n",
              "    </tr>\n",
              "  </tbody>\n",
              "</table>\n",
              "</div>"
            ],
            "text/plain": [
              "                                                  path       tag    set\n",
              "138  /content/drive/MyDrive/New Masks Dataset/Train...  Non Mask  train\n",
              "254  /content/drive/MyDrive/New Masks Dataset/Train...      Mask  train\n",
              "61   /content/drive/MyDrive/New Masks Dataset/Train...      Mask  train\n",
              "69   /content/drive/MyDrive/New Masks Dataset/Valid...      Mask  train"
            ]
          },
          "metadata": {
            "tags": []
          },
          "execution_count": 15
        }
      ]
    },
    {
      "cell_type": "code",
      "metadata": {
        "id": "7Qrk6B0ogDDg"
      },
      "source": [
        "# Memindahkan dataset\n",
        "import shutil\n",
        "from tqdm.notebook import tqdm as tq\n",
        "datasource_path = '/content/drive/MyDrive/New Masks Dataset'\n",
        "dataset_path = '/content/drive/MyDrive/newdataset'"
      ],
      "execution_count": 24,
      "outputs": []
    },
    {
      "cell_type": "code",
      "metadata": {
        "colab": {
          "base_uri": "https://localhost:8080/",
          "height": 67,
          "referenced_widgets": [
            "4efef03b888d486aab0f2518b337b29a",
            "2b8a4052cd1a45c39c702ee83c6b390c",
            "c6141245af1149b4b0a0130773e9c2b0",
            "3aeba10496614668b97e3e7e213687b2",
            "9fb9163aacb94f6ebbe60581700d054c",
            "015776e2ea4c49098849ff54a494fd8a",
            "e301e37c0559449ba7dcef839db84805",
            "e221e040497c4ca4a1adb54ee08bf5b2"
          ]
        },
        "id": "0_F9npMagDoH",
        "outputId": "3abf70f0-c8eb-4892-eca3-cf3bc0afa586"
      },
      "source": [
        "for index, row in tq(df_all.iterrows()):\n",
        "  file_path = row['path']\n",
        "\n",
        "  if os.path.exists(file_path) == False:\n",
        "   file_path = os.path.join(datasource_path, row['tag'], row['image'].split('.')[0])\n",
        "\n",
        "  if os.path.exists(os.path.join(dataset_path, row['set'], row['tag'])) == False:\n",
        "    os.makedirs(os.path.join(dataset_path, row['set'], row['tag']))\n",
        "  \n",
        "  destination_file_name = file_path.split('/')[-1]\n",
        "  file_dest = os.path.join(dataset_path, row['set'], row['tag'], destination_file_name)\n",
        "\n",
        "  if os.path.exists(file_dest) == False:\n",
        "   shutil.copy2(file_path, file_dest)"
      ],
      "execution_count": 25,
      "outputs": [
        {
          "output_type": "display_data",
          "data": {
            "application/vnd.jupyter.widget-view+json": {
              "model_id": "4efef03b888d486aab0f2518b337b29a",
              "version_minor": 0,
              "version_major": 2
            },
            "text/plain": [
              "HBox(children=(FloatProgress(value=1.0, bar_style='info', max=1.0), HTML(value='')))"
            ]
          },
          "metadata": {
            "tags": []
          }
        },
        {
          "output_type": "stream",
          "text": [
            "\n"
          ],
          "name": "stdout"
        }
      ]
    },
    {
      "cell_type": "code",
      "metadata": {
        "id": "WPu8KMHbgFmk"
      },
      "source": [
        "# Define Directory\n",
        "base_dir = '/content/drive/MyDrive/newdataset'\n",
        "train_dir = os.path.join(base_dir, 'train')\n",
        "test_dir = os.path.join(base_dir, 'test')\n",
        "val_dir = os.path.join(base_dir, 'validation')"
      ],
      "execution_count": 26,
      "outputs": []
    },
    {
      "cell_type": "code",
      "metadata": {
        "id": "yZsPfYs1g_0B"
      },
      "source": [
        "#train test split\n",
        "from sklearn.model_selection import train_test_split\n",
        "train_without_mask_dir = os.path.join(train_dir, 'Non Mask')\n",
        "train_with_mask_dir = os.path.join(train_dir, 'Mask')\n",
        "test_without_mask_dir = os.path.join(test_dir, 'Non Mask')\n",
        "test_with_mask_dir = os.path.join(test_dir, 'Mask')\n",
        "val_without_mask_dir = os.path.join(val_dir, 'Non Mask')\n",
        "val_with_mask_dir = os.path.join(val_dir, 'Mask')"
      ],
      "execution_count": 35,
      "outputs": []
    },
    {
      "cell_type": "code",
      "metadata": {
        "id": "DTSpqGgQo78A",
        "outputId": "abf85cba-75f6-49d6-cf3c-32a762ed6958",
        "colab": {
          "base_uri": "https://localhost:8080/"
        }
      },
      "source": [
        "os.listdir(val_dir)"
      ],
      "execution_count": 36,
      "outputs": [
        {
          "output_type": "execute_result",
          "data": {
            "text/plain": [
              "['Non Mask', 'Mask']"
            ]
          },
          "metadata": {
            "tags": []
          },
          "execution_count": 36
        }
      ]
    },
    {
      "cell_type": "code",
      "metadata": {
        "colab": {
          "base_uri": "https://localhost:8080/"
        },
        "id": "yMip6qeQhEUf",
        "outputId": "30d4cd57-c994-4a1f-b84e-9a61285c90f2"
      },
      "source": [
        "import tensorflow as tf\n",
        "from tensorflow.keras.optimizers import RMSprop\n",
        "from tensorflow.keras.preprocessing.image import ImageDataGenerator\n",
        "\n",
        "print(tf.__version__)"
      ],
      "execution_count": 37,
      "outputs": [
        {
          "output_type": "stream",
          "text": [
            "2.4.1\n"
          ],
          "name": "stdout"
        }
      ]
    },
    {
      "cell_type": "code",
      "metadata": {
        "colab": {
          "base_uri": "https://localhost:8080/"
        },
        "id": "qYcy_o5VhVz6",
        "outputId": "789de89e-2d47-4177-ae33-5f05e7711069"
      },
      "source": [
        "#Image Augmentation\n",
        "datagen = ImageDataGenerator(\n",
        "    rescale = 1./255,\n",
        "    rotation_range = 20,\n",
        "    horizontal_flip=True,\n",
        "    shear_range=0.2,\n",
        "    fill_mode='nearest'\n",
        ")\n",
        "\n",
        "train_generator = datagen.flow_from_directory(\n",
        "    train_dir,\n",
        "    target_size = (256, 256),\n",
        "    batch_size = 32,\n",
        "    class_mode = 'binary'\n",
        ")\n",
        "\n",
        "test_generator = datagen.flow_from_directory(\n",
        "    test_dir,\n",
        "    target_size = (256,256),\n",
        "    batch_size = 32,\n",
        "    class_mode = 'binary'\n",
        ")\n",
        "val_generator = datagen.flow_from_directory(\n",
        "    test_dir,\n",
        "    target_size = (256, 256),\n",
        "    batch_size = 32,\n",
        "    class_mode = 'binary'\n",
        ")"
      ],
      "execution_count": 38,
      "outputs": [
        {
          "output_type": "stream",
          "text": [
            "Found 820 images belonging to 2 classes.\n",
            "Found 102 images belonging to 2 classes.\n",
            "Found 102 images belonging to 2 classes.\n"
          ],
          "name": "stdout"
        }
      ]
    },
    {
      "cell_type": "code",
      "metadata": {
        "colab": {
          "base_uri": "https://localhost:8080/"
        },
        "id": "po6vCinIhX8L",
        "outputId": "8e48639f-765f-4710-f628-5b603d294c30"
      },
      "source": [
        "# Membuat Model CNN\n",
        "from tensorflow.keras.models import Sequential\n",
        "from tensorflow.keras.layers import Conv2D, MaxPooling2D, Flatten, Dense, Dropout\n",
        "\n",
        "model_cnn = Sequential()\n",
        "model_cnn.add(Conv2D(16,(3,3), activation= 'relu', padding= 'same', name='conv_1', input_shape=(256,256,3)))\n",
        "model_cnn.add(MaxPooling2D((2,2), name='maxpool_1'))\n",
        "model_cnn.add(Conv2D(32,(3,3),activation='relu', padding='same', name='conv_2'))\n",
        "model_cnn.add(MaxPooling2D((2,2), name='maxpool_2'))\n",
        "model_cnn.add(Conv2D(64,(3,3),activation='relu',padding='same', name='conv_3'))\n",
        "model_cnn.add(MaxPooling2D((2,2), name='maxpool_3'))\n",
        "model_cnn.add(Conv2D(128,(3,3),activation='relu',padding='same' ,name='conv_4'))\n",
        "model_cnn.add(MaxPooling2D((2,2), name='maxpool_4'))\n",
        "model_cnn.add(Conv2D(256,(3,3),activation='relu',padding='same', name='conv_5'))\n",
        "model_cnn.add(MaxPooling2D((2,2), name='maxpool_5'))\n",
        "\n",
        "model_cnn.add(Flatten())\n",
        "model_cnn.add(Dropout(0.5))\n",
        "model_cnn.add(Dense(32, activation='relu', name= 'dense_2'))\n",
        "model_cnn.add(Dense(1, activation='sigmoid', name= 'output'))\n",
        "model_cnn.summary()\n"
      ],
      "execution_count": 39,
      "outputs": [
        {
          "output_type": "stream",
          "text": [
            "Model: \"sequential_1\"\n",
            "_________________________________________________________________\n",
            "Layer (type)                 Output Shape              Param #   \n",
            "=================================================================\n",
            "conv_1 (Conv2D)              (None, 256, 256, 16)      448       \n",
            "_________________________________________________________________\n",
            "maxpool_1 (MaxPooling2D)     (None, 128, 128, 16)      0         \n",
            "_________________________________________________________________\n",
            "conv_2 (Conv2D)              (None, 128, 128, 32)      4640      \n",
            "_________________________________________________________________\n",
            "maxpool_2 (MaxPooling2D)     (None, 64, 64, 32)        0         \n",
            "_________________________________________________________________\n",
            "conv_3 (Conv2D)              (None, 64, 64, 64)        18496     \n",
            "_________________________________________________________________\n",
            "maxpool_3 (MaxPooling2D)     (None, 32, 32, 64)        0         \n",
            "_________________________________________________________________\n",
            "conv_4 (Conv2D)              (None, 32, 32, 128)       73856     \n",
            "_________________________________________________________________\n",
            "maxpool_4 (MaxPooling2D)     (None, 16, 16, 128)       0         \n",
            "_________________________________________________________________\n",
            "conv_5 (Conv2D)              (None, 16, 16, 256)       295168    \n",
            "_________________________________________________________________\n",
            "maxpool_5 (MaxPooling2D)     (None, 8, 8, 256)         0         \n",
            "_________________________________________________________________\n",
            "flatten_1 (Flatten)          (None, 16384)             0         \n",
            "_________________________________________________________________\n",
            "dropout_1 (Dropout)          (None, 16384)             0         \n",
            "_________________________________________________________________\n",
            "dense_2 (Dense)              (None, 32)                524320    \n",
            "_________________________________________________________________\n",
            "output (Dense)               (None, 1)                 33        \n",
            "=================================================================\n",
            "Total params: 916,961\n",
            "Trainable params: 916,961\n",
            "Non-trainable params: 0\n",
            "_________________________________________________________________\n"
          ],
          "name": "stdout"
        }
      ]
    },
    {
      "cell_type": "code",
      "metadata": {
        "colab": {
          "base_uri": "https://localhost:8080/"
        },
        "id": "XqtO6IyfihoZ",
        "outputId": "cfb9d9ea-9dc5-412d-d44e-329a98f41719"
      },
      "source": [
        "print('Compiling Model.......')\n",
        "model_cnn.compile (optimizer='Adam',\n",
        "                   loss='binary_crossentropy',\n",
        "                   metrics=['accuracy'])"
      ],
      "execution_count": 40,
      "outputs": [
        {
          "output_type": "stream",
          "text": [
            "Compiling Model.......\n"
          ],
          "name": "stdout"
        }
      ]
    },
    {
      "cell_type": "code",
      "metadata": {
        "id": "EjClrmS7qt-3"
      },
      "source": [
        "class myCallback(tf.keras.callbacks.Callback):\n",
        "  def on_epoch_end(self, epoch, logs={}):\n",
        "    if(logs.get('accuracy')>0.97):\n",
        "      print('Akurasi mencapai 97%, proses training dihentikan!')\n",
        "      self.model.stop_training = True\n",
        "\n",
        "callbacks = myCallback()"
      ],
      "execution_count": 41,
      "outputs": []
    },
    {
      "cell_type": "code",
      "metadata": {
        "colab": {
          "base_uri": "https://localhost:8080/"
        },
        "id": "pO32jY2tqw1Q",
        "outputId": "352c2f51-ddd1-4844-8fc8-9d3236265e82"
      },
      "source": [
        "history_cnn = model_cnn.fit(\n",
        "    train_generator,\n",
        "    batch_size= 30,\n",
        "    #steps_per_epoch = 20,\n",
        "    epochs = 50,\n",
        "    validation_data = test_generator,\n",
        "    validation_steps = 20,\n",
        "    callbacks = [callbacks]\n",
        ")"
      ],
      "execution_count": 42,
      "outputs": [
        {
          "output_type": "stream",
          "text": [
            "Epoch 1/50\n",
            "26/26 [==============================] - ETA: 0s - loss: 0.6158 - accuracy: 0.5951WARNING:tensorflow:Your input ran out of data; interrupting training. Make sure that your dataset or generator can generate at least `steps_per_epoch * epochs` batches (in this case, 20 batches). You may need to use the repeat() function when building your dataset.\n",
            "26/26 [==============================] - 84s 3s/step - loss: 0.6120 - accuracy: 0.6000 - val_loss: 0.5256 - val_accuracy: 0.7549\n",
            "Epoch 2/50\n",
            "26/26 [==============================] - 77s 3s/step - loss: 0.3437 - accuracy: 0.8616\n",
            "Epoch 3/50\n",
            "26/26 [==============================] - 77s 3s/step - loss: 0.2128 - accuracy: 0.9240\n",
            "Epoch 4/50\n",
            "26/26 [==============================] - 77s 3s/step - loss: 0.2577 - accuracy: 0.9070\n",
            "Epoch 5/50\n",
            "26/26 [==============================] - 77s 3s/step - loss: 0.1772 - accuracy: 0.9335\n",
            "Epoch 6/50\n",
            "26/26 [==============================] - 77s 3s/step - loss: 0.1453 - accuracy: 0.9519\n",
            "Epoch 7/50\n",
            "26/26 [==============================] - 77s 3s/step - loss: 0.1922 - accuracy: 0.9217\n",
            "Epoch 8/50\n",
            "26/26 [==============================] - 77s 3s/step - loss: 0.1880 - accuracy: 0.9386\n",
            "Epoch 9/50\n",
            "26/26 [==============================] - 76s 3s/step - loss: 0.1428 - accuracy: 0.9577\n",
            "Epoch 10/50\n",
            "26/26 [==============================] - 76s 3s/step - loss: 0.1447 - accuracy: 0.9450\n",
            "Epoch 11/50\n",
            "26/26 [==============================] - 76s 3s/step - loss: 0.1484 - accuracy: 0.9390\n",
            "Epoch 12/50\n",
            "26/26 [==============================] - 77s 3s/step - loss: 0.1135 - accuracy: 0.9606\n",
            "Epoch 13/50\n",
            "26/26 [==============================] - 77s 3s/step - loss: 0.1453 - accuracy: 0.9526\n",
            "Epoch 14/50\n",
            "26/26 [==============================] - 76s 3s/step - loss: 0.1583 - accuracy: 0.9437\n",
            "Epoch 15/50\n",
            "26/26 [==============================] - 76s 3s/step - loss: 0.1264 - accuracy: 0.9571\n",
            "Epoch 16/50\n",
            "26/26 [==============================] - 77s 3s/step - loss: 0.1230 - accuracy: 0.9595\n",
            "Epoch 17/50\n",
            "26/26 [==============================] - 76s 3s/step - loss: 0.1703 - accuracy: 0.9365\n",
            "Epoch 18/50\n",
            "26/26 [==============================] - 76s 3s/step - loss: 0.1378 - accuracy: 0.9478\n",
            "Epoch 19/50\n",
            "26/26 [==============================] - 76s 3s/step - loss: 0.1220 - accuracy: 0.9540\n",
            "Epoch 20/50\n",
            "26/26 [==============================] - 76s 3s/step - loss: 0.1069 - accuracy: 0.9582\n",
            "Epoch 21/50\n",
            "26/26 [==============================] - 76s 3s/step - loss: 0.0663 - accuracy: 0.9766\n",
            "Epoch 22/50\n",
            "26/26 [==============================] - 76s 3s/step - loss: 0.0723 - accuracy: 0.9752\n",
            "Epoch 23/50\n",
            "26/26 [==============================] - 76s 3s/step - loss: 0.1024 - accuracy: 0.9630\n",
            "Epoch 24/50\n",
            "26/26 [==============================] - 77s 3s/step - loss: 0.0878 - accuracy: 0.9631\n",
            "Epoch 25/50\n",
            "26/26 [==============================] - 77s 3s/step - loss: 0.0846 - accuracy: 0.9684\n",
            "Epoch 26/50\n",
            "26/26 [==============================] - 76s 3s/step - loss: 0.1057 - accuracy: 0.9526\n",
            "Epoch 27/50\n",
            "26/26 [==============================] - 77s 3s/step - loss: 0.0917 - accuracy: 0.9684\n",
            "Akurasi mencapai 97%, proses training dihentikan!\n"
          ],
          "name": "stdout"
        }
      ]
    },
    {
      "cell_type": "code",
      "metadata": {
        "colab": {
          "base_uri": "https://localhost:8080/",
          "height": 545
        },
        "id": "s7kp9efZtaXn",
        "outputId": "f9c54d27-656b-4b35-f942-d7a6d98e1ee4"
      },
      "source": [
        "import matplotlib.pyplot as plt\n",
        "\n",
        "acc = history_cnn.history['accuracy']\n",
        "#val_acc = history_cnn.history['val_accuracy']\n",
        "loss = history_cnn.history['loss']\n",
        "#val_loss = history_cnn.history['val_loss']\n",
        "\n",
        "epochs = range(len(acc))\n",
        "\n",
        "plt.plot(epochs, acc, 'blue', label='Training accuracy')\n",
        "#plt.plot(epochs, val_acc, 'orange', label='Validation accuracy')\n",
        "plt.title('Training and validation accuracy')\n",
        "plt.legend()\n",
        "plt.figure()\n",
        "\n",
        "plt.plot(epochs, loss, 'blue', label='Training Loss')\n",
        "#plt.plot(epochs, val_loss, 'orange', label='Validation Loss')\n",
        "plt.title('Training and validation loss')\n",
        "plt.legend()\n",
        "\n",
        "plt.show()"
      ],
      "execution_count": 46,
      "outputs": [
        {
          "output_type": "display_data",
          "data": {
            "image/png": "[encoded data removed]",
            "text/plain": [
              "<Figure size 432x288 with 1 Axes>"
            ]
          },
          "metadata": {
            "tags": [],
            "needs_background": "light"
          }
        },
        {
          "output_type": "display_data",
          "data": {
            "image/png": "[encoded data removed]",
            "text/plain": [
              "<Figure size 432x288 with 1 Axes>"
            ]
          },
          "metadata": {
            "tags": [],
            "needs_background": "light"
          }
        }
      ]
    },
    {
      "cell_type": "code",
      "metadata": {
        "colab": {
          "base_uri": "https://localhost:8080/"
        },
        "id": "04H5msEG1GBO",
        "outputId": "5392af3b-7822-4b8c-e790-7d225e08f482"
      },
      "source": [
        "cd'/content/drive/MyDrive/Colab Notebooks'"
      ],
      "execution_count": 47,
      "outputs": [
        {
          "output_type": "stream",
          "text": [
            "/content/drive/MyDrive/Colab Notebooks\n"
          ],
          "name": "stdout"
        }
      ]
    },
    {
      "cell_type": "code",
      "metadata": {
        "id": "17pozkkjl35b"
      },
      "source": [
        "#save model\n",
        "import os"
      ],
      "execution_count": 48,
      "outputs": []
    },
    {
      "cell_type": "code",
      "metadata": {
        "id": "X67brnwVmCcY",
        "colab": {
          "base_uri": "https://localhost:8080/"
        },
        "outputId": "c7ec73ed-6bd0-4ad3-8808-018d1bd0cdfc"
      },
      "source": [
        "MODEL_BASE_PATH = \"Model\"\n",
        "PROJECT_NAME =\"CNN\"\n",
        "SAVE_MODEL_NAME = \"Model_CNN40.h5\"\n",
        "save_model_path = os.path.join(MODEL_BASE_PATH, PROJECT_NAME, SAVE_MODEL_NAME)\n",
        "if os.path.exists(os.path.join(MODEL_BASE_PATH, PROJECT_NAME)) == False:\n",
        "    os.makedirs(os.path.join(MODEL_BASE_PATH, PROJECT_NAME))\n",
        "    \n",
        "print('Saving Model At {}...'.format(save_model_path))\n",
        "model_cnn.save(save_model_path,include_optimizer=False)"
      ],
      "execution_count": 49,
      "outputs": [
        {
          "output_type": "stream",
          "text": [
            "Saving Model At Model/CNN/Model_CNN40.h5...\n"
          ],
          "name": "stdout"
        }
      ]
    },
    {
      "cell_type": "code",
      "metadata": {
        "id": "1yUIEl-eu1Y-"
      },
      "source": [
        ""
      ],
      "execution_count": null,
      "outputs": []
    }
  ]
}