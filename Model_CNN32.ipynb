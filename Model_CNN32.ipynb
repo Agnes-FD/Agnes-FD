{
  "nbformat": 4,
  "nbformat_minor": 0,
  "metadata": {
    "colab": {
      "name": "Untitled0.ipynb",
      "provenance": [],
      "include_colab_link": true
    },
    "kernelspec": {
      "name": "python3",
      "display_name": "Python 3"
    },
    "language_info": {
      "name": "python"
    },
    "widgets": {
      "application/vnd.jupyter.widget-state+json": {
        "b5640b9501a0426a80df60f5642d51ed": {
          "model_module": "@jupyter-widgets/controls",
          "model_name": "HBoxModel",
          "state": {
            "_view_name": "HBoxView",
            "_dom_classes": [],
            "_model_name": "HBoxModel",
            "_view_module": "@jupyter-widgets/controls",
            "_model_module_version": "1.5.0",
            "_view_count": null,
            "_view_module_version": "1.5.0",
            "box_style": "",
            "layout": "IPY_MODEL_7b823392669340e7a0050fb6bc54b9c2",
            "_model_module": "@jupyter-widgets/controls",
            "children": [
              "IPY_MODEL_f346a790b34c494792918e8b2f1dcb8c",
              "IPY_MODEL_40c9864ca8ac46b1b6b742a38079f5d8"
            ]
          }
        },
        "7b823392669340e7a0050fb6bc54b9c2": {
          "model_module": "@jupyter-widgets/base",
          "model_name": "LayoutModel",
          "state": {
            "_view_name": "LayoutView",
            "grid_template_rows": null,
            "right": null,
            "justify_content": null,
            "_view_module": "@jupyter-widgets/base",
            "overflow": null,
            "_model_module_version": "1.2.0",
            "_view_count": null,
            "flex_flow": null,
            "width": null,
            "min_width": null,
            "border": null,
            "align_items": null,
            "bottom": null,
            "_model_module": "@jupyter-widgets/base",
            "top": null,
            "grid_column": null,
            "overflow_y": null,
            "overflow_x": null,
            "grid_auto_flow": null,
            "grid_area": null,
            "grid_template_columns": null,
            "flex": null,
            "_model_name": "LayoutModel",
            "justify_items": null,
            "grid_row": null,
            "max_height": null,
            "align_content": null,
            "visibility": null,
            "align_self": null,
            "height": null,
            "min_height": null,
            "padding": null,
            "grid_auto_rows": null,
            "grid_gap": null,
            "max_width": null,
            "order": null,
            "_view_module_version": "1.2.0",
            "grid_template_areas": null,
            "object_position": null,
            "object_fit": null,
            "grid_auto_columns": null,
            "margin": null,
            "display": null,
            "left": null
          }
        },
        "f346a790b34c494792918e8b2f1dcb8c": {
          "model_module": "@jupyter-widgets/controls",
          "model_name": "FloatProgressModel",
          "state": {
            "_view_name": "ProgressView",
            "style": "IPY_MODEL_6b1708ba9718452799188fd490e02dbf",
            "_dom_classes": [],
            "description": "",
            "_model_name": "FloatProgressModel",
            "bar_style": "success",
            "max": 1,
            "_view_module": "@jupyter-widgets/controls",
            "_model_module_version": "1.5.0",
            "value": 1,
            "_view_count": null,
            "_view_module_version": "1.5.0",
            "orientation": "horizontal",
            "min": 0,
            "description_tooltip": null,
            "_model_module": "@jupyter-widgets/controls",
            "layout": "IPY_MODEL_e5316e78a58c4de19a00cb51b5a03850"
          }
        },
        "40c9864ca8ac46b1b6b742a38079f5d8": {
          "model_module": "@jupyter-widgets/controls",
          "model_name": "HTMLModel",
          "state": {
            "_view_name": "HTMLView",
            "style": "IPY_MODEL_65e2b2989d8941138015a1b4466f833d",
            "_dom_classes": [],
            "description": "",
            "_model_name": "HTMLModel",
            "placeholder": "​",
            "_view_module": "@jupyter-widgets/controls",
            "_model_module_version": "1.5.0",
            "value": " 7583/? [00:33&lt;00:00, 228.15it/s]",
            "_view_count": null,
            "_view_module_version": "1.5.0",
            "description_tooltip": null,
            "_model_module": "@jupyter-widgets/controls",
            "layout": "IPY_MODEL_c728061aae2d4d42bc4f8156c7a67b18"
          }
        },
        "6b1708ba9718452799188fd490e02dbf": {
          "model_module": "@jupyter-widgets/controls",
          "model_name": "ProgressStyleModel",
          "state": {
            "_view_name": "StyleView",
            "_model_name": "ProgressStyleModel",
            "description_width": "initial",
            "_view_module": "@jupyter-widgets/base",
            "_model_module_version": "1.5.0",
            "_view_count": null,
            "_view_module_version": "1.2.0",
            "bar_color": null,
            "_model_module": "@jupyter-widgets/controls"
          }
        },
        "e5316e78a58c4de19a00cb51b5a03850": {
          "model_module": "@jupyter-widgets/base",
          "model_name": "LayoutModel",
          "state": {
            "_view_name": "LayoutView",
            "grid_template_rows": null,
            "right": null,
            "justify_content": null,
            "_view_module": "@jupyter-widgets/base",
            "overflow": null,
            "_model_module_version": "1.2.0",
            "_view_count": null,
            "flex_flow": null,
            "width": null,
            "min_width": null,
            "border": null,
            "align_items": null,
            "bottom": null,
            "_model_module": "@jupyter-widgets/base",
            "top": null,
            "grid_column": null,
            "overflow_y": null,
            "overflow_x": null,
            "grid_auto_flow": null,
            "grid_area": null,
            "grid_template_columns": null,
            "flex": null,
            "_model_name": "LayoutModel",
            "justify_items": null,
            "grid_row": null,
            "max_height": null,
            "align_content": null,
            "visibility": null,
            "align_self": null,
            "height": null,
            "min_height": null,
            "padding": null,
            "grid_auto_rows": null,
            "grid_gap": null,
            "max_width": null,
            "order": null,
            "_view_module_version": "1.2.0",
            "grid_template_areas": null,
            "object_position": null,
            "object_fit": null,
            "grid_auto_columns": null,
            "margin": null,
            "display": null,
            "left": null
          }
        },
        "65e2b2989d8941138015a1b4466f833d": {
          "model_module": "@jupyter-widgets/controls",
          "model_name": "DescriptionStyleModel",
          "state": {
            "_view_name": "StyleView",
            "_model_name": "DescriptionStyleModel",
            "description_width": "",
            "_view_module": "@jupyter-widgets/base",
            "_model_module_version": "1.5.0",
            "_view_count": null,
            "_view_module_version": "1.2.0",
            "_model_module": "@jupyter-widgets/controls"
          }
        },
        "c728061aae2d4d42bc4f8156c7a67b18": {
          "model_module": "@jupyter-widgets/base",
          "model_name": "LayoutModel",
          "state": {
            "_view_name": "LayoutView",
            "grid_template_rows": null,
            "right": null,
            "justify_content": null,
            "_view_module": "@jupyter-widgets/base",
            "overflow": null,
            "_model_module_version": "1.2.0",
            "_view_count": null,
            "flex_flow": null,
            "width": null,
            "min_width": null,
            "border": null,
            "align_items": null,
            "bottom": null,
            "_model_module": "@jupyter-widgets/base",
            "top": null,
            "grid_column": null,
            "overflow_y": null,
            "overflow_x": null,
            "grid_auto_flow": null,
            "grid_area": null,
            "grid_template_columns": null,
            "flex": null,
            "_model_name": "LayoutModel",
            "justify_items": null,
            "grid_row": null,
            "max_height": null,
            "align_content": null,
            "visibility": null,
            "align_self": null,
            "height": null,
            "min_height": null,
            "padding": null,
            "grid_auto_rows": null,
            "grid_gap": null,
            "max_width": null,
            "order": null,
            "_view_module_version": "1.2.0",
            "grid_template_areas": null,
            "object_position": null,
            "object_fit": null,
            "grid_auto_columns": null,
            "margin": null,
            "display": null,
            "left": null
          }
        }
      }
    }
  },
  "cells": [
    {
      "cell_type": "markdown",
      "metadata": {
        "id": "view-in-github",
        "colab_type": "text"
      },
      "source": [
        "<a href=\"https://colab.research.google.com/github/Agnes-FD/Agnes-FD/blob/main/Model_CNN32.ipynb\" target=\"_parent\"><img src=\"https://colab.research.google.com/assets/colab-badge.svg\" alt=\"Open In Colab\"/></a>"
      ]
    },
    {
      "cell_type": "code",
      "metadata": {
        "colab": {
          "base_uri": "https://localhost:8080/"
        },
        "id": "ewd7XJNW4Jym",
        "outputId": "9b585a35-7d77-4f30-af7c-b19df8240961"
      },
      "source": [
        "from google.colab import drive\n",
        "drive.mount ('/content/drive')"
      ],
      "execution_count": 1,
      "outputs": [
        {
          "output_type": "stream",
          "text": [
            "Mounted at /content/drive\n"
          ],
          "name": "stdout"
        }
      ]
    },
    {
      "cell_type": "code",
      "metadata": {
        "colab": {
          "base_uri": "https://localhost:8080/"
        },
        "id": "f_DsN7r44OXT",
        "outputId": "72ceb13f-053d-4919-b548-bb196054fcb3"
      },
      "source": [
        "cd '/content/drive/MyDrive/data'"
      ],
      "execution_count": 4,
      "outputs": [
        {
          "output_type": "stream",
          "text": [
            "/content/drive/MyDrive/data\n"
          ],
          "name": "stdout"
        }
      ]
    },
    {
      "cell_type": "code",
      "metadata": {
        "colab": {
          "base_uri": "https://localhost:8080/"
        },
        "id": "q8KD4MlC4YoL",
        "outputId": "8355e73e-67fc-4c69-f454-edcfbeca9789"
      },
      "source": [
        "ls"
      ],
      "execution_count": 5,
      "outputs": [
        {
          "output_type": "stream",
          "text": [
            "\u001b[0m\u001b[01;34mwith_mask\u001b[0m/  \u001b[01;34mwithout_mask\u001b[0m/\n"
          ],
          "name": "stdout"
        }
      ]
    },
    {
      "cell_type": "code",
      "metadata": {
        "id": "3eWXuAFU4bnW"
      },
      "source": [
        "import os\n",
        "path = '/content/drive/MyDrive/data'\n",
        "# Membuat Label pada gambar berdasarkan klasifikasi\n",
        "file_name = []\n",
        "tag = []\n",
        "full_path = []\n",
        "for path, subdirs, files in os.walk(path):\n",
        "  for name in files:\n",
        "    full_path.append(os.path.join(path, name))\n",
        "    tag.append(path.split('/')[-1])\n",
        "    file_name.append(name)"
      ],
      "execution_count": 6,
      "outputs": []
    },
    {
      "cell_type": "code",
      "metadata": {
        "colab": {
          "base_uri": "https://localhost:8080/"
        },
        "id": "CIfOKXvC4hAX",
        "outputId": "4ef00364-2fcc-4b1c-8fd4-58c41899e518"
      },
      "source": [
        "# Membuat dataframe berdasarkan hasil klasifikasi data yang sudah diberi label\n",
        "import pandas as pd\n",
        "\n",
        "df = pd.DataFrame({\"path\":full_path, \"file_name\": file_name, \"tag\":tag})\n",
        "df.groupby(['tag']).size()"
      ],
      "execution_count": 7,
      "outputs": [
        {
          "output_type": "execute_result",
          "data": {
            "text/plain": [
              "tag\n",
              "with_mask       3725\n",
              "without_mask    3858\n",
              "dtype: int64"
            ]
          },
          "metadata": {
            "tags": []
          },
          "execution_count": 7
        }
      ]
    },
    {
      "cell_type": "code",
      "metadata": {
        "colab": {
          "base_uri": "https://localhost:8080/",
          "height": 424
        },
        "id": "i4nPgQCz4mSj",
        "outputId": "58514d91-1f7d-4b45-b457-d27956cec1cd"
      },
      "source": [
        "# cek data yang sudah diberi label\n",
        "df"
      ],
      "execution_count": 8,
      "outputs": [
        {
          "output_type": "execute_result",
          "data": {
            "text/html": [
              "<div>\n",
              "<style scoped>\n",
              "    .dataframe tbody tr th:only-of-type {\n",
              "        vertical-align: middle;\n",
              "    }\n",
              "\n",
              "    .dataframe tbody tr th {\n",
              "        vertical-align: top;\n",
              "    }\n",
              "\n",
              "    .dataframe thead th {\n",
              "        text-align: right;\n",
              "    }\n",
              "</style>\n",
              "<table border=\"1\" class=\"dataframe\">\n",
              "  <thead>\n",
              "    <tr style=\"text-align: right;\">\n",
              "      <th></th>\n",
              "      <th>path</th>\n",
              "      <th>file_name</th>\n",
              "      <th>tag</th>\n",
              "    </tr>\n",
              "  </thead>\n",
              "  <tbody>\n",
              "    <tr>\n",
              "      <th>0</th>\n",
              "      <td>/content/drive/MyDrive/data/with_mask/with_mas...</td>\n",
              "      <td>with_mask_3409.jpg</td>\n",
              "      <td>with_mask</td>\n",
              "    </tr>\n",
              "    <tr>\n",
              "      <th>1</th>\n",
              "      <td>/content/drive/MyDrive/data/with_mask/with_mas...</td>\n",
              "      <td>with_mask_3435.jpg</td>\n",
              "      <td>with_mask</td>\n",
              "    </tr>\n",
              "    <tr>\n",
              "      <th>2</th>\n",
              "      <td>/content/drive/MyDrive/data/with_mask/with_mas...</td>\n",
              "      <td>with_mask_3402.jpg</td>\n",
              "      <td>with_mask</td>\n",
              "    </tr>\n",
              "    <tr>\n",
              "      <th>3</th>\n",
              "      <td>/content/drive/MyDrive/data/with_mask/with_mas...</td>\n",
              "      <td>with_mask_3494.jpg</td>\n",
              "      <td>with_mask</td>\n",
              "    </tr>\n",
              "    <tr>\n",
              "      <th>4</th>\n",
              "      <td>/content/drive/MyDrive/data/with_mask/with_mas...</td>\n",
              "      <td>with_mask_3499.jpg</td>\n",
              "      <td>with_mask</td>\n",
              "    </tr>\n",
              "    <tr>\n",
              "      <th>...</th>\n",
              "      <td>...</td>\n",
              "      <td>...</td>\n",
              "      <td>...</td>\n",
              "    </tr>\n",
              "    <tr>\n",
              "      <th>7578</th>\n",
              "      <td>/content/drive/MyDrive/data/without_mask/witho...</td>\n",
              "      <td>without_mask_2074.jpg</td>\n",
              "      <td>without_mask</td>\n",
              "    </tr>\n",
              "    <tr>\n",
              "      <th>7579</th>\n",
              "      <td>/content/drive/MyDrive/data/without_mask/witho...</td>\n",
              "      <td>without_mask_2419.jpg</td>\n",
              "      <td>without_mask</td>\n",
              "    </tr>\n",
              "    <tr>\n",
              "      <th>7580</th>\n",
              "      <td>/content/drive/MyDrive/data/without_mask/witho...</td>\n",
              "      <td>without_mask_127.jpg</td>\n",
              "      <td>without_mask</td>\n",
              "    </tr>\n",
              "    <tr>\n",
              "      <th>7581</th>\n",
              "      <td>/content/drive/MyDrive/data/without_mask/witho...</td>\n",
              "      <td>without_mask_1333 (1).jpg</td>\n",
              "      <td>without_mask</td>\n",
              "    </tr>\n",
              "    <tr>\n",
              "      <th>7582</th>\n",
              "      <td>/content/drive/MyDrive/data/without_mask/witho...</td>\n",
              "      <td>without_mask_1363.jpg</td>\n",
              "      <td>without_mask</td>\n",
              "    </tr>\n",
              "  </tbody>\n",
              "</table>\n",
              "<p>7583 rows × 3 columns</p>\n",
              "</div>"
            ],
            "text/plain": [
              "                                                   path  ...           tag\n",
              "0     /content/drive/MyDrive/data/with_mask/with_mas...  ...     with_mask\n",
              "1     /content/drive/MyDrive/data/with_mask/with_mas...  ...     with_mask\n",
              "2     /content/drive/MyDrive/data/with_mask/with_mas...  ...     with_mask\n",
              "3     /content/drive/MyDrive/data/with_mask/with_mas...  ...     with_mask\n",
              "4     /content/drive/MyDrive/data/with_mask/with_mas...  ...     with_mask\n",
              "...                                                 ...  ...           ...\n",
              "7578  /content/drive/MyDrive/data/without_mask/witho...  ...  without_mask\n",
              "7579  /content/drive/MyDrive/data/without_mask/witho...  ...  without_mask\n",
              "7580  /content/drive/MyDrive/data/without_mask/witho...  ...  without_mask\n",
              "7581  /content/drive/MyDrive/data/without_mask/witho...  ...  without_mask\n",
              "7582  /content/drive/MyDrive/data/without_mask/witho...  ...  without_mask\n",
              "\n",
              "[7583 rows x 3 columns]"
            ]
          },
          "metadata": {
            "tags": []
          },
          "execution_count": 8
        }
      ]
    },
    {
      "cell_type": "code",
      "metadata": {
        "id": "QvUhaVtX4p6S"
      },
      "source": [
        "# Membagi dataset menjadi dua bagian (train dan test)\n",
        "from sklearn.model_selection import train_test_split\n",
        "\n",
        "x = df['path']\n",
        "y = df['tag']\n",
        "\n",
        "x_train, x_test, y_train, y_test = train_test_split(\n",
        "    x,y, test_size= 0.20, random_state=300)\n",
        "x_test, x_val, y_test, y_val = train_test_split(\n",
        "    x_test,y_test, test_size=0.5, random_state=100\n",
        ")"
      ],
      "execution_count": 9,
      "outputs": []
    },
    {
      "cell_type": "code",
      "metadata": {
        "id": "K65TbzL64tSH"
      },
      "source": [
        "\n",
        "\n",
        "# menyatukan kedalam masing-masing dataframe\n",
        "df_test = pd.DataFrame({\n",
        "    'path' : x_test,\n",
        "    'tag' : y_test,\n",
        "    'set' : 'test'\n",
        "})\n",
        "\n",
        "df_train = pd.DataFrame({\n",
        "    'path' : x_train,\n",
        "    'tag' : y_train,\n",
        "    'set' : 'train'\n",
        "})\n",
        "df_val = pd.DataFrame({\n",
        "    'path' : x_val,\n",
        "    'tag' : y_val,\n",
        "    'set' : 'validation'\n",
        "})"
      ],
      "execution_count": 10,
      "outputs": []
    },
    {
      "cell_type": "code",
      "metadata": {
        "colab": {
          "base_uri": "https://localhost:8080/"
        },
        "id": "tZtIZII34wVr",
        "outputId": "0cc1eaf7-569a-4cbe-e872-488772db19bc"
      },
      "source": [
        "print('train size', len(df_train))\n",
        "print('test size', len(df_test))\n",
        "print('validation size', len(df_val))"
      ],
      "execution_count": 11,
      "outputs": [
        {
          "output_type": "stream",
          "text": [
            "train size 6066\n",
            "test size 758\n",
            "validation size 759\n"
          ],
          "name": "stdout"
        }
      ]
    },
    {
      "cell_type": "code",
      "metadata": {
        "colab": {
          "base_uri": "https://localhost:8080/",
          "height": 415
        },
        "id": "CExGJ3P34ypM",
        "outputId": "2b4a93ba-edfe-4e26-c2d7-281cbadeacf4"
      },
      "source": [
        "# melihat masing-masing dataset apakah sudah sesuai atau belum\n",
        "df_all = df_train.append([df_test, df_val]).reset_index(drop=1)\n",
        "\n",
        "print('===================================================== \\n')\n",
        "print(df_all.groupby(['set','tag']).size(),'\\n')\n",
        "\n",
        "print('===================================================== \\n')\n",
        "\n",
        "df_all.sample(4)"
      ],
      "execution_count": 12,
      "outputs": [
        {
          "output_type": "stream",
          "text": [
            "===================================================== \n",
            "\n",
            "set         tag         \n",
            "test        with_mask        363\n",
            "            without_mask     395\n",
            "train       with_mask       3001\n",
            "            without_mask    3065\n",
            "validation  with_mask        361\n",
            "            without_mask     398\n",
            "dtype: int64 \n",
            "\n",
            "===================================================== \n",
            "\n"
          ],
          "name": "stdout"
        },
        {
          "output_type": "execute_result",
          "data": {
            "text/html": [
              "<div>\n",
              "<style scoped>\n",
              "    .dataframe tbody tr th:only-of-type {\n",
              "        vertical-align: middle;\n",
              "    }\n",
              "\n",
              "    .dataframe tbody tr th {\n",
              "        vertical-align: top;\n",
              "    }\n",
              "\n",
              "    .dataframe thead th {\n",
              "        text-align: right;\n",
              "    }\n",
              "</style>\n",
              "<table border=\"1\" class=\"dataframe\">\n",
              "  <thead>\n",
              "    <tr style=\"text-align: right;\">\n",
              "      <th></th>\n",
              "      <th>path</th>\n",
              "      <th>tag</th>\n",
              "      <th>set</th>\n",
              "    </tr>\n",
              "  </thead>\n",
              "  <tbody>\n",
              "    <tr>\n",
              "      <th>5803</th>\n",
              "      <td>/content/drive/MyDrive/data/without_mask/witho...</td>\n",
              "      <td>without_mask</td>\n",
              "      <td>train</td>\n",
              "    </tr>\n",
              "    <tr>\n",
              "      <th>5374</th>\n",
              "      <td>/content/drive/MyDrive/data/with_mask/with_mas...</td>\n",
              "      <td>with_mask</td>\n",
              "      <td>train</td>\n",
              "    </tr>\n",
              "    <tr>\n",
              "      <th>631</th>\n",
              "      <td>/content/drive/MyDrive/data/with_mask/with_mas...</td>\n",
              "      <td>with_mask</td>\n",
              "      <td>train</td>\n",
              "    </tr>\n",
              "    <tr>\n",
              "      <th>5736</th>\n",
              "      <td>/content/drive/MyDrive/data/with_mask/with_mas...</td>\n",
              "      <td>with_mask</td>\n",
              "      <td>train</td>\n",
              "    </tr>\n",
              "  </tbody>\n",
              "</table>\n",
              "</div>"
            ],
            "text/plain": [
              "                                                   path           tag    set\n",
              "5803  /content/drive/MyDrive/data/without_mask/witho...  without_mask  train\n",
              "5374  /content/drive/MyDrive/data/with_mask/with_mas...     with_mask  train\n",
              "631   /content/drive/MyDrive/data/with_mask/with_mas...     with_mask  train\n",
              "5736  /content/drive/MyDrive/data/with_mask/with_mas...     with_mask  train"
            ]
          },
          "metadata": {
            "tags": []
          },
          "execution_count": 12
        }
      ]
    },
    {
      "cell_type": "code",
      "metadata": {
        "id": "-InX18yp41Mn"
      },
      "source": [
        "# Memindahkan dataset\n",
        "import shutil\n",
        "from tqdm.notebook import tqdm as tq"
      ],
      "execution_count": 13,
      "outputs": []
    },
    {
      "cell_type": "code",
      "metadata": {
        "id": "P8Kb7cYQ45M7"
      },
      "source": [
        "datasource_path = '/content/drive/MyDrive/data'\n",
        "dataset_path = '/content/drive/MyDrive/dataset'"
      ],
      "execution_count": 14,
      "outputs": []
    },
    {
      "cell_type": "code",
      "metadata": {
        "colab": {
          "base_uri": "https://localhost:8080/",
          "height": 67,
          "referenced_widgets": [
            "b5640b9501a0426a80df60f5642d51ed",
            "7b823392669340e7a0050fb6bc54b9c2",
            "f346a790b34c494792918e8b2f1dcb8c",
            "40c9864ca8ac46b1b6b742a38079f5d8",
            "6b1708ba9718452799188fd490e02dbf",
            "e5316e78a58c4de19a00cb51b5a03850",
            "65e2b2989d8941138015a1b4466f833d",
            "c728061aae2d4d42bc4f8156c7a67b18"
          ]
        },
        "id": "Em-48-pk48sU",
        "outputId": "d0b3231a-116c-4bd4-9635-1b3221630286"
      },
      "source": [
        "for index, row in tq(df_all.iterrows()):\n",
        "  file_path = row['path']\n",
        "\n",
        "  if os.path.exists(file_path) == False:\n",
        "    file_path = os.path.join(datasource_path, row['tag'], row['image'].split('.')[0])\n",
        "\n",
        "  if os.path.exists(os.path.join(dataset_path, row['set'], row['tag'])) == False:\n",
        "    os.makedirs(os.path.join(dataset_path, row['set'], row['tag']))\n",
        "  \n",
        "  destination_file_name = file_path.split('/')[-1]\n",
        "  file_dest = os.path.join(dataset_path, row['set'], row['tag'], destination_file_name)\n",
        "\n",
        "  if os.path.exists(file_dest) == False:\n",
        "    shutil.copy2(file_path, file_dest)"
      ],
      "execution_count": 15,
      "outputs": [
        {
          "output_type": "display_data",
          "data": {
            "application/vnd.jupyter.widget-view+json": {
              "model_id": "b5640b9501a0426a80df60f5642d51ed",
              "version_minor": 0,
              "version_major": 2
            },
            "text/plain": [
              "HBox(children=(FloatProgress(value=1.0, bar_style='info', max=1.0), HTML(value='')))"
            ]
          },
          "metadata": {
            "tags": []
          }
        },
        {
          "output_type": "stream",
          "text": [
            "\n"
          ],
          "name": "stdout"
        }
      ]
    },
    {
      "cell_type": "code",
      "metadata": {
        "id": "87Ddeon94_g1"
      },
      "source": [
        "# Define Directory\n",
        "base_dir = '/content/drive/MyDrive/dataset'\n",
        "train_dir = os.path.join(base_dir, 'train')\n",
        "test_dir = os.path.join(base_dir, 'test')\n",
        "val_dir = os.path.join(base_dir, 'validation')"
      ],
      "execution_count": 16,
      "outputs": []
    },
    {
      "cell_type": "code",
      "metadata": {
        "colab": {
          "base_uri": "https://localhost:8080/"
        },
        "id": "8wh23Dw_BhQB",
        "outputId": "afa4033e-cc44-4a7d-8346-7afc3dd70193"
      },
      "source": [
        "os.listdir(train_dir)\n",
        "os.listdir(test_dir)\n",
        "os.listdir(val_dir)"
      ],
      "execution_count": 17,
      "outputs": [
        {
          "output_type": "execute_result",
          "data": {
            "text/plain": [
              "['with_mask', 'without_mask']"
            ]
          },
          "metadata": {
            "tags": []
          },
          "execution_count": 17
        }
      ]
    },
    {
      "cell_type": "code",
      "metadata": {
        "id": "cYqvmgzoBmw3"
      },
      "source": [
        "#train test split\n",
        "from sklearn.model_selection import train_test_split"
      ],
      "execution_count": 18,
      "outputs": []
    },
    {
      "cell_type": "code",
      "metadata": {
        "id": "8L3YoxVGBph7"
      },
      "source": [
        "train_without_mask_dir = os.path.join(train_dir, 'without_mask')\n",
        "train_with_mask_dir = os.path.join(train_dir, 'with_mask')\n",
        "test_without_mask_dir = os.path.join(test_dir, 'without_mask')\n",
        "test_with_mask_dir = os.path.join(test_dir, 'with_mask')\n",
        "val_without_mask_dir = os.path.join(val_dir, 'without_mask')\n",
        "val_with_mask_dir = os.path.join(val_dir, 'with_mask')"
      ],
      "execution_count": 19,
      "outputs": []
    },
    {
      "cell_type": "code",
      "metadata": {
        "colab": {
          "base_uri": "https://localhost:8080/"
        },
        "id": "z38FYxksBrob",
        "outputId": "048eb0a0-5881-4f8c-d6b2-f4b03f3300c3"
      },
      "source": [
        "\n",
        "import tensorflow as tf\n",
        "from tensorflow.keras.optimizers import RMSprop\n",
        "from tensorflow.keras.preprocessing.image import ImageDataGenerator\n",
        "\n",
        "print(tf.__version__)"
      ],
      "execution_count": 20,
      "outputs": [
        {
          "output_type": "stream",
          "text": [
            "2.4.1\n"
          ],
          "name": "stdout"
        }
      ]
    },
    {
      "cell_type": "code",
      "metadata": {
        "colab": {
          "base_uri": "https://localhost:8080/"
        },
        "id": "l27CgOOsBtlg",
        "outputId": "41a6609d-5538-47f5-8f09-b0d8faffcf1e"
      },
      "source": [
        "datagen = ImageDataGenerator(\n",
        "    rescale = 1./255,\n",
        "    rotation_range = 20,\n",
        "    horizontal_flip=True,\n",
        "    shear_range=0.2,\n",
        "    fill_mode='nearest'\n",
        ")\n",
        "\n",
        "train_generator = datagen.flow_from_directory(\n",
        "    train_dir,\n",
        "    target_size = (256, 256),\n",
        "    batch_size = 32,\n",
        "    class_mode = 'binary'\n",
        ")\n",
        "\n",
        "test_generator = datagen.flow_from_directory(\n",
        "    test_dir,\n",
        "    target_size = (256,256),\n",
        "    batch_size = 32,\n",
        "    class_mode = 'binary'\n",
        ")\n",
        "val_generator = datagen.flow_from_directory(\n",
        "    test_dir,\n",
        "    target_size = (256, 256),\n",
        "    batch_size = 32,\n",
        "    class_mode = 'binary'\n",
        ")"
      ],
      "execution_count": 21,
      "outputs": [
        {
          "output_type": "stream",
          "text": [
            "Found 6066 images belonging to 2 classes.\n",
            "Found 758 images belonging to 2 classes.\n",
            "Found 758 images belonging to 2 classes.\n"
          ],
          "name": "stdout"
        }
      ]
    },
    {
      "cell_type": "code",
      "metadata": {
        "id": "Gr3BqdzYBwDF"
      },
      "source": [
        "# Membuat Model CNN menggunakan Transfer Learning MobileNetV2\n",
        "from tensorflow.keras.applications import MobileNetV2\n",
        "from tensorflow.keras.layers import Input"
      ],
      "execution_count": 22,
      "outputs": []
    },
    {
      "cell_type": "code",
      "metadata": {
        "colab": {
          "base_uri": "https://localhost:8080/"
        },
        "id": "BBju3DZvBye6",
        "outputId": "215288b9-49e0-46ff-9a98-5ff3482560b2"
      },
      "source": [
        "model_cnn = tf.keras.models.Sequential([\n",
        "    tf.keras.layers.Conv2D(32, (3,3), activation='relu', input_shape=(256,256,3)),\n",
        "    tf.keras.layers.MaxPooling2D(2,2),\n",
        "    tf.keras.layers.Conv2D(64, (3,3), activation='relu'),\n",
        "    tf.keras.layers.MaxPooling2D(2,2),\n",
        "    tf.keras.layers.Conv2D(128, (3,3), activation='relu'),\n",
        "    tf.keras.layers.MaxPooling2D(2,2),\n",
        "    tf.keras.layers.Conv2D(256, (3,3), activation='relu'),\n",
        "    tf.keras.layers.MaxPooling2D(2,2),\n",
        "    tf.keras.layers.Conv2D(512, (3,3), activation='relu'),\n",
        "    tf.keras.layers.MaxPooling2D(2,2),\n",
        "    tf.keras.layers.Flatten(),\n",
        "    tf.keras.layers.Dense(256, activation='relu'),\n",
        "    tf.keras.layers.Dropout(0.5),\n",
        "    tf.keras.layers.Dense(32, activation='relu'),\n",
        "    tf.keras.layers.Dropout(0.5),\n",
        "    tf.keras.layers.Dense(1, activation='sigmoid')\n",
        "])\n",
        "\n",
        "model_cnn.summary()"
      ],
      "execution_count": 25,
      "outputs": [
        {
          "output_type": "stream",
          "text": [
            "Model: \"sequential_2\"\n",
            "_________________________________________________________________\n",
            "Layer (type)                 Output Shape              Param #   \n",
            "=================================================================\n",
            "conv2d_9 (Conv2D)            (None, 254, 254, 32)      896       \n",
            "_________________________________________________________________\n",
            "max_pooling2d_9 (MaxPooling2 (None, 127, 127, 32)      0         \n",
            "_________________________________________________________________\n",
            "conv2d_10 (Conv2D)           (None, 125, 125, 64)      18496     \n",
            "_________________________________________________________________\n",
            "max_pooling2d_10 (MaxPooling (None, 62, 62, 64)        0         \n",
            "_________________________________________________________________\n",
            "conv2d_11 (Conv2D)           (None, 60, 60, 128)       73856     \n",
            "_________________________________________________________________\n",
            "max_pooling2d_11 (MaxPooling (None, 30, 30, 128)       0         \n",
            "_________________________________________________________________\n",
            "conv2d_12 (Conv2D)           (None, 28, 28, 256)       295168    \n",
            "_________________________________________________________________\n",
            "max_pooling2d_12 (MaxPooling (None, 14, 14, 256)       0         \n",
            "_________________________________________________________________\n",
            "conv2d_13 (Conv2D)           (None, 12, 12, 512)       1180160   \n",
            "_________________________________________________________________\n",
            "max_pooling2d_13 (MaxPooling (None, 6, 6, 512)         0         \n",
            "_________________________________________________________________\n",
            "flatten_2 (Flatten)          (None, 18432)             0         \n",
            "_________________________________________________________________\n",
            "dense_6 (Dense)              (None, 256)               4718848   \n",
            "_________________________________________________________________\n",
            "dropout_4 (Dropout)          (None, 256)               0         \n",
            "_________________________________________________________________\n",
            "dense_7 (Dense)              (None, 32)                8224      \n",
            "_________________________________________________________________\n",
            "dropout_5 (Dropout)          (None, 32)                0         \n",
            "_________________________________________________________________\n",
            "dense_8 (Dense)              (None, 1)                 33        \n",
            "=================================================================\n",
            "Total params: 6,295,681\n",
            "Trainable params: 6,295,681\n",
            "Non-trainable params: 0\n",
            "_________________________________________________________________\n"
          ],
          "name": "stdout"
        }
      ]
    },
    {
      "cell_type": "code",
      "metadata": {
        "colab": {
          "base_uri": "https://localhost:8080/"
        },
        "id": "1Uk3sYNRB0-6",
        "outputId": "7f6f2b85-a10f-4b3a-e807-54d1b92244d1"
      },
      "source": [
        "print('Compiling Model.......')\n",
        "model_cnn.compile (optimizer='Adam',\n",
        "                   loss='binary_crossentropy',\n",
        "                   metrics=['accuracy'])"
      ],
      "execution_count": 26,
      "outputs": [
        {
          "output_type": "stream",
          "text": [
            "Compiling Model.......\n"
          ],
          "name": "stdout"
        }
      ]
    },
    {
      "cell_type": "code",
      "metadata": {
        "id": "P-9oD9b1B-mi"
      },
      "source": [
        "import tensorflow as tf"
      ],
      "execution_count": 27,
      "outputs": []
    },
    {
      "cell_type": "code",
      "metadata": {
        "colab": {
          "base_uri": "https://localhost:8080/",
          "height": 1000
        },
        "id": "SdAvE8gyCBeJ",
        "outputId": "92354974-5906-4e96-feab-37c638fd0f9b"
      },
      "source": [
        "model_viz = tf.keras.utils.plot_model(model_cnn,\n",
        "                                      to_file='/content/drive/MyDrive/Colab Notebooks/model.png',\n",
        "                                      show_shapes=True,\n",
        "                                      rankdir='TB',\n",
        "                                      expand_nested=True,\n",
        "                                      dpi=55)\n",
        "model_viz"
      ],
      "execution_count": 28,
      "outputs": [
        {
          "output_type": "execute_result",
          "data": {
            "image/png": "[encoded data removed]",
            "text/plain": [
              "<IPython.core.display.Image object>"
            ]
          },
          "metadata": {
            "tags": []
          },
          "execution_count": 28
        }
      ]
    },
    {
      "cell_type": "code",
      "metadata": {
        "id": "4xpdaGBCCDSD"
      },
      "source": [
        "class myCallback(tf.keras.callbacks.Callback):\n",
        "  def on_epoch_end(self, epoch, logs={}):\n",
        "    if(logs.get('accuracy')>0.97):\n",
        "      print('Akurasi mencapai 97%, proses training dihentikan!')\n",
        "      self.model.stop_training = True\n",
        "\n",
        "callbacks = myCallback()"
      ],
      "execution_count": 29,
      "outputs": []
    },
    {
      "cell_type": "code",
      "metadata": {
        "colab": {
          "base_uri": "https://localhost:8080/"
        },
        "id": "fHFqzSS3CFxb",
        "outputId": "799a2eca-3ed5-4c6d-a7ee-54c3cd6b3860"
      },
      "source": [
        "history_cnn = model_cnn.fit(\n",
        "    train_generator,\n",
        "    steps_per_epoch = 50,\n",
        "    epochs = 250,\n",
        "    validation_data = test_generator,\n",
        "    validation_steps = 10,\n",
        "    callbacks = [callbacks]\n",
        ")"
      ],
      "execution_count": 30,
      "outputs": [
        {
          "output_type": "stream",
          "text": [
            "Epoch 1/250\n",
            "50/50 [==============================] - ETA: 0s - loss: 0.6902 - accuracy: 0.5698"
          ],
          "name": "stdout"
        },
        {
          "output_type": "stream",
          "text": [
            "/usr/local/lib/python3.7/dist-packages/PIL/Image.py:960: UserWarning: Palette images with Transparency expressed in bytes should be converted to RGBA images\n",
            "  \"Palette images with Transparency expressed in bytes should be \"\n"
          ],
          "name": "stderr"
        },
        {
          "output_type": "stream",
          "text": [
            "\b\b\b\b\b\b\b\b\b\b\b\b\b\b\b\b\b\b\b\b\b\b\b\b\b\b\b\b\b\b\b\b\b\b\b\b\b\b\b\b\b\b\b\b\b\b\b\b\b\b\b\b\b\b\b\b\b\b\b\b\b\b\b\b\b\b\b\b\b\b\b\b\b\b\b\b\b\b\b\b\b\b\r50/50 [==============================] - 503s 10s/step - loss: 0.6890 - accuracy: 0.5712 - val_loss: 0.5676 - val_accuracy: 0.7781\n",
            "Epoch 2/250\n",
            "50/50 [==============================] - 409s 8s/step - loss: 0.3666 - accuracy: 0.8652 - val_loss: 0.2796 - val_accuracy: 0.8969\n",
            "Epoch 3/250\n",
            "50/50 [==============================] - 325s 6s/step - loss: 0.3420 - accuracy: 0.8714 - val_loss: 0.2812 - val_accuracy: 0.8719\n",
            "Epoch 4/250\n",
            "50/50 [==============================] - 308s 6s/step - loss: 0.3236 - accuracy: 0.8860 - val_loss: 0.2975 - val_accuracy: 0.9000\n",
            "Epoch 5/250\n",
            "50/50 [==============================] - 304s 6s/step - loss: 0.2855 - accuracy: 0.9047 - val_loss: 0.2413 - val_accuracy: 0.9125\n",
            "Epoch 6/250\n",
            "50/50 [==============================] - 303s 6s/step - loss: 0.3150 - accuracy: 0.8988 - val_loss: 0.2446 - val_accuracy: 0.9125\n",
            "Epoch 7/250\n",
            "50/50 [==============================] - 300s 6s/step - loss: 0.2430 - accuracy: 0.9336 - val_loss: 0.2171 - val_accuracy: 0.9250\n",
            "Epoch 8/250\n",
            "50/50 [==============================] - 294s 6s/step - loss: 0.2082 - accuracy: 0.9274 - val_loss: 0.1775 - val_accuracy: 0.9406\n",
            "Epoch 9/250\n",
            "50/50 [==============================] - 291s 6s/step - loss: 0.2508 - accuracy: 0.9090 - val_loss: 0.2168 - val_accuracy: 0.9219\n",
            "Epoch 10/250\n",
            "50/50 [==============================] - 291s 6s/step - loss: 0.1923 - accuracy: 0.9309 - val_loss: 0.1778 - val_accuracy: 0.9219\n",
            "Epoch 11/250\n",
            "50/50 [==============================] - 293s 6s/step - loss: 0.1918 - accuracy: 0.9442 - val_loss: 0.2009 - val_accuracy: 0.9344\n",
            "Epoch 12/250\n",
            "50/50 [==============================] - 291s 6s/step - loss: 0.1978 - accuracy: 0.9348 - val_loss: 0.1554 - val_accuracy: 0.9344\n",
            "Epoch 13/250\n",
            "50/50 [==============================] - 291s 6s/step - loss: 0.1738 - accuracy: 0.9404 - val_loss: 0.1778 - val_accuracy: 0.9219\n",
            "Epoch 14/250\n",
            "50/50 [==============================] - 292s 6s/step - loss: 0.1435 - accuracy: 0.9456 - val_loss: 0.1733 - val_accuracy: 0.9344\n",
            "Epoch 15/250\n",
            "50/50 [==============================] - 292s 6s/step - loss: 0.1688 - accuracy: 0.9370 - val_loss: 0.2060 - val_accuracy: 0.9187\n",
            "Epoch 16/250\n",
            "50/50 [==============================] - 292s 6s/step - loss: 0.1772 - accuracy: 0.9281 - val_loss: 0.1469 - val_accuracy: 0.9500\n",
            "Epoch 17/250\n",
            "50/50 [==============================] - 291s 6s/step - loss: 0.1882 - accuracy: 0.9319 - val_loss: 0.2116 - val_accuracy: 0.9094\n",
            "Epoch 18/250\n",
            "50/50 [==============================] - 289s 6s/step - loss: 0.1702 - accuracy: 0.9447 - val_loss: 0.1648 - val_accuracy: 0.9406\n",
            "Epoch 19/250\n",
            "50/50 [==============================] - 291s 6s/step - loss: 0.1753 - accuracy: 0.9400 - val_loss: 0.2030 - val_accuracy: 0.9312\n",
            "Epoch 20/250\n",
            "50/50 [==============================] - 291s 6s/step - loss: 0.1757 - accuracy: 0.9442 - val_loss: 0.1667 - val_accuracy: 0.9469\n",
            "Epoch 21/250\n",
            "50/50 [==============================] - 290s 6s/step - loss: 0.1853 - accuracy: 0.9436 - val_loss: 0.1616 - val_accuracy: 0.9344\n",
            "Epoch 22/250\n",
            "50/50 [==============================] - 292s 6s/step - loss: 0.1449 - accuracy: 0.9502 - val_loss: 0.1397 - val_accuracy: 0.9469\n",
            "Epoch 23/250\n",
            "50/50 [==============================] - 292s 6s/step - loss: 0.1798 - accuracy: 0.9395 - val_loss: 0.1521 - val_accuracy: 0.9469\n",
            "Epoch 24/250\n",
            "50/50 [==============================] - 289s 6s/step - loss: 0.1351 - accuracy: 0.9563 - val_loss: 0.1592 - val_accuracy: 0.9375\n",
            "Epoch 25/250\n",
            "50/50 [==============================] - 291s 6s/step - loss: 0.1534 - accuracy: 0.9414 - val_loss: 0.1375 - val_accuracy: 0.9469\n",
            "Epoch 26/250\n",
            "50/50 [==============================] - 291s 6s/step - loss: 0.1495 - accuracy: 0.9474 - val_loss: 0.1463 - val_accuracy: 0.9406\n",
            "Epoch 27/250\n",
            "50/50 [==============================] - 290s 6s/step - loss: 0.1476 - accuracy: 0.9473 - val_loss: 0.1230 - val_accuracy: 0.9469\n",
            "Epoch 28/250\n",
            "50/50 [==============================] - 291s 6s/step - loss: 0.1512 - accuracy: 0.9485 - val_loss: 0.1501 - val_accuracy: 0.9594\n",
            "Epoch 29/250\n",
            "50/50 [==============================] - 291s 6s/step - loss: 0.1257 - accuracy: 0.9632 - val_loss: 0.1320 - val_accuracy: 0.9594\n",
            "Epoch 30/250\n",
            "50/50 [==============================] - 290s 6s/step - loss: 0.1542 - accuracy: 0.9461 - val_loss: 0.1101 - val_accuracy: 0.9531\n",
            "Epoch 31/250\n",
            "50/50 [==============================] - 288s 6s/step - loss: 0.1413 - accuracy: 0.9539 - val_loss: 0.1348 - val_accuracy: 0.9469\n",
            "Epoch 32/250\n",
            "50/50 [==============================] - 288s 6s/step - loss: 0.1315 - accuracy: 0.9617 - val_loss: 0.1457 - val_accuracy: 0.9469\n",
            "Epoch 33/250\n",
            "50/50 [==============================] - 290s 6s/step - loss: 0.1311 - accuracy: 0.9523 - val_loss: 0.1292 - val_accuracy: 0.9500\n",
            "Epoch 34/250\n",
            "50/50 [==============================] - 291s 6s/step - loss: 0.1435 - accuracy: 0.9539 - val_loss: 0.1508 - val_accuracy: 0.9469\n",
            "Epoch 35/250\n",
            "50/50 [==============================] - 292s 6s/step - loss: 0.1564 - accuracy: 0.9518 - val_loss: 0.1566 - val_accuracy: 0.9469\n",
            "Epoch 36/250\n",
            "50/50 [==============================] - 289s 6s/step - loss: 0.1443 - accuracy: 0.9517 - val_loss: 0.0873 - val_accuracy: 0.9531\n",
            "Epoch 37/250\n",
            "50/50 [==============================] - 291s 6s/step - loss: 0.1186 - accuracy: 0.9623 - val_loss: 0.1125 - val_accuracy: 0.9531\n",
            "Epoch 38/250\n",
            "50/50 [==============================] - 290s 6s/step - loss: 0.1502 - accuracy: 0.9433 - val_loss: 0.0911 - val_accuracy: 0.9688\n",
            "Epoch 39/250\n",
            "50/50 [==============================] - 290s 6s/step - loss: 0.0996 - accuracy: 0.9656 - val_loss: 0.1396 - val_accuracy: 0.9438\n",
            "Epoch 40/250\n",
            "50/50 [==============================] - 290s 6s/step - loss: 0.1380 - accuracy: 0.9638 - val_loss: 0.1529 - val_accuracy: 0.9500\n",
            "Epoch 41/250\n",
            "50/50 [==============================] - 291s 6s/step - loss: 0.0896 - accuracy: 0.9734 - val_loss: 0.1733 - val_accuracy: 0.9438\n",
            "Epoch 42/250\n",
            "50/50 [==============================] - 290s 6s/step - loss: 0.1227 - accuracy: 0.9654 - val_loss: 0.1529 - val_accuracy: 0.9438\n",
            "Epoch 43/250\n",
            "50/50 [==============================] - 293s 6s/step - loss: 0.1422 - accuracy: 0.9574 - val_loss: 0.1475 - val_accuracy: 0.9469\n",
            "Epoch 44/250\n",
            "50/50 [==============================] - 289s 6s/step - loss: 0.1036 - accuracy: 0.9717 - val_loss: 0.1548 - val_accuracy: 0.9469\n",
            "Epoch 45/250\n",
            "50/50 [==============================] - 292s 6s/step - loss: 0.0994 - accuracy: 0.9697 - val_loss: 0.1882 - val_accuracy: 0.9500\n",
            "Epoch 46/250\n",
            "50/50 [==============================] - 290s 6s/step - loss: 0.1194 - accuracy: 0.9639 - val_loss: 0.1394 - val_accuracy: 0.9500\n",
            "Epoch 47/250\n",
            "50/50 [==============================] - 291s 6s/step - loss: 0.1043 - accuracy: 0.9643 - val_loss: 0.1412 - val_accuracy: 0.9312\n",
            "Epoch 48/250\n",
            "50/50 [==============================] - 291s 6s/step - loss: 0.0952 - accuracy: 0.9674 - val_loss: 0.2516 - val_accuracy: 0.9062\n",
            "Epoch 49/250\n",
            "50/50 [==============================] - 288s 6s/step - loss: 0.1225 - accuracy: 0.9526 - val_loss: 0.1119 - val_accuracy: 0.9688\n",
            "Epoch 50/250\n",
            "50/50 [==============================] - 290s 6s/step - loss: 0.0807 - accuracy: 0.9799 - val_loss: 0.1235 - val_accuracy: 0.9531\n",
            "Akurasi mencapai 97%, proses training dihentikan!\n"
          ],
          "name": "stdout"
        }
      ]
    },
    {
      "cell_type": "code",
      "metadata": {
        "id": "Kh0ZKJUOCIAb"
      },
      "source": [
        "from matplotlib import pyplot as plt"
      ],
      "execution_count": 31,
      "outputs": []
    },
    {
      "cell_type": "code",
      "metadata": {
        "colab": {
          "base_uri": "https://localhost:8080/",
          "height": 545
        },
        "id": "v46TjSrvtpjI",
        "outputId": "2d446ab1-a74d-499c-d90f-35d369c7657c"
      },
      "source": [
        "acc = history_cnn.history['accuracy']\n",
        "val_acc = history_cnn.history['val_accuracy']\n",
        "loss = history_cnn.history['loss']\n",
        "val_loss = history_cnn.history['val_loss']\n",
        "\n",
        "epochs = range(len(acc))\n",
        "\n",
        "plt.plot(epochs, acc, 'blue', label='Training accuracy')\n",
        "plt.plot(epochs, val_acc, 'orange', label='Validation accuracy')\n",
        "plt.title('Training and validation accuracy')\n",
        "plt.legend()\n",
        "plt.figure()\n",
        "\n",
        "plt.plot(epochs, loss, 'blue', label='Training Loss')\n",
        "plt.plot(epochs, val_loss, 'orange', label='Validation Loss')\n",
        "plt.title('Training and validation loss')\n",
        "plt.legend()\n",
        "\n",
        "plt.show()"
      ],
      "execution_count": 32,
      "outputs": [
        {
          "output_type": "display_data",
          "data": {
            "image/png": "[encoded data removed]",
            "text/plain": [
              "<Figure size 432x288 with 1 Axes>"
            ]
          },
          "metadata": {
            "tags": [],
            "needs_background": "light"
          }
        },
        {
          "output_type": "display_data",
          "data": {
            "image/png": "[encoded data removed]",
            "text/plain": [
              "<Figure size 432x288 with 1 Axes>"
            ]
          },
          "metadata": {
            "tags": [],
            "needs_background": "light"
          }
        }
      ]
    },
    {
      "cell_type": "code",
      "metadata": {
        "id": "MrFcViwsMb4F",
        "outputId": "ee44c006-1eca-4e42-cc7a-3e86397effe3",
        "colab": {
          "base_uri": "https://localhost:8080/"
        }
      },
      "source": [
        "cd'/content/drive/MyDrive/Colab Notebooks'"
      ],
      "execution_count": 33,
      "outputs": [
        {
          "output_type": "stream",
          "text": [
            "/content/drive/MyDrive/Colab Notebooks\n"
          ],
          "name": "stdout"
        }
      ]
    },
    {
      "cell_type": "code",
      "metadata": {
        "colab": {
          "base_uri": "https://localhost:8080/"
        },
        "id": "VMwbV3b-t1Pg",
        "outputId": "eece35f7-5ceb-4b71-acd2-2299a7622638"
      },
      "source": [
        "#save model\n",
        "import os\n",
        "MODEL_BASE_PATH = \"Model\"\n",
        "PROJECT_NAME =\"CNN\"\n",
        "SAVE_MODEL_NAME = \"Model_CNN32.h5\"\n",
        "save_model_path = os.path.join(MODEL_BASE_PATH, PROJECT_NAME, SAVE_MODEL_NAME)\n",
        "if os.path.exists(os.path.join(MODEL_BASE_PATH, PROJECT_NAME)) == False:\n",
        "    os.makedirs(os.path.join(MODEL_BASE_PATH, PROJECT_NAME))\n",
        "    \n",
        "print('Saving Model At {}...'.format(save_model_path))\n",
        "model_cnn.save(save_model_path,include_optimizer=False)"
      ],
      "execution_count": 34,
      "outputs": [
        {
          "output_type": "stream",
          "text": [
            "Saving Model At Model/CNN/Model_CNN32.h5...\n"
          ],
          "name": "stdout"
        }
      ]
    },
    {
      "cell_type": "code",
      "metadata": {
        "id": "SzGX9dnpu3Wq"
      },
      "source": [
        ""
      ],
      "execution_count": null,
      "outputs": []
    }
  ]
}