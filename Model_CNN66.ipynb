{
  "nbformat": 4,
  "nbformat_minor": 0,
  "metadata": {
    "colab": {
      "name": "Untitled3.ipynb",
      "provenance": [],
      "include_colab_link": true
    },
    "kernelspec": {
      "name": "python3",
      "display_name": "Python 3"
    },
    "language_info": {
      "name": "python"
    },
    "widgets": {
      "application/vnd.jupyter.widget-state+json": {
        "5a425c9095844133aa9ec91346ad2693": {
          "model_module": "@jupyter-widgets/controls",
          "model_name": "HBoxModel",
          "state": {
            "_view_name": "HBoxView",
            "_dom_classes": [],
            "_model_name": "HBoxModel",
            "_view_module": "@jupyter-widgets/controls",
            "_model_module_version": "1.5.0",
            "_view_count": null,
            "_view_module_version": "1.5.0",
            "box_style": "",
            "layout": "IPY_MODEL_d442b8a63eba48e7b81c033f3750d390",
            "_model_module": "@jupyter-widgets/controls",
            "children": [
              "IPY_MODEL_169ed072491c4ced82c1704aa8698081",
              "IPY_MODEL_0eadf725e7ea479cbb94db39353fac53"
            ]
          }
        },
        "d442b8a63eba48e7b81c033f3750d390": {
          "model_module": "@jupyter-widgets/base",
          "model_name": "LayoutModel",
          "state": {
            "_view_name": "LayoutView",
            "grid_template_rows": null,
            "right": null,
            "justify_content": null,
            "_view_module": "@jupyter-widgets/base",
            "overflow": null,
            "_model_module_version": "1.2.0",
            "_view_count": null,
            "flex_flow": null,
            "width": null,
            "min_width": null,
            "border": null,
            "align_items": null,
            "bottom": null,
            "_model_module": "@jupyter-widgets/base",
            "top": null,
            "grid_column": null,
            "overflow_y": null,
            "overflow_x": null,
            "grid_auto_flow": null,
            "grid_area": null,
            "grid_template_columns": null,
            "flex": null,
            "_model_name": "LayoutModel",
            "justify_items": null,
            "grid_row": null,
            "max_height": null,
            "align_content": null,
            "visibility": null,
            "align_self": null,
            "height": null,
            "min_height": null,
            "padding": null,
            "grid_auto_rows": null,
            "grid_gap": null,
            "max_width": null,
            "order": null,
            "_view_module_version": "1.2.0",
            "grid_template_areas": null,
            "object_position": null,
            "object_fit": null,
            "grid_auto_columns": null,
            "margin": null,
            "display": null,
            "left": null
          }
        },
        "169ed072491c4ced82c1704aa8698081": {
          "model_module": "@jupyter-widgets/controls",
          "model_name": "FloatProgressModel",
          "state": {
            "_view_name": "ProgressView",
            "style": "IPY_MODEL_3805ccb6c0474cd4932f52a37b597cb8",
            "_dom_classes": [],
            "description": "",
            "_model_name": "FloatProgressModel",
            "bar_style": "success",
            "max": 1,
            "_view_module": "@jupyter-widgets/controls",
            "_model_module_version": "1.5.0",
            "value": 1,
            "_view_count": null,
            "_view_module_version": "1.5.0",
            "orientation": "horizontal",
            "min": 0,
            "description_tooltip": null,
            "_model_module": "@jupyter-widgets/controls",
            "layout": "IPY_MODEL_f656e49200d64395864833b2e5891569"
          }
        },
        "0eadf725e7ea479cbb94db39353fac53": {
          "model_module": "@jupyter-widgets/controls",
          "model_name": "HTMLModel",
          "state": {
            "_view_name": "HTMLView",
            "style": "IPY_MODEL_f6c00f60320f4f839499ba3e92dd43e8",
            "_dom_classes": [],
            "description": "",
            "_model_name": "HTMLModel",
            "placeholder": "​",
            "_view_module": "@jupyter-widgets/controls",
            "_model_module_version": "1.5.0",
            "value": " 8211/? [00:29&lt;00:00, 274.74it/s]",
            "_view_count": null,
            "_view_module_version": "1.5.0",
            "description_tooltip": null,
            "_model_module": "@jupyter-widgets/controls",
            "layout": "IPY_MODEL_e79f5eb24e964f51bd9cf3befb103b34"
          }
        },
        "3805ccb6c0474cd4932f52a37b597cb8": {
          "model_module": "@jupyter-widgets/controls",
          "model_name": "ProgressStyleModel",
          "state": {
            "_view_name": "StyleView",
            "_model_name": "ProgressStyleModel",
            "description_width": "initial",
            "_view_module": "@jupyter-widgets/base",
            "_model_module_version": "1.5.0",
            "_view_count": null,
            "_view_module_version": "1.2.0",
            "bar_color": null,
            "_model_module": "@jupyter-widgets/controls"
          }
        },
        "f656e49200d64395864833b2e5891569": {
          "model_module": "@jupyter-widgets/base",
          "model_name": "LayoutModel",
          "state": {
            "_view_name": "LayoutView",
            "grid_template_rows": null,
            "right": null,
            "justify_content": null,
            "_view_module": "@jupyter-widgets/base",
            "overflow": null,
            "_model_module_version": "1.2.0",
            "_view_count": null,
            "flex_flow": null,
            "width": null,
            "min_width": null,
            "border": null,
            "align_items": null,
            "bottom": null,
            "_model_module": "@jupyter-widgets/base",
            "top": null,
            "grid_column": null,
            "overflow_y": null,
            "overflow_x": null,
            "grid_auto_flow": null,
            "grid_area": null,
            "grid_template_columns": null,
            "flex": null,
            "_model_name": "LayoutModel",
            "justify_items": null,
            "grid_row": null,
            "max_height": null,
            "align_content": null,
            "visibility": null,
            "align_self": null,
            "height": null,
            "min_height": null,
            "padding": null,
            "grid_auto_rows": null,
            "grid_gap": null,
            "max_width": null,
            "order": null,
            "_view_module_version": "1.2.0",
            "grid_template_areas": null,
            "object_position": null,
            "object_fit": null,
            "grid_auto_columns": null,
            "margin": null,
            "display": null,
            "left": null
          }
        },
        "f6c00f60320f4f839499ba3e92dd43e8": {
          "model_module": "@jupyter-widgets/controls",
          "model_name": "DescriptionStyleModel",
          "state": {
            "_view_name": "StyleView",
            "_model_name": "DescriptionStyleModel",
            "description_width": "",
            "_view_module": "@jupyter-widgets/base",
            "_model_module_version": "1.5.0",
            "_view_count": null,
            "_view_module_version": "1.2.0",
            "_model_module": "@jupyter-widgets/controls"
          }
        },
        "e79f5eb24e964f51bd9cf3befb103b34": {
          "model_module": "@jupyter-widgets/base",
          "model_name": "LayoutModel",
          "state": {
            "_view_name": "LayoutView",
            "grid_template_rows": null,
            "right": null,
            "justify_content": null,
            "_view_module": "@jupyter-widgets/base",
            "overflow": null,
            "_model_module_version": "1.2.0",
            "_view_count": null,
            "flex_flow": null,
            "width": null,
            "min_width": null,
            "border": null,
            "align_items": null,
            "bottom": null,
            "_model_module": "@jupyter-widgets/base",
            "top": null,
            "grid_column": null,
            "overflow_y": null,
            "overflow_x": null,
            "grid_auto_flow": null,
            "grid_area": null,
            "grid_template_columns": null,
            "flex": null,
            "_model_name": "LayoutModel",
            "justify_items": null,
            "grid_row": null,
            "max_height": null,
            "align_content": null,
            "visibility": null,
            "align_self": null,
            "height": null,
            "min_height": null,
            "padding": null,
            "grid_auto_rows": null,
            "grid_gap": null,
            "max_width": null,
            "order": null,
            "_view_module_version": "1.2.0",
            "grid_template_areas": null,
            "object_position": null,
            "object_fit": null,
            "grid_auto_columns": null,
            "margin": null,
            "display": null,
            "left": null
          }
        }
      }
    },
    "accelerator": "GPU"
  },
  "cells": [
    {
      "cell_type": "markdown",
      "metadata": {
        "id": "view-in-github",
        "colab_type": "text"
      },
      "source": [
        "<a href=\"https://colab.research.google.com/github/Agnes-FD/Agnes-FD/blob/main/Model_CNN66.ipynb\" target=\"_parent\"><img src=\"https://colab.research.google.com/assets/colab-badge.svg\" alt=\"Open In Colab\"/></a>"
      ]
    },
    {
      "cell_type": "code",
      "metadata": {
        "colab": {
          "base_uri": "https://localhost:8080/"
        },
        "id": "lPLzbCvHfQK_",
        "outputId": "aedd419c-40e3-4334-9dbd-7b0ba971e13d"
      },
      "source": [
        "from google.colab import drive\n",
        "drive.mount ('/content/drive')"
      ],
      "execution_count": 1,
      "outputs": [
        {
          "output_type": "stream",
          "text": [
            "Mounted at /content/drive\n"
          ],
          "name": "stdout"
        }
      ]
    },
    {
      "cell_type": "code",
      "metadata": {
        "colab": {
          "base_uri": "https://localhost:8080/"
        },
        "id": "a-fcnisifZPv",
        "outputId": "e2be2916-7317-4cbb-ecc8-a7f589405a63"
      },
      "source": [
        "cd '/content/drive/MyDrive/datanew'"
      ],
      "execution_count": 2,
      "outputs": [
        {
          "output_type": "stream",
          "text": [
            "/content/drive/MyDrive/datanew\n"
          ],
          "name": "stdout"
        }
      ]
    },
    {
      "cell_type": "code",
      "metadata": {
        "colab": {
          "base_uri": "https://localhost:8080/"
        },
        "id": "dbNh0HyVfrHH",
        "outputId": "74cbdffb-cc73-47d1-871e-ad02612a4f04"
      },
      "source": [
        "ls"
      ],
      "execution_count": 3,
      "outputs": [
        {
          "output_type": "stream",
          "text": [
            "\u001b[0m\u001b[01;34mwith_mask\u001b[0m/  \u001b[01;34mwithout_mask\u001b[0m/\n"
          ],
          "name": "stdout"
        }
      ]
    },
    {
      "cell_type": "code",
      "metadata": {
        "id": "dK2VyC7Ofs2R"
      },
      "source": [
        "import os\n",
        "path = '/content/drive/MyDrive/datanew'\n",
        "# Membuat Label pada gambar berdasarkan klasifikasi\n",
        "file_name = []\n",
        "tag = []\n",
        "full_path = []\n",
        "for path, subdirs, files in os.walk(path):\n",
        "  for name in files:\n",
        "    full_path.append(os.path.join(path, name))\n",
        "    tag.append(path.split('/')[-1])\n",
        "    file_name.append(name)"
      ],
      "execution_count": 4,
      "outputs": []
    },
    {
      "cell_type": "code",
      "metadata": {
        "colab": {
          "base_uri": "https://localhost:8080/"
        },
        "id": "75J5E96LfuxS",
        "outputId": "808ecd2c-3040-4084-955c-b088897c3ba4"
      },
      "source": [
        "# Membuat dataframe berdasarkan hasil klasifikasi data yang sudah diberi label\n",
        "import pandas as pd\n",
        "\n",
        "df = pd.DataFrame({\"path\":full_path, \"file_name\": file_name, \"tag\":tag})\n",
        "df.groupby(['tag']).size()"
      ],
      "execution_count": 5,
      "outputs": [
        {
          "output_type": "execute_result",
          "data": {
            "text/plain": [
              "tag\n",
              "with_mask       3725\n",
              "without_mask    4486\n",
              "dtype: int64"
            ]
          },
          "metadata": {
            "tags": []
          },
          "execution_count": 5
        }
      ]
    },
    {
      "cell_type": "code",
      "metadata": {
        "colab": {
          "base_uri": "https://localhost:8080/",
          "height": 424
        },
        "id": "IZY8LIE1fw5r",
        "outputId": "6aa8a4cb-03dd-42bf-a034-f6a12de78396"
      },
      "source": [
        "# cek data yang sudah diberi label\n",
        "df"
      ],
      "execution_count": 6,
      "outputs": [
        {
          "output_type": "execute_result",
          "data": {
            "text/html": [
              "<div>\n",
              "<style scoped>\n",
              "    .dataframe tbody tr th:only-of-type {\n",
              "        vertical-align: middle;\n",
              "    }\n",
              "\n",
              "    .dataframe tbody tr th {\n",
              "        vertical-align: top;\n",
              "    }\n",
              "\n",
              "    .dataframe thead th {\n",
              "        text-align: right;\n",
              "    }\n",
              "</style>\n",
              "<table border=\"1\" class=\"dataframe\">\n",
              "  <thead>\n",
              "    <tr style=\"text-align: right;\">\n",
              "      <th></th>\n",
              "      <th>path</th>\n",
              "      <th>file_name</th>\n",
              "      <th>tag</th>\n",
              "    </tr>\n",
              "  </thead>\n",
              "  <tbody>\n",
              "    <tr>\n",
              "      <th>0</th>\n",
              "      <td>/content/drive/MyDrive/datanew/without_mask/wi...</td>\n",
              "      <td>without_mask_3297.jpg</td>\n",
              "      <td>without_mask</td>\n",
              "    </tr>\n",
              "    <tr>\n",
              "      <th>1</th>\n",
              "      <td>/content/drive/MyDrive/datanew/without_mask/wi...</td>\n",
              "      <td>without_mask_2960.jpg</td>\n",
              "      <td>without_mask</td>\n",
              "    </tr>\n",
              "    <tr>\n",
              "      <th>2</th>\n",
              "      <td>/content/drive/MyDrive/datanew/without_mask/wi...</td>\n",
              "      <td>without_mask_3792.jpg</td>\n",
              "      <td>without_mask</td>\n",
              "    </tr>\n",
              "    <tr>\n",
              "      <th>3</th>\n",
              "      <td>/content/drive/MyDrive/datanew/without_mask/wi...</td>\n",
              "      <td>without_mask_3359.jpg</td>\n",
              "      <td>without_mask</td>\n",
              "    </tr>\n",
              "    <tr>\n",
              "      <th>4</th>\n",
              "      <td>/content/drive/MyDrive/datanew/without_mask/wi...</td>\n",
              "      <td>without_mask_3080.jpg</td>\n",
              "      <td>without_mask</td>\n",
              "    </tr>\n",
              "    <tr>\n",
              "      <th>...</th>\n",
              "      <td>...</td>\n",
              "      <td>...</td>\n",
              "      <td>...</td>\n",
              "    </tr>\n",
              "    <tr>\n",
              "      <th>8206</th>\n",
              "      <td>/content/drive/MyDrive/datanew/with_mask/with_...</td>\n",
              "      <td>with_mask_1683.jpg</td>\n",
              "      <td>with_mask</td>\n",
              "    </tr>\n",
              "    <tr>\n",
              "      <th>8207</th>\n",
              "      <td>/content/drive/MyDrive/datanew/with_mask/with_...</td>\n",
              "      <td>with_mask_139.jpg</td>\n",
              "      <td>with_mask</td>\n",
              "    </tr>\n",
              "    <tr>\n",
              "      <th>8208</th>\n",
              "      <td>/content/drive/MyDrive/datanew/with_mask/with_...</td>\n",
              "      <td>with_mask_1538.jpg</td>\n",
              "      <td>with_mask</td>\n",
              "    </tr>\n",
              "    <tr>\n",
              "      <th>8209</th>\n",
              "      <td>/content/drive/MyDrive/datanew/with_mask/with_...</td>\n",
              "      <td>with_mask_1754.jpg</td>\n",
              "      <td>with_mask</td>\n",
              "    </tr>\n",
              "    <tr>\n",
              "      <th>8210</th>\n",
              "      <td>/content/drive/MyDrive/datanew/with_mask/with_...</td>\n",
              "      <td>with_mask_1710.jpg</td>\n",
              "      <td>with_mask</td>\n",
              "    </tr>\n",
              "  </tbody>\n",
              "</table>\n",
              "<p>8211 rows × 3 columns</p>\n",
              "</div>"
            ],
            "text/plain": [
              "                                                   path  ...           tag\n",
              "0     /content/drive/MyDrive/datanew/without_mask/wi...  ...  without_mask\n",
              "1     /content/drive/MyDrive/datanew/without_mask/wi...  ...  without_mask\n",
              "2     /content/drive/MyDrive/datanew/without_mask/wi...  ...  without_mask\n",
              "3     /content/drive/MyDrive/datanew/without_mask/wi...  ...  without_mask\n",
              "4     /content/drive/MyDrive/datanew/without_mask/wi...  ...  without_mask\n",
              "...                                                 ...  ...           ...\n",
              "8206  /content/drive/MyDrive/datanew/with_mask/with_...  ...     with_mask\n",
              "8207  /content/drive/MyDrive/datanew/with_mask/with_...  ...     with_mask\n",
              "8208  /content/drive/MyDrive/datanew/with_mask/with_...  ...     with_mask\n",
              "8209  /content/drive/MyDrive/datanew/with_mask/with_...  ...     with_mask\n",
              "8210  /content/drive/MyDrive/datanew/with_mask/with_...  ...     with_mask\n",
              "\n",
              "[8211 rows x 3 columns]"
            ]
          },
          "metadata": {
            "tags": []
          },
          "execution_count": 6
        }
      ]
    },
    {
      "cell_type": "code",
      "metadata": {
        "id": "ApCy962VfzOS"
      },
      "source": [
        "# Membagi dataset menjadi dua bagian (train dan test)\n",
        "from sklearn.model_selection import train_test_split\n",
        "\n",
        "x = df['path']\n",
        "y = df['tag']\n",
        "\n",
        "x_train, x_test, y_train, y_test = train_test_split(\n",
        "    x,y, test_size= 0.20, random_state=300)\n",
        "x_test, x_val, y_test, y_val = train_test_split(\n",
        "    x_test,y_test, test_size=0.25, random_state=100\n",
        ")"
      ],
      "execution_count": 22,
      "outputs": []
    },
    {
      "cell_type": "code",
      "metadata": {
        "id": "qcY9IrrYf1Wp"
      },
      "source": [
        "# menyatukan kedalam masing-masing dataframe\n",
        "df_test = pd.DataFrame({\n",
        "    'path' : x_test,\n",
        "    'tag' : y_test,\n",
        "    'set' : 'test'\n",
        "})\n",
        "\n",
        "df_train = pd.DataFrame({\n",
        "    'path' : x_train,\n",
        "    'tag' : y_train,\n",
        "    'set' : 'train'\n",
        "})\n",
        "df_val = pd.DataFrame({\n",
        "    'path' : x_val,\n",
        "    'tag' : y_val,\n",
        "    'set' : 'validation'\n",
        "})"
      ],
      "execution_count": 8,
      "outputs": []
    },
    {
      "cell_type": "code",
      "metadata": {
        "colab": {
          "base_uri": "https://localhost:8080/"
        },
        "id": "vUhLDSs3f3rD",
        "outputId": "05854d80-c4df-4b4c-824d-eef1bace365a"
      },
      "source": [
        "print('train size', len(df_train))\n",
        "print('test size', len(df_test))\n",
        "print('validation size', len(df_val))"
      ],
      "execution_count": 9,
      "outputs": [
        {
          "output_type": "stream",
          "text": [
            "train size 6568\n",
            "test size 821\n",
            "validation size 822\n"
          ],
          "name": "stdout"
        }
      ]
    },
    {
      "cell_type": "code",
      "metadata": {
        "colab": {
          "base_uri": "https://localhost:8080/",
          "height": 414
        },
        "id": "5vDMHSYFf5kO",
        "outputId": "850f374d-94ef-4822-e995-bf49c52545bb"
      },
      "source": [
        "# melihat masing-masing dataset apakah sudah sesuai atau belum\n",
        "df_all = df_train.append([df_test, df_val]).reset_index(drop=1)\n",
        "\n",
        "print('===================================================== \\n')\n",
        "print(df_all.groupby(['set','tag']).size(),'\\n')\n",
        "\n",
        "print('===================================================== \\n')\n",
        "\n",
        "df_all.sample(4)"
      ],
      "execution_count": 10,
      "outputs": [
        {
          "output_type": "stream",
          "text": [
            "===================================================== \n",
            "\n",
            "set         tag         \n",
            "test        with_mask        380\n",
            "            without_mask     441\n",
            "train       with_mask       2964\n",
            "            without_mask    3604\n",
            "validation  with_mask        381\n",
            "            without_mask     441\n",
            "dtype: int64 \n",
            "\n",
            "===================================================== \n",
            "\n"
          ],
          "name": "stdout"
        },
        {
          "output_type": "execute_result",
          "data": {
            "text/html": [
              "<div>\n",
              "<style scoped>\n",
              "    .dataframe tbody tr th:only-of-type {\n",
              "        vertical-align: middle;\n",
              "    }\n",
              "\n",
              "    .dataframe tbody tr th {\n",
              "        vertical-align: top;\n",
              "    }\n",
              "\n",
              "    .dataframe thead th {\n",
              "        text-align: right;\n",
              "    }\n",
              "</style>\n",
              "<table border=\"1\" class=\"dataframe\">\n",
              "  <thead>\n",
              "    <tr style=\"text-align: right;\">\n",
              "      <th></th>\n",
              "      <th>path</th>\n",
              "      <th>tag</th>\n",
              "      <th>set</th>\n",
              "    </tr>\n",
              "  </thead>\n",
              "  <tbody>\n",
              "    <tr>\n",
              "      <th>3958</th>\n",
              "      <td>/content/drive/MyDrive/datanew/with_mask/with_...</td>\n",
              "      <td>with_mask</td>\n",
              "      <td>train</td>\n",
              "    </tr>\n",
              "    <tr>\n",
              "      <th>5116</th>\n",
              "      <td>/content/drive/MyDrive/datanew/without_mask/wi...</td>\n",
              "      <td>without_mask</td>\n",
              "      <td>train</td>\n",
              "    </tr>\n",
              "    <tr>\n",
              "      <th>7145</th>\n",
              "      <td>/content/drive/MyDrive/datanew/without_mask/wi...</td>\n",
              "      <td>without_mask</td>\n",
              "      <td>test</td>\n",
              "    </tr>\n",
              "    <tr>\n",
              "      <th>7644</th>\n",
              "      <td>/content/drive/MyDrive/datanew/with_mask/with_...</td>\n",
              "      <td>with_mask</td>\n",
              "      <td>validation</td>\n",
              "    </tr>\n",
              "  </tbody>\n",
              "</table>\n",
              "</div>"
            ],
            "text/plain": [
              "                                                   path  ...         set\n",
              "3958  /content/drive/MyDrive/datanew/with_mask/with_...  ...       train\n",
              "5116  /content/drive/MyDrive/datanew/without_mask/wi...  ...       train\n",
              "7145  /content/drive/MyDrive/datanew/without_mask/wi...  ...        test\n",
              "7644  /content/drive/MyDrive/datanew/with_mask/with_...  ...  validation\n",
              "\n",
              "[4 rows x 3 columns]"
            ]
          },
          "metadata": {
            "tags": []
          },
          "execution_count": 10
        }
      ]
    },
    {
      "cell_type": "code",
      "metadata": {
        "id": "7Qrk6B0ogDDg"
      },
      "source": [
        "# Memindahkan dataset\n",
        "import shutil\n",
        "from tqdm.notebook import tqdm as tq\n",
        "datasource_path = '/content/drive/MyDrive/datanew'\n",
        "dataset_path = '/content/drive/MyDrive/datasetnew'"
      ],
      "execution_count": 11,
      "outputs": []
    },
    {
      "cell_type": "code",
      "metadata": {
        "colab": {
          "base_uri": "https://localhost:8080/",
          "height": 67,
          "referenced_widgets": [
            "5a425c9095844133aa9ec91346ad2693",
            "d442b8a63eba48e7b81c033f3750d390",
            "169ed072491c4ced82c1704aa8698081",
            "0eadf725e7ea479cbb94db39353fac53",
            "3805ccb6c0474cd4932f52a37b597cb8",
            "f656e49200d64395864833b2e5891569",
            "f6c00f60320f4f839499ba3e92dd43e8",
            "e79f5eb24e964f51bd9cf3befb103b34"
          ]
        },
        "id": "0_F9npMagDoH",
        "outputId": "a4983e09-9866-476f-92f4-059a5001e68e"
      },
      "source": [
        "for index, row in tq(df_all.iterrows()):\n",
        "  file_path = row['path']\n",
        "\n",
        "  if os.path.exists(file_path) == False:\n",
        "    file_path = os.path.join(datasource_path, row['tag'], row['image'].split('.')[0])\n",
        "\n",
        "  if os.path.exists(os.path.join(dataset_path, row['set'], row['tag'])) == False:\n",
        "    os.makedirs(os.path.join(dataset_path, row['set'], row['tag']))\n",
        "  \n",
        "  destination_file_name = file_path.split('/')[-1]\n",
        "  file_dest = os.path.join(dataset_path, row['set'], row['tag'], destination_file_name)\n",
        "\n",
        "  if os.path.exists(file_dest) == False:\n",
        "    shutil.copy2(file_path, file_dest)"
      ],
      "execution_count": 12,
      "outputs": [
        {
          "output_type": "display_data",
          "data": {
            "application/vnd.jupyter.widget-view+json": {
              "model_id": "5a425c9095844133aa9ec91346ad2693",
              "version_minor": 0,
              "version_major": 2
            },
            "text/plain": [
              "HBox(children=(FloatProgress(value=1.0, bar_style='info', max=1.0), HTML(value='')))"
            ]
          },
          "metadata": {
            "tags": []
          }
        },
        {
          "output_type": "stream",
          "text": [
            "\n"
          ],
          "name": "stdout"
        }
      ]
    },
    {
      "cell_type": "code",
      "metadata": {
        "id": "WPu8KMHbgFmk"
      },
      "source": [
        "# Define Directory\n",
        "base_dir = '/content/drive/MyDrive/datasetnew'\n",
        "train_dir = os.path.join(base_dir, 'train')\n",
        "test_dir = os.path.join(base_dir, 'test')\n",
        "val_dir = os.path.join(base_dir, 'validation')"
      ],
      "execution_count": 13,
      "outputs": []
    },
    {
      "cell_type": "code",
      "metadata": {
        "id": "yZsPfYs1g_0B"
      },
      "source": [
        "#train test split\n",
        "from sklearn.model_selection import train_test_split\n",
        "train_without_mask_dir = os.path.join(train_dir, 'without_mask')\n",
        "train_with_mask_dir = os.path.join(train_dir, 'with_mask')\n",
        "test_without_mask_dir = os.path.join(test_dir, 'without_mask')\n",
        "test_with_mask_dir = os.path.join(test_dir, 'with_mask')\n",
        "val_without_mask_dir = os.path.join(val_dir, 'without_mask')\n",
        "val_with_mask_dir = os.path.join(val_dir, 'with_mask')"
      ],
      "execution_count": 14,
      "outputs": []
    },
    {
      "cell_type": "code",
      "metadata": {
        "colab": {
          "base_uri": "https://localhost:8080/"
        },
        "id": "yMip6qeQhEUf",
        "outputId": "c10b0999-7e91-4630-9658-ed094da91747"
      },
      "source": [
        "import tensorflow as tf\n",
        "from tensorflow.keras.optimizers import RMSprop\n",
        "from tensorflow.keras.preprocessing.image import ImageDataGenerator\n",
        "\n",
        "print(tf.__version__)"
      ],
      "execution_count": 15,
      "outputs": [
        {
          "output_type": "stream",
          "text": [
            "2.5.0\n"
          ],
          "name": "stdout"
        }
      ]
    },
    {
      "cell_type": "code",
      "metadata": {
        "colab": {
          "base_uri": "https://localhost:8080/"
        },
        "id": "qYcy_o5VhVz6",
        "outputId": "a50ecb00-22e3-4668-8b8b-f17a0af6f98a"
      },
      "source": [
        "#Image Augmentation\n",
        "datagen = ImageDataGenerator(\n",
        "    rescale = 1./255,\n",
        "    rotation_range = 20,\n",
        "    horizontal_flip=True,\n",
        "    shear_range=0.2,\n",
        "    fill_mode='nearest'\n",
        ")\n",
        "\n",
        "train_generator = datagen.flow_from_directory(\n",
        "    train_dir,\n",
        "    target_size = (256, 256),\n",
        "    batch_size = 32,\n",
        "    class_mode = 'binary'\n",
        ")\n",
        "\n",
        "test_generator = datagen.flow_from_directory(\n",
        "    test_dir,\n",
        "    target_size = (256,256),\n",
        "    batch_size = 32,\n",
        "    class_mode = 'binary'\n",
        ")\n",
        "val_generator = datagen.flow_from_directory(\n",
        "    test_dir,\n",
        "    target_size = (256, 256),\n",
        "    batch_size = 32,\n",
        "    class_mode = 'binary'\n",
        ")"
      ],
      "execution_count": 16,
      "outputs": [
        {
          "output_type": "stream",
          "text": [
            "Found 6568 images belonging to 2 classes.\n",
            "Found 821 images belonging to 2 classes.\n",
            "Found 821 images belonging to 2 classes.\n"
          ],
          "name": "stdout"
        }
      ]
    },
    {
      "cell_type": "code",
      "metadata": {
        "colab": {
          "base_uri": "https://localhost:8080/"
        },
        "id": "po6vCinIhX8L",
        "outputId": "c3b4ccc6-25bc-41e4-844c-c14eb7930ecb"
      },
      "source": [
        "# Membuat Model CNN\n",
        "from tensorflow.keras.models import Sequential\n",
        "from tensorflow.keras.layers import Conv2D, MaxPooling2D, Flatten, Dense, Dropout\n",
        "\n",
        "model_cnn = Sequential()\n",
        "model_cnn.add(Conv2D(128,(3,3), activation= 'relu', padding= 'same', name='conv_1', input_shape=(256,256,3)))\n",
        "model_cnn.add(MaxPooling2D((2,2), name='maxpool_1'))\n",
        "model_cnn.add(Conv2D(64,(3,3),activation='relu', padding='same', name='conv_2'))\n",
        "model_cnn.add(MaxPooling2D((2,2), name='maxpool_2'))\n",
        "model_cnn.add(Conv2D(32,(3,3),activation='relu',padding='same', name='conv_3'))\n",
        "model_cnn.add(MaxPooling2D((2,2), name='maxpool_3'))\n",
        "model_cnn.add(Conv2D(16,(3,3),activation='relu',padding='same' ,name='conv_4'))\n",
        "model_cnn.add(MaxPooling2D((2,2), name='maxpool_4'))\n",
        "model_cnn.add(Conv2D(8,(3,3),activation='relu',padding='same' ,name='conv_5'))\n",
        "model_cnn.add(MaxPooling2D((2,2), name='maxpool_5'))\n",
        "\n",
        "model_cnn.add(Flatten())\n",
        "model_cnn.add(Dropout(0.5))\n",
        "model_cnn.add(Dense(256, activation='relu', name= 'dense_1'))\n",
        "model_cnn.add(Dense(1, activation='sigmoid', name= 'output'))\n",
        "model_cnn.summary()\n"
      ],
      "execution_count": 17,
      "outputs": [
        {
          "output_type": "stream",
          "text": [
            "Model: \"sequential\"\n",
            "_________________________________________________________________\n",
            "Layer (type)                 Output Shape              Param #   \n",
            "=================================================================\n",
            "conv_1 (Conv2D)              (None, 256, 256, 128)     3584      \n",
            "_________________________________________________________________\n",
            "maxpool_1 (MaxPooling2D)     (None, 128, 128, 128)     0         \n",
            "_________________________________________________________________\n",
            "conv_2 (Conv2D)              (None, 128, 128, 64)      73792     \n",
            "_________________________________________________________________\n",
            "maxpool_2 (MaxPooling2D)     (None, 64, 64, 64)        0         \n",
            "_________________________________________________________________\n",
            "conv_3 (Conv2D)              (None, 64, 64, 32)        18464     \n",
            "_________________________________________________________________\n",
            "maxpool_3 (MaxPooling2D)     (None, 32, 32, 32)        0         \n",
            "_________________________________________________________________\n",
            "conv_4 (Conv2D)              (None, 32, 32, 16)        4624      \n",
            "_________________________________________________________________\n",
            "maxpool_4 (MaxPooling2D)     (None, 16, 16, 16)        0         \n",
            "_________________________________________________________________\n",
            "conv_5 (Conv2D)              (None, 16, 16, 8)         1160      \n",
            "_________________________________________________________________\n",
            "maxpool_5 (MaxPooling2D)     (None, 8, 8, 8)           0         \n",
            "_________________________________________________________________\n",
            "flatten (Flatten)            (None, 512)               0         \n",
            "_________________________________________________________________\n",
            "dropout (Dropout)            (None, 512)               0         \n",
            "_________________________________________________________________\n",
            "dense_1 (Dense)              (None, 256)               131328    \n",
            "_________________________________________________________________\n",
            "output (Dense)               (None, 1)                 257       \n",
            "=================================================================\n",
            "Total params: 233,209\n",
            "Trainable params: 233,209\n",
            "Non-trainable params: 0\n",
            "_________________________________________________________________\n"
          ],
          "name": "stdout"
        }
      ]
    },
    {
      "cell_type": "code",
      "metadata": {
        "colab": {
          "base_uri": "https://localhost:8080/"
        },
        "id": "XqtO6IyfihoZ",
        "outputId": "614d8a3c-14b7-42c3-bde9-a081748c5064"
      },
      "source": [
        "print('Compiling Model.......')\n",
        "model_cnn.compile (optimizer='Adam',\n",
        "                   loss='binary_crossentropy',\n",
        "                   metrics=['accuracy'])"
      ],
      "execution_count": 18,
      "outputs": [
        {
          "output_type": "stream",
          "text": [
            "Compiling Model.......\n"
          ],
          "name": "stdout"
        }
      ]
    },
    {
      "cell_type": "code",
      "metadata": {
        "id": "EjClrmS7qt-3"
      },
      "source": [
        "class myCallback(tf.keras.callbacks.Callback):\n",
        "  def on_epoch_end(self, epoch, logs={}):\n",
        "    if(logs.get('accuracy')>0.97):\n",
        "      print('Akurasi mencapai 97%, proses training dihentikan!')\n",
        "      self.model.stop_training = True\n",
        "\n",
        "callbacks = myCallback()"
      ],
      "execution_count": 19,
      "outputs": []
    },
    {
      "cell_type": "code",
      "metadata": {
        "colab": {
          "base_uri": "https://localhost:8080/"
        },
        "id": "pO32jY2tqw1Q",
        "outputId": "76cf346a-709d-4526-d849-55f4caaa0e29"
      },
      "source": [
        "history_cnn = model_cnn.fit(\n",
        "    train_generator,\n",
        "    batch_size= 20,\n",
        "    #steps_per_epoch = 20,\n",
        "    epochs =100,\n",
        "    validation_data = test_generator,\n",
        "    validation_steps = 10,\n",
        "    callbacks = [callbacks]\n",
        ")"
      ],
      "execution_count": 21,
      "outputs": [
        {
          "output_type": "stream",
          "text": [
            "Epoch 1/100\n",
            "124/206 [=================>............] - ETA: 13:32 - loss: 0.4718 - accuracy: 0.7672"
          ],
          "name": "stdout"
        },
        {
          "output_type": "stream",
          "text": [
            "/usr/local/lib/python3.7/dist-packages/PIL/Image.py:960: UserWarning: Palette images with Transparency expressed in bytes should be converted to RGBA images\n",
            "  \"Palette images with Transparency expressed in bytes should be \"\n"
          ],
          "name": "stderr"
        },
        {
          "output_type": "stream",
          "text": [
            "206/206 [==============================] - 2156s 10s/step - loss: 0.3948 - accuracy: 0.8153 - val_loss: 0.1917 - val_accuracy: 0.9031\n",
            "Epoch 2/100\n",
            "206/206 [==============================] - 165s 802ms/step - loss: 0.2545 - accuracy: 0.9032 - val_loss: 0.1769 - val_accuracy: 0.9406\n",
            "Epoch 3/100\n",
            "206/206 [==============================] - 137s 665ms/step - loss: 0.2184 - accuracy: 0.9213 - val_loss: 0.1525 - val_accuracy: 0.9438\n",
            "Epoch 4/100\n",
            "206/206 [==============================] - 126s 614ms/step - loss: 0.1985 - accuracy: 0.9304 - val_loss: 0.1453 - val_accuracy: 0.9469\n",
            "Epoch 5/100\n",
            "206/206 [==============================] - 119s 577ms/step - loss: 0.1921 - accuracy: 0.9318 - val_loss: 0.1725 - val_accuracy: 0.9469\n",
            "Epoch 6/100\n",
            "206/206 [==============================] - 112s 544ms/step - loss: 0.1927 - accuracy: 0.9312 - val_loss: 0.1233 - val_accuracy: 0.9625\n",
            "Epoch 7/100\n",
            "206/206 [==============================] - 109s 528ms/step - loss: 0.1673 - accuracy: 0.9365 - val_loss: 0.1319 - val_accuracy: 0.9531\n",
            "Epoch 8/100\n",
            "206/206 [==============================] - 106s 516ms/step - loss: 0.1635 - accuracy: 0.9424 - val_loss: 0.1259 - val_accuracy: 0.9594\n",
            "Epoch 9/100\n",
            "206/206 [==============================] - 105s 511ms/step - loss: 0.1475 - accuracy: 0.9464 - val_loss: 0.1231 - val_accuracy: 0.9719\n",
            "Epoch 10/100\n",
            "206/206 [==============================] - 106s 514ms/step - loss: 0.1442 - accuracy: 0.9488 - val_loss: 0.1086 - val_accuracy: 0.9563\n",
            "Epoch 11/100\n",
            "206/206 [==============================] - 104s 507ms/step - loss: 0.1343 - accuracy: 0.9502 - val_loss: 0.1231 - val_accuracy: 0.9594\n",
            "Epoch 12/100\n",
            "206/206 [==============================] - 104s 504ms/step - loss: 0.1368 - accuracy: 0.9531 - val_loss: 0.1406 - val_accuracy: 0.9500\n",
            "Epoch 13/100\n",
            "206/206 [==============================] - 105s 508ms/step - loss: 0.1257 - accuracy: 0.9543 - val_loss: 0.0584 - val_accuracy: 0.9875\n",
            "Epoch 14/100\n",
            "206/206 [==============================] - 107s 517ms/step - loss: 0.1219 - accuracy: 0.9584 - val_loss: 0.0935 - val_accuracy: 0.9656\n",
            "Epoch 15/100\n",
            "206/206 [==============================] - 106s 513ms/step - loss: 0.1233 - accuracy: 0.9571 - val_loss: 0.0952 - val_accuracy: 0.9625\n",
            "Epoch 16/100\n",
            "206/206 [==============================] - 107s 517ms/step - loss: 0.1226 - accuracy: 0.9542 - val_loss: 0.1107 - val_accuracy: 0.9625\n",
            "Epoch 17/100\n",
            "206/206 [==============================] - 107s 521ms/step - loss: 0.1185 - accuracy: 0.9593 - val_loss: 0.1243 - val_accuracy: 0.9656\n",
            "Epoch 18/100\n",
            "206/206 [==============================] - 106s 515ms/step - loss: 0.1123 - accuracy: 0.9583 - val_loss: 0.1161 - val_accuracy: 0.9563\n",
            "Epoch 19/100\n",
            "206/206 [==============================] - 106s 512ms/step - loss: 0.1130 - accuracy: 0.9603 - val_loss: 0.1063 - val_accuracy: 0.9656\n",
            "Epoch 20/100\n",
            "206/206 [==============================] - 106s 516ms/step - loss: 0.1115 - accuracy: 0.9624 - val_loss: 0.0915 - val_accuracy: 0.9719\n",
            "Epoch 21/100\n",
            "206/206 [==============================] - 106s 514ms/step - loss: 0.1040 - accuracy: 0.9639 - val_loss: 0.0631 - val_accuracy: 0.9781\n",
            "Epoch 22/100\n",
            "206/206 [==============================] - 106s 514ms/step - loss: 0.1026 - accuracy: 0.9648 - val_loss: 0.0669 - val_accuracy: 0.9875\n",
            "Epoch 23/100\n",
            "206/206 [==============================] - 106s 515ms/step - loss: 0.0975 - accuracy: 0.9664 - val_loss: 0.0733 - val_accuracy: 0.9844\n",
            "Epoch 24/100\n",
            "206/206 [==============================] - 106s 516ms/step - loss: 0.0971 - accuracy: 0.9659 - val_loss: 0.1218 - val_accuracy: 0.9625\n",
            "Epoch 25/100\n",
            "206/206 [==============================] - 106s 512ms/step - loss: 0.0948 - accuracy: 0.9671 - val_loss: 0.1008 - val_accuracy: 0.9781\n",
            "Epoch 26/100\n",
            "206/206 [==============================] - 105s 507ms/step - loss: 0.0957 - accuracy: 0.9677 - val_loss: 0.0731 - val_accuracy: 0.9781\n",
            "Epoch 27/100\n",
            "206/206 [==============================] - 105s 509ms/step - loss: 0.1020 - accuracy: 0.9647 - val_loss: 0.0874 - val_accuracy: 0.9781\n",
            "Epoch 28/100\n",
            "206/206 [==============================] - 106s 514ms/step - loss: 0.0991 - accuracy: 0.9665 - val_loss: 0.0588 - val_accuracy: 0.9844\n",
            "Epoch 29/100\n",
            "206/206 [==============================] - 106s 512ms/step - loss: 0.0935 - accuracy: 0.9654 - val_loss: 0.1043 - val_accuracy: 0.9750\n",
            "Epoch 30/100\n",
            "206/206 [==============================] - 105s 508ms/step - loss: 0.0863 - accuracy: 0.9688 - val_loss: 0.0768 - val_accuracy: 0.9781\n",
            "Epoch 31/100\n",
            "206/206 [==============================] - 106s 513ms/step - loss: 0.0886 - accuracy: 0.9670 - val_loss: 0.0738 - val_accuracy: 0.9750\n",
            "Epoch 32/100\n",
            "206/206 [==============================] - 105s 511ms/step - loss: 0.0884 - accuracy: 0.9679 - val_loss: 0.0663 - val_accuracy: 0.9781\n",
            "Epoch 33/100\n",
            "206/206 [==============================] - 106s 512ms/step - loss: 0.0904 - accuracy: 0.9668 - val_loss: 0.0738 - val_accuracy: 0.9750\n",
            "Epoch 34/100\n",
            "206/206 [==============================] - 108s 524ms/step - loss: 0.0884 - accuracy: 0.9679 - val_loss: 0.0535 - val_accuracy: 0.9844\n",
            "Epoch 35/100\n",
            "206/206 [==============================] - 105s 510ms/step - loss: 0.0885 - accuracy: 0.9682 - val_loss: 0.0448 - val_accuracy: 0.9906\n",
            "Epoch 36/100\n",
            "206/206 [==============================] - 106s 514ms/step - loss: 0.0766 - accuracy: 0.9715 - val_loss: 0.0551 - val_accuracy: 0.9875\n",
            "Akurasi mencapai 97%, proses training dihentikan!\n"
          ],
          "name": "stdout"
        }
      ]
    },
    {
      "cell_type": "code",
      "metadata": {
        "colab": {
          "base_uri": "https://localhost:8080/",
          "height": 545
        },
        "id": "s7kp9efZtaXn",
        "outputId": "14f415fe-445f-4e17-a786-9c337fcfbba3"
      },
      "source": [
        "import matplotlib.pyplot as plt\n",
        "\n",
        "acc = history_cnn.history['accuracy']\n",
        "val_acc = history_cnn.history['val_accuracy']\n",
        "loss = history_cnn.history['loss']\n",
        "val_loss = history_cnn.history['val_loss']\n",
        "\n",
        "epochs = range(len(acc))\n",
        "\n",
        "plt.plot(epochs, acc, 'blue', label='Training accuracy')\n",
        "plt.plot(epochs, val_acc, 'orange', label='Validation accuracy')\n",
        "plt.title('Training and validation accuracy')\n",
        "plt.legend()\n",
        "plt.figure()\n",
        "\n",
        "plt.plot(epochs, loss, 'blue', label='Training Loss')\n",
        "plt.plot(epochs, val_loss, 'orange', label='Validation Loss')\n",
        "plt.title('Training and validation loss')\n",
        "plt.legend()\n",
        "\n",
        "plt.show()"
      ],
      "execution_count": 23,
      "outputs": [
        {
          "output_type": "display_data",
          "data": {
            "image/png": "[encoded data removed]",
            "text/plain": [
              "<Figure size 432x288 with 1 Axes>"
            ]
          },
          "metadata": {
            "tags": [],
            "needs_background": "light"
          }
        },
        {
          "output_type": "display_data",
          "data": {
            "image/png": "[encoded data removed]",
            "text/plain": [
              "<Figure size 432x288 with 1 Axes>"
            ]
          },
          "metadata": {
            "tags": [],
            "needs_background": "light"
          }
        }
      ]
    },
    {
      "cell_type": "code",
      "metadata": {
        "colab": {
          "base_uri": "https://localhost:8080/"
        },
        "id": "04H5msEG1GBO",
        "outputId": "c1ee8fe7-ce1c-4261-ec15-b4ba0b05788f"
      },
      "source": [
        "cd'/content/drive/MyDrive/Colab Notebooks'"
      ],
      "execution_count": 24,
      "outputs": [
        {
          "output_type": "stream",
          "text": [
            "/content/drive/MyDrive/Colab Notebooks\n"
          ],
          "name": "stdout"
        }
      ]
    },
    {
      "cell_type": "code",
      "metadata": {
        "id": "17pozkkjl35b"
      },
      "source": [
        "#save model\n",
        "import os"
      ],
      "execution_count": 25,
      "outputs": []
    },
    {
      "cell_type": "code",
      "metadata": {
        "id": "X67brnwVmCcY",
        "colab": {
          "base_uri": "https://localhost:8080/"
        },
        "outputId": "bc2a2267-474e-45f8-89c5-18987cca73c5"
      },
      "source": [
        "MODEL_BASE_PATH = \"Model\"\n",
        "PROJECT_NAME =\"CNN\"\n",
        "SAVE_MODEL_NAME = \"Model_CNN66.h5\"\n",
        "save_model_path = os.path.join(MODEL_BASE_PATH, PROJECT_NAME, SAVE_MODEL_NAME)\n",
        "if os.path.exists(os.path.join(MODEL_BASE_PATH, PROJECT_NAME)) == False:\n",
        "    os.makedirs(os.path.join(MODEL_BASE_PATH, PROJECT_NAME))\n",
        "    \n",
        "print('Saving Model At {}...'.format(save_model_path))\n",
        "model_cnn.save(save_model_path,include_optimizer=False)"
      ],
      "execution_count": 26,
      "outputs": [
        {
          "output_type": "stream",
          "text": [
            "Saving Model At Model/CNN/Model_CNN66.h5...\n"
          ],
          "name": "stdout"
        }
      ]
    },
    {
      "cell_type": "code",
      "metadata": {
        "id": "1yUIEl-eu1Y-"
      },
      "source": [
        ""
      ],
      "execution_count": null,
      "outputs": []
    }
  ]
}