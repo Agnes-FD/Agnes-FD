{
  "nbformat": 4,
  "nbformat_minor": 0,
  "metadata": {
    "colab": {
      "name": "Model_CNN4.ipynb",
      "provenance": [],
      "collapsed_sections": [],
      "include_colab_link": true
    },
    "kernelspec": {
      "display_name": "Python 3",
      "name": "python3"
    },
    "widgets": {
      "application/vnd.jupyter.widget-state+json": {
        "7aff9e99c289488d99c30b597868013a": {
          "model_module": "@jupyter-widgets/controls",
          "model_name": "HBoxModel",
          "state": {
            "_view_name": "HBoxView",
            "_dom_classes": [],
            "_model_name": "HBoxModel",
            "_view_module": "@jupyter-widgets/controls",
            "_model_module_version": "1.5.0",
            "_view_count": null,
            "_view_module_version": "1.5.0",
            "box_style": "",
            "layout": "IPY_MODEL_ac2c1be0a2294eb1b4abb21bfca402b5",
            "_model_module": "@jupyter-widgets/controls",
            "children": [
              "IPY_MODEL_4f1deba7134e449ebe1e075f835fc050",
              "IPY_MODEL_e94ca682224a41a38f00443f8bd88359"
            ]
          }
        },
        "ac2c1be0a2294eb1b4abb21bfca402b5": {
          "model_module": "@jupyter-widgets/base",
          "model_name": "LayoutModel",
          "state": {
            "_view_name": "LayoutView",
            "grid_template_rows": null,
            "right": null,
            "justify_content": null,
            "_view_module": "@jupyter-widgets/base",
            "overflow": null,
            "_model_module_version": "1.2.0",
            "_view_count": null,
            "flex_flow": null,
            "width": null,
            "min_width": null,
            "border": null,
            "align_items": null,
            "bottom": null,
            "_model_module": "@jupyter-widgets/base",
            "top": null,
            "grid_column": null,
            "overflow_y": null,
            "overflow_x": null,
            "grid_auto_flow": null,
            "grid_area": null,
            "grid_template_columns": null,
            "flex": null,
            "_model_name": "LayoutModel",
            "justify_items": null,
            "grid_row": null,
            "max_height": null,
            "align_content": null,
            "visibility": null,
            "align_self": null,
            "height": null,
            "min_height": null,
            "padding": null,
            "grid_auto_rows": null,
            "grid_gap": null,
            "max_width": null,
            "order": null,
            "_view_module_version": "1.2.0",
            "grid_template_areas": null,
            "object_position": null,
            "object_fit": null,
            "grid_auto_columns": null,
            "margin": null,
            "display": null,
            "left": null
          }
        },
        "4f1deba7134e449ebe1e075f835fc050": {
          "model_module": "@jupyter-widgets/controls",
          "model_name": "FloatProgressModel",
          "state": {
            "_view_name": "ProgressView",
            "style": "IPY_MODEL_7b09287afa1841b7a8bc99052c63700f",
            "_dom_classes": [],
            "description": "",
            "_model_name": "FloatProgressModel",
            "bar_style": "success",
            "max": 1,
            "_view_module": "@jupyter-widgets/controls",
            "_model_module_version": "1.5.0",
            "value": 1,
            "_view_count": null,
            "_view_module_version": "1.5.0",
            "orientation": "horizontal",
            "min": 0,
            "description_tooltip": null,
            "_model_module": "@jupyter-widgets/controls",
            "layout": "IPY_MODEL_845ca409ec7549f99498397e4febf473"
          }
        },
        "e94ca682224a41a38f00443f8bd88359": {
          "model_module": "@jupyter-widgets/controls",
          "model_name": "HTMLModel",
          "state": {
            "_view_name": "HTMLView",
            "style": "IPY_MODEL_afd5aff7565e477499db180d945ebe35",
            "_dom_classes": [],
            "description": "",
            "_model_name": "HTMLModel",
            "placeholder": "​",
            "_view_module": "@jupyter-widgets/controls",
            "_model_module_version": "1.5.0",
            "value": " 8211/? [00:34&lt;00:00, 237.78it/s]",
            "_view_count": null,
            "_view_module_version": "1.5.0",
            "description_tooltip": null,
            "_model_module": "@jupyter-widgets/controls",
            "layout": "IPY_MODEL_1a7c1e4cbacc4951819fb3e763adf257"
          }
        },
        "7b09287afa1841b7a8bc99052c63700f": {
          "model_module": "@jupyter-widgets/controls",
          "model_name": "ProgressStyleModel",
          "state": {
            "_view_name": "StyleView",
            "_model_name": "ProgressStyleModel",
            "description_width": "initial",
            "_view_module": "@jupyter-widgets/base",
            "_model_module_version": "1.5.0",
            "_view_count": null,
            "_view_module_version": "1.2.0",
            "bar_color": null,
            "_model_module": "@jupyter-widgets/controls"
          }
        },
        "845ca409ec7549f99498397e4febf473": {
          "model_module": "@jupyter-widgets/base",
          "model_name": "LayoutModel",
          "state": {
            "_view_name": "LayoutView",
            "grid_template_rows": null,
            "right": null,
            "justify_content": null,
            "_view_module": "@jupyter-widgets/base",
            "overflow": null,
            "_model_module_version": "1.2.0",
            "_view_count": null,
            "flex_flow": null,
            "width": null,
            "min_width": null,
            "border": null,
            "align_items": null,
            "bottom": null,
            "_model_module": "@jupyter-widgets/base",
            "top": null,
            "grid_column": null,
            "overflow_y": null,
            "overflow_x": null,
            "grid_auto_flow": null,
            "grid_area": null,
            "grid_template_columns": null,
            "flex": null,
            "_model_name": "LayoutModel",
            "justify_items": null,
            "grid_row": null,
            "max_height": null,
            "align_content": null,
            "visibility": null,
            "align_self": null,
            "height": null,
            "min_height": null,
            "padding": null,
            "grid_auto_rows": null,
            "grid_gap": null,
            "max_width": null,
            "order": null,
            "_view_module_version": "1.2.0",
            "grid_template_areas": null,
            "object_position": null,
            "object_fit": null,
            "grid_auto_columns": null,
            "margin": null,
            "display": null,
            "left": null
          }
        },
        "afd5aff7565e477499db180d945ebe35": {
          "model_module": "@jupyter-widgets/controls",
          "model_name": "DescriptionStyleModel",
          "state": {
            "_view_name": "StyleView",
            "_model_name": "DescriptionStyleModel",
            "description_width": "",
            "_view_module": "@jupyter-widgets/base",
            "_model_module_version": "1.5.0",
            "_view_count": null,
            "_view_module_version": "1.2.0",
            "_model_module": "@jupyter-widgets/controls"
          }
        },
        "1a7c1e4cbacc4951819fb3e763adf257": {
          "model_module": "@jupyter-widgets/base",
          "model_name": "LayoutModel",
          "state": {
            "_view_name": "LayoutView",
            "grid_template_rows": null,
            "right": null,
            "justify_content": null,
            "_view_module": "@jupyter-widgets/base",
            "overflow": null,
            "_model_module_version": "1.2.0",
            "_view_count": null,
            "flex_flow": null,
            "width": null,
            "min_width": null,
            "border": null,
            "align_items": null,
            "bottom": null,
            "_model_module": "@jupyter-widgets/base",
            "top": null,
            "grid_column": null,
            "overflow_y": null,
            "overflow_x": null,
            "grid_auto_flow": null,
            "grid_area": null,
            "grid_template_columns": null,
            "flex": null,
            "_model_name": "LayoutModel",
            "justify_items": null,
            "grid_row": null,
            "max_height": null,
            "align_content": null,
            "visibility": null,
            "align_self": null,
            "height": null,
            "min_height": null,
            "padding": null,
            "grid_auto_rows": null,
            "grid_gap": null,
            "max_width": null,
            "order": null,
            "_view_module_version": "1.2.0",
            "grid_template_areas": null,
            "object_position": null,
            "object_fit": null,
            "grid_auto_columns": null,
            "margin": null,
            "display": null,
            "left": null
          }
        }
      }
    },
    "accelerator": "GPU"
  },
  "cells": [
    {
      "cell_type": "markdown",
      "metadata": {
        "id": "view-in-github",
        "colab_type": "text"
      },
      "source": [
        "<a href=\"https://colab.research.google.com/github/Agnes-FD/Agnes-FD/blob/main/Model_CNN67.ipynb\" target=\"_parent\"><img src=\"https://colab.research.google.com/assets/colab-badge.svg\" alt=\"Open In Colab\"/></a>"
      ]
    },
    {
      "cell_type": "code",
      "metadata": {
        "colab": {
          "base_uri": "https://localhost:8080/"
        },
        "id": "2UnhOEL6To0U",
        "outputId": "7ca8564d-f5c8-4ad9-de1e-47cba42f82c8"
      },
      "source": [
        "from google.colab import drive\n",
        "drive.mount ('/content/drive')"
      ],
      "execution_count": 3,
      "outputs": [
        {
          "output_type": "stream",
          "text": [
            "Mounted at /content/drive\n"
          ],
          "name": "stdout"
        }
      ]
    },
    {
      "cell_type": "code",
      "metadata": {
        "colab": {
          "base_uri": "https://localhost:8080/"
        },
        "id": "NboJ6OXAO-LI",
        "outputId": "972260e2-2815-46ec-9c3d-8e3e1f1a712d"
      },
      "source": [
        "cd '/content/drive/MyDrive/datanew'"
      ],
      "execution_count": 4,
      "outputs": [
        {
          "output_type": "stream",
          "text": [
            "/content/drive/MyDrive/datanew\n"
          ],
          "name": "stdout"
        }
      ]
    },
    {
      "cell_type": "code",
      "metadata": {
        "colab": {
          "base_uri": "https://localhost:8080/"
        },
        "id": "wDBhPfUAKneJ",
        "outputId": "cc2b500a-df86-4f2e-8977-dbf3acfb358b"
      },
      "source": [
        "ls"
      ],
      "execution_count": 5,
      "outputs": [
        {
          "output_type": "stream",
          "text": [
            "\u001b[0m\u001b[01;34mwith_mask\u001b[0m/  \u001b[01;34mwithout_mask\u001b[0m/\n"
          ],
          "name": "stdout"
        }
      ]
    },
    {
      "cell_type": "code",
      "metadata": {
        "id": "P-S6POrL25_O"
      },
      "source": [
        "import os\n",
        "path = '/content/drive/MyDrive/datanew'\n",
        "# Membuat Label pada gambar berdasarkan klasifikasi\n",
        "file_name = []\n",
        "tag = []\n",
        "full_path = []\n",
        "for path, subdirs, files in os.walk(path):\n",
        "  for name in files:\n",
        "    full_path.append(os.path.join(path, name))\n",
        "    tag.append(path.split('/')[-1])\n",
        "    file_name.append(name)"
      ],
      "execution_count": 6,
      "outputs": []
    },
    {
      "cell_type": "code",
      "metadata": {
        "colab": {
          "base_uri": "https://localhost:8080/"
        },
        "id": "wezKIsos3mlO",
        "outputId": "09ef271b-dc72-46b7-bc14-3951b64a1b8c"
      },
      "source": [
        "# Membuat dataframe berdasarkan hasil klasifikasi data yang sudah diberi label\n",
        "import pandas as pd\n",
        "\n",
        "df = pd.DataFrame({\"path\":full_path, \"file_name\": file_name, \"tag\":tag})\n",
        "df.groupby(['tag']).size()"
      ],
      "execution_count": 7,
      "outputs": [
        {
          "output_type": "execute_result",
          "data": {
            "text/plain": [
              "tag\n",
              "with_mask       3725\n",
              "without_mask    4486\n",
              "dtype: int64"
            ]
          },
          "metadata": {
            "tags": []
          },
          "execution_count": 7
        }
      ]
    },
    {
      "cell_type": "code",
      "metadata": {
        "colab": {
          "base_uri": "https://localhost:8080/",
          "height": 424
        },
        "id": "3NZcWQjGLCfd",
        "outputId": "7e00e456-574c-48d4-e380-84ed8428f62a"
      },
      "source": [
        "\n",
        "# cek data yang sudah diberi label\n",
        "df"
      ],
      "execution_count": 8,
      "outputs": [
        {
          "output_type": "execute_result",
          "data": {
            "text/html": [
              "<div>\n",
              "<style scoped>\n",
              "    .dataframe tbody tr th:only-of-type {\n",
              "        vertical-align: middle;\n",
              "    }\n",
              "\n",
              "    .dataframe tbody tr th {\n",
              "        vertical-align: top;\n",
              "    }\n",
              "\n",
              "    .dataframe thead th {\n",
              "        text-align: right;\n",
              "    }\n",
              "</style>\n",
              "<table border=\"1\" class=\"dataframe\">\n",
              "  <thead>\n",
              "    <tr style=\"text-align: right;\">\n",
              "      <th></th>\n",
              "      <th>path</th>\n",
              "      <th>file_name</th>\n",
              "      <th>tag</th>\n",
              "    </tr>\n",
              "  </thead>\n",
              "  <tbody>\n",
              "    <tr>\n",
              "      <th>0</th>\n",
              "      <td>/content/drive/MyDrive/datanew/without_mask/wi...</td>\n",
              "      <td>without_mask_3297.jpg</td>\n",
              "      <td>without_mask</td>\n",
              "    </tr>\n",
              "    <tr>\n",
              "      <th>1</th>\n",
              "      <td>/content/drive/MyDrive/datanew/without_mask/wi...</td>\n",
              "      <td>without_mask_2960.jpg</td>\n",
              "      <td>without_mask</td>\n",
              "    </tr>\n",
              "    <tr>\n",
              "      <th>2</th>\n",
              "      <td>/content/drive/MyDrive/datanew/without_mask/wi...</td>\n",
              "      <td>without_mask_3792.jpg</td>\n",
              "      <td>without_mask</td>\n",
              "    </tr>\n",
              "    <tr>\n",
              "      <th>3</th>\n",
              "      <td>/content/drive/MyDrive/datanew/without_mask/wi...</td>\n",
              "      <td>without_mask_3359.jpg</td>\n",
              "      <td>without_mask</td>\n",
              "    </tr>\n",
              "    <tr>\n",
              "      <th>4</th>\n",
              "      <td>/content/drive/MyDrive/datanew/without_mask/wi...</td>\n",
              "      <td>without_mask_3080.jpg</td>\n",
              "      <td>without_mask</td>\n",
              "    </tr>\n",
              "    <tr>\n",
              "      <th>...</th>\n",
              "      <td>...</td>\n",
              "      <td>...</td>\n",
              "      <td>...</td>\n",
              "    </tr>\n",
              "    <tr>\n",
              "      <th>8206</th>\n",
              "      <td>/content/drive/MyDrive/datanew/with_mask/with_...</td>\n",
              "      <td>with_mask_1683.jpg</td>\n",
              "      <td>with_mask</td>\n",
              "    </tr>\n",
              "    <tr>\n",
              "      <th>8207</th>\n",
              "      <td>/content/drive/MyDrive/datanew/with_mask/with_...</td>\n",
              "      <td>with_mask_139.jpg</td>\n",
              "      <td>with_mask</td>\n",
              "    </tr>\n",
              "    <tr>\n",
              "      <th>8208</th>\n",
              "      <td>/content/drive/MyDrive/datanew/with_mask/with_...</td>\n",
              "      <td>with_mask_1538.jpg</td>\n",
              "      <td>with_mask</td>\n",
              "    </tr>\n",
              "    <tr>\n",
              "      <th>8209</th>\n",
              "      <td>/content/drive/MyDrive/datanew/with_mask/with_...</td>\n",
              "      <td>with_mask_1754.jpg</td>\n",
              "      <td>with_mask</td>\n",
              "    </tr>\n",
              "    <tr>\n",
              "      <th>8210</th>\n",
              "      <td>/content/drive/MyDrive/datanew/with_mask/with_...</td>\n",
              "      <td>with_mask_1710.jpg</td>\n",
              "      <td>with_mask</td>\n",
              "    </tr>\n",
              "  </tbody>\n",
              "</table>\n",
              "<p>8211 rows × 3 columns</p>\n",
              "</div>"
            ],
            "text/plain": [
              "                                                   path  ...           tag\n",
              "0     /content/drive/MyDrive/datanew/without_mask/wi...  ...  without_mask\n",
              "1     /content/drive/MyDrive/datanew/without_mask/wi...  ...  without_mask\n",
              "2     /content/drive/MyDrive/datanew/without_mask/wi...  ...  without_mask\n",
              "3     /content/drive/MyDrive/datanew/without_mask/wi...  ...  without_mask\n",
              "4     /content/drive/MyDrive/datanew/without_mask/wi...  ...  without_mask\n",
              "...                                                 ...  ...           ...\n",
              "8206  /content/drive/MyDrive/datanew/with_mask/with_...  ...     with_mask\n",
              "8207  /content/drive/MyDrive/datanew/with_mask/with_...  ...     with_mask\n",
              "8208  /content/drive/MyDrive/datanew/with_mask/with_...  ...     with_mask\n",
              "8209  /content/drive/MyDrive/datanew/with_mask/with_...  ...     with_mask\n",
              "8210  /content/drive/MyDrive/datanew/with_mask/with_...  ...     with_mask\n",
              "\n",
              "[8211 rows x 3 columns]"
            ]
          },
          "metadata": {
            "tags": []
          },
          "execution_count": 8
        }
      ]
    },
    {
      "cell_type": "code",
      "metadata": {
        "id": "WPpz_t2_LKH6"
      },
      "source": [
        "# Membagi dataset menjadi dua bagian (train dan test)\n",
        "from sklearn.model_selection import train_test_split\n",
        "\n",
        "x = df['path']\n",
        "y = df['tag']\n",
        "\n",
        "x_train, x_test, y_train, y_test = train_test_split(\n",
        "    x,y, test_size= 0.20, random_state=300)\n",
        "x_test, x_val, y_test, y_val = train_test_split(\n",
        "    x_test,y_test, test_size=0.5, random_state=100\n",
        ")"
      ],
      "execution_count": 9,
      "outputs": []
    },
    {
      "cell_type": "code",
      "metadata": {
        "id": "3PITY1sDLQ2d"
      },
      "source": [
        "# menyatukan kedalam masing-masing dataframe\n",
        "df_test = pd.DataFrame({\n",
        "    'path' : x_test,\n",
        "    'tag' : y_test,\n",
        "    'set' : 'test'\n",
        "})\n",
        "\n",
        "df_train = pd.DataFrame({\n",
        "    'path' : x_train,\n",
        "    'tag' : y_train,\n",
        "    'set' : 'train'\n",
        "})\n",
        "df_val = pd.DataFrame({\n",
        "    'path' : x_val,\n",
        "    'tag' : y_val,\n",
        "    'set' : 'validation'\n",
        "})"
      ],
      "execution_count": 10,
      "outputs": []
    },
    {
      "cell_type": "code",
      "metadata": {
        "colab": {
          "base_uri": "https://localhost:8080/"
        },
        "id": "t_bva6dALWNn",
        "outputId": "8c5ce2ab-5f7c-43ce-d915-4e45e47a99bf"
      },
      "source": [
        "print('train size', len(df_train))\n",
        "print('test size', len(df_test))\n",
        "print('validation size', len(df_val))"
      ],
      "execution_count": 11,
      "outputs": [
        {
          "output_type": "stream",
          "text": [
            "train size 6568\n",
            "test size 821\n",
            "validation size 822\n"
          ],
          "name": "stdout"
        }
      ]
    },
    {
      "cell_type": "code",
      "metadata": {
        "colab": {
          "base_uri": "https://localhost:8080/",
          "height": 414
        },
        "id": "i4DMOPbmLppC",
        "outputId": "ca64953f-083e-418f-d9d8-727cf67f2568"
      },
      "source": [
        "# melihat masing-masing dataset apakah sudah sesuai atau belum\n",
        "df_all = df_train.append([df_test, df_val]).reset_index(drop=1)\n",
        "\n",
        "print('===================================================== \\n')\n",
        "print(df_all.groupby(['set','tag']).size(),'\\n')\n",
        "\n",
        "print('===================================================== \\n')\n",
        "\n",
        "df_all.sample(4)"
      ],
      "execution_count": 12,
      "outputs": [
        {
          "output_type": "stream",
          "text": [
            "===================================================== \n",
            "\n",
            "set         tag         \n",
            "test        with_mask        380\n",
            "            without_mask     441\n",
            "train       with_mask       2964\n",
            "            without_mask    3604\n",
            "validation  with_mask        381\n",
            "            without_mask     441\n",
            "dtype: int64 \n",
            "\n",
            "===================================================== \n",
            "\n"
          ],
          "name": "stdout"
        },
        {
          "output_type": "execute_result",
          "data": {
            "text/html": [
              "<div>\n",
              "<style scoped>\n",
              "    .dataframe tbody tr th:only-of-type {\n",
              "        vertical-align: middle;\n",
              "    }\n",
              "\n",
              "    .dataframe tbody tr th {\n",
              "        vertical-align: top;\n",
              "    }\n",
              "\n",
              "    .dataframe thead th {\n",
              "        text-align: right;\n",
              "    }\n",
              "</style>\n",
              "<table border=\"1\" class=\"dataframe\">\n",
              "  <thead>\n",
              "    <tr style=\"text-align: right;\">\n",
              "      <th></th>\n",
              "      <th>path</th>\n",
              "      <th>tag</th>\n",
              "      <th>set</th>\n",
              "    </tr>\n",
              "  </thead>\n",
              "  <tbody>\n",
              "    <tr>\n",
              "      <th>1497</th>\n",
              "      <td>/content/drive/MyDrive/datanew/without_mask/wi...</td>\n",
              "      <td>without_mask</td>\n",
              "      <td>train</td>\n",
              "    </tr>\n",
              "    <tr>\n",
              "      <th>1343</th>\n",
              "      <td>/content/drive/MyDrive/datanew/without_mask/wi...</td>\n",
              "      <td>without_mask</td>\n",
              "      <td>train</td>\n",
              "    </tr>\n",
              "    <tr>\n",
              "      <th>1877</th>\n",
              "      <td>/content/drive/MyDrive/datanew/with_mask/with_...</td>\n",
              "      <td>with_mask</td>\n",
              "      <td>train</td>\n",
              "    </tr>\n",
              "    <tr>\n",
              "      <th>5949</th>\n",
              "      <td>/content/drive/MyDrive/datanew/without_mask/wi...</td>\n",
              "      <td>without_mask</td>\n",
              "      <td>train</td>\n",
              "    </tr>\n",
              "  </tbody>\n",
              "</table>\n",
              "</div>"
            ],
            "text/plain": [
              "                                                   path           tag    set\n",
              "1497  /content/drive/MyDrive/datanew/without_mask/wi...  without_mask  train\n",
              "1343  /content/drive/MyDrive/datanew/without_mask/wi...  without_mask  train\n",
              "1877  /content/drive/MyDrive/datanew/with_mask/with_...     with_mask  train\n",
              "5949  /content/drive/MyDrive/datanew/without_mask/wi...  without_mask  train"
            ]
          },
          "metadata": {
            "tags": []
          },
          "execution_count": 12
        }
      ]
    },
    {
      "cell_type": "code",
      "metadata": {
        "id": "UNrtIsSwNqI1"
      },
      "source": [
        "# Memindahkan dataset\n",
        "import shutil\n",
        "from tqdm.notebook import tqdm as tq"
      ],
      "execution_count": 13,
      "outputs": []
    },
    {
      "cell_type": "code",
      "metadata": {
        "id": "QoXm4ThENv-C"
      },
      "source": [
        "datasource_path = '/content/drive/MyDrive/datanew'\n",
        "dataset_path = '/content/drive/MyDrive/datasetnew'"
      ],
      "execution_count": 14,
      "outputs": []
    },
    {
      "cell_type": "code",
      "metadata": {
        "colab": {
          "base_uri": "https://localhost:8080/",
          "height": 67,
          "referenced_widgets": [
            "7aff9e99c289488d99c30b597868013a",
            "ac2c1be0a2294eb1b4abb21bfca402b5",
            "4f1deba7134e449ebe1e075f835fc050",
            "e94ca682224a41a38f00443f8bd88359",
            "7b09287afa1841b7a8bc99052c63700f",
            "845ca409ec7549f99498397e4febf473",
            "afd5aff7565e477499db180d945ebe35",
            "1a7c1e4cbacc4951819fb3e763adf257"
          ]
        },
        "id": "v8sHUc2DN3c9",
        "outputId": "cc10c69b-7036-4733-f186-a7a0915d272f"
      },
      "source": [
        "for index, row in tq(df_all.iterrows()):\n",
        "  file_path = row['path']\n",
        "\n",
        "  if os.path.exists(file_path) == False:\n",
        "    file_path = os.path.join(datasource_path, row['tag'], row['image'].split('.')[0])\n",
        "\n",
        "  if os.path.exists(os.path.join(dataset_path, row['set'], row['tag'])) == False:\n",
        "    os.makedirs(os.path.join(dataset_path, row['set'], row['tag']))\n",
        "  \n",
        "  destination_file_name = file_path.split('/')[-1]\n",
        "  file_dest = os.path.join(dataset_path, row['set'], row['tag'], destination_file_name)\n",
        "\n",
        "  if os.path.exists(file_dest) == False:\n",
        "    shutil.copy2(file_path, file_dest)"
      ],
      "execution_count": 15,
      "outputs": [
        {
          "output_type": "display_data",
          "data": {
            "application/vnd.jupyter.widget-view+json": {
              "model_id": "7aff9e99c289488d99c30b597868013a",
              "version_minor": 0,
              "version_major": 2
            },
            "text/plain": [
              "HBox(children=(FloatProgress(value=1.0, bar_style='info', max=1.0), HTML(value='')))"
            ]
          },
          "metadata": {
            "tags": []
          }
        },
        {
          "output_type": "stream",
          "text": [
            "\n"
          ],
          "name": "stdout"
        }
      ]
    },
    {
      "cell_type": "code",
      "metadata": {
        "id": "aocPs2kiODO0"
      },
      "source": [
        "# Define Directory\n",
        "base_dir = '/content/drive/MyDrive/datasetnew'\n",
        "train_dir = os.path.join(base_dir, 'train')\n",
        "test_dir = os.path.join(base_dir, 'test')\n",
        "val_dir = os.path.join(base_dir, 'validation')"
      ],
      "execution_count": 16,
      "outputs": []
    },
    {
      "cell_type": "code",
      "metadata": {
        "colab": {
          "base_uri": "https://localhost:8080/"
        },
        "id": "bYrbwaDGOEB9",
        "outputId": "3ac8029b-50d1-4452-834e-8553d26b0e5e"
      },
      "source": [
        "os.listdir(train_dir)"
      ],
      "execution_count": 17,
      "outputs": [
        {
          "output_type": "execute_result",
          "data": {
            "text/plain": [
              "['with_mask', 'without_mask']"
            ]
          },
          "metadata": {
            "tags": []
          },
          "execution_count": 17
        }
      ]
    },
    {
      "cell_type": "code",
      "metadata": {
        "colab": {
          "base_uri": "https://localhost:8080/"
        },
        "id": "Fl030K2qN4MP",
        "outputId": "b43f051d-6950-4c4c-94ec-57fca5e825eb"
      },
      "source": [
        "os.listdir(test_dir)"
      ],
      "execution_count": 18,
      "outputs": [
        {
          "output_type": "execute_result",
          "data": {
            "text/plain": [
              "['without_mask', 'with_mask']"
            ]
          },
          "metadata": {
            "tags": []
          },
          "execution_count": 18
        }
      ]
    },
    {
      "cell_type": "code",
      "metadata": {
        "colab": {
          "base_uri": "https://localhost:8080/"
        },
        "id": "RwwbSl4iOJNN",
        "outputId": "ef310e76-d7cf-4715-fe1f-917c1ed08fd5"
      },
      "source": [
        "os.listdir(val_dir)"
      ],
      "execution_count": 19,
      "outputs": [
        {
          "output_type": "execute_result",
          "data": {
            "text/plain": [
              "['without_mask', 'with_mask']"
            ]
          },
          "metadata": {
            "tags": []
          },
          "execution_count": 19
        }
      ]
    },
    {
      "cell_type": "code",
      "metadata": {
        "id": "kxMt44xcOLQN"
      },
      "source": [
        "#train test split\n",
        "from sklearn.model_selection import train_test_split"
      ],
      "execution_count": 20,
      "outputs": []
    },
    {
      "cell_type": "code",
      "metadata": {
        "id": "0tgp90azONkc"
      },
      "source": [
        "train_without_mask_dir = os.path.join(train_dir, 'without_mask')\n",
        "train_with_mask_dir = os.path.join(train_dir, 'with_mask')\n",
        "test_without_mask_dir = os.path.join(test_dir, 'without_mask')\n",
        "test_with_mask_dir = os.path.join(test_dir, 'with_mask')\n",
        "val_without_mask_dir = os.path.join(val_dir, 'without_mask')\n",
        "val_with_mask_dir = os.path.join(val_dir, 'with_mask')"
      ],
      "execution_count": 21,
      "outputs": []
    },
    {
      "cell_type": "code",
      "metadata": {
        "colab": {
          "base_uri": "https://localhost:8080/"
        },
        "id": "q6asu80YOP7b",
        "outputId": "2d168e7d-fa40-4b6a-970b-7c0db91de6b8"
      },
      "source": [
        "import tensorflow as tf\n",
        "from tensorflow.keras.optimizers import RMSprop\n",
        "from tensorflow.keras.preprocessing.image import ImageDataGenerator\n",
        "\n",
        "print(tf.__version__)"
      ],
      "execution_count": 22,
      "outputs": [
        {
          "output_type": "stream",
          "text": [
            "2.5.0\n"
          ],
          "name": "stdout"
        }
      ]
    },
    {
      "cell_type": "code",
      "metadata": {
        "colab": {
          "base_uri": "https://localhost:8080/"
        },
        "id": "ApJ5s4sWOUgh",
        "outputId": "2514d9ad-4276-4e63-c256-3f9c242291b8"
      },
      "source": [
        "datagen = ImageDataGenerator(\n",
        "    rescale = 1./255,\n",
        "    rotation_range = 20,\n",
        "    horizontal_flip=True,\n",
        "    shear_range=0.2,\n",
        "    fill_mode='nearest'\n",
        ")\n",
        "\n",
        "train_generator = datagen.flow_from_directory(\n",
        "    train_dir,\n",
        "    target_size = (256, 256),\n",
        "    batch_size = 32,\n",
        "    class_mode = 'binary'\n",
        ")\n",
        "\n",
        "test_generator = datagen.flow_from_directory(\n",
        "    test_dir,\n",
        "    target_size = (256,256),\n",
        "    batch_size = 32,\n",
        "    class_mode = 'binary'\n",
        ")\n",
        "val_generator = datagen.flow_from_directory(\n",
        "    test_dir,\n",
        "    target_size = (256, 256),\n",
        "    batch_size = 32,\n",
        "    class_mode = 'binary'\n",
        ")"
      ],
      "execution_count": 23,
      "outputs": [
        {
          "output_type": "stream",
          "text": [
            "Found 6568 images belonging to 2 classes.\n",
            "Found 821 images belonging to 2 classes.\n",
            "Found 821 images belonging to 2 classes.\n"
          ],
          "name": "stdout"
        }
      ]
    },
    {
      "cell_type": "code",
      "metadata": {
        "id": "jcOPbF7qOeA0"
      },
      "source": [
        "# Membuat Model CNN menggunakan Transfer Learning MobileNetV2\n",
        "from tensorflow.keras.applications import MobileNetV2\n",
        "from tensorflow.keras.layers import Input"
      ],
      "execution_count": 24,
      "outputs": []
    },
    {
      "cell_type": "code",
      "metadata": {
        "colab": {
          "base_uri": "https://localhost:8080/"
        },
        "id": "7KRENRQwOgaE",
        "outputId": "79e506fc-d8cc-4641-bcf6-db9780c31391"
      },
      "source": [
        "model_cnn = tf.keras.models.Sequential([\n",
        "    tf.keras.layers.Conv2D(128, (3,3), activation='relu', input_shape=(256,256,3)),\n",
        "    tf.keras.layers.MaxPooling2D(2,2),\n",
        "    tf.keras.layers.Conv2D(64, (3,3), activation='relu'),\n",
        "    tf.keras.layers.MaxPooling2D(2,2),\n",
        "    tf.keras.layers.Conv2D(32, (3,3), activation='relu'),\n",
        "    tf.keras.layers.MaxPooling2D(2,2),\n",
        "    tf.keras.layers.Conv2D(16, (3,3), activation='relu'),\n",
        "    tf.keras.layers.MaxPooling2D(2,2),\n",
        "    tf.keras.layers.Flatten(),\n",
        "    tf.keras.layers.Dense(256, activation='relu'),\n",
        "    tf.keras.layers.Dropout(0.5),\n",
        "    tf.keras.layers.Dense(1, activation='sigmoid')\n",
        "])\n",
        "\n",
        "model_cnn.summary()"
      ],
      "execution_count": 25,
      "outputs": [
        {
          "output_type": "stream",
          "text": [
            "Model: \"sequential\"\n",
            "_________________________________________________________________\n",
            "Layer (type)                 Output Shape              Param #   \n",
            "=================================================================\n",
            "conv2d (Conv2D)              (None, 254, 254, 128)     3584      \n",
            "_________________________________________________________________\n",
            "max_pooling2d (MaxPooling2D) (None, 127, 127, 128)     0         \n",
            "_________________________________________________________________\n",
            "conv2d_1 (Conv2D)            (None, 125, 125, 64)      73792     \n",
            "_________________________________________________________________\n",
            "max_pooling2d_1 (MaxPooling2 (None, 62, 62, 64)        0         \n",
            "_________________________________________________________________\n",
            "conv2d_2 (Conv2D)            (None, 60, 60, 32)        18464     \n",
            "_________________________________________________________________\n",
            "max_pooling2d_2 (MaxPooling2 (None, 30, 30, 32)        0         \n",
            "_________________________________________________________________\n",
            "conv2d_3 (Conv2D)            (None, 28, 28, 16)        4624      \n",
            "_________________________________________________________________\n",
            "max_pooling2d_3 (MaxPooling2 (None, 14, 14, 16)        0         \n",
            "_________________________________________________________________\n",
            "flatten (Flatten)            (None, 3136)              0         \n",
            "_________________________________________________________________\n",
            "dense (Dense)                (None, 256)               803072    \n",
            "_________________________________________________________________\n",
            "dropout (Dropout)            (None, 256)               0         \n",
            "_________________________________________________________________\n",
            "dense_1 (Dense)              (None, 1)                 257       \n",
            "=================================================================\n",
            "Total params: 903,793\n",
            "Trainable params: 903,793\n",
            "Non-trainable params: 0\n",
            "_________________________________________________________________\n"
          ],
          "name": "stdout"
        }
      ]
    },
    {
      "cell_type": "code",
      "metadata": {
        "colab": {
          "base_uri": "https://localhost:8080/"
        },
        "id": "rsH5PIKFOi2o",
        "outputId": "2518ca17-4cc6-48ad-c368-3688d505db76"
      },
      "source": [
        "print('Compiling Model.......')\n",
        "model_cnn.compile (optimizer='Adam',\n",
        "                   loss='binary_crossentropy',\n",
        "                   metrics=['accuracy'])"
      ],
      "execution_count": 26,
      "outputs": [
        {
          "output_type": "stream",
          "text": [
            "Compiling Model.......\n"
          ],
          "name": "stdout"
        }
      ]
    },
    {
      "cell_type": "code",
      "metadata": {
        "id": "DRI1cPXhOlvx"
      },
      "source": [
        "import tensorflow as tf"
      ],
      "execution_count": 27,
      "outputs": []
    },
    {
      "cell_type": "code",
      "metadata": {
        "colab": {
          "base_uri": "https://localhost:8080/",
          "height": 820
        },
        "id": "Kq5I7RHSOoBO",
        "outputId": "fad5a201-b3a3-49e6-b57b-247d0e1374ae"
      },
      "source": [
        "model_viz = tf.keras.utils.plot_model(model_cnn,\n",
        "                                      to_file='/content/drive/MyDrive/Colab Notebooks/model.png',\n",
        "                                      show_shapes=True,\n",
        "                                      rankdir='TB',\n",
        "                                      expand_nested=True,\n",
        "                                      dpi=55)\n",
        "model_viz"
      ],
      "execution_count": 28,
      "outputs": [
        {
          "output_type": "execute_result",
          "data": {
            "image/png": "[encoded data removed]",
            "text/plain": [
              "<IPython.core.display.Image object>"
            ]
          },
          "metadata": {
            "tags": []
          },
          "execution_count": 28
        }
      ]
    },
    {
      "cell_type": "code",
      "metadata": {
        "id": "WLoZrPvBOqUr"
      },
      "source": [
        "class myCallback(tf.keras.callbacks.Callback):\n",
        "  def on_epoch_end(self, epoch, logs={}):\n",
        "    if(logs.get('accuracy')>0.97):\n",
        "      print('Akurasi mencapai 97%, proses training dihentikan!')\n",
        "      self.model.stop_training = True\n",
        "\n",
        "callbacks = myCallback()"
      ],
      "execution_count": 29,
      "outputs": []
    },
    {
      "cell_type": "code",
      "metadata": {
        "colab": {
          "base_uri": "https://localhost:8080/"
        },
        "id": "e30d_4iSZ3wF",
        "outputId": "bf5416af-0e40-4337-e056-68cc3e1a51b2"
      },
      "source": [
        "history_cnn = model_cnn.fit(\n",
        "    train_generator,\n",
        "    steps_per_epoch = 50,\n",
        "    epochs = 250,\n",
        "    validation_data = test_generator,\n",
        "    validation_steps = 10,\n",
        "    callbacks = [callbacks]\n",
        ")"
      ],
      "execution_count": 30,
      "outputs": [
        {
          "output_type": "stream",
          "text": [
            "Epoch 1/250\n",
            "50/50 [==============================] - 994s 19s/step - loss: 0.5336 - accuracy: 0.7131 - val_loss: 0.4291 - val_accuracy: 0.8062\n",
            "Epoch 2/250\n",
            "50/50 [==============================] - 699s 14s/step - loss: 0.3624 - accuracy: 0.8534 - val_loss: 0.2920 - val_accuracy: 0.8844\n",
            "Epoch 3/250\n",
            "48/50 [===========================>..] - ETA: 16s - loss: 0.2895 - accuracy: 0.8802"
          ],
          "name": "stdout"
        },
        {
          "output_type": "stream",
          "text": [
            "/usr/local/lib/python3.7/dist-packages/PIL/Image.py:960: UserWarning: Palette images with Transparency expressed in bytes should be converted to RGBA images\n",
            "  \"Palette images with Transparency expressed in bytes should be \"\n"
          ],
          "name": "stderr"
        },
        {
          "output_type": "stream",
          "text": [
            "50/50 [==============================] - 486s 10s/step - loss: 0.2901 - accuracy: 0.8800 - val_loss: 0.2836 - val_accuracy: 0.8906\n",
            "Epoch 4/250\n",
            "50/50 [==============================] - 380s 8s/step - loss: 0.2739 - accuracy: 0.9013 - val_loss: 0.2736 - val_accuracy: 0.8813\n",
            "Epoch 5/250\n",
            "50/50 [==============================] - 286s 6s/step - loss: 0.2780 - accuracy: 0.8875 - val_loss: 0.2745 - val_accuracy: 0.8813\n",
            "Epoch 6/250\n",
            "50/50 [==============================] - 214s 4s/step - loss: 0.2797 - accuracy: 0.8963 - val_loss: 0.2014 - val_accuracy: 0.9250\n",
            "Epoch 7/250\n",
            "50/50 [==============================] - 171s 3s/step - loss: 0.2420 - accuracy: 0.9099 - val_loss: 0.2324 - val_accuracy: 0.9281\n",
            "Epoch 8/250\n",
            "50/50 [==============================] - 138s 3s/step - loss: 0.2316 - accuracy: 0.9100 - val_loss: 0.2693 - val_accuracy: 0.8875\n",
            "Epoch 9/250\n",
            "50/50 [==============================] - 113s 2s/step - loss: 0.2458 - accuracy: 0.9131 - val_loss: 0.1660 - val_accuracy: 0.9344\n",
            "Epoch 10/250\n",
            "50/50 [==============================] - 103s 2s/step - loss: 0.2090 - accuracy: 0.9206 - val_loss: 0.2141 - val_accuracy: 0.9000\n",
            "Epoch 11/250\n",
            "50/50 [==============================] - 73s 1s/step - loss: 0.2043 - accuracy: 0.9207 - val_loss: 0.2138 - val_accuracy: 0.9250\n",
            "Epoch 12/250\n",
            "50/50 [==============================] - 68s 1s/step - loss: 0.2328 - accuracy: 0.9087 - val_loss: 0.1597 - val_accuracy: 0.9438\n",
            "Epoch 13/250\n",
            "50/50 [==============================] - 66s 1s/step - loss: 0.2376 - accuracy: 0.9100 - val_loss: 0.1911 - val_accuracy: 0.9125\n",
            "Epoch 14/250\n",
            "50/50 [==============================] - 57s 1s/step - loss: 0.1738 - accuracy: 0.9289 - val_loss: 0.1742 - val_accuracy: 0.9406\n",
            "Epoch 15/250\n",
            "50/50 [==============================] - 55s 1s/step - loss: 0.2210 - accuracy: 0.9094 - val_loss: 0.2372 - val_accuracy: 0.9156\n",
            "Epoch 16/250\n",
            "50/50 [==============================] - 47s 941ms/step - loss: 0.1971 - accuracy: 0.9258 - val_loss: 0.1852 - val_accuracy: 0.9344\n",
            "Epoch 17/250\n",
            "50/50 [==============================] - 46s 929ms/step - loss: 0.1578 - accuracy: 0.9481 - val_loss: 0.1822 - val_accuracy: 0.9312\n",
            "Epoch 18/250\n",
            "50/50 [==============================] - 44s 886ms/step - loss: 0.1770 - accuracy: 0.9321 - val_loss: 0.1605 - val_accuracy: 0.9469\n",
            "Epoch 19/250\n",
            "50/50 [==============================] - 41s 828ms/step - loss: 0.1718 - accuracy: 0.9454 - val_loss: 0.1441 - val_accuracy: 0.9469\n",
            "Epoch 20/250\n",
            "50/50 [==============================] - 44s 881ms/step - loss: 0.1742 - accuracy: 0.9375 - val_loss: 0.1497 - val_accuracy: 0.9406\n",
            "Epoch 21/250\n",
            "50/50 [==============================] - 41s 822ms/step - loss: 0.1641 - accuracy: 0.9413 - val_loss: 0.2212 - val_accuracy: 0.9125\n",
            "Epoch 22/250\n",
            "50/50 [==============================] - 43s 862ms/step - loss: 0.1794 - accuracy: 0.9302 - val_loss: 0.1600 - val_accuracy: 0.9312\n",
            "Epoch 23/250\n",
            "50/50 [==============================] - 41s 815ms/step - loss: 0.1743 - accuracy: 0.9344 - val_loss: 0.1121 - val_accuracy: 0.9625\n",
            "Epoch 24/250\n",
            "50/50 [==============================] - 39s 783ms/step - loss: 0.1389 - accuracy: 0.9481 - val_loss: 0.1066 - val_accuracy: 0.9688\n",
            "Epoch 25/250\n",
            "50/50 [==============================] - 40s 802ms/step - loss: 0.1466 - accuracy: 0.9400 - val_loss: 0.1792 - val_accuracy: 0.9469\n",
            "Epoch 26/250\n",
            "50/50 [==============================] - 40s 802ms/step - loss: 0.1376 - accuracy: 0.9511 - val_loss: 0.2671 - val_accuracy: 0.9000\n",
            "Epoch 27/250\n",
            "50/50 [==============================] - 39s 775ms/step - loss: 0.1396 - accuracy: 0.9450 - val_loss: 0.0907 - val_accuracy: 0.9656\n",
            "Epoch 28/250\n",
            "50/50 [==============================] - 40s 800ms/step - loss: 0.1523 - accuracy: 0.9442 - val_loss: 0.1926 - val_accuracy: 0.9375\n",
            "Epoch 29/250\n",
            "50/50 [==============================] - 41s 811ms/step - loss: 0.1741 - accuracy: 0.9331 - val_loss: 0.1564 - val_accuracy: 0.9531\n",
            "Epoch 30/250\n",
            "50/50 [==============================] - 40s 792ms/step - loss: 0.1782 - accuracy: 0.9300 - val_loss: 0.1440 - val_accuracy: 0.9469\n",
            "Epoch 31/250\n",
            "50/50 [==============================] - 39s 779ms/step - loss: 0.1365 - accuracy: 0.9525 - val_loss: 0.1217 - val_accuracy: 0.9438\n",
            "Epoch 32/250\n",
            "50/50 [==============================] - 39s 771ms/step - loss: 0.1573 - accuracy: 0.9438 - val_loss: 0.1687 - val_accuracy: 0.9438\n",
            "Epoch 33/250\n",
            "50/50 [==============================] - 39s 786ms/step - loss: 0.1260 - accuracy: 0.9531 - val_loss: 0.1443 - val_accuracy: 0.9469\n",
            "Epoch 34/250\n",
            "50/50 [==============================] - 39s 783ms/step - loss: 0.1305 - accuracy: 0.9569 - val_loss: 0.1320 - val_accuracy: 0.9594\n",
            "Epoch 35/250\n",
            "50/50 [==============================] - 40s 793ms/step - loss: 0.1081 - accuracy: 0.9669 - val_loss: 0.1321 - val_accuracy: 0.9500\n",
            "Epoch 36/250\n",
            "50/50 [==============================] - 39s 783ms/step - loss: 0.1519 - accuracy: 0.9394 - val_loss: 0.1217 - val_accuracy: 0.9406\n",
            "Epoch 37/250\n",
            "50/50 [==============================] - 39s 778ms/step - loss: 0.1210 - accuracy: 0.9613 - val_loss: 0.1566 - val_accuracy: 0.9500\n",
            "Epoch 38/250\n",
            "50/50 [==============================] - 39s 774ms/step - loss: 0.1405 - accuracy: 0.9505 - val_loss: 0.1055 - val_accuracy: 0.9563\n",
            "Epoch 39/250\n",
            "50/50 [==============================] - 39s 774ms/step - loss: 0.1097 - accuracy: 0.9575 - val_loss: 0.1448 - val_accuracy: 0.9531\n",
            "Epoch 40/250\n",
            "50/50 [==============================] - 39s 775ms/step - loss: 0.1425 - accuracy: 0.9444 - val_loss: 0.1719 - val_accuracy: 0.9375\n",
            "Epoch 41/250\n",
            "50/50 [==============================] - 38s 765ms/step - loss: 0.1236 - accuracy: 0.9556 - val_loss: 0.1104 - val_accuracy: 0.9469\n",
            "Epoch 42/250\n",
            "50/50 [==============================] - 38s 768ms/step - loss: 0.1042 - accuracy: 0.9626 - val_loss: 0.0748 - val_accuracy: 0.9719\n",
            "Epoch 43/250\n",
            "50/50 [==============================] - 40s 791ms/step - loss: 0.1063 - accuracy: 0.9638 - val_loss: 0.1814 - val_accuracy: 0.9500\n",
            "Epoch 44/250\n",
            "50/50 [==============================] - 39s 779ms/step - loss: 0.0955 - accuracy: 0.9657 - val_loss: 0.1175 - val_accuracy: 0.9719\n",
            "Epoch 45/250\n",
            "50/50 [==============================] - 38s 762ms/step - loss: 0.1015 - accuracy: 0.9645 - val_loss: 0.0848 - val_accuracy: 0.9750\n",
            "Epoch 46/250\n",
            "50/50 [==============================] - 39s 774ms/step - loss: 0.0993 - accuracy: 0.9613 - val_loss: 0.0690 - val_accuracy: 0.9812\n",
            "Epoch 47/250\n",
            "50/50 [==============================] - 39s 778ms/step - loss: 0.1168 - accuracy: 0.9606 - val_loss: 0.1070 - val_accuracy: 0.9656\n",
            "Epoch 48/250\n",
            "50/50 [==============================] - 38s 769ms/step - loss: 0.1122 - accuracy: 0.9556 - val_loss: 0.0881 - val_accuracy: 0.9625\n",
            "Epoch 49/250\n",
            "50/50 [==============================] - 39s 775ms/step - loss: 0.1073 - accuracy: 0.9625 - val_loss: 0.0952 - val_accuracy: 0.9781\n",
            "Epoch 50/250\n",
            "50/50 [==============================] - 39s 776ms/step - loss: 0.0947 - accuracy: 0.9664 - val_loss: 0.1394 - val_accuracy: 0.9531\n",
            "Epoch 51/250\n",
            "50/50 [==============================] - 39s 788ms/step - loss: 0.1048 - accuracy: 0.9600 - val_loss: 0.0947 - val_accuracy: 0.9719\n",
            "Epoch 52/250\n",
            "50/50 [==============================] - 39s 786ms/step - loss: 0.0885 - accuracy: 0.9644 - val_loss: 0.1703 - val_accuracy: 0.9438\n",
            "Epoch 53/250\n",
            "50/50 [==============================] - 39s 781ms/step - loss: 0.1019 - accuracy: 0.9650 - val_loss: 0.0864 - val_accuracy: 0.9656\n",
            "Epoch 54/250\n",
            "50/50 [==============================] - 39s 787ms/step - loss: 0.0854 - accuracy: 0.9706 - val_loss: 0.0673 - val_accuracy: 0.9781\n",
            "Akurasi mencapai 97%, proses training dihentikan!\n"
          ],
          "name": "stdout"
        }
      ]
    },
    {
      "cell_type": "code",
      "metadata": {
        "id": "WpkW4dgWTj2G"
      },
      "source": [
        "from matplotlib import pyplot as plt"
      ],
      "execution_count": 31,
      "outputs": []
    },
    {
      "cell_type": "code",
      "metadata": {
        "colab": {
          "base_uri": "https://localhost:8080/",
          "height": 545
        },
        "id": "P8TwTWuPNuoQ",
        "outputId": "f88d35ca-d49b-4976-b710-fcaa3ac440b7"
      },
      "source": [
        "acc = history_cnn.history['accuracy']\n",
        "val_acc = history_cnn.history['val_accuracy']\n",
        "loss = history_cnn.history['loss']\n",
        "val_loss = history_cnn.history['val_loss']\n",
        "\n",
        "epochs = range(len(acc))\n",
        "\n",
        "plt.plot(epochs, acc, 'blue', label='Training accuracy')\n",
        "plt.plot(epochs, val_acc, 'orange', label='Validation accuracy')\n",
        "plt.title('Training and validation accuracy')\n",
        "plt.legend()\n",
        "plt.figure()\n",
        "\n",
        "plt.plot(epochs, loss, 'blue', label='Training Loss')\n",
        "plt.plot(epochs, val_loss, 'orange', label='Validation Loss')\n",
        "plt.title('Training and validation loss')\n",
        "plt.legend()\n",
        "\n",
        "plt.show()"
      ],
      "execution_count": 32,
      "outputs": [
        {
          "output_type": "display_data",
          "data": {
            "image/png": "[encoded data removed]",
            "text/plain": [
              "<Figure size 432x288 with 1 Axes>"
            ]
          },
          "metadata": {
            "tags": [],
            "needs_background": "light"
          }
        },
        {
          "output_type": "display_data",
          "data": {
            "image/png": "[encoded data removed]",
            "text/plain": [
              "<Figure size 432x288 with 1 Axes>"
            ]
          },
          "metadata": {
            "tags": [],
            "needs_background": "light"
          }
        }
      ]
    },
    {
      "cell_type": "code",
      "metadata": {
        "id": "Iet1fIE8X2Fz"
      },
      "source": [
        "#save model\n",
        "import os"
      ],
      "execution_count": 33,
      "outputs": []
    },
    {
      "cell_type": "code",
      "metadata": {
        "colab": {
          "base_uri": "https://localhost:8080/"
        },
        "id": "yYR10j5_aEgf",
        "outputId": "f1710375-a6e8-4b05-dd94-15633599baca"
      },
      "source": [
        "cd'/content/drive/MyDrive/Colab Notebooks'"
      ],
      "execution_count": 34,
      "outputs": [
        {
          "output_type": "stream",
          "text": [
            "/content/drive/MyDrive/Colab Notebooks\n"
          ],
          "name": "stdout"
        }
      ]
    },
    {
      "cell_type": "code",
      "metadata": {
        "id": "dxvKouakCizK",
        "outputId": "2ab66ea7-546d-4a70-8c40-09599535d1ba",
        "colab": {
          "base_uri": "https://localhost:8080/"
        }
      },
      "source": [
        "MODEL_BASE_PATH = \"Model\"\n",
        "PROJECT_NAME =\"CNN\"\n",
        "SAVE_MODEL_NAME = \"Model_CNN67.h5\"\n",
        "save_model_path = os.path.join(MODEL_BASE_PATH, PROJECT_NAME, SAVE_MODEL_NAME)\n",
        "if os.path.exists(os.path.join(MODEL_BASE_PATH, PROJECT_NAME)) == False:\n",
        "    os.makedirs(os.path.join(MODEL_BASE_PATH, PROJECT_NAME))\n",
        "    \n",
        "print('Saving Model At {}...'.format(save_model_path))\n",
        "model_cnn.save(save_model_path,include_optimizer=False)"
      ],
      "execution_count": 35,
      "outputs": [
        {
          "output_type": "stream",
          "text": [
            "Saving Model At Model/CNN/Model_CNN67.h5...\n"
          ],
          "name": "stdout"
        }
      ]
    },
    {
      "cell_type": "markdown",
      "metadata": {
        "id": "GAVX_Cr2-AaL"
      },
      "source": [
        "# Bagian Baru"
      ]
    },
    {
      "cell_type": "code",
      "metadata": {
        "id": "yJBBfCPhEJMf"
      },
      "source": [
        ""
      ],
      "execution_count": null,
      "outputs": []
    }
  ]
}