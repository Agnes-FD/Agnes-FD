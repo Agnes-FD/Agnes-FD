{
  "nbformat": 4,
  "nbformat_minor": 0,
  "metadata": {
    "colab": {
      "name": "Untitled2.ipynb",
      "provenance": [],
      "authorship_tag": "ABX9TyO3VKQPlY1lA8+qLEox1f8N",
      "include_colab_link": true
    },
    "kernelspec": {
      "name": "python3",
      "display_name": "Python 3"
    },
    "language_info": {
      "name": "python"
    },
    "widgets": {
      "application/vnd.jupyter.widget-state+json": {
        "3a0438efe9c94bccaa4664fe8e9fe470": {
          "model_module": "@jupyter-widgets/controls",
          "model_name": "HBoxModel",
          "state": {
            "_view_name": "HBoxView",
            "_dom_classes": [],
            "_model_name": "HBoxModel",
            "_view_module": "@jupyter-widgets/controls",
            "_model_module_version": "1.5.0",
            "_view_count": null,
            "_view_module_version": "1.5.0",
            "box_style": "",
            "layout": "IPY_MODEL_b6c8c3f9b78d4082abcbfbff32f12bf5",
            "_model_module": "@jupyter-widgets/controls",
            "children": [
              "IPY_MODEL_bcb22bbb58784038b6910cfc17c87472",
              "IPY_MODEL_642e2749715e477d96a9aca2418217c0"
            ]
          }
        },
        "b6c8c3f9b78d4082abcbfbff32f12bf5": {
          "model_module": "@jupyter-widgets/base",
          "model_name": "LayoutModel",
          "state": {
            "_view_name": "LayoutView",
            "grid_template_rows": null,
            "right": null,
            "justify_content": null,
            "_view_module": "@jupyter-widgets/base",
            "overflow": null,
            "_model_module_version": "1.2.0",
            "_view_count": null,
            "flex_flow": null,
            "width": null,
            "min_width": null,
            "border": null,
            "align_items": null,
            "bottom": null,
            "_model_module": "@jupyter-widgets/base",
            "top": null,
            "grid_column": null,
            "overflow_y": null,
            "overflow_x": null,
            "grid_auto_flow": null,
            "grid_area": null,
            "grid_template_columns": null,
            "flex": null,
            "_model_name": "LayoutModel",
            "justify_items": null,
            "grid_row": null,
            "max_height": null,
            "align_content": null,
            "visibility": null,
            "align_self": null,
            "height": null,
            "min_height": null,
            "padding": null,
            "grid_auto_rows": null,
            "grid_gap": null,
            "max_width": null,
            "order": null,
            "_view_module_version": "1.2.0",
            "grid_template_areas": null,
            "object_position": null,
            "object_fit": null,
            "grid_auto_columns": null,
            "margin": null,
            "display": null,
            "left": null
          }
        },
        "bcb22bbb58784038b6910cfc17c87472": {
          "model_module": "@jupyter-widgets/controls",
          "model_name": "FloatProgressModel",
          "state": {
            "_view_name": "ProgressView",
            "style": "IPY_MODEL_a1a5626a19174b5b99fefbfa4977e486",
            "_dom_classes": [],
            "description": "",
            "_model_name": "FloatProgressModel",
            "bar_style": "success",
            "max": 1,
            "_view_module": "@jupyter-widgets/controls",
            "_model_module_version": "1.5.0",
            "value": 1,
            "_view_count": null,
            "_view_module_version": "1.5.0",
            "orientation": "horizontal",
            "min": 0,
            "description_tooltip": null,
            "_model_module": "@jupyter-widgets/controls",
            "layout": "IPY_MODEL_d80b55af157548f5aac315571517dca9"
          }
        },
        "642e2749715e477d96a9aca2418217c0": {
          "model_module": "@jupyter-widgets/controls",
          "model_name": "HTMLModel",
          "state": {
            "_view_name": "HTMLView",
            "style": "IPY_MODEL_930a70a0a6d64f05b12398f3329f7ab0",
            "_dom_classes": [],
            "description": "",
            "_model_name": "HTMLModel",
            "placeholder": "​",
            "_view_module": "@jupyter-widgets/controls",
            "_model_module_version": "1.5.0",
            "value": " 7631/? [00:37&lt;00:00, 204.99it/s]",
            "_view_count": null,
            "_view_module_version": "1.5.0",
            "description_tooltip": null,
            "_model_module": "@jupyter-widgets/controls",
            "layout": "IPY_MODEL_f49b3511e9ab4dfd840758c79add39fe"
          }
        },
        "a1a5626a19174b5b99fefbfa4977e486": {
          "model_module": "@jupyter-widgets/controls",
          "model_name": "ProgressStyleModel",
          "state": {
            "_view_name": "StyleView",
            "_model_name": "ProgressStyleModel",
            "description_width": "initial",
            "_view_module": "@jupyter-widgets/base",
            "_model_module_version": "1.5.0",
            "_view_count": null,
            "_view_module_version": "1.2.0",
            "bar_color": null,
            "_model_module": "@jupyter-widgets/controls"
          }
        },
        "d80b55af157548f5aac315571517dca9": {
          "model_module": "@jupyter-widgets/base",
          "model_name": "LayoutModel",
          "state": {
            "_view_name": "LayoutView",
            "grid_template_rows": null,
            "right": null,
            "justify_content": null,
            "_view_module": "@jupyter-widgets/base",
            "overflow": null,
            "_model_module_version": "1.2.0",
            "_view_count": null,
            "flex_flow": null,
            "width": null,
            "min_width": null,
            "border": null,
            "align_items": null,
            "bottom": null,
            "_model_module": "@jupyter-widgets/base",
            "top": null,
            "grid_column": null,
            "overflow_y": null,
            "overflow_x": null,
            "grid_auto_flow": null,
            "grid_area": null,
            "grid_template_columns": null,
            "flex": null,
            "_model_name": "LayoutModel",
            "justify_items": null,
            "grid_row": null,
            "max_height": null,
            "align_content": null,
            "visibility": null,
            "align_self": null,
            "height": null,
            "min_height": null,
            "padding": null,
            "grid_auto_rows": null,
            "grid_gap": null,
            "max_width": null,
            "order": null,
            "_view_module_version": "1.2.0",
            "grid_template_areas": null,
            "object_position": null,
            "object_fit": null,
            "grid_auto_columns": null,
            "margin": null,
            "display": null,
            "left": null
          }
        },
        "930a70a0a6d64f05b12398f3329f7ab0": {
          "model_module": "@jupyter-widgets/controls",
          "model_name": "DescriptionStyleModel",
          "state": {
            "_view_name": "StyleView",
            "_model_name": "DescriptionStyleModel",
            "description_width": "",
            "_view_module": "@jupyter-widgets/base",
            "_model_module_version": "1.5.0",
            "_view_count": null,
            "_view_module_version": "1.2.0",
            "_model_module": "@jupyter-widgets/controls"
          }
        },
        "f49b3511e9ab4dfd840758c79add39fe": {
          "model_module": "@jupyter-widgets/base",
          "model_name": "LayoutModel",
          "state": {
            "_view_name": "LayoutView",
            "grid_template_rows": null,
            "right": null,
            "justify_content": null,
            "_view_module": "@jupyter-widgets/base",
            "overflow": null,
            "_model_module_version": "1.2.0",
            "_view_count": null,
            "flex_flow": null,
            "width": null,
            "min_width": null,
            "border": null,
            "align_items": null,
            "bottom": null,
            "_model_module": "@jupyter-widgets/base",
            "top": null,
            "grid_column": null,
            "overflow_y": null,
            "overflow_x": null,
            "grid_auto_flow": null,
            "grid_area": null,
            "grid_template_columns": null,
            "flex": null,
            "_model_name": "LayoutModel",
            "justify_items": null,
            "grid_row": null,
            "max_height": null,
            "align_content": null,
            "visibility": null,
            "align_self": null,
            "height": null,
            "min_height": null,
            "padding": null,
            "grid_auto_rows": null,
            "grid_gap": null,
            "max_width": null,
            "order": null,
            "_view_module_version": "1.2.0",
            "grid_template_areas": null,
            "object_position": null,
            "object_fit": null,
            "grid_auto_columns": null,
            "margin": null,
            "display": null,
            "left": null
          }
        }
      }
    }
  },
  "cells": [
    {
      "cell_type": "markdown",
      "metadata": {
        "id": "view-in-github",
        "colab_type": "text"
      },
      "source": [
        "<a href=\"https://colab.research.google.com/github/Agnes-FD/Agnes-FD/blob/main/Model_CNN24.ipynb\" target=\"_parent\"><img src=\"https://colab.research.google.com/assets/colab-badge.svg\" alt=\"Open In Colab\"/></a>"
      ]
    },
    {
      "cell_type": "code",
      "metadata": {
        "colab": {
          "base_uri": "https://localhost:8080/"
        },
        "id": "sn_58VJjmsze",
        "outputId": "40db3a7b-0d13-419d-89a4-3f6e73a6a184"
      },
      "source": [
        "from google.colab import drive\n",
        "drive.mount ('/content/drive')"
      ],
      "execution_count": 1,
      "outputs": [
        {
          "output_type": "stream",
          "text": [
            "Mounted at /content/drive\n"
          ],
          "name": "stdout"
        }
      ]
    },
    {
      "cell_type": "code",
      "metadata": {
        "colab": {
          "base_uri": "https://localhost:8080/"
        },
        "id": "QHK1nFAim8NA",
        "outputId": "9006f48e-cef3-4bb1-909a-b6042f7074a8"
      },
      "source": [
        "cd '/content/drive/MyDrive/data'"
      ],
      "execution_count": 2,
      "outputs": [
        {
          "output_type": "stream",
          "text": [
            "/content/drive/MyDrive/data\n"
          ],
          "name": "stdout"
        }
      ]
    },
    {
      "cell_type": "code",
      "metadata": {
        "colab": {
          "base_uri": "https://localhost:8080/"
        },
        "id": "EOm1Ol6NnbmF",
        "outputId": "f1f3bfa8-88ac-4cf9-db69-c362c84f9c11"
      },
      "source": [
        "ls"
      ],
      "execution_count": 3,
      "outputs": [
        {
          "output_type": "stream",
          "text": [
            "\u001b[0m\u001b[01;34mwith_mask\u001b[0m/  \u001b[01;34mwithout_mask\u001b[0m/\n"
          ],
          "name": "stdout"
        }
      ]
    },
    {
      "cell_type": "code",
      "metadata": {
        "id": "myU-sCsTndPY"
      },
      "source": [
        "import os\n",
        "path = '/content/drive/MyDrive/data'\n",
        "# Membuat Label pada gambar berdasarkan klasifikasi\n",
        "file_name = []\n",
        "tag = []\n",
        "full_path = []\n",
        "for path, subdirs, files in os.walk(path):\n",
        "  for name in files:\n",
        "    full_path.append(os.path.join(path, name))\n",
        "    tag.append(path.split('/')[-1])\n",
        "    file_name.append(name)"
      ],
      "execution_count": 4,
      "outputs": []
    },
    {
      "cell_type": "code",
      "metadata": {
        "colab": {
          "base_uri": "https://localhost:8080/"
        },
        "id": "V-zICI4-ni5D",
        "outputId": "fcb885e0-d38c-4b0d-c8cc-e31526070105"
      },
      "source": [
        "# Membuat dataframe berdasarkan hasil klasifikasi data yang sudah diberi label\n",
        "import pandas as pd\n",
        "\n",
        "df = pd.DataFrame({\"path\":full_path, \"file_name\": file_name, \"tag\":tag})\n",
        "df.groupby(['tag']).size()"
      ],
      "execution_count": 5,
      "outputs": [
        {
          "output_type": "execute_result",
          "data": {
            "text/plain": [
              "tag\n",
              "with_mask       3778\n",
              "without_mask    3853\n",
              "dtype: int64"
            ]
          },
          "metadata": {
            "tags": []
          },
          "execution_count": 5
        }
      ]
    },
    {
      "cell_type": "code",
      "metadata": {
        "colab": {
          "base_uri": "https://localhost:8080/",
          "height": 424
        },
        "id": "68SoblNsnjjS",
        "outputId": "ec5653dd-477d-482e-f356-8f24feff19b1"
      },
      "source": [
        "# cek data yang sudah diberi label\n",
        "df"
      ],
      "execution_count": 6,
      "outputs": [
        {
          "output_type": "execute_result",
          "data": {
            "text/html": [
              "<div>\n",
              "<style scoped>\n",
              "    .dataframe tbody tr th:only-of-type {\n",
              "        vertical-align: middle;\n",
              "    }\n",
              "\n",
              "    .dataframe tbody tr th {\n",
              "        vertical-align: top;\n",
              "    }\n",
              "\n",
              "    .dataframe thead th {\n",
              "        text-align: right;\n",
              "    }\n",
              "</style>\n",
              "<table border=\"1\" class=\"dataframe\">\n",
              "  <thead>\n",
              "    <tr style=\"text-align: right;\">\n",
              "      <th></th>\n",
              "      <th>path</th>\n",
              "      <th>file_name</th>\n",
              "      <th>tag</th>\n",
              "    </tr>\n",
              "  </thead>\n",
              "  <tbody>\n",
              "    <tr>\n",
              "      <th>0</th>\n",
              "      <td>/content/drive/MyDrive/data/with_mask/with_mas...</td>\n",
              "      <td>with_mask_3364.jpg</td>\n",
              "      <td>with_mask</td>\n",
              "    </tr>\n",
              "    <tr>\n",
              "      <th>1</th>\n",
              "      <td>/content/drive/MyDrive/data/with_mask/with_mas...</td>\n",
              "      <td>with_mask_3385.jpg</td>\n",
              "      <td>with_mask</td>\n",
              "    </tr>\n",
              "    <tr>\n",
              "      <th>2</th>\n",
              "      <td>/content/drive/MyDrive/data/with_mask/with_mas...</td>\n",
              "      <td>with_mask_3421.jpg</td>\n",
              "      <td>with_mask</td>\n",
              "    </tr>\n",
              "    <tr>\n",
              "      <th>3</th>\n",
              "      <td>/content/drive/MyDrive/data/with_mask/with_mas...</td>\n",
              "      <td>with_mask_3490.jpg</td>\n",
              "      <td>with_mask</td>\n",
              "    </tr>\n",
              "    <tr>\n",
              "      <th>4</th>\n",
              "      <td>/content/drive/MyDrive/data/with_mask/with_mas...</td>\n",
              "      <td>with_mask_3399.jpg</td>\n",
              "      <td>with_mask</td>\n",
              "    </tr>\n",
              "    <tr>\n",
              "      <th>...</th>\n",
              "      <td>...</td>\n",
              "      <td>...</td>\n",
              "      <td>...</td>\n",
              "    </tr>\n",
              "    <tr>\n",
              "      <th>7626</th>\n",
              "      <td>/content/drive/MyDrive/data/without_mask/witho...</td>\n",
              "      <td>without_mask_2009.jpg</td>\n",
              "      <td>without_mask</td>\n",
              "    </tr>\n",
              "    <tr>\n",
              "      <th>7627</th>\n",
              "      <td>/content/drive/MyDrive/data/without_mask/witho...</td>\n",
              "      <td>without_mask_1666.jpg</td>\n",
              "      <td>without_mask</td>\n",
              "    </tr>\n",
              "    <tr>\n",
              "      <th>7628</th>\n",
              "      <td>/content/drive/MyDrive/data/without_mask/witho...</td>\n",
              "      <td>without_mask_1744.jpg</td>\n",
              "      <td>without_mask</td>\n",
              "    </tr>\n",
              "    <tr>\n",
              "      <th>7629</th>\n",
              "      <td>/content/drive/MyDrive/data/without_mask/witho...</td>\n",
              "      <td>without_mask_2431.jpg</td>\n",
              "      <td>without_mask</td>\n",
              "    </tr>\n",
              "    <tr>\n",
              "      <th>7630</th>\n",
              "      <td>/content/drive/MyDrive/data/without_mask/witho...</td>\n",
              "      <td>without_mask_2151.jpg</td>\n",
              "      <td>without_mask</td>\n",
              "    </tr>\n",
              "  </tbody>\n",
              "</table>\n",
              "<p>7631 rows × 3 columns</p>\n",
              "</div>"
            ],
            "text/plain": [
              "                                                   path  ...           tag\n",
              "0     /content/drive/MyDrive/data/with_mask/with_mas...  ...     with_mask\n",
              "1     /content/drive/MyDrive/data/with_mask/with_mas...  ...     with_mask\n",
              "2     /content/drive/MyDrive/data/with_mask/with_mas...  ...     with_mask\n",
              "3     /content/drive/MyDrive/data/with_mask/with_mas...  ...     with_mask\n",
              "4     /content/drive/MyDrive/data/with_mask/with_mas...  ...     with_mask\n",
              "...                                                 ...  ...           ...\n",
              "7626  /content/drive/MyDrive/data/without_mask/witho...  ...  without_mask\n",
              "7627  /content/drive/MyDrive/data/without_mask/witho...  ...  without_mask\n",
              "7628  /content/drive/MyDrive/data/without_mask/witho...  ...  without_mask\n",
              "7629  /content/drive/MyDrive/data/without_mask/witho...  ...  without_mask\n",
              "7630  /content/drive/MyDrive/data/without_mask/witho...  ...  without_mask\n",
              "\n",
              "[7631 rows x 3 columns]"
            ]
          },
          "metadata": {
            "tags": []
          },
          "execution_count": 6
        }
      ]
    },
    {
      "cell_type": "code",
      "metadata": {
        "id": "-3inylbhnl8r"
      },
      "source": [
        "# Membagi dataset menjadi dua bagian (train dan test)\n",
        "from sklearn.model_selection import train_test_split\n",
        "\n",
        "x = df['path']\n",
        "y = df['tag']\n",
        "\n",
        "x_train, x_test, y_train, y_test = train_test_split(\n",
        "    x,y, test_size= 0.20, random_state=300)\n",
        "x_test, x_val, y_test, y_val = train_test_split(\n",
        "    x_test,y_test, test_size=0.5, random_state=100\n",
        ")"
      ],
      "execution_count": 7,
      "outputs": []
    },
    {
      "cell_type": "code",
      "metadata": {
        "id": "4Fo3MI_0noYG"
      },
      "source": [
        "# menyatukan kedalam masing-masing dataframe\n",
        "df_test = pd.DataFrame({\n",
        "    'path' : x_test,\n",
        "    'tag' : y_test,\n",
        "    'set' : 'test'\n",
        "})\n",
        "\n",
        "df_train = pd.DataFrame({\n",
        "    'path' : x_train,\n",
        "    'tag' : y_train,\n",
        "    'set' : 'train'\n",
        "})\n",
        "df_val = pd.DataFrame({\n",
        "    'path' : x_val,\n",
        "    'tag' : y_val,\n",
        "    'set' : 'validation'\n",
        "})"
      ],
      "execution_count": 8,
      "outputs": []
    },
    {
      "cell_type": "code",
      "metadata": {
        "colab": {
          "base_uri": "https://localhost:8080/"
        },
        "id": "jKXMriWLnr1j",
        "outputId": "cf1f4daa-f1cf-4d73-a481-241f7a34797a"
      },
      "source": [
        "print('train size', len(df_train))\n",
        "print('test size', len(df_test))\n",
        "print('validation size', len(df_val))"
      ],
      "execution_count": 9,
      "outputs": [
        {
          "output_type": "stream",
          "text": [
            "train size 6104\n",
            "test size 763\n",
            "validation size 764\n"
          ],
          "name": "stdout"
        }
      ]
    },
    {
      "cell_type": "code",
      "metadata": {
        "colab": {
          "base_uri": "https://localhost:8080/",
          "height": 415
        },
        "id": "pyDbUPP1nuK3",
        "outputId": "15860aa9-1a78-4dc2-f27e-375698af4ac3"
      },
      "source": [
        "# melihat masing-masing dataset apakah sudah sesuai atau belum\n",
        "df_all = df_train.append([df_test, df_val]).reset_index(drop=1)\n",
        "\n",
        "print('===================================================== \\n')\n",
        "print(df_all.groupby(['set','tag']).size(),'\\n')\n",
        "\n",
        "print('===================================================== \\n')\n",
        "\n",
        "df_all.sample(4)"
      ],
      "execution_count": 10,
      "outputs": [
        {
          "output_type": "stream",
          "text": [
            "===================================================== \n",
            "\n",
            "set         tag         \n",
            "test        with_mask        345\n",
            "            without_mask     418\n",
            "train       with_mask       3047\n",
            "            without_mask    3057\n",
            "validation  with_mask        386\n",
            "            without_mask     378\n",
            "dtype: int64 \n",
            "\n",
            "===================================================== \n",
            "\n"
          ],
          "name": "stdout"
        },
        {
          "output_type": "execute_result",
          "data": {
            "text/html": [
              "<div>\n",
              "<style scoped>\n",
              "    .dataframe tbody tr th:only-of-type {\n",
              "        vertical-align: middle;\n",
              "    }\n",
              "\n",
              "    .dataframe tbody tr th {\n",
              "        vertical-align: top;\n",
              "    }\n",
              "\n",
              "    .dataframe thead th {\n",
              "        text-align: right;\n",
              "    }\n",
              "</style>\n",
              "<table border=\"1\" class=\"dataframe\">\n",
              "  <thead>\n",
              "    <tr style=\"text-align: right;\">\n",
              "      <th></th>\n",
              "      <th>path</th>\n",
              "      <th>tag</th>\n",
              "      <th>set</th>\n",
              "    </tr>\n",
              "  </thead>\n",
              "  <tbody>\n",
              "    <tr>\n",
              "      <th>6177</th>\n",
              "      <td>/content/drive/MyDrive/data/with_mask/with_mas...</td>\n",
              "      <td>with_mask</td>\n",
              "      <td>test</td>\n",
              "    </tr>\n",
              "    <tr>\n",
              "      <th>2901</th>\n",
              "      <td>/content/drive/MyDrive/data/with_mask/with_mas...</td>\n",
              "      <td>with_mask</td>\n",
              "      <td>train</td>\n",
              "    </tr>\n",
              "    <tr>\n",
              "      <th>5788</th>\n",
              "      <td>/content/drive/MyDrive/data/without_mask/witho...</td>\n",
              "      <td>without_mask</td>\n",
              "      <td>train</td>\n",
              "    </tr>\n",
              "    <tr>\n",
              "      <th>1136</th>\n",
              "      <td>/content/drive/MyDrive/data/without_mask/witho...</td>\n",
              "      <td>without_mask</td>\n",
              "      <td>train</td>\n",
              "    </tr>\n",
              "  </tbody>\n",
              "</table>\n",
              "</div>"
            ],
            "text/plain": [
              "                                                   path           tag    set\n",
              "6177  /content/drive/MyDrive/data/with_mask/with_mas...     with_mask   test\n",
              "2901  /content/drive/MyDrive/data/with_mask/with_mas...     with_mask  train\n",
              "5788  /content/drive/MyDrive/data/without_mask/witho...  without_mask  train\n",
              "1136  /content/drive/MyDrive/data/without_mask/witho...  without_mask  train"
            ]
          },
          "metadata": {
            "tags": []
          },
          "execution_count": 10
        }
      ]
    },
    {
      "cell_type": "code",
      "metadata": {
        "id": "N6mDF0bQnw7x"
      },
      "source": [
        "# Memindahkan dataset\n",
        "import shutil\n",
        "from tqdm.notebook import tqdm as tq"
      ],
      "execution_count": 11,
      "outputs": []
    },
    {
      "cell_type": "code",
      "metadata": {
        "id": "RfjRf7QKnzBk"
      },
      "source": [
        "datasource_path = '/content/drive/MyDrive/data'\n",
        "dataset_path = '/content/drive/MyDrive/dataset'"
      ],
      "execution_count": 12,
      "outputs": []
    },
    {
      "cell_type": "code",
      "metadata": {
        "colab": {
          "base_uri": "https://localhost:8080/",
          "height": 67,
          "referenced_widgets": [
            "3a0438efe9c94bccaa4664fe8e9fe470",
            "b6c8c3f9b78d4082abcbfbff32f12bf5",
            "bcb22bbb58784038b6910cfc17c87472",
            "642e2749715e477d96a9aca2418217c0",
            "a1a5626a19174b5b99fefbfa4977e486",
            "d80b55af157548f5aac315571517dca9",
            "930a70a0a6d64f05b12398f3329f7ab0",
            "f49b3511e9ab4dfd840758c79add39fe"
          ]
        },
        "id": "ZF1u80pNn0u4",
        "outputId": "c3ce9863-e989-442c-e6cb-60c2ab42e800"
      },
      "source": [
        "for index, row in tq(df_all.iterrows()):\n",
        "  file_path = row['path']\n",
        "\n",
        "  if os.path.exists(file_path) == False:\n",
        "    file_path = os.path.join(datasource_path, row['tag'], row['image'].split('.')[0])\n",
        "\n",
        "  if os.path.exists(os.path.join(dataset_path, row['set'], row['tag'])) == False:\n",
        "    os.makedirs(os.path.join(dataset_path, row['set'], row['tag']))\n",
        "  \n",
        "  destination_file_name = file_path.split('/')[-1]\n",
        "  file_dest = os.path.join(dataset_path, row['set'], row['tag'], destination_file_name)\n",
        "\n",
        "  if os.path.exists(file_dest) == False:\n",
        "    shutil.copy2(file_path, file_dest)"
      ],
      "execution_count": 13,
      "outputs": [
        {
          "output_type": "display_data",
          "data": {
            "application/vnd.jupyter.widget-view+json": {
              "model_id": "3a0438efe9c94bccaa4664fe8e9fe470",
              "version_minor": 0,
              "version_major": 2
            },
            "text/plain": [
              "HBox(children=(FloatProgress(value=1.0, bar_style='info', max=1.0), HTML(value='')))"
            ]
          },
          "metadata": {
            "tags": []
          }
        },
        {
          "output_type": "stream",
          "text": [
            "\n"
          ],
          "name": "stdout"
        }
      ]
    },
    {
      "cell_type": "code",
      "metadata": {
        "id": "ckVLbsJbn2iK"
      },
      "source": [
        "# Define Directory\n",
        "base_dir = '/content/drive/MyDrive/dataset'\n",
        "train_dir = os.path.join(base_dir, 'train')\n",
        "test_dir = os.path.join(base_dir, 'test')\n",
        "val_dir = os.path.join(base_dir, 'validation')"
      ],
      "execution_count": 14,
      "outputs": []
    },
    {
      "cell_type": "code",
      "metadata": {
        "id": "tTPsE5kGn5WX"
      },
      "source": [
        "#train test split\n",
        "from sklearn.model_selection import train_test_split"
      ],
      "execution_count": 15,
      "outputs": []
    },
    {
      "cell_type": "code",
      "metadata": {
        "id": "lXJZP-wfn9h4"
      },
      "source": [
        "train_without_mask_dir = os.path.join(train_dir, 'without_mask')\n",
        "train_with_mask_dir = os.path.join(train_dir, 'with_mask')\n",
        "test_without_mask_dir = os.path.join(test_dir, 'without_mask')\n",
        "test_with_mask_dir = os.path.join(test_dir, 'with_mask')\n",
        "val_without_mask_dir = os.path.join(val_dir, 'without_mask')\n",
        "val_with_mask_dir = os.path.join(val_dir, 'with_mask')"
      ],
      "execution_count": 16,
      "outputs": []
    },
    {
      "cell_type": "code",
      "metadata": {
        "colab": {
          "base_uri": "https://localhost:8080/"
        },
        "id": "pQB28lfan-mG",
        "outputId": "2dc07efd-5b67-47ed-8efc-ccc53ce07f63"
      },
      "source": [
        "import tensorflow as tf\n",
        "from tensorflow.keras.optimizers import RMSprop\n",
        "from tensorflow.keras.preprocessing.image import ImageDataGenerator\n",
        "\n",
        "print(tf.__version__)"
      ],
      "execution_count": 17,
      "outputs": [
        {
          "output_type": "stream",
          "text": [
            "2.4.1\n"
          ],
          "name": "stdout"
        }
      ]
    },
    {
      "cell_type": "code",
      "metadata": {
        "colab": {
          "base_uri": "https://localhost:8080/"
        },
        "id": "l86LkcW3oC3J",
        "outputId": "01f62fb6-7412-4138-91d6-1d1f32a5d257"
      },
      "source": [
        "#Image Augmentation\n",
        "datagen = ImageDataGenerator(\n",
        "    rescale = 1./255,\n",
        "    rotation_range = 20,\n",
        "    horizontal_flip=True,\n",
        "    shear_range=0.2,\n",
        "    fill_mode='nearest'\n",
        ")\n",
        "\n",
        "train_generator = datagen.flow_from_directory(\n",
        "    train_dir,\n",
        "    target_size = (32, 32),\n",
        "    batch_size = 32,\n",
        "    class_mode = 'binary'\n",
        ")\n",
        "\n",
        "test_generator = datagen.flow_from_directory(\n",
        "    test_dir,\n",
        "    target_size = (32,32),\n",
        "    batch_size = 32,\n",
        "    class_mode = 'binary'\n",
        ")\n",
        "val_generator = datagen.flow_from_directory(\n",
        "    test_dir,\n",
        "    target_size = (32, 32),\n",
        "    batch_size = 32,\n",
        "    class_mode = 'binary'\n",
        ")"
      ],
      "execution_count": 28,
      "outputs": [
        {
          "output_type": "stream",
          "text": [
            "Found 7416 images belonging to 2 classes.\n",
            "Found 1870 images belonging to 2 classes.\n",
            "Found 1870 images belonging to 2 classes.\n"
          ],
          "name": "stdout"
        }
      ]
    },
    {
      "cell_type": "code",
      "metadata": {
        "id": "KRHOPgiloGK1"
      },
      "source": [
        "# Membuat Model CNN menggunakan Transfer Learning MobileNetV2\n",
        "from tensorflow.keras.applications import MobileNetV2\n",
        "from tensorflow.keras.layers import Input"
      ],
      "execution_count": 29,
      "outputs": []
    },
    {
      "cell_type": "code",
      "metadata": {
        "colab": {
          "base_uri": "https://localhost:8080/"
        },
        "id": "8Fg5tywWoKA6",
        "outputId": "c74926f2-813a-4362-84c4-55a00e06645c"
      },
      "source": [
        "model_cnn = tf.keras.models.Sequential([\n",
        "    tf.keras.layers.Conv2D(32, (3,3), activation='relu', input_shape=(32,32,3)),\n",
        "    tf.keras.layers.MaxPooling2D(2,2),\n",
        "     tf.keras.layers.Conv2D(16, (3,3), activation='relu'),\n",
        "    tf.keras.layers.MaxPooling2D(2,2),\n",
        "    tf.keras.layers.Conv2D(8, (3,3), activation='relu'),\n",
        "    tf.keras.layers.MaxPooling2D(2,2),\n",
        "   \n",
        "\n",
        "    tf.keras.layers.Flatten(),\n",
        "  \n",
        "    tf.keras.layers.Dense(32, activation='relu'),\n",
        "    tf.keras.layers.Dropout(0.5),\n",
        " \n",
        "    tf.keras.layers.Dense(1, activation='sigmoid')\n",
        "])\n",
        "\n",
        "model_cnn.summary()"
      ],
      "execution_count": 30,
      "outputs": [
        {
          "output_type": "stream",
          "text": [
            "Model: \"sequential_6\"\n",
            "_________________________________________________________________\n",
            "Layer (type)                 Output Shape              Param #   \n",
            "=================================================================\n",
            "conv2d_34 (Conv2D)           (None, 30, 30, 32)        896       \n",
            "_________________________________________________________________\n",
            "max_pooling2d_34 (MaxPooling (None, 15, 15, 32)        0         \n",
            "_________________________________________________________________\n",
            "conv2d_35 (Conv2D)           (None, 13, 13, 16)        4624      \n",
            "_________________________________________________________________\n",
            "max_pooling2d_35 (MaxPooling (None, 6, 6, 16)          0         \n",
            "_________________________________________________________________\n",
            "conv2d_36 (Conv2D)           (None, 4, 4, 8)           1160      \n",
            "_________________________________________________________________\n",
            "max_pooling2d_36 (MaxPooling (None, 2, 2, 8)           0         \n",
            "_________________________________________________________________\n",
            "flatten_6 (Flatten)          (None, 32)                0         \n",
            "_________________________________________________________________\n",
            "dense_27 (Dense)             (None, 32)                1056      \n",
            "_________________________________________________________________\n",
            "dropout_21 (Dropout)         (None, 32)                0         \n",
            "_________________________________________________________________\n",
            "dense_28 (Dense)             (None, 1)                 33        \n",
            "=================================================================\n",
            "Total params: 7,769\n",
            "Trainable params: 7,769\n",
            "Non-trainable params: 0\n",
            "_________________________________________________________________\n"
          ],
          "name": "stdout"
        }
      ]
    },
    {
      "cell_type": "code",
      "metadata": {
        "colab": {
          "base_uri": "https://localhost:8080/"
        },
        "id": "qxzz_32WoOCV",
        "outputId": "4cef771a-80d1-4f21-abe8-42038eb39770"
      },
      "source": [
        "print('Compiling Model.......')\n",
        "model_cnn.compile (optimizer='Adam',\n",
        "                   loss='binary_crossentropy',\n",
        "                   metrics=['accuracy'])"
      ],
      "execution_count": 31,
      "outputs": [
        {
          "output_type": "stream",
          "text": [
            "Compiling Model.......\n"
          ],
          "name": "stdout"
        }
      ]
    },
    {
      "cell_type": "code",
      "metadata": {
        "id": "lYrp4y3qoQG-"
      },
      "source": [
        "class myCallback(tf.keras.callbacks.Callback):\n",
        "  def on_epoch_end(self, epoch, logs={}):\n",
        "    if(logs.get('accuracy')>0.97):\n",
        "      print('Akurasi mencapai 97%, proses training dihentikan!')\n",
        "      self.model.stop_training = True\n",
        "\n",
        "callbacks = myCallback()"
      ],
      "execution_count": 32,
      "outputs": []
    },
    {
      "cell_type": "code",
      "metadata": {
        "colab": {
          "base_uri": "https://localhost:8080/"
        },
        "id": "pn91ohlGoQu1",
        "outputId": "c72d26c6-9ca6-4b68-e791-9a9c2140fb37"
      },
      "source": [
        "history_cnn = model_cnn.fit(\n",
        "    train_generator,\n",
        "    steps_per_epoch = 50,\n",
        "    epochs = 250,\n",
        "    validation_data = test_generator,\n",
        "    validation_steps = 10,\n",
        "    callbacks = [callbacks]\n",
        ")"
      ],
      "execution_count": 33,
      "outputs": [
        {
          "output_type": "stream",
          "text": [
            "Epoch 1/250\n",
            " 7/50 [===>..........................] - ETA: 6:53 - loss: 0.6944 - accuracy: 0.4756"
          ],
          "name": "stdout"
        },
        {
          "output_type": "stream",
          "text": [
            "/usr/local/lib/python3.7/dist-packages/PIL/Image.py:960: UserWarning: Palette images with Transparency expressed in bytes should be converted to RGBA images\n",
            "  \"Palette images with Transparency expressed in bytes should be \"\n"
          ],
          "name": "stderr"
        },
        {
          "output_type": "stream",
          "text": [
            "50/50 [==============================] - 562s 11s/step - loss: 0.6901 - accuracy: 0.5352 - val_loss: 0.6519 - val_accuracy: 0.8000\n",
            "Epoch 2/250\n",
            "50/50 [==============================] - 449s 9s/step - loss: 0.6269 - accuracy: 0.6589 - val_loss: 0.4214 - val_accuracy: 0.8594\n",
            "Epoch 3/250\n",
            "50/50 [==============================] - 352s 7s/step - loss: 0.4632 - accuracy: 0.8021 - val_loss: 0.3695 - val_accuracy: 0.8469\n",
            "Epoch 4/250\n",
            "50/50 [==============================] - 276s 6s/step - loss: 0.4008 - accuracy: 0.8245 - val_loss: 0.3270 - val_accuracy: 0.8750\n",
            "Epoch 5/250\n",
            "50/50 [==============================] - 221s 4s/step - loss: 0.3737 - accuracy: 0.8579 - val_loss: 0.3082 - val_accuracy: 0.8844\n",
            "Epoch 6/250\n",
            "50/50 [==============================] - 179s 4s/step - loss: 0.3731 - accuracy: 0.8413 - val_loss: 0.2851 - val_accuracy: 0.8875\n",
            "Epoch 7/250\n",
            "50/50 [==============================] - 139s 3s/step - loss: 0.3306 - accuracy: 0.8713 - val_loss: 0.3377 - val_accuracy: 0.8500\n",
            "Epoch 8/250\n",
            "50/50 [==============================] - 118s 2s/step - loss: 0.3347 - accuracy: 0.8678 - val_loss: 0.2860 - val_accuracy: 0.8969\n",
            "Epoch 9/250\n",
            "50/50 [==============================] - 82s 2s/step - loss: 0.3197 - accuracy: 0.8607 - val_loss: 0.3044 - val_accuracy: 0.8719\n",
            "Epoch 10/250\n",
            "50/50 [==============================] - 75s 2s/step - loss: 0.3389 - accuracy: 0.8659 - val_loss: 0.3349 - val_accuracy: 0.8781\n",
            "Epoch 11/250\n",
            "50/50 [==============================] - 59s 1s/step - loss: 0.3382 - accuracy: 0.8634 - val_loss: 0.2897 - val_accuracy: 0.8656\n",
            "Epoch 12/250\n",
            "50/50 [==============================] - 49s 975ms/step - loss: 0.3282 - accuracy: 0.8725 - val_loss: 0.2496 - val_accuracy: 0.8938\n",
            "Epoch 13/250\n",
            "50/50 [==============================] - 41s 818ms/step - loss: 0.2751 - accuracy: 0.8966 - val_loss: 0.2352 - val_accuracy: 0.8906\n",
            "Epoch 14/250\n",
            "50/50 [==============================] - 31s 628ms/step - loss: 0.3138 - accuracy: 0.8844 - val_loss: 0.2687 - val_accuracy: 0.8750\n",
            "Epoch 15/250\n",
            "50/50 [==============================] - 30s 598ms/step - loss: 0.2863 - accuracy: 0.8895 - val_loss: 0.3318 - val_accuracy: 0.8656\n",
            "Epoch 16/250\n",
            "50/50 [==============================] - 24s 476ms/step - loss: 0.3083 - accuracy: 0.8753 - val_loss: 0.2966 - val_accuracy: 0.8781\n",
            "Epoch 17/250\n",
            "50/50 [==============================] - 20s 397ms/step - loss: 0.2443 - accuracy: 0.9088 - val_loss: 0.2182 - val_accuracy: 0.9187\n",
            "Epoch 18/250\n",
            "50/50 [==============================] - 19s 370ms/step - loss: 0.3045 - accuracy: 0.8914 - val_loss: 0.2242 - val_accuracy: 0.9062\n",
            "Epoch 19/250\n",
            "50/50 [==============================] - 19s 382ms/step - loss: 0.2876 - accuracy: 0.8950 - val_loss: 0.2541 - val_accuracy: 0.8875\n",
            "Epoch 20/250\n",
            "50/50 [==============================] - 17s 328ms/step - loss: 0.2575 - accuracy: 0.9053 - val_loss: 0.2427 - val_accuracy: 0.8875\n",
            "Epoch 21/250\n",
            "50/50 [==============================] - 15s 296ms/step - loss: 0.2525 - accuracy: 0.8990 - val_loss: 0.2187 - val_accuracy: 0.9219\n",
            "Epoch 22/250\n",
            "50/50 [==============================] - 13s 258ms/step - loss: 0.2440 - accuracy: 0.9129 - val_loss: 0.2426 - val_accuracy: 0.9000\n",
            "Epoch 23/250\n",
            "50/50 [==============================] - 13s 254ms/step - loss: 0.2947 - accuracy: 0.8807 - val_loss: 0.2469 - val_accuracy: 0.9187\n",
            "Epoch 24/250\n",
            "50/50 [==============================] - 14s 282ms/step - loss: 0.2653 - accuracy: 0.9028 - val_loss: 0.2461 - val_accuracy: 0.8906\n",
            "Epoch 25/250\n",
            "50/50 [==============================] - 13s 259ms/step - loss: 0.2912 - accuracy: 0.8811 - val_loss: 0.2542 - val_accuracy: 0.9062\n",
            "Epoch 26/250\n",
            "50/50 [==============================] - 12s 243ms/step - loss: 0.2461 - accuracy: 0.8973 - val_loss: 0.2384 - val_accuracy: 0.9000\n",
            "Epoch 27/250\n",
            "50/50 [==============================] - 11s 215ms/step - loss: 0.2680 - accuracy: 0.8941 - val_loss: 0.1723 - val_accuracy: 0.9219\n",
            "Epoch 28/250\n",
            "50/50 [==============================] - 9s 184ms/step - loss: 0.2890 - accuracy: 0.8853 - val_loss: 0.2646 - val_accuracy: 0.8906\n",
            "Epoch 29/250\n",
            "50/50 [==============================] - 11s 215ms/step - loss: 0.2659 - accuracy: 0.9019 - val_loss: 0.1941 - val_accuracy: 0.9344\n",
            "Epoch 30/250\n",
            "50/50 [==============================] - 10s 190ms/step - loss: 0.2508 - accuracy: 0.9048 - val_loss: 0.2521 - val_accuracy: 0.9094\n",
            "Epoch 31/250\n",
            "50/50 [==============================] - 11s 208ms/step - loss: 0.2259 - accuracy: 0.9209 - val_loss: 0.2386 - val_accuracy: 0.9094\n",
            "Epoch 32/250\n",
            "50/50 [==============================] - 10s 198ms/step - loss: 0.2411 - accuracy: 0.9068 - val_loss: 0.2461 - val_accuracy: 0.9094\n",
            "Epoch 33/250\n",
            "50/50 [==============================] - 10s 195ms/step - loss: 0.2163 - accuracy: 0.9071 - val_loss: 0.2379 - val_accuracy: 0.9156\n",
            "Epoch 34/250\n",
            "50/50 [==============================] - 10s 211ms/step - loss: 0.2371 - accuracy: 0.9168 - val_loss: 0.2009 - val_accuracy: 0.9250\n",
            "Epoch 35/250\n",
            "50/50 [==============================] - 10s 206ms/step - loss: 0.2260 - accuracy: 0.9090 - val_loss: 0.1756 - val_accuracy: 0.9594\n",
            "Epoch 36/250\n",
            "50/50 [==============================] - 10s 197ms/step - loss: 0.2265 - accuracy: 0.9188 - val_loss: 0.1849 - val_accuracy: 0.9344\n",
            "Epoch 37/250\n",
            "50/50 [==============================] - 10s 197ms/step - loss: 0.2284 - accuracy: 0.9085 - val_loss: 0.2312 - val_accuracy: 0.9156\n",
            "Epoch 38/250\n",
            "50/50 [==============================] - 10s 199ms/step - loss: 0.2652 - accuracy: 0.9063 - val_loss: 0.2178 - val_accuracy: 0.9281\n",
            "Epoch 39/250\n",
            "50/50 [==============================] - 10s 201ms/step - loss: 0.2073 - accuracy: 0.9317 - val_loss: 0.1712 - val_accuracy: 0.9406\n",
            "Epoch 40/250\n",
            "50/50 [==============================] - 10s 202ms/step - loss: 0.2322 - accuracy: 0.9046 - val_loss: 0.2040 - val_accuracy: 0.9062\n",
            "Epoch 41/250\n",
            "50/50 [==============================] - 10s 199ms/step - loss: 0.1807 - accuracy: 0.9381 - val_loss: 0.1445 - val_accuracy: 0.9625\n",
            "Epoch 42/250\n",
            "50/50 [==============================] - 9s 184ms/step - loss: 0.1995 - accuracy: 0.9191 - val_loss: 0.1399 - val_accuracy: 0.9594\n",
            "Epoch 43/250\n",
            "50/50 [==============================] - 10s 193ms/step - loss: 0.2524 - accuracy: 0.9068 - val_loss: 0.2077 - val_accuracy: 0.9312\n",
            "Epoch 44/250\n",
            "50/50 [==============================] - 10s 190ms/step - loss: 0.1934 - accuracy: 0.9312 - val_loss: 0.1955 - val_accuracy: 0.9125\n",
            "Epoch 45/250\n",
            "50/50 [==============================] - 9s 190ms/step - loss: 0.2134 - accuracy: 0.9140 - val_loss: 0.1895 - val_accuracy: 0.9250\n",
            "Epoch 46/250\n",
            "50/50 [==============================] - 10s 202ms/step - loss: 0.2233 - accuracy: 0.9123 - val_loss: 0.1543 - val_accuracy: 0.9406\n",
            "Epoch 47/250\n",
            "50/50 [==============================] - 10s 197ms/step - loss: 0.2004 - accuracy: 0.9281 - val_loss: 0.1514 - val_accuracy: 0.9500\n",
            "Epoch 48/250\n",
            "50/50 [==============================] - 10s 200ms/step - loss: 0.1954 - accuracy: 0.9272 - val_loss: 0.1908 - val_accuracy: 0.9312\n",
            "Epoch 49/250\n",
            "50/50 [==============================] - 10s 205ms/step - loss: 0.2186 - accuracy: 0.9279 - val_loss: 0.1874 - val_accuracy: 0.9312\n",
            "Epoch 50/250\n",
            "50/50 [==============================] - 10s 208ms/step - loss: 0.1914 - accuracy: 0.9258 - val_loss: 0.1740 - val_accuracy: 0.9250\n",
            "Epoch 51/250\n",
            "50/50 [==============================] - 10s 194ms/step - loss: 0.2066 - accuracy: 0.9300 - val_loss: 0.1621 - val_accuracy: 0.9406\n",
            "Epoch 52/250\n",
            "50/50 [==============================] - 10s 194ms/step - loss: 0.1796 - accuracy: 0.9326 - val_loss: 0.1482 - val_accuracy: 0.9563\n",
            "Epoch 53/250\n",
            "50/50 [==============================] - 10s 192ms/step - loss: 0.1416 - accuracy: 0.9494 - val_loss: 0.0957 - val_accuracy: 0.9719\n",
            "Epoch 54/250\n",
            "50/50 [==============================] - 10s 199ms/step - loss: 0.1634 - accuracy: 0.9452 - val_loss: 0.1390 - val_accuracy: 0.9563\n",
            "Epoch 55/250\n",
            "50/50 [==============================] - 10s 204ms/step - loss: 0.1795 - accuracy: 0.9372 - val_loss: 0.1531 - val_accuracy: 0.9531\n",
            "Epoch 56/250\n",
            "50/50 [==============================] - 10s 205ms/step - loss: 0.1893 - accuracy: 0.9340 - val_loss: 0.1555 - val_accuracy: 0.9312\n",
            "Epoch 57/250\n",
            "50/50 [==============================] - 10s 204ms/step - loss: 0.2164 - accuracy: 0.9220 - val_loss: 0.1595 - val_accuracy: 0.9406\n",
            "Epoch 58/250\n",
            "50/50 [==============================] - 10s 202ms/step - loss: 0.1987 - accuracy: 0.9315 - val_loss: 0.1712 - val_accuracy: 0.9406\n",
            "Epoch 59/250\n",
            "50/50 [==============================] - 10s 196ms/step - loss: 0.1844 - accuracy: 0.9427 - val_loss: 0.1734 - val_accuracy: 0.9344\n",
            "Epoch 60/250\n",
            "50/50 [==============================] - 10s 193ms/step - loss: 0.1723 - accuracy: 0.9338 - val_loss: 0.1056 - val_accuracy: 0.9563\n",
            "Epoch 61/250\n",
            "50/50 [==============================] - 10s 204ms/step - loss: 0.2262 - accuracy: 0.9115 - val_loss: 0.1937 - val_accuracy: 0.9250\n",
            "Epoch 62/250\n",
            "50/50 [==============================] - 10s 200ms/step - loss: 0.1793 - accuracy: 0.9396 - val_loss: 0.1477 - val_accuracy: 0.9375\n",
            "Epoch 63/250\n",
            "50/50 [==============================] - 10s 195ms/step - loss: 0.1690 - accuracy: 0.9396 - val_loss: 0.1406 - val_accuracy: 0.9469\n",
            "Epoch 64/250\n",
            "50/50 [==============================] - 10s 204ms/step - loss: 0.1875 - accuracy: 0.9314 - val_loss: 0.1521 - val_accuracy: 0.9344\n",
            "Epoch 65/250\n",
            "50/50 [==============================] - 11s 217ms/step - loss: 0.1761 - accuracy: 0.9353 - val_loss: 0.1436 - val_accuracy: 0.9594\n",
            "Epoch 66/250\n",
            "50/50 [==============================] - 10s 192ms/step - loss: 0.1559 - accuracy: 0.9448 - val_loss: 0.1726 - val_accuracy: 0.9344\n",
            "Epoch 67/250\n",
            "50/50 [==============================] - 9s 186ms/step - loss: 0.1567 - accuracy: 0.9485 - val_loss: 0.1558 - val_accuracy: 0.9438\n",
            "Epoch 68/250\n",
            "50/50 [==============================] - 10s 206ms/step - loss: 0.1205 - accuracy: 0.9631 - val_loss: 0.1345 - val_accuracy: 0.9500\n",
            "Epoch 69/250\n",
            "50/50 [==============================] - 10s 196ms/step - loss: 0.1743 - accuracy: 0.9346 - val_loss: 0.1210 - val_accuracy: 0.9531\n",
            "Epoch 70/250\n",
            "50/50 [==============================] - 11s 212ms/step - loss: 0.1720 - accuracy: 0.9437 - val_loss: 0.0950 - val_accuracy: 0.9688\n",
            "Epoch 71/250\n",
            "50/50 [==============================] - 10s 202ms/step - loss: 0.1762 - accuracy: 0.9371 - val_loss: 0.1337 - val_accuracy: 0.9625\n",
            "Epoch 72/250\n",
            "50/50 [==============================] - 10s 193ms/step - loss: 0.1670 - accuracy: 0.9398 - val_loss: 0.1101 - val_accuracy: 0.9719\n",
            "Epoch 73/250\n",
            "50/50 [==============================] - 10s 209ms/step - loss: 0.1770 - accuracy: 0.9264 - val_loss: 0.1181 - val_accuracy: 0.9594\n",
            "Epoch 74/250\n",
            "50/50 [==============================] - 10s 200ms/step - loss: 0.1416 - accuracy: 0.9572 - val_loss: 0.1240 - val_accuracy: 0.9563\n",
            "Epoch 75/250\n",
            "50/50 [==============================] - 10s 192ms/step - loss: 0.1528 - accuracy: 0.9457 - val_loss: 0.0944 - val_accuracy: 0.9656\n",
            "Epoch 76/250\n",
            "50/50 [==============================] - 10s 210ms/step - loss: 0.1997 - accuracy: 0.9376 - val_loss: 0.1639 - val_accuracy: 0.9375\n",
            "Epoch 77/250\n",
            "50/50 [==============================] - 10s 193ms/step - loss: 0.1762 - accuracy: 0.9360 - val_loss: 0.1548 - val_accuracy: 0.9438\n",
            "Epoch 78/250\n",
            "50/50 [==============================] - 10s 193ms/step - loss: 0.1551 - accuracy: 0.9462 - val_loss: 0.1031 - val_accuracy: 0.9625\n",
            "Epoch 79/250\n",
            "50/50 [==============================] - 10s 196ms/step - loss: 0.1356 - accuracy: 0.9576 - val_loss: 0.1238 - val_accuracy: 0.9531\n",
            "Epoch 80/250\n",
            "50/50 [==============================] - 10s 193ms/step - loss: 0.1520 - accuracy: 0.9390 - val_loss: 0.1030 - val_accuracy: 0.9594\n",
            "Epoch 81/250\n",
            "50/50 [==============================] - 10s 201ms/step - loss: 0.1284 - accuracy: 0.9496 - val_loss: 0.1129 - val_accuracy: 0.9625\n",
            "Epoch 82/250\n",
            "50/50 [==============================] - 10s 206ms/step - loss: 0.1317 - accuracy: 0.9570 - val_loss: 0.1572 - val_accuracy: 0.9625\n",
            "Epoch 83/250\n",
            "50/50 [==============================] - 10s 192ms/step - loss: 0.1296 - accuracy: 0.9550 - val_loss: 0.1325 - val_accuracy: 0.9656\n",
            "Epoch 84/250\n",
            "50/50 [==============================] - 10s 203ms/step - loss: 0.1431 - accuracy: 0.9497 - val_loss: 0.1644 - val_accuracy: 0.9469\n",
            "Epoch 85/250\n",
            "50/50 [==============================] - 11s 214ms/step - loss: 0.1933 - accuracy: 0.9221 - val_loss: 0.1138 - val_accuracy: 0.9531\n",
            "Epoch 86/250\n",
            "50/50 [==============================] - 10s 210ms/step - loss: 0.1166 - accuracy: 0.9568 - val_loss: 0.1076 - val_accuracy: 0.9594\n",
            "Epoch 87/250\n",
            "50/50 [==============================] - 10s 206ms/step - loss: 0.1595 - accuracy: 0.9468 - val_loss: 0.1347 - val_accuracy: 0.9625\n",
            "Epoch 88/250\n",
            "50/50 [==============================] - 10s 207ms/step - loss: 0.1255 - accuracy: 0.9600 - val_loss: 0.1356 - val_accuracy: 0.9594\n",
            "Epoch 89/250\n",
            "50/50 [==============================] - 11s 217ms/step - loss: 0.1377 - accuracy: 0.9579 - val_loss: 0.1091 - val_accuracy: 0.9656\n",
            "Epoch 90/250\n",
            "50/50 [==============================] - 10s 201ms/step - loss: 0.1324 - accuracy: 0.9477 - val_loss: 0.0953 - val_accuracy: 0.9688\n",
            "Epoch 91/250\n",
            "50/50 [==============================] - 10s 209ms/step - loss: 0.1666 - accuracy: 0.9433 - val_loss: 0.1230 - val_accuracy: 0.9719\n",
            "Epoch 92/250\n",
            "50/50 [==============================] - 10s 194ms/step - loss: 0.1384 - accuracy: 0.9536 - val_loss: 0.1470 - val_accuracy: 0.9406\n",
            "Epoch 93/250\n",
            "50/50 [==============================] - 10s 208ms/step - loss: 0.1069 - accuracy: 0.9625 - val_loss: 0.1683 - val_accuracy: 0.9375\n",
            "Epoch 94/250\n",
            "50/50 [==============================] - 10s 202ms/step - loss: 0.1372 - accuracy: 0.9553 - val_loss: 0.0832 - val_accuracy: 0.9750\n",
            "Epoch 95/250\n",
            "50/50 [==============================] - 9s 184ms/step - loss: 0.1196 - accuracy: 0.9592 - val_loss: 0.0939 - val_accuracy: 0.9625\n",
            "Epoch 96/250\n",
            "50/50 [==============================] - 10s 197ms/step - loss: 0.1278 - accuracy: 0.9611 - val_loss: 0.0780 - val_accuracy: 0.9781\n",
            "Epoch 97/250\n",
            "50/50 [==============================] - 10s 210ms/step - loss: 0.1255 - accuracy: 0.9612 - val_loss: 0.2524 - val_accuracy: 0.8813\n",
            "Epoch 98/250\n",
            "50/50 [==============================] - 9s 188ms/step - loss: 0.1540 - accuracy: 0.9375 - val_loss: 0.1098 - val_accuracy: 0.9500\n",
            "Epoch 99/250\n",
            "50/50 [==============================] - 10s 201ms/step - loss: 0.1260 - accuracy: 0.9604 - val_loss: 0.0772 - val_accuracy: 0.9781\n",
            "Epoch 100/250\n",
            "50/50 [==============================] - 10s 205ms/step - loss: 0.1228 - accuracy: 0.9573 - val_loss: 0.1201 - val_accuracy: 0.9688\n",
            "Epoch 101/250\n",
            "50/50 [==============================] - 10s 207ms/step - loss: 0.1271 - accuracy: 0.9553 - val_loss: 0.1046 - val_accuracy: 0.9656\n",
            "Epoch 102/250\n",
            "50/50 [==============================] - 11s 215ms/step - loss: 0.1387 - accuracy: 0.9519 - val_loss: 0.0878 - val_accuracy: 0.9688\n",
            "Epoch 103/250\n",
            "50/50 [==============================] - 10s 207ms/step - loss: 0.1106 - accuracy: 0.9627 - val_loss: 0.1282 - val_accuracy: 0.9531\n",
            "Epoch 104/250\n",
            "50/50 [==============================] - 10s 200ms/step - loss: 0.1651 - accuracy: 0.9521 - val_loss: 0.0996 - val_accuracy: 0.9688\n",
            "Epoch 105/250\n",
            "50/50 [==============================] - 10s 202ms/step - loss: 0.1241 - accuracy: 0.9576 - val_loss: 0.0895 - val_accuracy: 0.9625\n",
            "Epoch 106/250\n",
            "50/50 [==============================] - 11s 204ms/step - loss: 0.1370 - accuracy: 0.9590 - val_loss: 0.1368 - val_accuracy: 0.9469\n",
            "Epoch 107/250\n",
            "50/50 [==============================] - 10s 197ms/step - loss: 0.1024 - accuracy: 0.9591 - val_loss: 0.0888 - val_accuracy: 0.9688\n",
            "Epoch 108/250\n",
            "50/50 [==============================] - 10s 210ms/step - loss: 0.1207 - accuracy: 0.9685 - val_loss: 0.0753 - val_accuracy: 0.9688\n",
            "Epoch 109/250\n",
            "50/50 [==============================] - 10s 197ms/step - loss: 0.1296 - accuracy: 0.9561 - val_loss: 0.1284 - val_accuracy: 0.9469\n",
            "Epoch 110/250\n",
            "50/50 [==============================] - 11s 219ms/step - loss: 0.1284 - accuracy: 0.9604 - val_loss: 0.0952 - val_accuracy: 0.9625\n",
            "Epoch 111/250\n",
            "50/50 [==============================] - 10s 200ms/step - loss: 0.1007 - accuracy: 0.9689 - val_loss: 0.1267 - val_accuracy: 0.9469\n",
            "Epoch 112/250\n",
            "50/50 [==============================] - 10s 207ms/step - loss: 0.1123 - accuracy: 0.9593 - val_loss: 0.0928 - val_accuracy: 0.9656\n",
            "Epoch 113/250\n",
            "50/50 [==============================] - 10s 209ms/step - loss: 0.1153 - accuracy: 0.9640 - val_loss: 0.1596 - val_accuracy: 0.9531\n",
            "Epoch 114/250\n",
            "50/50 [==============================] - 10s 204ms/step - loss: 0.1608 - accuracy: 0.9440 - val_loss: 0.1220 - val_accuracy: 0.9563\n",
            "Epoch 115/250\n",
            "50/50 [==============================] - 10s 204ms/step - loss: 0.1412 - accuracy: 0.9577 - val_loss: 0.0967 - val_accuracy: 0.9719\n",
            "Epoch 116/250\n",
            "50/50 [==============================] - 9s 186ms/step - loss: 0.1030 - accuracy: 0.9657 - val_loss: 0.0880 - val_accuracy: 0.9688\n",
            "Epoch 117/250\n",
            "50/50 [==============================] - 11s 207ms/step - loss: 0.1370 - accuracy: 0.9601 - val_loss: 0.1258 - val_accuracy: 0.9500\n",
            "Epoch 118/250\n",
            "50/50 [==============================] - 10s 204ms/step - loss: 0.1351 - accuracy: 0.9563 - val_loss: 0.1152 - val_accuracy: 0.9563\n",
            "Epoch 119/250\n",
            "50/50 [==============================] - 11s 213ms/step - loss: 0.1099 - accuracy: 0.9598 - val_loss: 0.1021 - val_accuracy: 0.9594\n",
            "Epoch 120/250\n",
            "50/50 [==============================] - 10s 203ms/step - loss: 0.0780 - accuracy: 0.9741 - val_loss: 0.0849 - val_accuracy: 0.9688\n",
            "Akurasi mencapai 97%, proses training dihentikan!\n"
          ],
          "name": "stdout"
        }
      ]
    },
    {
      "cell_type": "code",
      "metadata": {
        "id": "kcCQnOHA_OIJ"
      },
      "source": [
        "from matplotlib import pyplot as plt"
      ],
      "execution_count": 34,
      "outputs": []
    },
    {
      "cell_type": "code",
      "metadata": {
        "colab": {
          "base_uri": "https://localhost:8080/",
          "height": 545
        },
        "id": "kwuAMiso_OuL",
        "outputId": "6ee363df-852e-49a3-b634-7f57a0a82ba2"
      },
      "source": [
        "acc = history_cnn.history['accuracy']\n",
        "val_acc = history_cnn.history['val_accuracy']\n",
        "loss = history_cnn.history['loss']\n",
        "val_loss = history_cnn.history['val_loss']\n",
        "\n",
        "epochs = range(len(acc))\n",
        "\n",
        "plt.plot(epochs, acc, 'blue', label='Training accuracy')\n",
        "plt.plot(epochs, val_acc, 'orange', label='Validation accuracy')\n",
        "plt.title('Training and validation accuracy')\n",
        "plt.legend()\n",
        "plt.figure()\n",
        "\n",
        "plt.plot(epochs, loss, 'blue', label='Training Loss')\n",
        "plt.plot(epochs, val_loss, 'orange', label='Validation Loss')\n",
        "plt.title('Training and validation loss')\n",
        "plt.legend()\n",
        "\n",
        "plt.show()"
      ],
      "execution_count": 35,
      "outputs": [
        {
          "output_type": "display_data",
          "data": {
            "image/png": "[encoded data removed]",
            "text/plain": [
              "<Figure size 432x288 with 1 Axes>"
            ]
          },
          "metadata": {
            "tags": [],
            "needs_background": "light"
          }
        },
        {
          "output_type": "display_data",
          "data": {
            "image/png": "[encoded data removed]",
            "text/plain": [
              "<Figure size 432x288 with 1 Axes>"
            ]
          },
          "metadata": {
            "tags": [],
            "needs_background": "light"
          }
        }
      ]
    },
    {
      "cell_type": "code",
      "metadata": {
        "id": "LJqAZqWH_Q04"
      },
      "source": [
        "#save model\n",
        "import os"
      ],
      "execution_count": 36,
      "outputs": []
    },
    {
      "cell_type": "code",
      "metadata": {
        "colab": {
          "base_uri": "https://localhost:8080/"
        },
        "id": "ZR2G-5Nu_WrL",
        "outputId": "5dc28b39-517f-4efb-f85b-7790bac1cd12"
      },
      "source": [
        "cd'/content/drive/MyDrive/Colab Notebooks'"
      ],
      "execution_count": 37,
      "outputs": [
        {
          "output_type": "stream",
          "text": [
            "/content/drive/MyDrive/Colab Notebooks\n"
          ],
          "name": "stdout"
        }
      ]
    },
    {
      "cell_type": "code",
      "metadata": {
        "colab": {
          "base_uri": "https://localhost:8080/"
        },
        "id": "5BsG9vcK_Zsv",
        "outputId": "00b9c6d4-7f6e-4293-ff60-46ee7f875030"
      },
      "source": [
        "MODEL_BASE_PATH = \"Model\"\n",
        "PROJECT_NAME =\"CNN\"\n",
        "SAVE_MODEL_NAME = \"Model_CNN24.h5\"\n",
        "save_model_path = os.path.join(MODEL_BASE_PATH, PROJECT_NAME, SAVE_MODEL_NAME)\n",
        "if os.path.exists(os.path.join(MODEL_BASE_PATH, PROJECT_NAME)) == False:\n",
        "    os.makedirs(os.path.join(MODEL_BASE_PATH, PROJECT_NAME))\n",
        "    \n",
        "print('Saving Model At {}...'.format(save_model_path))\n",
        "model_cnn.save(save_model_path,include_optimizer=False)"
      ],
      "execution_count": 38,
      "outputs": [
        {
          "output_type": "stream",
          "text": [
            "Saving Model At Model/CNN/Model_CNN24.h5...\n"
          ],
          "name": "stdout"
        }
      ]
    },
    {
      "cell_type": "code",
      "metadata": {
        "id": "3FDlIdi8_bnd"
      },
      "source": [
        ""
      ],
      "execution_count": null,
      "outputs": []
    }
  ]
}