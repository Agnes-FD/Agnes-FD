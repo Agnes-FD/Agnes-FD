{
  "nbformat": 4,
  "nbformat_minor": 0,
  "metadata": {
    "colab": {
      "name": "Untitled3.ipynb",
      "provenance": [],
      "include_colab_link": true
    },
    "kernelspec": {
      "name": "python3",
      "display_name": "Python 3"
    },
    "language_info": {
      "name": "python"
    },
    "widgets": {
      "application/vnd.jupyter.widget-state+json": {
        "b0142c19e5ff461486e3fb66a7732d17": {
          "model_module": "@jupyter-widgets/controls",
          "model_name": "HBoxModel",
          "state": {
            "_view_name": "HBoxView",
            "_dom_classes": [],
            "_model_name": "HBoxModel",
            "_view_module": "@jupyter-widgets/controls",
            "_model_module_version": "1.5.0",
            "_view_count": null,
            "_view_module_version": "1.5.0",
            "box_style": "",
            "layout": "IPY_MODEL_d249f2b15a8a45a2be6e4953ce4926e2",
            "_model_module": "@jupyter-widgets/controls",
            "children": [
              "IPY_MODEL_bef0ae1d2d8d4b7da01dc869efdc33bd",
              "IPY_MODEL_f8d00f54aec34e7aa38b502557d2bc9e"
            ]
          }
        },
        "d249f2b15a8a45a2be6e4953ce4926e2": {
          "model_module": "@jupyter-widgets/base",
          "model_name": "LayoutModel",
          "state": {
            "_view_name": "LayoutView",
            "grid_template_rows": null,
            "right": null,
            "justify_content": null,
            "_view_module": "@jupyter-widgets/base",
            "overflow": null,
            "_model_module_version": "1.2.0",
            "_view_count": null,
            "flex_flow": null,
            "width": null,
            "min_width": null,
            "border": null,
            "align_items": null,
            "bottom": null,
            "_model_module": "@jupyter-widgets/base",
            "top": null,
            "grid_column": null,
            "overflow_y": null,
            "overflow_x": null,
            "grid_auto_flow": null,
            "grid_area": null,
            "grid_template_columns": null,
            "flex": null,
            "_model_name": "LayoutModel",
            "justify_items": null,
            "grid_row": null,
            "max_height": null,
            "align_content": null,
            "visibility": null,
            "align_self": null,
            "height": null,
            "min_height": null,
            "padding": null,
            "grid_auto_rows": null,
            "grid_gap": null,
            "max_width": null,
            "order": null,
            "_view_module_version": "1.2.0",
            "grid_template_areas": null,
            "object_position": null,
            "object_fit": null,
            "grid_auto_columns": null,
            "margin": null,
            "display": null,
            "left": null
          }
        },
        "bef0ae1d2d8d4b7da01dc869efdc33bd": {
          "model_module": "@jupyter-widgets/controls",
          "model_name": "FloatProgressModel",
          "state": {
            "_view_name": "ProgressView",
            "style": "IPY_MODEL_def376c5d1a944848aa845048f50a9b0",
            "_dom_classes": [],
            "description": "",
            "_model_name": "FloatProgressModel",
            "bar_style": "success",
            "max": 1,
            "_view_module": "@jupyter-widgets/controls",
            "_model_module_version": "1.5.0",
            "value": 1,
            "_view_count": null,
            "_view_module_version": "1.5.0",
            "orientation": "horizontal",
            "min": 0,
            "description_tooltip": null,
            "_model_module": "@jupyter-widgets/controls",
            "layout": "IPY_MODEL_921138181d6d4758bb6d4f77380ab37e"
          }
        },
        "f8d00f54aec34e7aa38b502557d2bc9e": {
          "model_module": "@jupyter-widgets/controls",
          "model_name": "HTMLModel",
          "state": {
            "_view_name": "HTMLView",
            "style": "IPY_MODEL_321f7636cd5c4fd8ace9f45871328f10",
            "_dom_classes": [],
            "description": "",
            "_model_name": "HTMLModel",
            "placeholder": "​",
            "_view_module": "@jupyter-widgets/controls",
            "_model_module_version": "1.5.0",
            "value": " 7583/? [00:23&lt;00:00, 326.10it/s]",
            "_view_count": null,
            "_view_module_version": "1.5.0",
            "description_tooltip": null,
            "_model_module": "@jupyter-widgets/controls",
            "layout": "IPY_MODEL_d19ab580135c4f36b0482cb10cd677c3"
          }
        },
        "def376c5d1a944848aa845048f50a9b0": {
          "model_module": "@jupyter-widgets/controls",
          "model_name": "ProgressStyleModel",
          "state": {
            "_view_name": "StyleView",
            "_model_name": "ProgressStyleModel",
            "description_width": "initial",
            "_view_module": "@jupyter-widgets/base",
            "_model_module_version": "1.5.0",
            "_view_count": null,
            "_view_module_version": "1.2.0",
            "bar_color": null,
            "_model_module": "@jupyter-widgets/controls"
          }
        },
        "921138181d6d4758bb6d4f77380ab37e": {
          "model_module": "@jupyter-widgets/base",
          "model_name": "LayoutModel",
          "state": {
            "_view_name": "LayoutView",
            "grid_template_rows": null,
            "right": null,
            "justify_content": null,
            "_view_module": "@jupyter-widgets/base",
            "overflow": null,
            "_model_module_version": "1.2.0",
            "_view_count": null,
            "flex_flow": null,
            "width": null,
            "min_width": null,
            "border": null,
            "align_items": null,
            "bottom": null,
            "_model_module": "@jupyter-widgets/base",
            "top": null,
            "grid_column": null,
            "overflow_y": null,
            "overflow_x": null,
            "grid_auto_flow": null,
            "grid_area": null,
            "grid_template_columns": null,
            "flex": null,
            "_model_name": "LayoutModel",
            "justify_items": null,
            "grid_row": null,
            "max_height": null,
            "align_content": null,
            "visibility": null,
            "align_self": null,
            "height": null,
            "min_height": null,
            "padding": null,
            "grid_auto_rows": null,
            "grid_gap": null,
            "max_width": null,
            "order": null,
            "_view_module_version": "1.2.0",
            "grid_template_areas": null,
            "object_position": null,
            "object_fit": null,
            "grid_auto_columns": null,
            "margin": null,
            "display": null,
            "left": null
          }
        },
        "321f7636cd5c4fd8ace9f45871328f10": {
          "model_module": "@jupyter-widgets/controls",
          "model_name": "DescriptionStyleModel",
          "state": {
            "_view_name": "StyleView",
            "_model_name": "DescriptionStyleModel",
            "description_width": "",
            "_view_module": "@jupyter-widgets/base",
            "_model_module_version": "1.5.0",
            "_view_count": null,
            "_view_module_version": "1.2.0",
            "_model_module": "@jupyter-widgets/controls"
          }
        },
        "d19ab580135c4f36b0482cb10cd677c3": {
          "model_module": "@jupyter-widgets/base",
          "model_name": "LayoutModel",
          "state": {
            "_view_name": "LayoutView",
            "grid_template_rows": null,
            "right": null,
            "justify_content": null,
            "_view_module": "@jupyter-widgets/base",
            "overflow": null,
            "_model_module_version": "1.2.0",
            "_view_count": null,
            "flex_flow": null,
            "width": null,
            "min_width": null,
            "border": null,
            "align_items": null,
            "bottom": null,
            "_model_module": "@jupyter-widgets/base",
            "top": null,
            "grid_column": null,
            "overflow_y": null,
            "overflow_x": null,
            "grid_auto_flow": null,
            "grid_area": null,
            "grid_template_columns": null,
            "flex": null,
            "_model_name": "LayoutModel",
            "justify_items": null,
            "grid_row": null,
            "max_height": null,
            "align_content": null,
            "visibility": null,
            "align_self": null,
            "height": null,
            "min_height": null,
            "padding": null,
            "grid_auto_rows": null,
            "grid_gap": null,
            "max_width": null,
            "order": null,
            "_view_module_version": "1.2.0",
            "grid_template_areas": null,
            "object_position": null,
            "object_fit": null,
            "grid_auto_columns": null,
            "margin": null,
            "display": null,
            "left": null
          }
        }
      }
    }
  },
  "cells": [
    {
      "cell_type": "markdown",
      "metadata": {
        "id": "view-in-github",
        "colab_type": "text"
      },
      "source": [
        "<a href=\"https://colab.research.google.com/github/Agnes-FD/Agnes-FD/blob/main/Model_CNN41.ipynb\" target=\"_parent\"><img src=\"https://colab.research.google.com/assets/colab-badge.svg\" alt=\"Open In Colab\"/></a>"
      ]
    },
    {
      "cell_type": "code",
      "metadata": {
        "colab": {
          "base_uri": "https://localhost:8080/"
        },
        "id": "lPLzbCvHfQK_",
        "outputId": "3b74fb14-b637-4664-dfd7-3406d0693068"
      },
      "source": [
        "from google.colab import drive\n",
        "drive.mount ('/content/drive')"
      ],
      "execution_count": 1,
      "outputs": [
        {
          "output_type": "stream",
          "text": [
            "Mounted at /content/drive\n"
          ],
          "name": "stdout"
        }
      ]
    },
    {
      "cell_type": "code",
      "metadata": {
        "colab": {
          "base_uri": "https://localhost:8080/"
        },
        "id": "a-fcnisifZPv",
        "outputId": "5463772e-0a74-48fa-d98f-10e19c86c3ab"
      },
      "source": [
        "cd '/content/drive/MyDrive/data'"
      ],
      "execution_count": 2,
      "outputs": [
        {
          "output_type": "stream",
          "text": [
            "/content/drive/MyDrive/data\n"
          ],
          "name": "stdout"
        }
      ]
    },
    {
      "cell_type": "code",
      "metadata": {
        "colab": {
          "base_uri": "https://localhost:8080/"
        },
        "id": "dbNh0HyVfrHH",
        "outputId": "682dc342-dd6b-4048-c0b4-f9e8792a8c24"
      },
      "source": [
        "ls"
      ],
      "execution_count": 3,
      "outputs": [
        {
          "output_type": "stream",
          "text": [
            "\u001b[0m\u001b[01;34mwith_mask\u001b[0m/  \u001b[01;34mwithout_mask\u001b[0m/\n"
          ],
          "name": "stdout"
        }
      ]
    },
    {
      "cell_type": "code",
      "metadata": {
        "id": "dK2VyC7Ofs2R"
      },
      "source": [
        "import os\n",
        "path = '/content/drive/MyDrive/data'\n",
        "# Membuat Label pada gambar berdasarkan klasifikasi\n",
        "file_name = []\n",
        "tag = []\n",
        "full_path = []\n",
        "for path, subdirs, files in os.walk(path):\n",
        "  for name in files:\n",
        "    full_path.append(os.path.join(path, name))\n",
        "    tag.append(path.split('/')[-1])\n",
        "    file_name.append(name)"
      ],
      "execution_count": 4,
      "outputs": []
    },
    {
      "cell_type": "code",
      "metadata": {
        "colab": {
          "base_uri": "https://localhost:8080/"
        },
        "id": "75J5E96LfuxS",
        "outputId": "636d81f2-1753-4e3a-93c6-2494bf2d7e90"
      },
      "source": [
        "# Membuat dataframe berdasarkan hasil klasifikasi data yang sudah diberi label\n",
        "import pandas as pd\n",
        "\n",
        "df = pd.DataFrame({\"path\":full_path, \"file_name\": file_name, \"tag\":tag})\n",
        "df.groupby(['tag']).size()"
      ],
      "execution_count": 5,
      "outputs": [
        {
          "output_type": "execute_result",
          "data": {
            "text/plain": [
              "tag\n",
              "with_mask       3725\n",
              "without_mask    3858\n",
              "dtype: int64"
            ]
          },
          "metadata": {
            "tags": []
          },
          "execution_count": 5
        }
      ]
    },
    {
      "cell_type": "code",
      "metadata": {
        "colab": {
          "base_uri": "https://localhost:8080/",
          "height": 424
        },
        "id": "IZY8LIE1fw5r",
        "outputId": "fdcc3ce6-06a0-4ff8-8d32-b0f69cde0c9e"
      },
      "source": [
        "# cek data yang sudah diberi label\n",
        "df"
      ],
      "execution_count": 6,
      "outputs": [
        {
          "output_type": "execute_result",
          "data": {
            "text/html": [
              "<div>\n",
              "<style scoped>\n",
              "    .dataframe tbody tr th:only-of-type {\n",
              "        vertical-align: middle;\n",
              "    }\n",
              "\n",
              "    .dataframe tbody tr th {\n",
              "        vertical-align: top;\n",
              "    }\n",
              "\n",
              "    .dataframe thead th {\n",
              "        text-align: right;\n",
              "    }\n",
              "</style>\n",
              "<table border=\"1\" class=\"dataframe\">\n",
              "  <thead>\n",
              "    <tr style=\"text-align: right;\">\n",
              "      <th></th>\n",
              "      <th>path</th>\n",
              "      <th>file_name</th>\n",
              "      <th>tag</th>\n",
              "    </tr>\n",
              "  </thead>\n",
              "  <tbody>\n",
              "    <tr>\n",
              "      <th>0</th>\n",
              "      <td>/content/drive/MyDrive/data/with_mask/with_mas...</td>\n",
              "      <td>with_mask_3409.jpg</td>\n",
              "      <td>with_mask</td>\n",
              "    </tr>\n",
              "    <tr>\n",
              "      <th>1</th>\n",
              "      <td>/content/drive/MyDrive/data/with_mask/with_mas...</td>\n",
              "      <td>with_mask_3435.jpg</td>\n",
              "      <td>with_mask</td>\n",
              "    </tr>\n",
              "    <tr>\n",
              "      <th>2</th>\n",
              "      <td>/content/drive/MyDrive/data/with_mask/with_mas...</td>\n",
              "      <td>with_mask_3402.jpg</td>\n",
              "      <td>with_mask</td>\n",
              "    </tr>\n",
              "    <tr>\n",
              "      <th>3</th>\n",
              "      <td>/content/drive/MyDrive/data/with_mask/with_mas...</td>\n",
              "      <td>with_mask_3494.jpg</td>\n",
              "      <td>with_mask</td>\n",
              "    </tr>\n",
              "    <tr>\n",
              "      <th>4</th>\n",
              "      <td>/content/drive/MyDrive/data/with_mask/with_mas...</td>\n",
              "      <td>with_mask_3499.jpg</td>\n",
              "      <td>with_mask</td>\n",
              "    </tr>\n",
              "    <tr>\n",
              "      <th>...</th>\n",
              "      <td>...</td>\n",
              "      <td>...</td>\n",
              "      <td>...</td>\n",
              "    </tr>\n",
              "    <tr>\n",
              "      <th>7578</th>\n",
              "      <td>/content/drive/MyDrive/data/without_mask/witho...</td>\n",
              "      <td>without_mask_2074.jpg</td>\n",
              "      <td>without_mask</td>\n",
              "    </tr>\n",
              "    <tr>\n",
              "      <th>7579</th>\n",
              "      <td>/content/drive/MyDrive/data/without_mask/witho...</td>\n",
              "      <td>without_mask_2419.jpg</td>\n",
              "      <td>without_mask</td>\n",
              "    </tr>\n",
              "    <tr>\n",
              "      <th>7580</th>\n",
              "      <td>/content/drive/MyDrive/data/without_mask/witho...</td>\n",
              "      <td>without_mask_127.jpg</td>\n",
              "      <td>without_mask</td>\n",
              "    </tr>\n",
              "    <tr>\n",
              "      <th>7581</th>\n",
              "      <td>/content/drive/MyDrive/data/without_mask/witho...</td>\n",
              "      <td>without_mask_1333 (1).jpg</td>\n",
              "      <td>without_mask</td>\n",
              "    </tr>\n",
              "    <tr>\n",
              "      <th>7582</th>\n",
              "      <td>/content/drive/MyDrive/data/without_mask/witho...</td>\n",
              "      <td>without_mask_1363.jpg</td>\n",
              "      <td>without_mask</td>\n",
              "    </tr>\n",
              "  </tbody>\n",
              "</table>\n",
              "<p>7583 rows × 3 columns</p>\n",
              "</div>"
            ],
            "text/plain": [
              "                                                   path  ...           tag\n",
              "0     /content/drive/MyDrive/data/with_mask/with_mas...  ...     with_mask\n",
              "1     /content/drive/MyDrive/data/with_mask/with_mas...  ...     with_mask\n",
              "2     /content/drive/MyDrive/data/with_mask/with_mas...  ...     with_mask\n",
              "3     /content/drive/MyDrive/data/with_mask/with_mas...  ...     with_mask\n",
              "4     /content/drive/MyDrive/data/with_mask/with_mas...  ...     with_mask\n",
              "...                                                 ...  ...           ...\n",
              "7578  /content/drive/MyDrive/data/without_mask/witho...  ...  without_mask\n",
              "7579  /content/drive/MyDrive/data/without_mask/witho...  ...  without_mask\n",
              "7580  /content/drive/MyDrive/data/without_mask/witho...  ...  without_mask\n",
              "7581  /content/drive/MyDrive/data/without_mask/witho...  ...  without_mask\n",
              "7582  /content/drive/MyDrive/data/without_mask/witho...  ...  without_mask\n",
              "\n",
              "[7583 rows x 3 columns]"
            ]
          },
          "metadata": {
            "tags": []
          },
          "execution_count": 6
        }
      ]
    },
    {
      "cell_type": "code",
      "metadata": {
        "id": "ApCy962VfzOS"
      },
      "source": [
        "# Membagi dataset menjadi dua bagian (train dan test)\n",
        "from sklearn.model_selection import train_test_split\n",
        "\n",
        "x = df['path']\n",
        "y = df['tag']\n",
        "\n",
        "x_train, x_test, y_train, y_test = train_test_split(\n",
        "    x,y, test_size= 0.20, random_state=300)\n",
        "x_test, x_val, y_test, y_val = train_test_split(\n",
        "    x_test,y_test, test_size=0.5, random_state=100\n",
        ")"
      ],
      "execution_count": 7,
      "outputs": []
    },
    {
      "cell_type": "code",
      "metadata": {
        "id": "qcY9IrrYf1Wp"
      },
      "source": [
        "# menyatukan kedalam masing-masing dataframe\n",
        "df_test = pd.DataFrame({\n",
        "    'path' : x_test,\n",
        "    'tag' : y_test,\n",
        "    'set' : 'test'\n",
        "})\n",
        "\n",
        "df_train = pd.DataFrame({\n",
        "    'path' : x_train,\n",
        "    'tag' : y_train,\n",
        "    'set' : 'train'\n",
        "})\n",
        "df_val = pd.DataFrame({\n",
        "    'path' : x_val,\n",
        "    'tag' : y_val,\n",
        "    'set' : 'validation'\n",
        "})"
      ],
      "execution_count": 8,
      "outputs": []
    },
    {
      "cell_type": "code",
      "metadata": {
        "colab": {
          "base_uri": "https://localhost:8080/"
        },
        "id": "vUhLDSs3f3rD",
        "outputId": "efd36d18-5d60-43d0-81cb-4e144eda9c2e"
      },
      "source": [
        "print('train size', len(df_train))\n",
        "print('test size', len(df_test))\n",
        "print('validation size', len(df_val))"
      ],
      "execution_count": 9,
      "outputs": [
        {
          "output_type": "stream",
          "text": [
            "train size 6066\n",
            "test size 758\n",
            "validation size 759\n"
          ],
          "name": "stdout"
        }
      ]
    },
    {
      "cell_type": "code",
      "metadata": {
        "colab": {
          "base_uri": "https://localhost:8080/",
          "height": 415
        },
        "id": "5vDMHSYFf5kO",
        "outputId": "5dcbd66d-16bc-462e-e534-421c754067fe"
      },
      "source": [
        "# melihat masing-masing dataset apakah sudah sesuai atau belum\n",
        "df_all = df_train.append([df_test, df_val]).reset_index(drop=1)\n",
        "\n",
        "print('===================================================== \\n')\n",
        "print(df_all.groupby(['set','tag']).size(),'\\n')\n",
        "\n",
        "print('===================================================== \\n')\n",
        "\n",
        "df_all.sample(4)"
      ],
      "execution_count": 10,
      "outputs": [
        {
          "output_type": "stream",
          "text": [
            "===================================================== \n",
            "\n",
            "set         tag         \n",
            "test        with_mask        363\n",
            "            without_mask     395\n",
            "train       with_mask       3001\n",
            "            without_mask    3065\n",
            "validation  with_mask        361\n",
            "            without_mask     398\n",
            "dtype: int64 \n",
            "\n",
            "===================================================== \n",
            "\n"
          ],
          "name": "stdout"
        },
        {
          "output_type": "execute_result",
          "data": {
            "text/html": [
              "<div>\n",
              "<style scoped>\n",
              "    .dataframe tbody tr th:only-of-type {\n",
              "        vertical-align: middle;\n",
              "    }\n",
              "\n",
              "    .dataframe tbody tr th {\n",
              "        vertical-align: top;\n",
              "    }\n",
              "\n",
              "    .dataframe thead th {\n",
              "        text-align: right;\n",
              "    }\n",
              "</style>\n",
              "<table border=\"1\" class=\"dataframe\">\n",
              "  <thead>\n",
              "    <tr style=\"text-align: right;\">\n",
              "      <th></th>\n",
              "      <th>path</th>\n",
              "      <th>tag</th>\n",
              "      <th>set</th>\n",
              "    </tr>\n",
              "  </thead>\n",
              "  <tbody>\n",
              "    <tr>\n",
              "      <th>7455</th>\n",
              "      <td>/content/drive/MyDrive/data/without_mask/witho...</td>\n",
              "      <td>without_mask</td>\n",
              "      <td>validation</td>\n",
              "    </tr>\n",
              "    <tr>\n",
              "      <th>1790</th>\n",
              "      <td>/content/drive/MyDrive/data/with_mask/with_mas...</td>\n",
              "      <td>with_mask</td>\n",
              "      <td>train</td>\n",
              "    </tr>\n",
              "    <tr>\n",
              "      <th>665</th>\n",
              "      <td>/content/drive/MyDrive/data/without_mask/witho...</td>\n",
              "      <td>without_mask</td>\n",
              "      <td>train</td>\n",
              "    </tr>\n",
              "    <tr>\n",
              "      <th>5188</th>\n",
              "      <td>/content/drive/MyDrive/data/with_mask/with_mas...</td>\n",
              "      <td>with_mask</td>\n",
              "      <td>train</td>\n",
              "    </tr>\n",
              "  </tbody>\n",
              "</table>\n",
              "</div>"
            ],
            "text/plain": [
              "                                                   path  ...         set\n",
              "7455  /content/drive/MyDrive/data/without_mask/witho...  ...  validation\n",
              "1790  /content/drive/MyDrive/data/with_mask/with_mas...  ...       train\n",
              "665   /content/drive/MyDrive/data/without_mask/witho...  ...       train\n",
              "5188  /content/drive/MyDrive/data/with_mask/with_mas...  ...       train\n",
              "\n",
              "[4 rows x 3 columns]"
            ]
          },
          "metadata": {
            "tags": []
          },
          "execution_count": 10
        }
      ]
    },
    {
      "cell_type": "code",
      "metadata": {
        "id": "7Qrk6B0ogDDg"
      },
      "source": [
        "# Memindahkan dataset\n",
        "import shutil\n",
        "from tqdm.notebook import tqdm as tq\n",
        "datasource_path = '/content/drive/MyDrive/data'\n",
        "dataset_path = '/content/drive/MyDrive/dataset'"
      ],
      "execution_count": 11,
      "outputs": []
    },
    {
      "cell_type": "code",
      "metadata": {
        "colab": {
          "base_uri": "https://localhost:8080/",
          "height": 67,
          "referenced_widgets": [
            "b0142c19e5ff461486e3fb66a7732d17",
            "d249f2b15a8a45a2be6e4953ce4926e2",
            "bef0ae1d2d8d4b7da01dc869efdc33bd",
            "f8d00f54aec34e7aa38b502557d2bc9e",
            "def376c5d1a944848aa845048f50a9b0",
            "921138181d6d4758bb6d4f77380ab37e",
            "321f7636cd5c4fd8ace9f45871328f10",
            "d19ab580135c4f36b0482cb10cd677c3"
          ]
        },
        "id": "0_F9npMagDoH",
        "outputId": "45ad7863-16c2-4762-bf99-5daf9027e121"
      },
      "source": [
        "for index, row in tq(df_all.iterrows()):\n",
        "  file_path = row['path']\n",
        "\n",
        "  if os.path.exists(file_path) == False:\n",
        "    file_path = os.path.join(datasource_path, row['tag'], row['image'].split('.')[0])\n",
        "\n",
        "  if os.path.exists(os.path.join(dataset_path, row['set'], row['tag'])) == False:\n",
        "    os.makedirs(os.path.join(dataset_path, row['set'], row['tag']))\n",
        "  \n",
        "  destination_file_name = file_path.split('/')[-1]\n",
        "  file_dest = os.path.join(dataset_path, row['set'], row['tag'], destination_file_name)\n",
        "\n",
        "  if os.path.exists(file_dest) == False:\n",
        "    shutil.copy2(file_path, file_dest)"
      ],
      "execution_count": 12,
      "outputs": [
        {
          "output_type": "display_data",
          "data": {
            "application/vnd.jupyter.widget-view+json": {
              "model_id": "b0142c19e5ff461486e3fb66a7732d17",
              "version_minor": 0,
              "version_major": 2
            },
            "text/plain": [
              "HBox(children=(FloatProgress(value=1.0, bar_style='info', max=1.0), HTML(value='')))"
            ]
          },
          "metadata": {
            "tags": []
          }
        },
        {
          "output_type": "stream",
          "text": [
            "\n"
          ],
          "name": "stdout"
        }
      ]
    },
    {
      "cell_type": "code",
      "metadata": {
        "id": "WPu8KMHbgFmk"
      },
      "source": [
        "# Define Directory\n",
        "base_dir = '/content/drive/MyDrive/dataset'\n",
        "train_dir = os.path.join(base_dir, 'train')\n",
        "test_dir = os.path.join(base_dir, 'test')\n",
        "val_dir = os.path.join(base_dir, 'validation')"
      ],
      "execution_count": 13,
      "outputs": []
    },
    {
      "cell_type": "code",
      "metadata": {
        "id": "yZsPfYs1g_0B"
      },
      "source": [
        "#train test split\n",
        "from sklearn.model_selection import train_test_split\n",
        "train_without_mask_dir = os.path.join(train_dir, 'without_mask')\n",
        "train_with_mask_dir = os.path.join(train_dir, 'with_mask')\n",
        "test_without_mask_dir = os.path.join(test_dir, 'without_mask')\n",
        "test_with_mask_dir = os.path.join(test_dir, 'with_mask')\n",
        "val_without_mask_dir = os.path.join(val_dir, 'without_mask')\n",
        "val_with_mask_dir = os.path.join(val_dir, 'with_mask')"
      ],
      "execution_count": 14,
      "outputs": []
    },
    {
      "cell_type": "code",
      "metadata": {
        "colab": {
          "base_uri": "https://localhost:8080/"
        },
        "id": "yMip6qeQhEUf",
        "outputId": "1ec43c6c-15ea-4088-ad95-023cfec4c79b"
      },
      "source": [
        "import tensorflow as tf\n",
        "from tensorflow.keras.optimizers import RMSprop\n",
        "from tensorflow.keras.preprocessing.image import ImageDataGenerator\n",
        "\n",
        "print(tf.__version__)"
      ],
      "execution_count": 15,
      "outputs": [
        {
          "output_type": "stream",
          "text": [
            "2.4.1\n"
          ],
          "name": "stdout"
        }
      ]
    },
    {
      "cell_type": "code",
      "metadata": {
        "colab": {
          "base_uri": "https://localhost:8080/"
        },
        "id": "qYcy_o5VhVz6",
        "outputId": "9fc5fb82-c715-47d4-e3c6-e13c90506fd7"
      },
      "source": [
        "#Image Augmentation\n",
        "datagen = ImageDataGenerator(\n",
        "    rescale = 1./255,\n",
        "    rotation_range = 20,\n",
        "    horizontal_flip=True,\n",
        "    shear_range=0.2,\n",
        "    fill_mode='nearest'\n",
        ")\n",
        "\n",
        "train_generator = datagen.flow_from_directory(\n",
        "    train_dir,\n",
        "    target_size = (256, 256),\n",
        "    batch_size = 32,\n",
        "    class_mode = 'binary'\n",
        ")\n",
        "\n",
        "test_generator = datagen.flow_from_directory(\n",
        "    test_dir,\n",
        "    target_size = (256,256),\n",
        "    batch_size = 32,\n",
        "    class_mode = 'binary'\n",
        ")\n",
        "val_generator = datagen.flow_from_directory(\n",
        "    test_dir,\n",
        "    target_size = (256, 256),\n",
        "    batch_size = 32,\n",
        "    class_mode = 'binary'\n",
        ")"
      ],
      "execution_count": 18,
      "outputs": [
        {
          "output_type": "stream",
          "text": [
            "Found 6066 images belonging to 2 classes.\n",
            "Found 758 images belonging to 2 classes.\n",
            "Found 758 images belonging to 2 classes.\n"
          ],
          "name": "stdout"
        }
      ]
    },
    {
      "cell_type": "code",
      "metadata": {
        "colab": {
          "base_uri": "https://localhost:8080/"
        },
        "id": "po6vCinIhX8L",
        "outputId": "d0d34f54-46a8-435b-87b9-2ece35d66773"
      },
      "source": [
        "# Membuat Model CNN\n",
        "from tensorflow.keras.models import Sequential\n",
        "from tensorflow.keras.layers import Conv2D, MaxPooling2D, Flatten, Dense, Dropout\n",
        "\n",
        "model_cnn = Sequential()\n",
        "model_cnn.add(Conv2D(16,(3,3), activation= 'relu', padding= 'same', name='conv_1', input_shape=(256,256,3)))\n",
        "model_cnn.add(MaxPooling2D((2,2), name='maxpool_1'))\n",
        "model_cnn.add(Conv2D(32,(3,3),activation='relu', padding='same', name='conv_2'))\n",
        "model_cnn.add(MaxPooling2D((2,2), name='maxpool_2'))\n",
        "model_cnn.add(Conv2D(64,(3,3),activation='relu',padding='same', name='conv_3'))\n",
        "model_cnn.add(MaxPooling2D((2,2), name='maxpool_3'))\n",
        "model_cnn.add(Conv2D(128,(3,3),activation='relu',padding='same' ,name='conv_4'))\n",
        "model_cnn.add(MaxPooling2D((2,2), name='maxpool_4'))\n",
        "\n",
        "\n",
        "model_cnn.add(Flatten())\n",
        "model_cnn.add(Dropout(0.5))\n",
        "model_cnn.add(Dense(32, activation='relu', name= 'dense_2'))\n",
        "model_cnn.add(Dense(1, activation='sigmoid', name= 'output'))\n",
        "model_cnn.summary()\n"
      ],
      "execution_count": 28,
      "outputs": [
        {
          "output_type": "stream",
          "text": [
            "Model: \"sequential_1\"\n",
            "_________________________________________________________________\n",
            "Layer (type)                 Output Shape              Param #   \n",
            "=================================================================\n",
            "conv_1 (Conv2D)              (None, 256, 256, 16)      448       \n",
            "_________________________________________________________________\n",
            "maxpool_1 (MaxPooling2D)     (None, 128, 128, 16)      0         \n",
            "_________________________________________________________________\n",
            "conv_2 (Conv2D)              (None, 128, 128, 32)      4640      \n",
            "_________________________________________________________________\n",
            "maxpool_2 (MaxPooling2D)     (None, 64, 64, 32)        0         \n",
            "_________________________________________________________________\n",
            "conv_3 (Conv2D)              (None, 64, 64, 64)        18496     \n",
            "_________________________________________________________________\n",
            "maxpool_3 (MaxPooling2D)     (None, 32, 32, 64)        0         \n",
            "_________________________________________________________________\n",
            "conv_4 (Conv2D)              (None, 32, 32, 128)       73856     \n",
            "_________________________________________________________________\n",
            "maxpool_4 (MaxPooling2D)     (None, 16, 16, 128)       0         \n",
            "_________________________________________________________________\n",
            "flatten_1 (Flatten)          (None, 32768)             0         \n",
            "_________________________________________________________________\n",
            "dropout_1 (Dropout)          (None, 32768)             0         \n",
            "_________________________________________________________________\n",
            "dense_2 (Dense)              (None, 32)                1048608   \n",
            "_________________________________________________________________\n",
            "output (Dense)               (None, 1)                 33        \n",
            "=================================================================\n",
            "Total params: 1,146,081\n",
            "Trainable params: 1,146,081\n",
            "Non-trainable params: 0\n",
            "_________________________________________________________________\n"
          ],
          "name": "stdout"
        }
      ]
    },
    {
      "cell_type": "code",
      "metadata": {
        "colab": {
          "base_uri": "https://localhost:8080/"
        },
        "id": "XqtO6IyfihoZ",
        "outputId": "9e6e4dff-8ebe-483b-a614-680a237d34b9"
      },
      "source": [
        "print('Compiling Model.......')\n",
        "model_cnn.compile (optimizer='Adam',\n",
        "                   loss='binary_crossentropy',\n",
        "                   metrics=['accuracy'])"
      ],
      "execution_count": 29,
      "outputs": [
        {
          "output_type": "stream",
          "text": [
            "Compiling Model.......\n"
          ],
          "name": "stdout"
        }
      ]
    },
    {
      "cell_type": "code",
      "metadata": {
        "id": "EjClrmS7qt-3"
      },
      "source": [
        "class myCallback(tf.keras.callbacks.Callback):\n",
        "  def on_epoch_end(self, epoch, logs={}):\n",
        "    if(logs.get('accuracy')>0.97):\n",
        "      print('Akurasi mencapai 97%, proses training dihentikan!')\n",
        "      self.model.stop_training = True\n",
        "\n",
        "callbacks = myCallback()"
      ],
      "execution_count": 30,
      "outputs": []
    },
    {
      "cell_type": "code",
      "metadata": {
        "colab": {
          "base_uri": "https://localhost:8080/"
        },
        "id": "pO32jY2tqw1Q",
        "outputId": "e6694573-ffb4-4ea2-918f-a0864c24931a"
      },
      "source": [
        "history_cnn = model_cnn.fit(\n",
        "    train_generator,\n",
        "    batch_size= 30,\n",
        "    #steps_per_epoch = 20,\n",
        "    epochs = 50,\n",
        "    validation_data = test_generator,\n",
        "    validation_steps = 20,\n",
        "    callbacks = [callbacks]\n",
        ")"
      ],
      "execution_count": 31,
      "outputs": [
        {
          "output_type": "stream",
          "text": [
            "Epoch 1/50\n",
            "104/190 [===============>..............] - ETA: 3:23 - loss: 0.5498 - accuracy: 0.6876"
          ],
          "name": "stdout"
        },
        {
          "output_type": "stream",
          "text": [
            "/usr/local/lib/python3.7/dist-packages/PIL/Image.py:960: UserWarning: Palette images with Transparency expressed in bytes should be converted to RGBA images\n",
            "  \"Palette images with Transparency expressed in bytes should be \"\n"
          ],
          "name": "stderr"
        },
        {
          "output_type": "stream",
          "text": [
            "190/190 [==============================] - 473s 2s/step - loss: 0.4761 - accuracy: 0.7463 - val_loss: 0.3745 - val_accuracy: 0.8453\n",
            "Epoch 2/50\n",
            "190/190 [==============================] - 472s 2s/step - loss: 0.2743 - accuracy: 0.8936 - val_loss: 0.2295 - val_accuracy: 0.9109\n",
            "Epoch 3/50\n",
            "190/190 [==============================] - 471s 2s/step - loss: 0.2130 - accuracy: 0.9079 - val_loss: 0.2213 - val_accuracy: 0.9156\n",
            "Epoch 4/50\n",
            "190/190 [==============================] - 470s 2s/step - loss: 0.1839 - accuracy: 0.9301 - val_loss: 0.1642 - val_accuracy: 0.9328\n",
            "Epoch 5/50\n",
            "190/190 [==============================] - 465s 2s/step - loss: 0.1517 - accuracy: 0.9418 - val_loss: 0.1969 - val_accuracy: 0.9281\n",
            "Epoch 6/50\n",
            "190/190 [==============================] - 471s 2s/step - loss: 0.1509 - accuracy: 0.9382 - val_loss: 0.1530 - val_accuracy: 0.9469\n",
            "Epoch 7/50\n",
            "190/190 [==============================] - 473s 2s/step - loss: 0.1418 - accuracy: 0.9457 - val_loss: 0.1606 - val_accuracy: 0.9391\n",
            "Epoch 8/50\n",
            "190/190 [==============================] - 473s 2s/step - loss: 0.1322 - accuracy: 0.9505 - val_loss: 0.1571 - val_accuracy: 0.9484\n",
            "Epoch 9/50\n",
            "190/190 [==============================] - 480s 3s/step - loss: 0.1201 - accuracy: 0.9562 - val_loss: 0.2016 - val_accuracy: 0.9422\n",
            "Epoch 10/50\n",
            "190/190 [==============================] - 482s 3s/step - loss: 0.1103 - accuracy: 0.9613 - val_loss: 0.1319 - val_accuracy: 0.9500\n",
            "Epoch 11/50\n",
            "190/190 [==============================] - 477s 3s/step - loss: 0.1034 - accuracy: 0.9646 - val_loss: 0.1480 - val_accuracy: 0.9531\n",
            "Epoch 12/50\n",
            "190/190 [==============================] - 476s 3s/step - loss: 0.0968 - accuracy: 0.9660 - val_loss: 0.1693 - val_accuracy: 0.9484\n",
            "Epoch 13/50\n",
            "190/190 [==============================] - 481s 3s/step - loss: 0.0720 - accuracy: 0.9730 - val_loss: 0.1482 - val_accuracy: 0.9531\n",
            "Epoch 14/50\n",
            "190/190 [==============================] - 479s 3s/step - loss: 0.0708 - accuracy: 0.9740 - val_loss: 0.1172 - val_accuracy: 0.9609\n",
            "Akurasi mencapai 97%, proses training dihentikan!\n"
          ],
          "name": "stdout"
        }
      ]
    },
    {
      "cell_type": "code",
      "metadata": {
        "colab": {
          "base_uri": "https://localhost:8080/",
          "height": 545
        },
        "id": "s7kp9efZtaXn",
        "outputId": "cf95ae50-42af-4512-b31a-cc8b23d41b2d"
      },
      "source": [
        "import matplotlib.pyplot as plt\n",
        "\n",
        "acc = history_cnn.history['accuracy']\n",
        "val_acc = history_cnn.history['val_accuracy']\n",
        "loss = history_cnn.history['loss']\n",
        "val_loss = history_cnn.history['val_loss']\n",
        "\n",
        "epochs = range(len(acc))\n",
        "\n",
        "plt.plot(epochs, acc, 'blue', label='Training accuracy')\n",
        "plt.plot(epochs, val_acc, 'orange', label='Validation accuracy')\n",
        "plt.title('Training and validation accuracy')\n",
        "plt.legend()\n",
        "plt.figure()\n",
        "\n",
        "plt.plot(epochs, loss, 'blue', label='Training Loss')\n",
        "plt.plot(epochs, val_loss, 'orange', label='Validation Loss')\n",
        "plt.title('Training and validation loss')\n",
        "plt.legend()\n",
        "\n",
        "plt.show()"
      ],
      "execution_count": 32,
      "outputs": [
        {
          "output_type": "display_data",
          "data": {
            "image/png": "[encoded data removed]",
            "text/plain": [
              "<Figure size 432x288 with 1 Axes>"
            ]
          },
          "metadata": {
            "tags": [],
            "needs_background": "light"
          }
        },
        {
          "output_type": "display_data",
          "data": {
            "image/png": "[encoded data removed]",
            "text/plain": [
              "<Figure size 432x288 with 1 Axes>"
            ]
          },
          "metadata": {
            "tags": [],
            "needs_background": "light"
          }
        }
      ]
    },
    {
      "cell_type": "code",
      "metadata": {
        "colab": {
          "base_uri": "https://localhost:8080/"
        },
        "id": "04H5msEG1GBO",
        "outputId": "8920dd72-c2c1-4e67-c624-033e1be36887"
      },
      "source": [
        "cd'/content/drive/MyDrive/Colab Notebooks'"
      ],
      "execution_count": 33,
      "outputs": [
        {
          "output_type": "stream",
          "text": [
            "/content/drive/MyDrive/Colab Notebooks\n"
          ],
          "name": "stdout"
        }
      ]
    },
    {
      "cell_type": "code",
      "metadata": {
        "id": "17pozkkjl35b"
      },
      "source": [
        "#save model\n",
        "import os"
      ],
      "execution_count": 34,
      "outputs": []
    },
    {
      "cell_type": "code",
      "metadata": {
        "id": "X67brnwVmCcY",
        "colab": {
          "base_uri": "https://localhost:8080/"
        },
        "outputId": "d4e8bd1c-c74d-448a-dd9f-7393836e8717"
      },
      "source": [
        "MODEL_BASE_PATH = \"Model\"\n",
        "PROJECT_NAME =\"CNN\"\n",
        "SAVE_MODEL_NAME = \"Model_CNN41.h5\"\n",
        "save_model_path = os.path.join(MODEL_BASE_PATH, PROJECT_NAME, SAVE_MODEL_NAME)\n",
        "if os.path.exists(os.path.join(MODEL_BASE_PATH, PROJECT_NAME)) == False:\n",
        "    os.makedirs(os.path.join(MODEL_BASE_PATH, PROJECT_NAME))\n",
        "    \n",
        "print('Saving Model At {}...'.format(save_model_path))\n",
        "model_cnn.save(save_model_path,include_optimizer=False)"
      ],
      "execution_count": 35,
      "outputs": [
        {
          "output_type": "stream",
          "text": [
            "Saving Model At Model/CNN/Model_CNN41.h5...\n"
          ],
          "name": "stdout"
        }
      ]
    },
    {
      "cell_type": "code",
      "metadata": {
        "id": "1yUIEl-eu1Y-"
      },
      "source": [
        ""
      ],
      "execution_count": null,
      "outputs": []
    }
  ]
}