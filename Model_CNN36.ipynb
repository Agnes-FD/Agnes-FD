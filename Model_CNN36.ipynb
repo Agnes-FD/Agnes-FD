{
  "nbformat": 4,
  "nbformat_minor": 0,
  "metadata": {
    "colab": {
      "name": "Untitled1.ipynb",
      "provenance": [],
      "authorship_tag": "ABX9TyMOVtErPTucFBCqxApWYawC",
      "include_colab_link": true
    },
    "kernelspec": {
      "name": "python3",
      "display_name": "Python 3"
    },
    "language_info": {
      "name": "python"
    },
    "widgets": {
      "application/vnd.jupyter.widget-state+json": {
        "fa4f5dfc78c84f12b9ec395d9a72714f": {
          "model_module": "@jupyter-widgets/controls",
          "model_name": "HBoxModel",
          "state": {
            "_view_name": "HBoxView",
            "_dom_classes": [],
            "_model_name": "HBoxModel",
            "_view_module": "@jupyter-widgets/controls",
            "_model_module_version": "1.5.0",
            "_view_count": null,
            "_view_module_version": "1.5.0",
            "box_style": "",
            "layout": "IPY_MODEL_01d42460f973457c86e2b07c22536746",
            "_model_module": "@jupyter-widgets/controls",
            "children": [
              "IPY_MODEL_69efc9ceb3bf4231a487b88bbfec98df",
              "IPY_MODEL_fb6f76d237ab42b1b7b72d1d0ba71a21"
            ]
          }
        },
        "01d42460f973457c86e2b07c22536746": {
          "model_module": "@jupyter-widgets/base",
          "model_name": "LayoutModel",
          "state": {
            "_view_name": "LayoutView",
            "grid_template_rows": null,
            "right": null,
            "justify_content": null,
            "_view_module": "@jupyter-widgets/base",
            "overflow": null,
            "_model_module_version": "1.2.0",
            "_view_count": null,
            "flex_flow": null,
            "width": null,
            "min_width": null,
            "border": null,
            "align_items": null,
            "bottom": null,
            "_model_module": "@jupyter-widgets/base",
            "top": null,
            "grid_column": null,
            "overflow_y": null,
            "overflow_x": null,
            "grid_auto_flow": null,
            "grid_area": null,
            "grid_template_columns": null,
            "flex": null,
            "_model_name": "LayoutModel",
            "justify_items": null,
            "grid_row": null,
            "max_height": null,
            "align_content": null,
            "visibility": null,
            "align_self": null,
            "height": null,
            "min_height": null,
            "padding": null,
            "grid_auto_rows": null,
            "grid_gap": null,
            "max_width": null,
            "order": null,
            "_view_module_version": "1.2.0",
            "grid_template_areas": null,
            "object_position": null,
            "object_fit": null,
            "grid_auto_columns": null,
            "margin": null,
            "display": null,
            "left": null
          }
        },
        "69efc9ceb3bf4231a487b88bbfec98df": {
          "model_module": "@jupyter-widgets/controls",
          "model_name": "FloatProgressModel",
          "state": {
            "_view_name": "ProgressView",
            "style": "IPY_MODEL_b2ddf76e2a544c26a723f1789043a596",
            "_dom_classes": [],
            "description": "",
            "_model_name": "FloatProgressModel",
            "bar_style": "success",
            "max": 1,
            "_view_module": "@jupyter-widgets/controls",
            "_model_module_version": "1.5.0",
            "value": 1,
            "_view_count": null,
            "_view_module_version": "1.5.0",
            "orientation": "horizontal",
            "min": 0,
            "description_tooltip": null,
            "_model_module": "@jupyter-widgets/controls",
            "layout": "IPY_MODEL_312ae4e3a5fc443b8fbc6c2be919948f"
          }
        },
        "fb6f76d237ab42b1b7b72d1d0ba71a21": {
          "model_module": "@jupyter-widgets/controls",
          "model_name": "HTMLModel",
          "state": {
            "_view_name": "HTMLView",
            "style": "IPY_MODEL_0be32e00124e4674845df5e0984bdb89",
            "_dom_classes": [],
            "description": "",
            "_model_name": "HTMLModel",
            "placeholder": "​",
            "_view_module": "@jupyter-widgets/controls",
            "_model_module_version": "1.5.0",
            "value": " 7583/? [00:50&lt;00:00, 150.42it/s]",
            "_view_count": null,
            "_view_module_version": "1.5.0",
            "description_tooltip": null,
            "_model_module": "@jupyter-widgets/controls",
            "layout": "IPY_MODEL_c12d50fe401f4013bb43367d182c295c"
          }
        },
        "b2ddf76e2a544c26a723f1789043a596": {
          "model_module": "@jupyter-widgets/controls",
          "model_name": "ProgressStyleModel",
          "state": {
            "_view_name": "StyleView",
            "_model_name": "ProgressStyleModel",
            "description_width": "initial",
            "_view_module": "@jupyter-widgets/base",
            "_model_module_version": "1.5.0",
            "_view_count": null,
            "_view_module_version": "1.2.0",
            "bar_color": null,
            "_model_module": "@jupyter-widgets/controls"
          }
        },
        "312ae4e3a5fc443b8fbc6c2be919948f": {
          "model_module": "@jupyter-widgets/base",
          "model_name": "LayoutModel",
          "state": {
            "_view_name": "LayoutView",
            "grid_template_rows": null,
            "right": null,
            "justify_content": null,
            "_view_module": "@jupyter-widgets/base",
            "overflow": null,
            "_model_module_version": "1.2.0",
            "_view_count": null,
            "flex_flow": null,
            "width": null,
            "min_width": null,
            "border": null,
            "align_items": null,
            "bottom": null,
            "_model_module": "@jupyter-widgets/base",
            "top": null,
            "grid_column": null,
            "overflow_y": null,
            "overflow_x": null,
            "grid_auto_flow": null,
            "grid_area": null,
            "grid_template_columns": null,
            "flex": null,
            "_model_name": "LayoutModel",
            "justify_items": null,
            "grid_row": null,
            "max_height": null,
            "align_content": null,
            "visibility": null,
            "align_self": null,
            "height": null,
            "min_height": null,
            "padding": null,
            "grid_auto_rows": null,
            "grid_gap": null,
            "max_width": null,
            "order": null,
            "_view_module_version": "1.2.0",
            "grid_template_areas": null,
            "object_position": null,
            "object_fit": null,
            "grid_auto_columns": null,
            "margin": null,
            "display": null,
            "left": null
          }
        },
        "0be32e00124e4674845df5e0984bdb89": {
          "model_module": "@jupyter-widgets/controls",
          "model_name": "DescriptionStyleModel",
          "state": {
            "_view_name": "StyleView",
            "_model_name": "DescriptionStyleModel",
            "description_width": "",
            "_view_module": "@jupyter-widgets/base",
            "_model_module_version": "1.5.0",
            "_view_count": null,
            "_view_module_version": "1.2.0",
            "_model_module": "@jupyter-widgets/controls"
          }
        },
        "c12d50fe401f4013bb43367d182c295c": {
          "model_module": "@jupyter-widgets/base",
          "model_name": "LayoutModel",
          "state": {
            "_view_name": "LayoutView",
            "grid_template_rows": null,
            "right": null,
            "justify_content": null,
            "_view_module": "@jupyter-widgets/base",
            "overflow": null,
            "_model_module_version": "1.2.0",
            "_view_count": null,
            "flex_flow": null,
            "width": null,
            "min_width": null,
            "border": null,
            "align_items": null,
            "bottom": null,
            "_model_module": "@jupyter-widgets/base",
            "top": null,
            "grid_column": null,
            "overflow_y": null,
            "overflow_x": null,
            "grid_auto_flow": null,
            "grid_area": null,
            "grid_template_columns": null,
            "flex": null,
            "_model_name": "LayoutModel",
            "justify_items": null,
            "grid_row": null,
            "max_height": null,
            "align_content": null,
            "visibility": null,
            "align_self": null,
            "height": null,
            "min_height": null,
            "padding": null,
            "grid_auto_rows": null,
            "grid_gap": null,
            "max_width": null,
            "order": null,
            "_view_module_version": "1.2.0",
            "grid_template_areas": null,
            "object_position": null,
            "object_fit": null,
            "grid_auto_columns": null,
            "margin": null,
            "display": null,
            "left": null
          }
        }
      }
    }
  },
  "cells": [
    {
      "cell_type": "markdown",
      "metadata": {
        "id": "view-in-github",
        "colab_type": "text"
      },
      "source": [
        "<a href=\"https://colab.research.google.com/github/Agnes-FD/Agnes-FD/blob/main/Model_CNN36.ipynb\" target=\"_parent\"><img src=\"https://colab.research.google.com/assets/colab-badge.svg\" alt=\"Open In Colab\"/></a>"
      ]
    },
    {
      "cell_type": "code",
      "metadata": {
        "colab": {
          "base_uri": "https://localhost:8080/"
        },
        "id": "-XdnEZJap10X",
        "outputId": "c327dc9b-b103-4241-b96c-e4fa42671118"
      },
      "source": [
        "from google.colab import drive\n",
        "drive.mount ('/content/drive')"
      ],
      "execution_count": 1,
      "outputs": [
        {
          "output_type": "stream",
          "text": [
            "Mounted at /content/drive\n"
          ],
          "name": "stdout"
        }
      ]
    },
    {
      "cell_type": "code",
      "metadata": {
        "colab": {
          "base_uri": "https://localhost:8080/"
        },
        "id": "Qu5XJP6Zp3BK",
        "outputId": "a5762376-f996-4176-bc41-9f6422fd2e99"
      },
      "source": [
        "cd '/content/drive/MyDrive/data'"
      ],
      "execution_count": 2,
      "outputs": [
        {
          "output_type": "stream",
          "text": [
            "/content/drive/MyDrive/data\n"
          ],
          "name": "stdout"
        }
      ]
    },
    {
      "cell_type": "code",
      "metadata": {
        "colab": {
          "base_uri": "https://localhost:8080/"
        },
        "id": "LJz1CJ_9qbsa",
        "outputId": "6d432a35-6c59-4e9b-d93e-1dcf9b84e282"
      },
      "source": [
        "ls"
      ],
      "execution_count": 3,
      "outputs": [
        {
          "output_type": "stream",
          "text": [
            "\u001b[0m\u001b[01;34mwith_mask\u001b[0m/  \u001b[01;34mwithout_mask\u001b[0m/\n"
          ],
          "name": "stdout"
        }
      ]
    },
    {
      "cell_type": "code",
      "metadata": {
        "id": "bnKfXx8RqcLq"
      },
      "source": [
        "import os\n",
        "path = '/content/drive/MyDrive/data'\n",
        "# Membuat Label pada gambar berdasarkan klasifikasi\n",
        "file_name = []\n",
        "tag = []\n",
        "full_path = []\n",
        "for path, subdirs, files in os.walk(path):\n",
        "  for name in files:\n",
        "    full_path.append(os.path.join(path, name))\n",
        "    tag.append(path.split('/')[-1])\n",
        "    file_name.append(name)"
      ],
      "execution_count": 4,
      "outputs": []
    },
    {
      "cell_type": "code",
      "metadata": {
        "colab": {
          "base_uri": "https://localhost:8080/"
        },
        "id": "kpV6GtStqeU9",
        "outputId": "b56ead30-dac8-4a9a-88a4-593ccfeb9df2"
      },
      "source": [
        "# Membuat dataframe berdasarkan hasil klasifikasi data yang sudah diberi label\n",
        "import pandas as pd\n",
        "\n",
        "df = pd.DataFrame({\"path\":full_path, \"file_name\": file_name, \"tag\":tag})\n",
        "df.groupby(['tag']).size()"
      ],
      "execution_count": 5,
      "outputs": [
        {
          "output_type": "execute_result",
          "data": {
            "text/plain": [
              "tag\n",
              "with_mask       3725\n",
              "without_mask    3858\n",
              "dtype: int64"
            ]
          },
          "metadata": {
            "tags": []
          },
          "execution_count": 5
        }
      ]
    },
    {
      "cell_type": "code",
      "metadata": {
        "colab": {
          "base_uri": "https://localhost:8080/",
          "height": 424
        },
        "id": "ghPOu8rWqg3x",
        "outputId": "df0868b2-9b71-4544-d265-4f17e36cb001"
      },
      "source": [
        "# cek data yang sudah diberi label\n",
        "df"
      ],
      "execution_count": 6,
      "outputs": [
        {
          "output_type": "execute_result",
          "data": {
            "text/html": [
              "<div>\n",
              "<style scoped>\n",
              "    .dataframe tbody tr th:only-of-type {\n",
              "        vertical-align: middle;\n",
              "    }\n",
              "\n",
              "    .dataframe tbody tr th {\n",
              "        vertical-align: top;\n",
              "    }\n",
              "\n",
              "    .dataframe thead th {\n",
              "        text-align: right;\n",
              "    }\n",
              "</style>\n",
              "<table border=\"1\" class=\"dataframe\">\n",
              "  <thead>\n",
              "    <tr style=\"text-align: right;\">\n",
              "      <th></th>\n",
              "      <th>path</th>\n",
              "      <th>file_name</th>\n",
              "      <th>tag</th>\n",
              "    </tr>\n",
              "  </thead>\n",
              "  <tbody>\n",
              "    <tr>\n",
              "      <th>0</th>\n",
              "      <td>/content/drive/MyDrive/data/with_mask/with_mas...</td>\n",
              "      <td>with_mask_3409.jpg</td>\n",
              "      <td>with_mask</td>\n",
              "    </tr>\n",
              "    <tr>\n",
              "      <th>1</th>\n",
              "      <td>/content/drive/MyDrive/data/with_mask/with_mas...</td>\n",
              "      <td>with_mask_3435.jpg</td>\n",
              "      <td>with_mask</td>\n",
              "    </tr>\n",
              "    <tr>\n",
              "      <th>2</th>\n",
              "      <td>/content/drive/MyDrive/data/with_mask/with_mas...</td>\n",
              "      <td>with_mask_3402.jpg</td>\n",
              "      <td>with_mask</td>\n",
              "    </tr>\n",
              "    <tr>\n",
              "      <th>3</th>\n",
              "      <td>/content/drive/MyDrive/data/with_mask/with_mas...</td>\n",
              "      <td>with_mask_3494.jpg</td>\n",
              "      <td>with_mask</td>\n",
              "    </tr>\n",
              "    <tr>\n",
              "      <th>4</th>\n",
              "      <td>/content/drive/MyDrive/data/with_mask/with_mas...</td>\n",
              "      <td>with_mask_3499.jpg</td>\n",
              "      <td>with_mask</td>\n",
              "    </tr>\n",
              "    <tr>\n",
              "      <th>...</th>\n",
              "      <td>...</td>\n",
              "      <td>...</td>\n",
              "      <td>...</td>\n",
              "    </tr>\n",
              "    <tr>\n",
              "      <th>7578</th>\n",
              "      <td>/content/drive/MyDrive/data/without_mask/witho...</td>\n",
              "      <td>without_mask_2074.jpg</td>\n",
              "      <td>without_mask</td>\n",
              "    </tr>\n",
              "    <tr>\n",
              "      <th>7579</th>\n",
              "      <td>/content/drive/MyDrive/data/without_mask/witho...</td>\n",
              "      <td>without_mask_2419.jpg</td>\n",
              "      <td>without_mask</td>\n",
              "    </tr>\n",
              "    <tr>\n",
              "      <th>7580</th>\n",
              "      <td>/content/drive/MyDrive/data/without_mask/witho...</td>\n",
              "      <td>without_mask_127.jpg</td>\n",
              "      <td>without_mask</td>\n",
              "    </tr>\n",
              "    <tr>\n",
              "      <th>7581</th>\n",
              "      <td>/content/drive/MyDrive/data/without_mask/witho...</td>\n",
              "      <td>without_mask_1333 (1).jpg</td>\n",
              "      <td>without_mask</td>\n",
              "    </tr>\n",
              "    <tr>\n",
              "      <th>7582</th>\n",
              "      <td>/content/drive/MyDrive/data/without_mask/witho...</td>\n",
              "      <td>without_mask_1363.jpg</td>\n",
              "      <td>without_mask</td>\n",
              "    </tr>\n",
              "  </tbody>\n",
              "</table>\n",
              "<p>7583 rows × 3 columns</p>\n",
              "</div>"
            ],
            "text/plain": [
              "                                                   path  ...           tag\n",
              "0     /content/drive/MyDrive/data/with_mask/with_mas...  ...     with_mask\n",
              "1     /content/drive/MyDrive/data/with_mask/with_mas...  ...     with_mask\n",
              "2     /content/drive/MyDrive/data/with_mask/with_mas...  ...     with_mask\n",
              "3     /content/drive/MyDrive/data/with_mask/with_mas...  ...     with_mask\n",
              "4     /content/drive/MyDrive/data/with_mask/with_mas...  ...     with_mask\n",
              "...                                                 ...  ...           ...\n",
              "7578  /content/drive/MyDrive/data/without_mask/witho...  ...  without_mask\n",
              "7579  /content/drive/MyDrive/data/without_mask/witho...  ...  without_mask\n",
              "7580  /content/drive/MyDrive/data/without_mask/witho...  ...  without_mask\n",
              "7581  /content/drive/MyDrive/data/without_mask/witho...  ...  without_mask\n",
              "7582  /content/drive/MyDrive/data/without_mask/witho...  ...  without_mask\n",
              "\n",
              "[7583 rows x 3 columns]"
            ]
          },
          "metadata": {
            "tags": []
          },
          "execution_count": 6
        }
      ]
    },
    {
      "cell_type": "code",
      "metadata": {
        "id": "yYjq_lyZqjSL"
      },
      "source": [
        "# Membagi dataset menjadi dua bagian (train dan test)\n",
        "from sklearn.model_selection import train_test_split\n",
        "\n",
        "x = df['path']\n",
        "y = df['tag']\n",
        "\n",
        "x_train, x_test, y_train, y_test = train_test_split(\n",
        "    x,y, test_size= 0.20, random_state=300)\n",
        "x_test, x_val, y_test, y_val = train_test_split(\n",
        "    x_test,y_test, test_size=0.5, random_state=100\n",
        ")"
      ],
      "execution_count": 7,
      "outputs": []
    },
    {
      "cell_type": "code",
      "metadata": {
        "id": "qAMvBS0CqlYd"
      },
      "source": [
        "# menyatukan kedalam masing-masing dataframe\n",
        "df_test = pd.DataFrame({\n",
        "    'path' : x_test,\n",
        "    'tag' : y_test,\n",
        "    'set' : 'test'\n",
        "})\n",
        "\n",
        "df_train = pd.DataFrame({\n",
        "    'path' : x_train,\n",
        "    'tag' : y_train,\n",
        "    'set' : 'train'\n",
        "})\n",
        "df_val = pd.DataFrame({\n",
        "    'path' : x_val,\n",
        "    'tag' : y_val,\n",
        "    'set' : 'validation'\n",
        "})"
      ],
      "execution_count": 8,
      "outputs": []
    },
    {
      "cell_type": "code",
      "metadata": {
        "colab": {
          "base_uri": "https://localhost:8080/",
          "height": 136
        },
        "id": "oBrncfgaqqA2",
        "outputId": "b0b939d6-8bfd-4597-98a5-41a5a48246e5"
      },
      "source": [
        "print('train size', len(df_train))\n",
        "print('test size', len(df_test))\n",
        "print('validation size', len(df_val)"
      ],
      "execution_count": 9,
      "outputs": [
        {
          "output_type": "error",
          "ename": "SyntaxError",
          "evalue": "ignored",
          "traceback": [
            "\u001b[0;36m  File \u001b[0;32m\"<ipython-input-9-89786f0b0199>\"\u001b[0;36m, line \u001b[0;32m3\u001b[0m\n\u001b[0;31m    print('validation size', len(df_val)\u001b[0m\n\u001b[0m                                        ^\u001b[0m\n\u001b[0;31mSyntaxError\u001b[0m\u001b[0;31m:\u001b[0m unexpected EOF while parsing\n"
          ]
        }
      ]
    },
    {
      "cell_type": "code",
      "metadata": {
        "colab": {
          "base_uri": "https://localhost:8080/",
          "height": 415
        },
        "id": "_7rOuAswqsGb",
        "outputId": "f24cc083-524d-4587-d9d1-d4e3a821c2be"
      },
      "source": [
        "# melihat masing-masing dataset apakah sudah sesuai atau belum\n",
        "df_all = df_train.append([df_test, df_val]).reset_index(drop=1)\n",
        "\n",
        "print('===================================================== \\n')\n",
        "print(df_all.groupby(['set','tag']).size(),'\\n')\n",
        "\n",
        "print('===================================================== \\n')\n",
        "\n",
        "df_all.sample(4)"
      ],
      "execution_count": 10,
      "outputs": [
        {
          "output_type": "stream",
          "text": [
            "===================================================== \n",
            "\n",
            "set         tag         \n",
            "test        with_mask        363\n",
            "            without_mask     395\n",
            "train       with_mask       3001\n",
            "            without_mask    3065\n",
            "validation  with_mask        361\n",
            "            without_mask     398\n",
            "dtype: int64 \n",
            "\n",
            "===================================================== \n",
            "\n"
          ],
          "name": "stdout"
        },
        {
          "output_type": "execute_result",
          "data": {
            "text/html": [
              "<div>\n",
              "<style scoped>\n",
              "    .dataframe tbody tr th:only-of-type {\n",
              "        vertical-align: middle;\n",
              "    }\n",
              "\n",
              "    .dataframe tbody tr th {\n",
              "        vertical-align: top;\n",
              "    }\n",
              "\n",
              "    .dataframe thead th {\n",
              "        text-align: right;\n",
              "    }\n",
              "</style>\n",
              "<table border=\"1\" class=\"dataframe\">\n",
              "  <thead>\n",
              "    <tr style=\"text-align: right;\">\n",
              "      <th></th>\n",
              "      <th>path</th>\n",
              "      <th>tag</th>\n",
              "      <th>set</th>\n",
              "    </tr>\n",
              "  </thead>\n",
              "  <tbody>\n",
              "    <tr>\n",
              "      <th>5183</th>\n",
              "      <td>/content/drive/MyDrive/data/without_mask/witho...</td>\n",
              "      <td>without_mask</td>\n",
              "      <td>train</td>\n",
              "    </tr>\n",
              "    <tr>\n",
              "      <th>3719</th>\n",
              "      <td>/content/drive/MyDrive/data/without_mask/witho...</td>\n",
              "      <td>without_mask</td>\n",
              "      <td>train</td>\n",
              "    </tr>\n",
              "    <tr>\n",
              "      <th>4033</th>\n",
              "      <td>/content/drive/MyDrive/data/with_mask/with_mas...</td>\n",
              "      <td>with_mask</td>\n",
              "      <td>train</td>\n",
              "    </tr>\n",
              "    <tr>\n",
              "      <th>609</th>\n",
              "      <td>/content/drive/MyDrive/data/with_mask/with_mas...</td>\n",
              "      <td>with_mask</td>\n",
              "      <td>train</td>\n",
              "    </tr>\n",
              "  </tbody>\n",
              "</table>\n",
              "</div>"
            ],
            "text/plain": [
              "                                                   path           tag    set\n",
              "5183  /content/drive/MyDrive/data/without_mask/witho...  without_mask  train\n",
              "3719  /content/drive/MyDrive/data/without_mask/witho...  without_mask  train\n",
              "4033  /content/drive/MyDrive/data/with_mask/with_mas...     with_mask  train\n",
              "609   /content/drive/MyDrive/data/with_mask/with_mas...     with_mask  train"
            ]
          },
          "metadata": {
            "tags": []
          },
          "execution_count": 10
        }
      ]
    },
    {
      "cell_type": "code",
      "metadata": {
        "id": "J5uuVeJWquX2"
      },
      "source": [
        "# Memindahkan dataset\n",
        "import shutil\n",
        "from tqdm.notebook import tqdm as tq"
      ],
      "execution_count": 11,
      "outputs": []
    },
    {
      "cell_type": "code",
      "metadata": {
        "id": "9ldrni9LqxBl"
      },
      "source": [
        "datasource_path = '/content/drive/MyDrive/data'\n",
        "dataset_path = '/content/drive/MyDrive/dataset'"
      ],
      "execution_count": 12,
      "outputs": []
    },
    {
      "cell_type": "code",
      "metadata": {
        "colab": {
          "base_uri": "https://localhost:8080/",
          "height": 67,
          "referenced_widgets": [
            "fa4f5dfc78c84f12b9ec395d9a72714f",
            "01d42460f973457c86e2b07c22536746",
            "69efc9ceb3bf4231a487b88bbfec98df",
            "fb6f76d237ab42b1b7b72d1d0ba71a21",
            "b2ddf76e2a544c26a723f1789043a596",
            "312ae4e3a5fc443b8fbc6c2be919948f",
            "0be32e00124e4674845df5e0984bdb89",
            "c12d50fe401f4013bb43367d182c295c"
          ]
        },
        "id": "MhoGn-03q4Vi",
        "outputId": "bebb775f-bd09-43f3-db47-f667a55240b5"
      },
      "source": [
        "for index, row in tq(df_all.iterrows()):\n",
        "  file_path = row['path']\n",
        "\n",
        "  if os.path.exists(file_path) == False:\n",
        "    file_path = os.path.join(datasource_path, row['tag'], row['image'].split('.')[0])\n",
        "\n",
        "  if os.path.exists(os.path.join(dataset_path, row['set'], row['tag'])) == False:\n",
        "    os.makedirs(os.path.join(dataset_path, row['set'], row['tag']))\n",
        "  \n",
        "  destination_file_name = file_path.split('/')[-1]\n",
        "  file_dest = os.path.join(dataset_path, row['set'], row['tag'], destination_file_name)\n",
        "\n",
        "  if os.path.exists(file_dest) == False:\n",
        "    shutil.copy2(file_path, file_dest)"
      ],
      "execution_count": 14,
      "outputs": [
        {
          "output_type": "display_data",
          "data": {
            "application/vnd.jupyter.widget-view+json": {
              "model_id": "fa4f5dfc78c84f12b9ec395d9a72714f",
              "version_minor": 0,
              "version_major": 2
            },
            "text/plain": [
              "HBox(children=(FloatProgress(value=1.0, bar_style='info', max=1.0), HTML(value='')))"
            ]
          },
          "metadata": {
            "tags": []
          }
        },
        {
          "output_type": "stream",
          "text": [
            "\n"
          ],
          "name": "stdout"
        }
      ]
    },
    {
      "cell_type": "code",
      "metadata": {
        "id": "QVArXf_SqzCs"
      },
      "source": [
        "# Define Directory\n",
        "base_dir = '/content/drive/MyDrive/dataset'\n",
        "train_dir = os.path.join(base_dir, 'train')\n",
        "test_dir = os.path.join(base_dir, 'test')\n",
        "val_dir = os.path.join(base_dir, 'validation')"
      ],
      "execution_count": 15,
      "outputs": []
    },
    {
      "cell_type": "code",
      "metadata": {
        "colab": {
          "base_uri": "https://localhost:8080/"
        },
        "id": "621qCoC2q1bU",
        "outputId": "d1f633cc-1b34-4bae-dce3-b3790bd9608e"
      },
      "source": [
        "os.listdir(train_dir)\n",
        "os.listdir(test_dir)\n",
        "os.listdir(val_dir)"
      ],
      "execution_count": 16,
      "outputs": [
        {
          "output_type": "execute_result",
          "data": {
            "text/plain": [
              "['with_mask', 'without_mask']"
            ]
          },
          "metadata": {
            "tags": []
          },
          "execution_count": 16
        }
      ]
    },
    {
      "cell_type": "code",
      "metadata": {
        "id": "cFMLQzz3q_uK"
      },
      "source": [
        "#train test split\n",
        "from sklearn.model_selection import train_test_split\n",
        "\n",
        "train_without_mask_dir = os.path.join(train_dir, 'without_mask')\n",
        "train_with_mask_dir = os.path.join(train_dir, 'with_mask')\n",
        "test_without_mask_dir = os.path.join(test_dir, 'without_mask')\n",
        "test_with_mask_dir = os.path.join(test_dir, 'with_mask')\n",
        "val_without_mask_dir = os.path.join(val_dir, 'without_mask')\n",
        "val_with_mask_dir = os.path.join(val_dir, 'with_mask')"
      ],
      "execution_count": 18,
      "outputs": []
    },
    {
      "cell_type": "code",
      "metadata": {
        "colab": {
          "base_uri": "https://localhost:8080/"
        },
        "id": "zQLb9LverCLO",
        "outputId": "c5743f1d-e77d-45eb-b1cb-566b062af757"
      },
      "source": [
        "import tensorflow as tf\n",
        "from tensorflow.keras.optimizers import RMSprop\n",
        "from tensorflow.keras.preprocessing.image import ImageDataGenerator\n",
        "\n",
        "print(tf.__version__)"
      ],
      "execution_count": 19,
      "outputs": [
        {
          "output_type": "stream",
          "text": [
            "2.4.1\n"
          ],
          "name": "stdout"
        }
      ]
    },
    {
      "cell_type": "code",
      "metadata": {
        "colab": {
          "base_uri": "https://localhost:8080/"
        },
        "id": "-FSC4xaarIfV",
        "outputId": "6b4066bf-d37f-4660-9f91-693f01fe61b8"
      },
      "source": [
        "#image augmentation \n",
        "datagen = ImageDataGenerator(\n",
        "    rescale = 1./255,\n",
        "    rotation_range = 20,\n",
        "    horizontal_flip=True,\n",
        "    shear_range=0.2,\n",
        "    fill_mode='nearest'\n",
        ")\n",
        "\n",
        "train_generator = datagen.flow_from_directory(\n",
        "    train_dir,\n",
        "    target_size = (256, 256),\n",
        "    batch_size = 32,\n",
        "    class_mode = 'binary'\n",
        ")\n",
        "\n",
        "test_generator = datagen.flow_from_directory(\n",
        "    test_dir,\n",
        "    target_size = (256,256),\n",
        "    batch_size = 32,\n",
        "    class_mode = 'binary'\n",
        ")\n",
        "val_generator = datagen.flow_from_directory(\n",
        "    test_dir,\n",
        "    target_size = (256, 256),\n",
        "    batch_size = 32,\n",
        "    class_mode = 'binary'\n",
        ")"
      ],
      "execution_count": 20,
      "outputs": [
        {
          "output_type": "stream",
          "text": [
            "Found 6066 images belonging to 2 classes.\n",
            "Found 758 images belonging to 2 classes.\n",
            "Found 758 images belonging to 2 classes.\n"
          ],
          "name": "stdout"
        }
      ]
    },
    {
      "cell_type": "code",
      "metadata": {
        "id": "4UzldBJirOSC"
      },
      "source": [
        "# Membuat Model CNN menggunakan Transfer Learning MobileNetV2\n",
        "from tensorflow.keras.applications import MobileNetV2\n",
        "from tensorflow.keras.layers import Input"
      ],
      "execution_count": 21,
      "outputs": []
    },
    {
      "cell_type": "code",
      "metadata": {
        "colab": {
          "base_uri": "https://localhost:8080/"
        },
        "id": "6-b23SOarRIS",
        "outputId": "c1911df1-642d-4170-ab57-298719838b0c"
      },
      "source": [
        "model_cnn = tf.keras.models.Sequential([\n",
        "    tf.keras.layers.Conv2D(32, (3,3), activation='relu', padding='same', input_shape=(256,256,3)),\n",
        "    tf.keras.layers.MaxPooling2D(2,2),\n",
        "    tf.keras.layers.Conv2D(64, (3,3), activation='relu', padding='same'),\n",
        "    tf.keras.layers.MaxPooling2D(2,2),\n",
        "    tf.keras.layers.Conv2D(128, (3,3), activation='relu', padding='same'),\n",
        "    tf.keras.layers.MaxPooling2D(2,2),\n",
        "    tf.keras.layers.Conv2D(256, (3,3), activation='relu', padding='same'),\n",
        "    tf.keras.layers.MaxPooling2D(2,2),\n",
        "    tf.keras.layers.Conv2D(512, (3,3), activation='relu', padding='same'),\n",
        "    tf.keras.layers.MaxPooling2D(2,2),\n",
        "    tf.keras.layers.Flatten(),\n",
        "    tf.keras.layers.Dense(64, activation='relu'),\n",
        "    tf.keras.layers.Dropout(0.5),\n",
        "    tf.keras.layers.Dense(32, activation='relu'),\n",
        "    tf.keras.layers.Dropout(0.5),\n",
        "    tf.keras.layers.Dense(1, activation='sigmoid')\n",
        "])\n",
        "\n",
        "model_cnn.summary()"
      ],
      "execution_count": 24,
      "outputs": [
        {
          "output_type": "stream",
          "text": [
            "Model: \"sequential_2\"\n",
            "_________________________________________________________________\n",
            "Layer (type)                 Output Shape              Param #   \n",
            "=================================================================\n",
            "conv2d_10 (Conv2D)           (None, 256, 256, 32)      896       \n",
            "_________________________________________________________________\n",
            "max_pooling2d_10 (MaxPooling (None, 128, 128, 32)      0         \n",
            "_________________________________________________________________\n",
            "conv2d_11 (Conv2D)           (None, 128, 128, 64)      18496     \n",
            "_________________________________________________________________\n",
            "max_pooling2d_11 (MaxPooling (None, 64, 64, 64)        0         \n",
            "_________________________________________________________________\n",
            "conv2d_12 (Conv2D)           (None, 64, 64, 128)       73856     \n",
            "_________________________________________________________________\n",
            "max_pooling2d_12 (MaxPooling (None, 32, 32, 128)       0         \n",
            "_________________________________________________________________\n",
            "conv2d_13 (Conv2D)           (None, 32, 32, 256)       295168    \n",
            "_________________________________________________________________\n",
            "max_pooling2d_13 (MaxPooling (None, 16, 16, 256)       0         \n",
            "_________________________________________________________________\n",
            "conv2d_14 (Conv2D)           (None, 16, 16, 512)       1180160   \n",
            "_________________________________________________________________\n",
            "max_pooling2d_14 (MaxPooling (None, 8, 8, 512)         0         \n",
            "_________________________________________________________________\n",
            "flatten_2 (Flatten)          (None, 32768)             0         \n",
            "_________________________________________________________________\n",
            "dense_6 (Dense)              (None, 64)                2097216   \n",
            "_________________________________________________________________\n",
            "dropout_4 (Dropout)          (None, 64)                0         \n",
            "_________________________________________________________________\n",
            "dense_7 (Dense)              (None, 32)                2080      \n",
            "_________________________________________________________________\n",
            "dropout_5 (Dropout)          (None, 32)                0         \n",
            "_________________________________________________________________\n",
            "dense_8 (Dense)              (None, 1)                 33        \n",
            "=================================================================\n",
            "Total params: 3,667,905\n",
            "Trainable params: 3,667,905\n",
            "Non-trainable params: 0\n",
            "_________________________________________________________________\n"
          ],
          "name": "stdout"
        }
      ]
    },
    {
      "cell_type": "code",
      "metadata": {
        "colab": {
          "base_uri": "https://localhost:8080/"
        },
        "id": "F5qLLERwrhLi",
        "outputId": "0a5f67fb-8c1c-4a2c-efa3-aa19e565351c"
      },
      "source": [
        "print('Compiling Model.......')\n",
        "model_cnn.compile (optimizer='Adam',\n",
        "                   loss='binary_crossentropy',\n",
        "                   metrics=['accuracy'])"
      ],
      "execution_count": 25,
      "outputs": [
        {
          "output_type": "stream",
          "text": [
            "Compiling Model.......\n"
          ],
          "name": "stdout"
        }
      ]
    },
    {
      "cell_type": "code",
      "metadata": {
        "id": "idVknazVrzeC"
      },
      "source": [
        "import tensorflow as tf"
      ],
      "execution_count": 26,
      "outputs": []
    },
    {
      "cell_type": "code",
      "metadata": {
        "colab": {
          "base_uri": "https://localhost:8080/",
          "height": 1000
        },
        "id": "tSO2qjryr2QM",
        "outputId": "11b09480-948d-4f1a-949d-7f40a78edc9c"
      },
      "source": [
        "model_viz = tf.keras.utils.plot_model(model_cnn,\n",
        "                                      to_file='/content/drive/MyDrive/Colab Notebooks/model.png',\n",
        "                                      show_shapes=True,\n",
        "                                      rankdir='TB',\n",
        "                                      expand_nested=True,\n",
        "                                      dpi=55)\n",
        "model_viz"
      ],
      "execution_count": 27,
      "outputs": [
        {
          "output_type": "execute_result",
          "data": {
            "image/png": "[encoded data removed]",
            "text/plain": [
              "<IPython.core.display.Image object>"
            ]
          },
          "metadata": {
            "tags": []
          },
          "execution_count": 27
        }
      ]
    },
    {
      "cell_type": "code",
      "metadata": {
        "id": "9arBll0jr4b2"
      },
      "source": [
        "class myCallback(tf.keras.callbacks.Callback):\n",
        "  def on_epoch_end(self, epoch, logs={}):\n",
        "    if(logs.get('accuracy')>0.97):\n",
        "      print('Akurasi mencapai 97%, proses training dihentikan!')\n",
        "      self.model.stop_training = True\n",
        "\n",
        "callbacks = myCallback()"
      ],
      "execution_count": 28,
      "outputs": []
    },
    {
      "cell_type": "code",
      "metadata": {
        "colab": {
          "base_uri": "https://localhost:8080/"
        },
        "id": "6obCoNZ0r7eE",
        "outputId": "09e07213-f015-44e7-cf3e-237eb46800f4"
      },
      "source": [
        "history_cnn = model_cnn.fit(\n",
        "    train_generator,\n",
        "    steps_per_epoch = 50,\n",
        "    epochs = 250,\n",
        "    validation_data = test_generator,\n",
        "    validation_steps = 10,\n",
        "    callbacks = [callbacks]\n",
        ")"
      ],
      "execution_count": 29,
      "outputs": [
        {
          "output_type": "stream",
          "text": [
            "Epoch 1/250\n",
            "50/50 [==============================] - 494s 10s/step - loss: 0.7054 - accuracy: 0.5247 - val_loss: 0.4861 - val_accuracy: 0.8031\n",
            "Epoch 2/250\n",
            "50/50 [==============================] - 390s 8s/step - loss: 0.4988 - accuracy: 0.7741 - val_loss: 0.4131 - val_accuracy: 0.8000\n",
            "Epoch 3/250\n",
            "37/50 [=====================>........] - ETA: 1:23 - loss: 0.4172 - accuracy: 0.8384"
          ],
          "name": "stdout"
        },
        {
          "output_type": "stream",
          "text": [
            "/usr/local/lib/python3.7/dist-packages/PIL/Image.py:960: UserWarning: Palette images with Transparency expressed in bytes should be converted to RGBA images\n",
            "  \"Palette images with Transparency expressed in bytes should be \"\n"
          ],
          "name": "stderr"
        },
        {
          "output_type": "stream",
          "text": [
            "50/50 [==============================] - 357s 7s/step - loss: 0.4091 - accuracy: 0.8404 - val_loss: 0.3189 - val_accuracy: 0.8531\n",
            "Epoch 4/250\n",
            "50/50 [==============================] - 348s 7s/step - loss: 0.3120 - accuracy: 0.8742 - val_loss: 0.2487 - val_accuracy: 0.9031\n",
            "Epoch 5/250\n",
            "50/50 [==============================] - 347s 7s/step - loss: 0.3185 - accuracy: 0.8833 - val_loss: 0.2446 - val_accuracy: 0.8938\n",
            "Epoch 6/250\n",
            "50/50 [==============================] - 344s 7s/step - loss: 0.2715 - accuracy: 0.8973 - val_loss: 0.2297 - val_accuracy: 0.9219\n",
            "Epoch 7/250\n",
            "50/50 [==============================] - 335s 7s/step - loss: 0.2528 - accuracy: 0.9097 - val_loss: 0.2091 - val_accuracy: 0.9250\n",
            "Epoch 8/250\n",
            "50/50 [==============================] - 335s 7s/step - loss: 0.2621 - accuracy: 0.9173 - val_loss: 0.2020 - val_accuracy: 0.9250\n",
            "Epoch 9/250\n",
            "50/50 [==============================] - 337s 7s/step - loss: 0.2279 - accuracy: 0.9123 - val_loss: 0.2087 - val_accuracy: 0.9094\n",
            "Epoch 10/250\n",
            "50/50 [==============================] - 332s 7s/step - loss: 0.2530 - accuracy: 0.9268 - val_loss: 0.2045 - val_accuracy: 0.9250\n",
            "Epoch 11/250\n",
            "50/50 [==============================] - 334s 7s/step - loss: 0.1806 - accuracy: 0.9395 - val_loss: 0.2450 - val_accuracy: 0.8906\n",
            "Epoch 12/250\n",
            "50/50 [==============================] - 333s 7s/step - loss: 0.1884 - accuracy: 0.9328 - val_loss: 0.1959 - val_accuracy: 0.9312\n",
            "Epoch 13/250\n",
            "50/50 [==============================] - 334s 7s/step - loss: 0.1778 - accuracy: 0.9463 - val_loss: 0.2064 - val_accuracy: 0.9187\n",
            "Epoch 14/250\n",
            "50/50 [==============================] - 332s 7s/step - loss: 0.2007 - accuracy: 0.9356 - val_loss: 0.2503 - val_accuracy: 0.9031\n",
            "Epoch 15/250\n",
            "50/50 [==============================] - 330s 7s/step - loss: 0.1496 - accuracy: 0.9448 - val_loss: 0.1685 - val_accuracy: 0.9281\n",
            "Epoch 16/250\n",
            "50/50 [==============================] - 332s 7s/step - loss: 0.1851 - accuracy: 0.9403 - val_loss: 0.1837 - val_accuracy: 0.9469\n",
            "Epoch 17/250\n",
            "50/50 [==============================] - 331s 7s/step - loss: 0.1762 - accuracy: 0.9432 - val_loss: 0.1880 - val_accuracy: 0.9281\n",
            "Epoch 18/250\n",
            "50/50 [==============================] - 331s 7s/step - loss: 0.1652 - accuracy: 0.9468 - val_loss: 0.1949 - val_accuracy: 0.9312\n",
            "Epoch 19/250\n",
            "50/50 [==============================] - 332s 7s/step - loss: 0.1607 - accuracy: 0.9602 - val_loss: 0.1878 - val_accuracy: 0.9250\n",
            "Epoch 20/250\n",
            "50/50 [==============================] - 332s 7s/step - loss: 0.2474 - accuracy: 0.9214 - val_loss: 0.1905 - val_accuracy: 0.9438\n",
            "Epoch 21/250\n",
            "50/50 [==============================] - 333s 7s/step - loss: 0.1960 - accuracy: 0.9400 - val_loss: 0.1898 - val_accuracy: 0.9187\n",
            "Epoch 22/250\n",
            "50/50 [==============================] - 331s 7s/step - loss: 0.1648 - accuracy: 0.9405 - val_loss: 0.1810 - val_accuracy: 0.9406\n",
            "Epoch 23/250\n",
            "50/50 [==============================] - 334s 7s/step - loss: 0.2082 - accuracy: 0.9382 - val_loss: 0.1765 - val_accuracy: 0.9312\n",
            "Epoch 24/250\n",
            "50/50 [==============================] - 332s 7s/step - loss: 0.1799 - accuracy: 0.9387 - val_loss: 0.1922 - val_accuracy: 0.9344\n",
            "Epoch 25/250\n",
            "50/50 [==============================] - 334s 7s/step - loss: 0.1561 - accuracy: 0.9603 - val_loss: 0.1268 - val_accuracy: 0.9625\n",
            "Epoch 26/250\n",
            "50/50 [==============================] - 335s 7s/step - loss: 0.1490 - accuracy: 0.9568 - val_loss: 0.1842 - val_accuracy: 0.9438\n",
            "Epoch 27/250\n",
            "50/50 [==============================] - 333s 7s/step - loss: 0.1713 - accuracy: 0.9504 - val_loss: 0.1767 - val_accuracy: 0.9531\n",
            "Epoch 28/250\n",
            "50/50 [==============================] - 333s 7s/step - loss: 0.1648 - accuracy: 0.9563 - val_loss: 0.1272 - val_accuracy: 0.9500\n",
            "Epoch 29/250\n",
            "50/50 [==============================] - 334s 7s/step - loss: 0.1458 - accuracy: 0.9545 - val_loss: 0.1388 - val_accuracy: 0.9500\n",
            "Epoch 30/250\n",
            "50/50 [==============================] - 332s 7s/step - loss: 0.1707 - accuracy: 0.9578 - val_loss: 0.1266 - val_accuracy: 0.9625\n",
            "Epoch 31/250\n",
            "50/50 [==============================] - 333s 7s/step - loss: 0.1407 - accuracy: 0.9615 - val_loss: 0.1217 - val_accuracy: 0.9469\n",
            "Epoch 32/250\n",
            "50/50 [==============================] - 332s 7s/step - loss: 0.1339 - accuracy: 0.9585 - val_loss: 0.1618 - val_accuracy: 0.9563\n",
            "Epoch 33/250\n",
            "50/50 [==============================] - 332s 7s/step - loss: 0.1442 - accuracy: 0.9644 - val_loss: 0.1399 - val_accuracy: 0.9438\n",
            "Epoch 34/250\n",
            "50/50 [==============================] - 334s 7s/step - loss: 0.1326 - accuracy: 0.9617 - val_loss: 0.1294 - val_accuracy: 0.9531\n",
            "Epoch 35/250\n",
            "50/50 [==============================] - 335s 7s/step - loss: 0.1354 - accuracy: 0.9523 - val_loss: 0.1278 - val_accuracy: 0.9594\n",
            "Epoch 36/250\n",
            "50/50 [==============================] - 331s 7s/step - loss: 0.1420 - accuracy: 0.9578 - val_loss: 0.1597 - val_accuracy: 0.9438\n",
            "Epoch 37/250\n",
            "50/50 [==============================] - 330s 7s/step - loss: 0.1199 - accuracy: 0.9629 - val_loss: 0.1293 - val_accuracy: 0.9500\n",
            "Epoch 38/250\n",
            "50/50 [==============================] - 331s 7s/step - loss: 0.1414 - accuracy: 0.9514 - val_loss: 0.1844 - val_accuracy: 0.9219\n",
            "Epoch 39/250\n",
            "50/50 [==============================] - 333s 7s/step - loss: 0.1310 - accuracy: 0.9464 - val_loss: 0.1610 - val_accuracy: 0.9469\n",
            "Epoch 40/250\n",
            "50/50 [==============================] - 331s 7s/step - loss: 0.1351 - accuracy: 0.9506 - val_loss: 0.1426 - val_accuracy: 0.9438\n",
            "Epoch 41/250\n",
            "50/50 [==============================] - 331s 7s/step - loss: 0.1147 - accuracy: 0.9589 - val_loss: 0.1723 - val_accuracy: 0.9500\n",
            "Epoch 42/250\n",
            "50/50 [==============================] - 332s 7s/step - loss: 0.1181 - accuracy: 0.9594 - val_loss: 0.1171 - val_accuracy: 0.9531\n",
            "Epoch 43/250\n",
            "50/50 [==============================] - 331s 7s/step - loss: 0.1474 - accuracy: 0.9578 - val_loss: 0.1215 - val_accuracy: 0.9656\n",
            "Epoch 44/250\n",
            "50/50 [==============================] - 333s 7s/step - loss: 0.1492 - accuracy: 0.9581 - val_loss: 0.1305 - val_accuracy: 0.9625\n",
            "Epoch 45/250\n",
            "50/50 [==============================] - 332s 7s/step - loss: 0.1109 - accuracy: 0.9556 - val_loss: 0.1696 - val_accuracy: 0.9500\n",
            "Epoch 46/250\n",
            "50/50 [==============================] - 333s 7s/step - loss: 0.1190 - accuracy: 0.9610 - val_loss: 0.0886 - val_accuracy: 0.9625\n",
            "Epoch 47/250\n",
            "50/50 [==============================] - 332s 7s/step - loss: 0.1261 - accuracy: 0.9564 - val_loss: 0.1560 - val_accuracy: 0.9375\n",
            "Epoch 48/250\n",
            "50/50 [==============================] - 332s 7s/step - loss: 0.1335 - accuracy: 0.9623 - val_loss: 0.1477 - val_accuracy: 0.9500\n",
            "Epoch 49/250\n",
            "50/50 [==============================] - 333s 7s/step - loss: 0.1051 - accuracy: 0.9648 - val_loss: 0.1285 - val_accuracy: 0.9563\n",
            "Epoch 50/250\n",
            "50/50 [==============================] - 334s 7s/step - loss: 0.1588 - accuracy: 0.9592 - val_loss: 0.1716 - val_accuracy: 0.9312\n",
            "Epoch 51/250\n",
            "50/50 [==============================] - 337s 7s/step - loss: 0.1553 - accuracy: 0.9408 - val_loss: 0.1575 - val_accuracy: 0.9563\n",
            "Epoch 52/250\n",
            "50/50 [==============================] - 332s 7s/step - loss: 0.1653 - accuracy: 0.9558 - val_loss: 0.1086 - val_accuracy: 0.9594\n",
            "Epoch 53/250\n",
            "50/50 [==============================] - 335s 7s/step - loss: 0.1560 - accuracy: 0.9557 - val_loss: 0.1922 - val_accuracy: 0.9281\n",
            "Epoch 54/250\n",
            "50/50 [==============================] - 337s 7s/step - loss: 0.1248 - accuracy: 0.9546 - val_loss: 0.1259 - val_accuracy: 0.9688\n",
            "Epoch 55/250\n",
            "50/50 [==============================] - 336s 7s/step - loss: 0.1135 - accuracy: 0.9626 - val_loss: 0.1849 - val_accuracy: 0.9563\n",
            "Epoch 56/250\n",
            "50/50 [==============================] - 337s 7s/step - loss: 0.1056 - accuracy: 0.9611 - val_loss: 0.0884 - val_accuracy: 0.9750\n",
            "Epoch 57/250\n",
            "50/50 [==============================] - 337s 7s/step - loss: 0.1367 - accuracy: 0.9579 - val_loss: 0.1067 - val_accuracy: 0.9563\n",
            "Epoch 58/250\n",
            "50/50 [==============================] - 336s 7s/step - loss: 0.1043 - accuracy: 0.9649 - val_loss: 0.0967 - val_accuracy: 0.9688\n",
            "Epoch 59/250\n",
            "50/50 [==============================] - 334s 7s/step - loss: 0.0995 - accuracy: 0.9663 - val_loss: 0.1932 - val_accuracy: 0.9312\n",
            "Epoch 60/250\n",
            "50/50 [==============================] - 336s 7s/step - loss: 0.0858 - accuracy: 0.9677 - val_loss: 0.1066 - val_accuracy: 0.9656\n",
            "Epoch 61/250\n",
            "50/50 [==============================] - 346s 7s/step - loss: 0.1208 - accuracy: 0.9559 - val_loss: 0.1453 - val_accuracy: 0.9688\n",
            "Epoch 62/250\n",
            "50/50 [==============================] - 336s 7s/step - loss: 0.1627 - accuracy: 0.9584 - val_loss: 0.1466 - val_accuracy: 0.9531\n",
            "Epoch 63/250\n",
            "50/50 [==============================] - 338s 7s/step - loss: 0.0785 - accuracy: 0.9768 - val_loss: 0.1519 - val_accuracy: 0.9563\n",
            "Akurasi mencapai 97%, proses training dihentikan!\n"
          ],
          "name": "stdout"
        }
      ]
    },
    {
      "cell_type": "code",
      "metadata": {
        "colab": {
          "base_uri": "https://localhost:8080/",
          "height": 545
        },
        "id": "C8iZu7u6r-M2",
        "outputId": "e8a768bf-8db8-4808-a7cf-d18f50f0e438"
      },
      "source": [
        "from matplotlib import pyplot as plt\n",
        "acc = history_cnn.history['accuracy']\n",
        "val_acc = history_cnn.history['val_accuracy']\n",
        "loss = history_cnn.history['loss']\n",
        "val_loss = history_cnn.history['val_loss']\n",
        "\n",
        "epochs = range(len(acc))\n",
        "\n",
        "plt.plot(epochs, acc, 'blue', label='Training accuracy')\n",
        "plt.plot(epochs, val_acc, 'orange', label='Validation accuracy')\n",
        "plt.title('Training and validation accuracy')\n",
        "plt.legend()\n",
        "plt.figure()\n",
        "\n",
        "plt.plot(epochs, loss, 'blue', label='Training Loss')\n",
        "plt.plot(epochs, val_loss, 'orange', label='Validation Loss')\n",
        "plt.title('Training and validation loss')\n",
        "plt.legend()\n",
        "\n",
        "plt.show()"
      ],
      "execution_count": 30,
      "outputs": [
        {
          "output_type": "display_data",
          "data": {
            "image/png": "[encoded data removed]",
            "text/plain": [
              "<Figure size 432x288 with 1 Axes>"
            ]
          },
          "metadata": {
            "tags": [],
            "needs_background": "light"
          }
        },
        {
          "output_type": "display_data",
          "data": {
            "image/png": "[encoded data removed]",
            "text/plain": [
              "<Figure size 432x288 with 1 Axes>"
            ]
          },
          "metadata": {
            "tags": [],
            "needs_background": "light"
          }
        }
      ]
    },
    {
      "cell_type": "code",
      "metadata": {
        "id": "feXccoUS9atX"
      },
      "source": [
        "#save model\n",
        "import os"
      ],
      "execution_count": 31,
      "outputs": []
    },
    {
      "cell_type": "code",
      "metadata": {
        "colab": {
          "base_uri": "https://localhost:8080/"
        },
        "id": "QX81xCqf9dTn",
        "outputId": "3bb3b58e-032e-4542-91b3-d4353ace4e5d"
      },
      "source": [
        "cd'/content/drive/MyDrive/Colab Notebooks'"
      ],
      "execution_count": 32,
      "outputs": [
        {
          "output_type": "stream",
          "text": [
            "/content/drive/MyDrive/Colab Notebooks\n"
          ],
          "name": "stdout"
        }
      ]
    },
    {
      "cell_type": "code",
      "metadata": {
        "colab": {
          "base_uri": "https://localhost:8080/"
        },
        "id": "wFMrrjVW9fco",
        "outputId": "01704434-1bda-40ae-8bd9-73e71d7f540f"
      },
      "source": [
        "MODEL_BASE_PATH = \"Model\"\n",
        "PROJECT_NAME =\"CNN\"\n",
        "SAVE_MODEL_NAME = \"Model_CNN36.h5\"\n",
        "save_model_path = os.path.join(MODEL_BASE_PATH, PROJECT_NAME, SAVE_MODEL_NAME)\n",
        "if os.path.exists(os.path.join(MODEL_BASE_PATH, PROJECT_NAME)) == False:\n",
        "    os.makedirs(os.path.join(MODEL_BASE_PATH, PROJECT_NAME))\n",
        "    \n",
        "print('Saving Model At {}...'.format(save_model_path))\n",
        "model_cnn.save(save_model_path,include_optimizer=False)"
      ],
      "execution_count": 33,
      "outputs": [
        {
          "output_type": "stream",
          "text": [
            "Saving Model At Model/CNN/Model_CNN36.h5...\n"
          ],
          "name": "stdout"
        }
      ]
    },
    {
      "cell_type": "code",
      "metadata": {
        "id": "ItC7blfi9i1d"
      },
      "source": [
        ""
      ],
      "execution_count": null,
      "outputs": []
    }
  ]
}